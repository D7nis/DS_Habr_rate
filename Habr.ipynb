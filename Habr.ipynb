{
 "cells": [
  {
   "cell_type": "code",
   "execution_count": 2,
   "metadata": {},
   "outputs": [],
   "source": [
    "import pandas as pd\n",
    "import numpy as np\n",
    "from matplotlib import pyplot as plt\n",
    "import seaborn as sns\n",
    "import re\n",
    "import csv\n",
    "import pymorphy2\n",
    "import datetime\n",
    "from sqlalchemy import create_engine\n",
    "from sqlalchemy.pool import NullPool\n",
    "import logging\n",
    "import sys"
   ]
  },
  {
   "cell_type": "code",
   "execution_count": null,
   "metadata": {},
   "outputs": [],
   "source": [
    "csv.field_size_limit(int(sys.maxsize/10000000000));"
   ]
  },
  {
   "cell_type": "markdown",
   "metadata": {},
   "source": [
    "Т.к. датасет большой, то буду загружать данные порциями, очищать, нормализовать и генерировать новые фичи.\n",
    "Подготовленные данные запишу в базу данных и буду работать с ней."
   ]
  },
  {
   "cell_type": "markdown",
   "metadata": {},
   "source": [
    "Все необходимые функции:"
   ]
  },
  {
   "cell_type": "code",
   "execution_count": 3,
   "metadata": {},
   "outputs": [],
   "source": [
    "def CleanDataFirstSatge (df):\n",
    "    '''\n",
    "    Удалю статьи, состоящие только из одного слова/символа или цифр.\n",
    "    Так же статьи с пустым полем 'text'\n",
    "    '''\n",
    "    df_for_drop = df[((df['text'].apply(lambda t: len(t.strip().split()))<=1)\\\n",
    "      & (df['tittle'].apply(lambda t: len(t.strip().split()))<=1))\\\n",
    "      | (df['text'] == '   ')]\n",
    "    return df_for_drop.index"
   ]
  },
  {
   "cell_type": "code",
   "execution_count": 4,
   "metadata": {},
   "outputs": [],
   "source": [
    "def AddNewFeature_dates(df):\n",
    "    '''\n",
    "    Генерация фич на основе времени\n",
    "    '''\n",
    "    df['date'] = pd.to_datetime(df['date'])\n",
    "    df['month'] = df['date'].dt.month \n",
    "    df['day'] = df['date'].dt.day \n",
    "    df['hour'] = df['date'].dt.hour \n",
    "    df['weekday'] = df['date'].dt.dayofweek\n",
    "    #df.sort_values(by='date',ascending=True,inplace=True)\n",
    "    \n",
    "    return df['date'],df['month'],df['day'],df['hour'],df['weekday']"
   ]
  },
  {
   "cell_type": "code",
   "execution_count": 5,
   "metadata": {},
   "outputs": [],
   "source": [
    "def GetSites (txt):  \n",
    "    sites = re.findall(r'[\\w]+\\.{1,1}[^\\.\\d^\\s]\\w{1,3}\\b',str(txt)) #сайты\n",
    "    return (' '.join(sites)).replace('.','_'),len(sites)"
   ]
  },
  {
   "cell_type": "code",
   "execution_count": 6,
   "metadata": {},
   "outputs": [],
   "source": [
    "def GetEnWords (txt):  \n",
    "    en_words = re.findall(r'\\b[A-Za-z]{3,}\\b',re.sub(r'[A-Za-z]{2,}\\.+[A-Za-z]*\\b','',str(txt))) #слова на латинице от 3х букв    \n",
    "    return ' '.join(en_words),len(en_words)"
   ]
  },
  {
   "cell_type": "code",
   "execution_count": 7,
   "metadata": {},
   "outputs": [],
   "source": [
    "def GetRuWords (txt):  \n",
    "    ru_words = re.findall(r'\\b[А-Яа-я]{4,}\\b',re.sub(r'[А-Яа-я]{2,}\\.+[А-Яа-я]*\\b','',str(txt))) #слова на кириллице от 4х букв\n",
    "    return ' '.join(ru_words),len(ru_words)"
   ]
  },
  {
   "cell_type": "code",
   "execution_count": 8,
   "metadata": {},
   "outputs": [],
   "source": [
    "def GetPunctuationsCount (txt):  \n",
    "    punctuations  = re.findall(r'[^\\w\\s]',txt) #Знаки препинания\n",
    "    return len(punctuations)"
   ]
  },
  {
   "cell_type": "code",
   "execution_count": 9,
   "metadata": {},
   "outputs": [],
   "source": [
    "def GetEmotionsCount (txt):  \n",
    "    emotions  = re.findall(r'[\\?]{2,}|[\\!]{2,}',txt) #Знаки ??? , !!!\n",
    "    return len(emotions)"
   ]
  },
  {
   "cell_type": "code",
   "execution_count": 10,
   "metadata": {},
   "outputs": [],
   "source": [
    "def GetAllWordsCount (txt):  \n",
    "    words_count = len(txt.strip().split()) #Количество текстовых объектов\n",
    "    clwords  = re.findall(r'[А-ЯA-Z]{1,}[а-яa-z]{1,}\\b',txt) #Количество слов с заглавной буквы\n",
    "    return words_count,len(clwords)"
   ]
  },
  {
   "cell_type": "code",
   "execution_count": 11,
   "metadata": {},
   "outputs": [],
   "source": [
    "def AddNewFeatures_from_txt(columns):\n",
    "    for index, row in df.iterrows():\n",
    "        df.loc[index, 'sites_'+column],df.loc[index, 'sites_'+column+'_count'] = GetSites(row[column])\n",
    "        df.loc[index, 'ru_words_'+column],df.loc[index, 'ru_words_'+column+'_count'] = GetRuWords(row[column])\n",
    "        df.loc[index, 'en_words_'+column],df.loc[index, 'en_words_'+column+'_count'] = GetEnWords(row[column])\n",
    "        df.loc[index, 'punctuations_'+column+'_count'] = GetPunctuationsCount(row[column])\n",
    "        df.loc[index, 'emotions_'+column+'_count'] = GetEmotionsCount(row[column])\n",
    "        df.loc[index, column+'_words_count'],df.loc[index, column+'_clwords_count']"
   ]
  },
  {
   "cell_type": "code",
   "execution_count": 12,
   "metadata": {},
   "outputs": [],
   "source": [
    "def AddNewFeature_text_category(df):\n",
    "    '''\n",
    "    Создание фичи категория текста (размер)\n",
    "    '''\n",
    "    twc25 = df['text_words_count'].describe()['25%']\n",
    "    twc50 = df['text_words_count'].describe()['50%']\n",
    "    twc75 = df['text_words_count'].describe()['75%']\n",
    "    twcmax = df['text_words_count'].describe()['max']\n",
    "    \n",
    "    df['text_category'] = pd.cut(df.text_words_count\\\n",
    "                             ,bins=[-1,0,twc25,twc50,twc75,twcmax]\\\n",
    "                             ,labels=['0','1','2','3','4']) \n",
    "    return df['text_category']"
   ]
  },
  {
   "cell_type": "code",
   "execution_count": 13,
   "metadata": {},
   "outputs": [],
   "source": [
    "def AddNewFeature_rate_category (df):\n",
    "    #Разделю рейтинги на 3 категории (отрицательный, нейтральный и положительный)\n",
    "    df_rate_count = df['rate'].value_counts().rename('count').reset_index()\n",
    "    df_rate_count.rename({'index':'rate'}, axis='columns',inplace=True)\n",
    "    df['rate_category'] = pd.cut(df.rate,bins=[df_rate_count['rate'].min()-1,-1,0,\\\n",
    "                                           df_rate_count['rate'].max()+1],labels=[-1,0,1])\n",
    "    return df['rate_category']"
   ]
  },
  {
   "cell_type": "code",
   "execution_count": 14,
   "metadata": {},
   "outputs": [],
   "source": [
    "def StrLower (series):\n",
    "    #Перевод в нижний регистр\n",
    "    col = series.str.lower()\n",
    "    return col"
   ]
  },
  {
   "cell_type": "code",
   "execution_count": 15,
   "metadata": {},
   "outputs": [],
   "source": [
    "def f_tokenizer(s):\n",
    "    '''\n",
    "    Нормализация текста\n",
    "    '''\n",
    "    morph = pymorphy2.MorphAnalyzer()    \n",
    "    if type(s) == str:\n",
    "        t = s.split(' ')\n",
    "    else:\n",
    "        t = s\n",
    "    f = []\n",
    "    for j in t:\n",
    "        m = morph.parse(j.replace('.',''))\n",
    "        if len(m) != 0:\n",
    "            wrd = m[0]\n",
    "            if wrd.tag.POS not in ('NUMR','PREP','CONJ','PRCL','INTJ'):\n",
    "                f.append(wrd.normal_form)\n",
    "    return ' '.join(f)"
   ]
  },
  {
   "cell_type": "code",
   "execution_count": 16,
   "metadata": {},
   "outputs": [],
   "source": [
    "def AddNewFeature_norm(df):\n",
    "    df['ru_words_text']=df['ru_words_text'].apply(lambda t: f_tokenizer(t))\n",
    "    return df['ru_words_text']"
   ]
  },
  {
   "cell_type": "markdown",
   "metadata": {},
   "source": [
    "Конвеер обработки данных:"
   ]
  },
  {
   "cell_type": "code",
   "execution_count": 17,
   "metadata": {
    "scrolled": true
   },
   "outputs": [],
   "source": [
    "csv_db = create_engine('sqlite:///dataset/csv_db.db', poolclass=NullPool) #Соединение с БД"
   ]
  },
  {
   "cell_type": "markdown",
   "metadata": {
    "scrolled": true
   },
   "source": [
    "### !!! Работает долго, запускать только 1 раз для экспорта данных в БД"
   ]
  },
  {
   "cell_type": "code",
   "execution_count": 51,
   "metadata": {},
   "outputs": [],
   "source": [
    "text_column = 'text'\n",
    "tittle_column = 'tittle'\n",
    "parts_text_columns = ['sites_text', 'ru_words_text','en_words_text']"
   ]
  },
  {
   "cell_type": "code",
   "execution_count": 52,
   "metadata": {
    "scrolled": true
   },
   "outputs": [],
   "source": [
    "#Добавлю логирование\n",
    "LOG_FILENAME = 'export_to_db.log'\n",
    "logging.basicConfig(filename='dataset/'+LOG_FILENAME,\\\n",
    "                    level=logging.ERROR,\\\n",
    "                    format='%(asctime)s: %(message)s',\\\n",
    "                    datefmt='%Y-%m-%d %H-%M-%S')\n",
    "logger = logging.getLogger('db')\n",
    "logger.setLevel(logging.INFO)\n",
    "\n",
    "\n",
    "#Подготавливаем данные и пишем в БД\n",
    "start = 193001 #Если нужно начать/продолжить с определенной строки, например с 60001\n",
    "chunksize = 1000 #Сколько строк брать за раз\n",
    "\n",
    "iteration=1\n",
    "for df in pd.read_csv('dataset/clear_dataset.csv', chunksize=chunksize, iterator=True,sep=',',\\\n",
    "                        encoding='utf-8', engine=\"python\", error_bad_lines=False):\n",
    "    df.index +=1\n",
    "    \n",
    "    if df.index[-1] <start:\n",
    "         pass\n",
    "    else:\n",
    "        logger.info('Итерация [{}]'.format(iteration))\n",
    "        logger.info('   Очистка от пустых данных')\n",
    "        df.drop(CleanDataFirstSatge(df),inplace=True)  \n",
    "    \n",
    "        logger.info('   Геренерация фич на основе времени')\n",
    "        df['date'],df['month'],df['day'],df['hour'],df['weekday'] = AddNewFeature_dates(df)  \n",
    "    \n",
    "        logger.info('   Генерация числовых и категориальных фич на основе текста')\n",
    "        for index, row in df.iterrows():\n",
    "            df.loc[index, 'sites_'+text_column],df.loc[index, 'sites_'+text_column+'_count'] = GetSites(row[text_column])\n",
    "            df.loc[index, 'ru_words_'+text_column],df.loc[index, 'ru_words_'+text_column+'_count'] = GetRuWords(row[text_column])\n",
    "            df.loc[index, 'en_words_'+text_column],df.loc[index, 'en_words_'+text_column+'_count'] = GetEnWords(row[text_column])\n",
    "            df.loc[index, 'punctuations_'+text_column+'_count'] = GetPunctuationsCount(row[text_column])\n",
    "            df.loc[index, 'emotions_'+text_column+'_count'] = GetEmotionsCount(row[text_column])\n",
    "            df.loc[index, text_column+'_words_count'],df.loc[index, text_column+'_clwords_count'] = GetAllWordsCount(row[text_column])\n",
    "            df.loc[index, tittle_column+'_words_count'],df.loc[index, tittle_column+'_clwords_count'] = GetAllWordsCount(row[tittle_column])\n",
    "    \n",
    "        logger.info('   Удаление статей без текста')\n",
    "        df.drop(df[df['text_words_count']==0].index,inplace=True)\n",
    "    \n",
    "        logger.info('   Фича категория рейтинга')\n",
    "        df['rate_category'] = AddNewFeature_rate_category(df)\n",
    "        \n",
    "        logger.info('   Перевод текста в нижний регистр')\n",
    "        for col in parts_text_columns:\n",
    "            df[col] = StrLower(df[col])\n",
    "    \n",
    "        logger.info('   Нормализация текста')\n",
    "        df['ru_words_text'] = AddNewFeature_norm(df)    \n",
    "    \n",
    "        logger.info('   Запись в БД')\n",
    "        df.to_sql('habr', csv_db, if_exists='append')\n",
    "    \n",
    "        logger.info('   Всего обработано строк [{}]'.format(iteration*chunksize))\n",
    "    iteration+=1"
   ]
  },
  {
   "cell_type": "code",
   "execution_count": 53,
   "metadata": {},
   "outputs": [],
   "source": [
    "logging.shutdown() #Убираю логирование"
   ]
  },
  {
   "cell_type": "code",
   "execution_count": 78,
   "metadata": {},
   "outputs": [],
   "source": [
    "# Remove all handlers associated with the root logger object.\n",
    "#for handler in logging.root.handlers[:]:\n",
    "#    logging.root.removeHandler(handler)"
   ]
  },
  {
   "cell_type": "markdown",
   "metadata": {},
   "source": [
    "В итоге обработка заняла ~12.5 часов. В БД находятся все статьи, оригинальные столбцы + новые, сгенерированные фичи, так же нормализованный текст из столбца text.\n",
    "\n",
    "Описание столбцов:\n",
    "Оригинальные:\n",
    "1. date - дата и время публикации статьи\n",
    "2. tittle - заголовок статьи\n",
    "3. text - текст статьи\n",
    "4. rate - рейтинг статьи\n",
    "Сгенерированные фичи:\n",
    "1. month - месяц публикации статьи\n",
    "2. day - число публикации статьи\n",
    "3. hour - час публикации статьи\n",
    "4. weekday - день недели публикации статьи (0-п,6-вс)\n",
    "5. sites_text - сайты, извлеченные из столбца text в формате \"cnews_ru\"\n",
    "6. sites_text_count - количество сайтов в столбце text\n",
    "7. ru_words_text - нормализованные слова на кириллице, извлеченные из text\n",
    "8. ru_words_text_count - количество слов в text (до нормализации)\n",
    "9. en_words_text - слова на латинице, извлеченные из text\n",
    "10. en_words_text_count - количество слов на латинице\n",
    "11. punctuations_text_count - количество пунктуаций в text\n",
    "12. emotions_text_count - количество знаков эмоций в text(!!!,???)\n",
    "13. text_words_count - количество всех текстовых объектов из text разделенных пробелом\n",
    "14. text_clwords_count - количество всех слов с заглавной буквы в text\n",
    "15. tittle_words_count - количество всех текстовых объектов из tittle разделенных пробелом\n",
    "16. tittle_clwords_count - количество всех слов с заглавной буквы в tittle\n",
    "17. rate_category - категория рейтинга статьи (отриц., нейтральный, положительн.)"
   ]
  },
  {
   "cell_type": "markdown",
   "metadata": {},
   "source": [
    "Выгружу все числовые данные для анализа"
   ]
  },
  {
   "cell_type": "code",
   "execution_count": 248,
   "metadata": {},
   "outputs": [],
   "source": [
    "columns_num = str('date,rate,month,day,hour,weekday,\\\n",
    "sites_text_count,ru_words_text_count,en_words_text_count,\\\n",
    "punctuations_text_count,emotions_text_count,text_words_count,\\\n",
    "text_clwords_count,tittle_words_count,tittle_clwords_count,rate_category')"
   ]
  },
  {
   "cell_type": "code",
   "execution_count": 249,
   "metadata": {
    "scrolled": true
   },
   "outputs": [],
   "source": [
    "df = pd.read_sql_query(\"SELECT {} FROM habr\".format(columns_num), csv_db)"
   ]
  },
  {
   "cell_type": "code",
   "execution_count": 18,
   "metadata": {},
   "outputs": [],
   "source": [
    "df = pd.read_sql_query(\"SELECT * FROM habr\", csv_db)"
   ]
  },
  {
   "cell_type": "code",
   "execution_count": 20,
   "metadata": {},
   "outputs": [],
   "source": [
    "df.drop(['index'],axis=1,inplace=True)"
   ]
  },
  {
   "cell_type": "code",
   "execution_count": 21,
   "metadata": {
    "scrolled": true
   },
   "outputs": [
    {
     "data": {
      "text/plain": [
       "date                       0\n",
       "tittle                     0\n",
       "text                       0\n",
       "rate                       0\n",
       "month                      0\n",
       "day                        0\n",
       "hour                       0\n",
       "weekday                    0\n",
       "sites_text                 0\n",
       "sites_text_count           0\n",
       "ru_words_text              0\n",
       "ru_words_text_count        0\n",
       "en_words_text              0\n",
       "en_words_text_count        0\n",
       "punctuations_text_count    0\n",
       "emotions_text_count        0\n",
       "text_words_count           0\n",
       "text_clwords_count         0\n",
       "tittle_words_count         0\n",
       "tittle_clwords_count       0\n",
       "text_category              0\n",
       "rate_category              0\n",
       "dtype: int64"
      ]
     },
     "execution_count": 21,
     "metadata": {},
     "output_type": "execute_result"
    }
   ],
   "source": [
    "df.isnull().sum()"
   ]
  },
  {
   "cell_type": "markdown",
   "metadata": {},
   "source": [
    "Создам новый столбец - категория текста, на основе квартилей"
   ]
  },
  {
   "cell_type": "markdown",
   "metadata": {},
   "source": [
    "<font color='green'>#new_feature</font>"
   ]
  },
  {
   "cell_type": "code",
   "execution_count": 22,
   "metadata": {},
   "outputs": [],
   "source": [
    "df['text_category'] = AddNewFeature_text_category(df)"
   ]
  },
  {
   "cell_type": "markdown",
   "metadata": {},
   "source": [
    "Приведу данные в нужные типы"
   ]
  },
  {
   "cell_type": "code",
   "execution_count": 23,
   "metadata": {
    "scrolled": true
   },
   "outputs": [
    {
     "name": "stdout",
     "output_type": "stream",
     "text": [
      "<class 'pandas.core.frame.DataFrame'>\n",
      "RangeIndex: 209959 entries, 0 to 209958\n",
      "Data columns (total 22 columns):\n",
      "date                       209959 non-null object\n",
      "tittle                     209959 non-null object\n",
      "text                       209959 non-null object\n",
      "rate                       209959 non-null int64\n",
      "month                      209959 non-null int64\n",
      "day                        209959 non-null int64\n",
      "hour                       209959 non-null int64\n",
      "weekday                    209959 non-null int64\n",
      "sites_text                 209959 non-null object\n",
      "sites_text_count           209959 non-null float64\n",
      "ru_words_text              209959 non-null object\n",
      "ru_words_text_count        209959 non-null float64\n",
      "en_words_text              209959 non-null object\n",
      "en_words_text_count        209959 non-null float64\n",
      "punctuations_text_count    209959 non-null float64\n",
      "emotions_text_count        209959 non-null float64\n",
      "text_words_count           209959 non-null float64\n",
      "text_clwords_count         209959 non-null float64\n",
      "tittle_words_count         209959 non-null float64\n",
      "tittle_clwords_count       209959 non-null float64\n",
      "text_category              209959 non-null category\n",
      "rate_category              209959 non-null object\n",
      "dtypes: category(1), float64(9), int64(5), object(7)\n",
      "memory usage: 33.8+ MB\n"
     ]
    }
   ],
   "source": [
    "df.info()"
   ]
  },
  {
   "cell_type": "markdown",
   "metadata": {},
   "source": [
    "<font color='orange'>#change_data</font>"
   ]
  },
  {
   "cell_type": "code",
   "execution_count": 24,
   "metadata": {},
   "outputs": [],
   "source": [
    "df['date'] = pd.to_datetime(df['date'])"
   ]
  },
  {
   "cell_type": "code",
   "execution_count": 25,
   "metadata": {},
   "outputs": [],
   "source": [
    "df = df.astype({'rate':'int16', 'month':'uint8', 'day':'uint8',\\\n",
    "                'day':'uint8', 'hour':'uint8', 'weekday':'uint8', \\\n",
    "                'sites_text_count':'uint16',\\\n",
    "                'ru_words_text_count':'uint32',\\\n",
    "                'en_words_text_count':'uint16',\\\n",
    "                'punctuations_text_count':'uint32',\\\n",
    "                'emotions_text_count':'uint16',\\\n",
    "                'punctuations_text_count':'uint32',\\\n",
    "                'text_words_count':'uint32',\\\n",
    "                'text_clwords_count':'uint32',\\\n",
    "                'tittle_words_count':'uint8',\\\n",
    "                'tittle_clwords_count':'uint8',\\\n",
    "                'rate_category':'int8'})"
   ]
  },
  {
   "cell_type": "code",
   "execution_count": 26,
   "metadata": {},
   "outputs": [
    {
     "name": "stdout",
     "output_type": "stream",
     "text": [
      "<class 'pandas.core.frame.DataFrame'>\n",
      "RangeIndex: 209959 entries, 0 to 209958\n",
      "Data columns (total 22 columns):\n",
      "date                       209959 non-null datetime64[ns]\n",
      "tittle                     209959 non-null object\n",
      "text                       209959 non-null object\n",
      "rate                       209959 non-null int16\n",
      "month                      209959 non-null uint8\n",
      "day                        209959 non-null uint8\n",
      "hour                       209959 non-null uint8\n",
      "weekday                    209959 non-null uint8\n",
      "sites_text                 209959 non-null object\n",
      "sites_text_count           209959 non-null uint16\n",
      "ru_words_text              209959 non-null object\n",
      "ru_words_text_count        209959 non-null uint32\n",
      "en_words_text              209959 non-null object\n",
      "en_words_text_count        209959 non-null uint16\n",
      "punctuations_text_count    209959 non-null uint32\n",
      "emotions_text_count        209959 non-null uint16\n",
      "text_words_count           209959 non-null uint32\n",
      "text_clwords_count         209959 non-null uint32\n",
      "tittle_words_count         209959 non-null uint8\n",
      "tittle_clwords_count       209959 non-null uint8\n",
      "text_category              209959 non-null category\n",
      "rate_category              209959 non-null int8\n",
      "dtypes: category(1), datetime64[ns](1), int16(1), int8(1), object(5), uint16(3), uint32(4), uint8(6)\n",
      "memory usage: 16.0+ MB\n"
     ]
    }
   ],
   "source": [
    "df.info()"
   ]
  },
  {
   "cell_type": "markdown",
   "metadata": {},
   "source": [
    "Посмотрю на дубликаты. Искать буду по одинаковым заголовкам, где совпадает дата публикации и рейтинг."
   ]
  },
  {
   "cell_type": "code",
   "execution_count": 27,
   "metadata": {
    "scrolled": true
   },
   "outputs": [
    {
     "data": {
      "text/html": [
       "<div>\n",
       "<style scoped>\n",
       "    .dataframe tbody tr th:only-of-type {\n",
       "        vertical-align: middle;\n",
       "    }\n",
       "\n",
       "    .dataframe tbody tr th {\n",
       "        vertical-align: top;\n",
       "    }\n",
       "\n",
       "    .dataframe thead th {\n",
       "        text-align: right;\n",
       "    }\n",
       "</style>\n",
       "<table border=\"1\" class=\"dataframe\">\n",
       "  <thead>\n",
       "    <tr style=\"text-align: right;\">\n",
       "      <th></th>\n",
       "      <th>date</th>\n",
       "      <th>tittle</th>\n",
       "      <th>text</th>\n",
       "      <th>rate</th>\n",
       "      <th>month</th>\n",
       "      <th>day</th>\n",
       "      <th>hour</th>\n",
       "      <th>weekday</th>\n",
       "      <th>sites_text</th>\n",
       "      <th>sites_text_count</th>\n",
       "      <th>...</th>\n",
       "      <th>en_words_text</th>\n",
       "      <th>en_words_text_count</th>\n",
       "      <th>punctuations_text_count</th>\n",
       "      <th>emotions_text_count</th>\n",
       "      <th>text_words_count</th>\n",
       "      <th>text_clwords_count</th>\n",
       "      <th>tittle_words_count</th>\n",
       "      <th>tittle_clwords_count</th>\n",
       "      <th>text_category</th>\n",
       "      <th>rate_category</th>\n",
       "    </tr>\n",
       "  </thead>\n",
       "  <tbody>\n",
       "    <tr>\n",
       "      <td>98564</td>\n",
       "      <td>2013-05-08 10:26:00</td>\n",
       "      <td>+1 чёрный список в России</td>\n",
       "      <td>В России есть открыто пополняемый Федеральный...</td>\n",
       "      <td>82</td>\n",
       "      <td>5</td>\n",
       "      <td>8</td>\n",
       "      <td>10</td>\n",
       "      <td>2</td>\n",
       "      <td></td>\n",
       "      <td>0</td>\n",
       "      <td>...</td>\n",
       "      <td>eve online death note snowflake</td>\n",
       "      <td>5</td>\n",
       "      <td>144</td>\n",
       "      <td>0</td>\n",
       "      <td>560</td>\n",
       "      <td>42</td>\n",
       "      <td>5</td>\n",
       "      <td>1</td>\n",
       "      <td>3</td>\n",
       "      <td>1</td>\n",
       "    </tr>\n",
       "    <tr>\n",
       "      <td>137560</td>\n",
       "      <td>2013-05-08 10:26:00</td>\n",
       "      <td>+1 чёрный список в России</td>\n",
       "      <td>В России есть открыто пополняемый Федеральный...</td>\n",
       "      <td>82</td>\n",
       "      <td>5</td>\n",
       "      <td>8</td>\n",
       "      <td>10</td>\n",
       "      <td>2</td>\n",
       "      <td></td>\n",
       "      <td>0</td>\n",
       "      <td>...</td>\n",
       "      <td>eve online death note snowflake</td>\n",
       "      <td>5</td>\n",
       "      <td>144</td>\n",
       "      <td>0</td>\n",
       "      <td>560</td>\n",
       "      <td>42</td>\n",
       "      <td>5</td>\n",
       "      <td>1</td>\n",
       "      <td>3</td>\n",
       "      <td>1</td>\n",
       "    </tr>\n",
       "    <tr>\n",
       "      <td>924</td>\n",
       "      <td>2006-06-28 00:21:00</td>\n",
       "      <td>-2147220992 (0×80040200)</td>\n",
       "      <td>В 4 часа утра на первой странице сайта ИТАР-Т...</td>\n",
       "      <td>1</td>\n",
       "      <td>6</td>\n",
       "      <td>28</td>\n",
       "      <td>0</td>\n",
       "      <td>2</td>\n",
       "      <td></td>\n",
       "      <td>0</td>\n",
       "      <td>...</td>\n",
       "      <td></td>\n",
       "      <td>0</td>\n",
       "      <td>4</td>\n",
       "      <td>0</td>\n",
       "      <td>19</td>\n",
       "      <td>1</td>\n",
       "      <td>2</td>\n",
       "      <td>0</td>\n",
       "      <td>1</td>\n",
       "      <td>1</td>\n",
       "    </tr>\n",
       "    <tr>\n",
       "      <td>138751</td>\n",
       "      <td>2006-06-28 00:21:00</td>\n",
       "      <td>-2147220992 (0×80040200)</td>\n",
       "      <td>В 4 часа утра на первой странице сайта ИТАР-Т...</td>\n",
       "      <td>1</td>\n",
       "      <td>6</td>\n",
       "      <td>28</td>\n",
       "      <td>0</td>\n",
       "      <td>2</td>\n",
       "      <td></td>\n",
       "      <td>0</td>\n",
       "      <td>...</td>\n",
       "      <td></td>\n",
       "      <td>0</td>\n",
       "      <td>4</td>\n",
       "      <td>0</td>\n",
       "      <td>19</td>\n",
       "      <td>1</td>\n",
       "      <td>2</td>\n",
       "      <td>0</td>\n",
       "      <td>1</td>\n",
       "      <td>1</td>\n",
       "    </tr>\n",
       "    <tr>\n",
       "      <td>137571</td>\n",
       "      <td>2013-05-23 16:42:00</td>\n",
       "      <td>1,7 миллиона долларов суд хочет взыскать с вла...</td>\n",
       "      <td>21 мая суд Днепровского района Киева вынес...</td>\n",
       "      <td>149</td>\n",
       "      <td>5</td>\n",
       "      <td>23</td>\n",
       "      <td>16</td>\n",
       "      <td>3</td>\n",
       "      <td></td>\n",
       "      <td>0</td>\n",
       "      <td>...</td>\n",
       "      <td>sophia homes riviera riverside upd</td>\n",
       "      <td>5</td>\n",
       "      <td>33</td>\n",
       "      <td>0</td>\n",
       "      <td>174</td>\n",
       "      <td>21</td>\n",
       "      <td>12</td>\n",
       "      <td>0</td>\n",
       "      <td>1</td>\n",
       "      <td>1</td>\n",
       "    </tr>\n",
       "    <tr>\n",
       "      <td>...</td>\n",
       "      <td>...</td>\n",
       "      <td>...</td>\n",
       "      <td>...</td>\n",
       "      <td>...</td>\n",
       "      <td>...</td>\n",
       "      <td>...</td>\n",
       "      <td>...</td>\n",
       "      <td>...</td>\n",
       "      <td>...</td>\n",
       "      <td>...</td>\n",
       "      <td>...</td>\n",
       "      <td>...</td>\n",
       "      <td>...</td>\n",
       "      <td>...</td>\n",
       "      <td>...</td>\n",
       "      <td>...</td>\n",
       "      <td>...</td>\n",
       "      <td>...</td>\n",
       "      <td>...</td>\n",
       "      <td>...</td>\n",
       "      <td>...</td>\n",
       "    </tr>\n",
       "    <tr>\n",
       "      <td>138909</td>\n",
       "      <td>2007-11-21 13:19:00</td>\n",
       "      <td>Ярушечка, жежешечка и лирушечка</td>\n",
       "      <td>За последние две недели произошло сразу два с...</td>\n",
       "      <td>-1</td>\n",
       "      <td>11</td>\n",
       "      <td>21</td>\n",
       "      <td>13</td>\n",
       "      <td>2</td>\n",
       "      <td>liveinternet_ru я_ру liveinternet_ru я_ру live...</td>\n",
       "      <td>6</td>\n",
       "      <td>...</td>\n",
       "      <td>pdf opml pdf</td>\n",
       "      <td>3</td>\n",
       "      <td>122</td>\n",
       "      <td>0</td>\n",
       "      <td>411</td>\n",
       "      <td>27</td>\n",
       "      <td>4</td>\n",
       "      <td>1</td>\n",
       "      <td>2</td>\n",
       "      <td>-1</td>\n",
       "    </tr>\n",
       "    <tr>\n",
       "      <td>51334</td>\n",
       "      <td>2010-05-07 15:22:00</td>\n",
       "      <td>одоп Элюстро</td>\n",
       "      <td>Кто-нибудь рискнет устроиться?</td>\n",
       "      <td>130</td>\n",
       "      <td>5</td>\n",
       "      <td>7</td>\n",
       "      <td>15</td>\n",
       "      <td>4</td>\n",
       "      <td></td>\n",
       "      <td>0</td>\n",
       "      <td>...</td>\n",
       "      <td></td>\n",
       "      <td>0</td>\n",
       "      <td>2</td>\n",
       "      <td>0</td>\n",
       "      <td>3</td>\n",
       "      <td>1</td>\n",
       "      <td>2</td>\n",
       "      <td>1</td>\n",
       "      <td>1</td>\n",
       "      <td>1</td>\n",
       "    </tr>\n",
       "    <tr>\n",
       "      <td>137912</td>\n",
       "      <td>2010-05-07 15:22:00</td>\n",
       "      <td>одоп Элюстро</td>\n",
       "      <td>Кто-нибудь рискнет устроиться?</td>\n",
       "      <td>130</td>\n",
       "      <td>5</td>\n",
       "      <td>7</td>\n",
       "      <td>15</td>\n",
       "      <td>4</td>\n",
       "      <td></td>\n",
       "      <td>0</td>\n",
       "      <td>...</td>\n",
       "      <td></td>\n",
       "      <td>0</td>\n",
       "      <td>2</td>\n",
       "      <td>0</td>\n",
       "      <td>3</td>\n",
       "      <td>1</td>\n",
       "      <td>2</td>\n",
       "      <td>1</td>\n",
       "      <td>1</td>\n",
       "      <td>1</td>\n",
       "    </tr>\n",
       "    <tr>\n",
       "      <td>60900</td>\n",
       "      <td>2010-12-09 20:55:00</td>\n",
       "      <td>﻿Всемирный день футбола — праздник, которого н...</td>\n",
       "      <td>Год назад я писал о Всемирном дне футбола, се...</td>\n",
       "      <td>4</td>\n",
       "      <td>12</td>\n",
       "      <td>9</td>\n",
       "      <td>20</td>\n",
       "      <td>3</td>\n",
       "      <td></td>\n",
       "      <td>0</td>\n",
       "      <td>...</td>\n",
       "      <td>world football day</td>\n",
       "      <td>3</td>\n",
       "      <td>30</td>\n",
       "      <td>0</td>\n",
       "      <td>151</td>\n",
       "      <td>16</td>\n",
       "      <td>9</td>\n",
       "      <td>2</td>\n",
       "      <td>1</td>\n",
       "      <td>1</td>\n",
       "    </tr>\n",
       "    <tr>\n",
       "      <td>138233</td>\n",
       "      <td>2010-12-09 20:55:00</td>\n",
       "      <td>﻿Всемирный день футбола — праздник, которого н...</td>\n",
       "      <td>Год назад я писал о Всемирном дне футбола, се...</td>\n",
       "      <td>4</td>\n",
       "      <td>12</td>\n",
       "      <td>9</td>\n",
       "      <td>20</td>\n",
       "      <td>3</td>\n",
       "      <td></td>\n",
       "      <td>0</td>\n",
       "      <td>...</td>\n",
       "      <td>world football day</td>\n",
       "      <td>3</td>\n",
       "      <td>30</td>\n",
       "      <td>0</td>\n",
       "      <td>151</td>\n",
       "      <td>16</td>\n",
       "      <td>9</td>\n",
       "      <td>2</td>\n",
       "      <td>1</td>\n",
       "      <td>1</td>\n",
       "    </tr>\n",
       "  </tbody>\n",
       "</table>\n",
       "<p>2408 rows × 22 columns</p>\n",
       "</div>"
      ],
      "text/plain": [
       "                      date                                             tittle  \\\n",
       "98564  2013-05-08 10:26:00                          +1 чёрный список в России   \n",
       "137560 2013-05-08 10:26:00                          +1 чёрный список в России   \n",
       "924    2006-06-28 00:21:00                           -2147220992 (0×80040200)   \n",
       "138751 2006-06-28 00:21:00                           -2147220992 (0×80040200)   \n",
       "137571 2013-05-23 16:42:00  1,7 миллиона долларов суд хочет взыскать с вла...   \n",
       "...                    ...                                                ...   \n",
       "138909 2007-11-21 13:19:00                    Ярушечка, жежешечка и лирушечка   \n",
       "51334  2010-05-07 15:22:00                                       одоп Элюстро   \n",
       "137912 2010-05-07 15:22:00                                       одоп Элюстро   \n",
       "60900  2010-12-09 20:55:00  ﻿Всемирный день футбола — праздник, которого н...   \n",
       "138233 2010-12-09 20:55:00  ﻿Всемирный день футбола — праздник, которого н...   \n",
       "\n",
       "                                                     text  rate  month  day  \\\n",
       "98564    В России есть открыто пополняемый Федеральный...    82      5    8   \n",
       "137560   В России есть открыто пополняемый Федеральный...    82      5    8   \n",
       "924      В 4 часа утра на первой странице сайта ИТАР-Т...     1      6   28   \n",
       "138751   В 4 часа утра на первой странице сайта ИТАР-Т...     1      6   28   \n",
       "137571      21 мая суд Днепровского района Киева вынес...   149      5   23   \n",
       "...                                                   ...   ...    ...  ...   \n",
       "138909   За последние две недели произошло сразу два с...    -1     11   21   \n",
       "51334                    Кто-нибудь рискнет устроиться?     130      5    7   \n",
       "137912                   Кто-нибудь рискнет устроиться?     130      5    7   \n",
       "60900    Год назад я писал о Всемирном дне футбола, се...     4     12    9   \n",
       "138233   Год назад я писал о Всемирном дне футбола, се...     4     12    9   \n",
       "\n",
       "        hour  weekday                                         sites_text  \\\n",
       "98564     10        2                                                      \n",
       "137560    10        2                                                      \n",
       "924        0        2                                                      \n",
       "138751     0        2                                                      \n",
       "137571    16        3                                                      \n",
       "...      ...      ...                                                ...   \n",
       "138909    13        2  liveinternet_ru я_ру liveinternet_ru я_ру live...   \n",
       "51334     15        4                                                      \n",
       "137912    15        4                                                      \n",
       "60900     20        3                                                      \n",
       "138233    20        3                                                      \n",
       "\n",
       "        sites_text_count  ...                       en_words_text  \\\n",
       "98564                  0  ...     eve online death note snowflake   \n",
       "137560                 0  ...     eve online death note snowflake   \n",
       "924                    0  ...                                       \n",
       "138751                 0  ...                                       \n",
       "137571                 0  ...  sophia homes riviera riverside upd   \n",
       "...                  ...  ...                                 ...   \n",
       "138909                 6  ...                        pdf opml pdf   \n",
       "51334                  0  ...                                       \n",
       "137912                 0  ...                                       \n",
       "60900                  0  ...                  world football day   \n",
       "138233                 0  ...                  world football day   \n",
       "\n",
       "        en_words_text_count punctuations_text_count  emotions_text_count  \\\n",
       "98564                     5                     144                    0   \n",
       "137560                    5                     144                    0   \n",
       "924                       0                       4                    0   \n",
       "138751                    0                       4                    0   \n",
       "137571                    5                      33                    0   \n",
       "...                     ...                     ...                  ...   \n",
       "138909                    3                     122                    0   \n",
       "51334                     0                       2                    0   \n",
       "137912                    0                       2                    0   \n",
       "60900                     3                      30                    0   \n",
       "138233                    3                      30                    0   \n",
       "\n",
       "        text_words_count  text_clwords_count  tittle_words_count  \\\n",
       "98564                560                  42                   5   \n",
       "137560               560                  42                   5   \n",
       "924                   19                   1                   2   \n",
       "138751                19                   1                   2   \n",
       "137571               174                  21                  12   \n",
       "...                  ...                 ...                 ...   \n",
       "138909               411                  27                   4   \n",
       "51334                  3                   1                   2   \n",
       "137912                 3                   1                   2   \n",
       "60900                151                  16                   9   \n",
       "138233               151                  16                   9   \n",
       "\n",
       "        tittle_clwords_count  text_category  rate_category  \n",
       "98564                      1              3              1  \n",
       "137560                     1              3              1  \n",
       "924                        0              1              1  \n",
       "138751                     0              1              1  \n",
       "137571                     0              1              1  \n",
       "...                      ...            ...            ...  \n",
       "138909                     1              2             -1  \n",
       "51334                      1              1              1  \n",
       "137912                     1              1              1  \n",
       "60900                      2              1              1  \n",
       "138233                     2              1              1  \n",
       "\n",
       "[2408 rows x 22 columns]"
      ]
     },
     "execution_count": 27,
     "metadata": {},
     "output_type": "execute_result"
    }
   ],
   "source": [
    "df[df.duplicated(subset=['date','tittle','rate'],keep=False)].\\\n",
    "                                        sort_values(by='tittle')"
   ]
  },
  {
   "cell_type": "markdown",
   "metadata": {},
   "source": [
    "Такие статьи нужно оставить в 1 экземпляре, без дублирования"
   ]
  },
  {
   "cell_type": "code",
   "execution_count": 28,
   "metadata": {},
   "outputs": [],
   "source": [
    "df.drop_duplicates(subset=['date','tittle','rate'],keep='first',\\\n",
    "                                                       inplace=True)"
   ]
  },
  {
   "cell_type": "markdown",
   "metadata": {},
   "source": [
    "## Анализ данных"
   ]
  },
  {
   "cell_type": "markdown",
   "metadata": {},
   "source": [
    "Количество статей в зависимости от количества слов в заголовке."
   ]
  },
  {
   "cell_type": "code",
   "execution_count": 109,
   "metadata": {},
   "outputs": [
    {
     "data": {
      "image/png": "[encoded data removed]",
      "text/plain": [
       "<Figure size 432x288 with 1 Axes>"
      ]
     },
     "metadata": {
      "needs_background": "light"
     },
     "output_type": "display_data"
    }
   ],
   "source": [
    "plt.title('Распределение статей по количеству слов в заголовке.')\n",
    "sns.boxplot(x=df['tittle_words_count']);"
   ]
  },
  {
   "cell_type": "code",
   "execution_count": 113,
   "metadata": {
    "scrolled": true
   },
   "outputs": [
    {
     "data": {
      "image/png": "[encoded data removed]",
      "text/plain": [
       "<Figure size 864x432 with 1 Axes>"
      ]
     },
     "metadata": {
      "needs_background": "light"
     },
     "output_type": "display_data"
    }
   ],
   "source": [
    "fsize = (12, 6)\n",
    "fig, ax = plt.subplots(figsize=fsize)\n",
    "plt.title('Количество статей от количества слов в заголовке.')\n",
    "plt.xlabel('Количество')\n",
    "plt.ylabel('Слов в заголовке')\n",
    "df['tittle_words_count'].value_counts().plot(kind='barh');"
   ]
  },
  {
   "cell_type": "markdown",
   "metadata": {},
   "source": [
    "Большинство заголовков статей не превышает 10 слов. Больше всего статей с 4-8 слов в заголовке."
   ]
  },
  {
   "cell_type": "markdown",
   "metadata": {},
   "source": [
    " "
   ]
  },
  {
   "cell_type": "markdown",
   "metadata": {},
   "source": [
    "Статьи в зависимости от количества слов в тексте."
   ]
  },
  {
   "cell_type": "code",
   "execution_count": 445,
   "metadata": {},
   "outputs": [
    {
     "data": {
      "text/plain": [
       "count    208754.000000\n",
       "mean        794.382642\n",
       "std        1033.383442\n",
       "min           1.000000\n",
       "25%         209.000000\n",
       "50%         513.000000\n",
       "75%        1053.000000\n",
       "max      193861.000000\n",
       "Name: text_words_count, dtype: float64"
      ]
     },
     "execution_count": 445,
     "metadata": {},
     "output_type": "execute_result"
    }
   ],
   "source": [
    "df['text_words_count'].describe()"
   ]
  },
  {
   "cell_type": "code",
   "execution_count": 446,
   "metadata": {},
   "outputs": [
    {
     "data": {
      "image/png": "[encoded data removed]",
      "text/plain": [
       "<Figure size 1080x360 with 1 Axes>"
      ]
     },
     "metadata": {
      "needs_background": "light"
     },
     "output_type": "display_data"
    }
   ],
   "source": [
    "fsize = (15, 5)\n",
    "fig, ax = plt.subplots(figsize=fsize)\n",
    "sns.boxplot(x=df[df['text_words_count']<5000]['text_words_count']);"
   ]
  },
  {
   "cell_type": "markdown",
   "metadata": {},
   "source": [
    "~3/4 статей не превышает 1000 слов."
   ]
  },
  {
   "cell_type": "markdown",
   "metadata": {},
   "source": [
    "### Рейтинг"
   ]
  },
  {
   "cell_type": "code",
   "execution_count": 60,
   "metadata": {
    "scrolled": true
   },
   "outputs": [
    {
     "data": {
      "text/plain": [
       "count    208754.000000\n",
       "mean         24.369377\n",
       "std          34.955413\n",
       "min        -183.000000\n",
       "25%           6.000000\n",
       "50%          15.000000\n",
       "75%          31.000000\n",
       "max        1448.000000\n",
       "Name: rate, dtype: float64"
      ]
     },
     "execution_count": 60,
     "metadata": {},
     "output_type": "execute_result"
    }
   ],
   "source": [
    "df['rate'].describe()"
   ]
  },
  {
   "cell_type": "code",
   "execution_count": 61,
   "metadata": {
    "scrolled": true
   },
   "outputs": [
    {
     "data": {
      "image/png": "[encoded data removed]",
      "text/plain": [
       "<Figure size 720x360 with 1 Axes>"
      ]
     },
     "metadata": {
      "needs_background": "light"
     },
     "output_type": "display_data"
    }
   ],
   "source": [
    "fsize = (10, 5)\n",
    "fig, ax = plt.subplots(figsize=fsize)\n",
    "ax.set_xlim(-40,100)\n",
    "plt.xticks(range(-40, 100, 5))\n",
    "sns.violinplot(x=df['rate'], palette=\"Blues\");\n",
    "sns.boxplot(x=df['rate']);"
   ]
  },
  {
   "cell_type": "markdown",
   "metadata": {},
   "source": []
  },
  {
   "cell_type": "code",
   "execution_count": 55,
   "metadata": {},
   "outputs": [],
   "source": [
    "df_rate_count = df['rate'].value_counts().rename('count').reset_index()\n",
    "df_rate_count.rename({'index':'rate'}, axis='columns',inplace=True)"
   ]
  },
  {
   "cell_type": "code",
   "execution_count": 56,
   "metadata": {},
   "outputs": [
    {
     "data": {
      "text/html": [
       "<div>\n",
       "<style scoped>\n",
       "    .dataframe tbody tr th:only-of-type {\n",
       "        vertical-align: middle;\n",
       "    }\n",
       "\n",
       "    .dataframe tbody tr th {\n",
       "        vertical-align: top;\n",
       "    }\n",
       "\n",
       "    .dataframe thead th {\n",
       "        text-align: right;\n",
       "    }\n",
       "</style>\n",
       "<table border=\"1\" class=\"dataframe\">\n",
       "  <thead>\n",
       "    <tr style=\"text-align: right;\">\n",
       "      <th></th>\n",
       "      <th>rate</th>\n",
       "      <th>count</th>\n",
       "    </tr>\n",
       "  </thead>\n",
       "  <tbody>\n",
       "    <tr>\n",
       "      <td>count</td>\n",
       "      <td>565.000000</td>\n",
       "      <td>565.000000</td>\n",
       "    </tr>\n",
       "    <tr>\n",
       "      <td>mean</td>\n",
       "      <td>191.624779</td>\n",
       "      <td>369.476106</td>\n",
       "    </tr>\n",
       "    <tr>\n",
       "      <td>std</td>\n",
       "      <td>201.960254</td>\n",
       "      <td>1128.634929</td>\n",
       "    </tr>\n",
       "    <tr>\n",
       "      <td>min</td>\n",
       "      <td>-183.000000</td>\n",
       "      <td>1.000000</td>\n",
       "    </tr>\n",
       "    <tr>\n",
       "      <td>25%</td>\n",
       "      <td>34.000000</td>\n",
       "      <td>2.000000</td>\n",
       "    </tr>\n",
       "    <tr>\n",
       "      <td>50%</td>\n",
       "      <td>175.000000</td>\n",
       "      <td>10.000000</td>\n",
       "    </tr>\n",
       "    <tr>\n",
       "      <td>75%</td>\n",
       "      <td>317.000000</td>\n",
       "      <td>92.000000</td>\n",
       "    </tr>\n",
       "    <tr>\n",
       "      <td>max</td>\n",
       "      <td>1448.000000</td>\n",
       "      <td>7883.000000</td>\n",
       "    </tr>\n",
       "  </tbody>\n",
       "</table>\n",
       "</div>"
      ],
      "text/plain": [
       "              rate        count\n",
       "count   565.000000   565.000000\n",
       "mean    191.624779   369.476106\n",
       "std     201.960254  1128.634929\n",
       "min    -183.000000     1.000000\n",
       "25%      34.000000     2.000000\n",
       "50%     175.000000    10.000000\n",
       "75%     317.000000    92.000000\n",
       "max    1448.000000  7883.000000"
      ]
     },
     "execution_count": 56,
     "metadata": {},
     "output_type": "execute_result"
    }
   ],
   "source": [
    "df_rate_count.describe()"
   ]
  },
  {
   "cell_type": "code",
   "execution_count": 68,
   "metadata": {},
   "outputs": [
    {
     "data": {
      "image/png": "[encoded data removed]",
      "text/plain": [
       "<Figure size 1152x1152 with 1 Axes>"
      ]
     },
     "metadata": {
      "needs_background": "light"
     },
     "output_type": "display_data"
    }
   ],
   "source": [
    "fsize = (16, 16)\n",
    "fig, ax = plt.subplots(figsize=fsize)\n",
    "ax.set_xlim(0,20)\n",
    "sns.barplot(y='count',x='rate',data=df_rate_count[df_rate_count['count']>100]);"
   ]
  },
  {
   "cell_type": "code",
   "execution_count": 170,
   "metadata": {},
   "outputs": [],
   "source": [
    "df_rate_count.iplot?"
   ]
  },
  {
   "cell_type": "code",
   "execution_count": 206,
   "metadata": {},
   "outputs": [],
   "source": [
    "cf.Layout?"
   ]
  },
  {
   "cell_type": "code",
   "execution_count": 208,
   "metadata": {
    "scrolled": true
   },
   "outputs": [
    {
     "data": {
      "application/vnd.plotly.v1+json": {
       "config": {
        "linkText": "Export to plot.ly",
        "plotlyServerURL": "https://plot.ly",
        "showLink": true
       },
       "data": [
        {
         "marker": {
          "color": "rgba(255, 153, 51, 0.6)",
          "line": {
           "color": "rgba(255, 153, 51, 1.0)",
           "width": 1
          }
         },
         "name": "count",
         "orientation": "v",
         "text": "",
         "type": "bar",
         "x": [
          6,
          5,
          4,
          8,
          9,
          3,
          10,
          7,
          11,
          0,
          12,
          13,
          2,
          14,
          15,
          1,
          16,
          17,
          18,
          19,
          20,
          21,
          22,
          23,
          24,
          25,
          26,
          27,
          29,
          28,
          -1,
          30,
          31,
          32,
          -2,
          33,
          34,
          35,
          36,
          -3,
          37,
          38,
          39,
          40,
          -4,
          42,
          41,
          43,
          44,
          45,
          -5,
          46,
          50,
          47,
          48,
          52,
          49,
          -6,
          53,
          51,
          54,
          55,
          -7,
          56,
          57,
          59,
          60,
          58,
          -8,
          61,
          63,
          62,
          66,
          67,
          65,
          64,
          68,
          -9,
          70,
          69,
          -10,
          71,
          73,
          74,
          72,
          75,
          76,
          -11,
          77,
          78,
          79,
          80,
          -12,
          81,
          82,
          84,
          85,
          83,
          -13,
          89,
          88,
          -14,
          86,
          87,
          90,
          92,
          91,
          93,
          95,
          94,
          100,
          97,
          96,
          -16,
          102,
          101,
          -15,
          98,
          -17,
          103,
          104,
          105,
          99,
          106,
          107,
          110,
          108,
          -20,
          112,
          109,
          111,
          121,
          115,
          113,
          125,
          -18,
          114,
          -19,
          116,
          117,
          120,
          -21,
          122,
          124,
          127,
          119,
          118,
          -22,
          -25,
          123,
          126,
          128,
          -24,
          132,
          135,
          129,
          130,
          137,
          -23,
          142,
          134,
          131,
          140,
          133,
          -27,
          148,
          136,
          157,
          138,
          147,
          144,
          154,
          139,
          141,
          -26,
          149,
          164,
          -29,
          145,
          152,
          -28,
          143,
          155,
          -31,
          150,
          153,
          156,
          146,
          168,
          159,
          160,
          171,
          169,
          158,
          -33,
          167,
          151,
          172,
          161,
          -30,
          -32,
          -34,
          166,
          186,
          177,
          162,
          174,
          163,
          180,
          -36,
          185,
          173,
          181,
          178,
          170,
          182,
          176,
          -35,
          202,
          -38,
          192,
          190,
          165,
          183,
          194,
          193,
          189,
          -42,
          179,
          -41,
          184,
          -37,
          223,
          216,
          175,
          188,
          224,
          198,
          210,
          203,
          201,
          196,
          187,
          199,
          207,
          204,
          -40,
          205,
          191,
          222,
          -39,
          229,
          218,
          -43,
          209,
          197,
          225,
          227,
          232,
          226,
          212,
          206,
          214,
          -54,
          247,
          236,
          200,
          208,
          220,
          228,
          -50,
          211,
          213,
          -46,
          -62,
          -51,
          231,
          239,
          235,
          215,
          242,
          249,
          -44,
          230,
          195,
          -57,
          -45,
          -55,
          219,
          -48,
          265,
          233,
          217,
          -53,
          241,
          234,
          277,
          221,
          259,
          262,
          260,
          261,
          269,
          278,
          240,
          -47,
          243,
          275,
          237,
          254,
          246,
          306,
          251,
          290,
          -75,
          298,
          263,
          331,
          -52,
          264,
          238,
          272,
          270,
          253,
          244,
          245,
          -71,
          -58,
          -49,
          252,
          300,
          257,
          299,
          282,
          296,
          276,
          295,
          -56,
          310,
          324,
          274,
          285,
          307,
          294,
          323,
          301,
          334,
          309,
          -59,
          344,
          328,
          291,
          287,
          -64,
          297,
          248,
          -88,
          335,
          349,
          289,
          406,
          -82,
          350,
          316,
          302,
          330,
          -61,
          -63,
          255,
          326,
          305,
          -66,
          266,
          -74,
          -69,
          -80,
          -87,
          284,
          313,
          411,
          258,
          339,
          329,
          317,
          -95,
          -72,
          293,
          325,
          443,
          256,
          345,
          250,
          280,
          304,
          391,
          268,
          -99,
          370,
          -96,
          286,
          312,
          288,
          311,
          407,
          373,
          385,
          375,
          314,
          319,
          445,
          404,
          410,
          318,
          376,
          377,
          281,
          -103,
          378,
          503,
          516,
          -81,
          346,
          353,
          435,
          352,
          -78,
          424,
          348,
          347,
          -68,
          -79,
          356,
          273,
          271,
          -84,
          469,
          332,
          392,
          303,
          336,
          267,
          351,
          394,
          -60,
          -93,
          -91,
          361,
          453,
          -76,
          363,
          364,
          402,
          292,
          357,
          308,
          388,
          397,
          512,
          393,
          530,
          -107,
          -108,
          396,
          532,
          913,
          390,
          1154,
          531,
          517,
          -113,
          -114,
          782,
          652,
          401,
          383,
          661,
          488,
          487,
          359,
          611,
          603,
          -166,
          343,
          470,
          342,
          341,
          724,
          468,
          467,
          466,
          337,
          463,
          462,
          461,
          333,
          -182,
          360,
          362,
          279,
          -147,
          -131,
          636,
          379,
          -133,
          506,
          505,
          629,
          501,
          500,
          627,
          499,
          371,
          753,
          369,
          -143,
          495,
          622,
          366,
          365,
          -183,
          455,
          327,
          581,
          -83,
          426,
          -86,
          425,
          1448,
          -89,
          674,
          417,
          543,
          -97,
          542,
          414,
          -98,
          413,
          668,
          540,
          283,
          538,
          536,
          685,
          558,
          431,
          442,
          708,
          451,
          449,
          321,
          448,
          320,
          -65,
          -67,
          -70,
          559,
          441,
          568,
          -73,
          438,
          436,
          -77,
          434,
          560,
          447
         ],
         "y": [
          7922,
          7279,
          7132,
          6274,
          6271,
          6245,
          6220,
          6021,
          5714,
          5643,
          5586,
          5432,
          5395,
          4962,
          4781,
          4587,
          4579,
          4105,
          4011,
          3753,
          3646,
          3420,
          3218,
          3137,
          2911,
          2734,
          2612,
          2510,
          2308,
          2280,
          2274,
          2142,
          2006,
          1960,
          1932,
          1890,
          1727,
          1611,
          1592,
          1532,
          1513,
          1445,
          1383,
          1258,
          1256,
          1218,
          1194,
          1145,
          1013,
          1005,
          976,
          897,
          896,
          872,
          851,
          849,
          827,
          821,
          802,
          783,
          751,
          702,
          652,
          635,
          628,
          587,
          576,
          574,
          567,
          548,
          529,
          512,
          505,
          495,
          494,
          491,
          479,
          461,
          431,
          413,
          388,
          372,
          362,
          360,
          356,
          341,
          337,
          321,
          319,
          308,
          305,
          291,
          280,
          272,
          269,
          259,
          259,
          259,
          244,
          234,
          228,
          225,
          223,
          223,
          212,
          210,
          209,
          188,
          188,
          187,
          181,
          174,
          170,
          170,
          170,
          168,
          166,
          165,
          163,
          163,
          162,
          146,
          139,
          139,
          136,
          134,
          132,
          129,
          128,
          127,
          125,
          115,
          114,
          113,
          111,
          109,
          109,
          108,
          108,
          103,
          93,
          93,
          93,
          90,
          89,
          89,
          89,
          88,
          84,
          84,
          83,
          80,
          79,
          76,
          75,
          75,
          74,
          72,
          72,
          72,
          69,
          67,
          63,
          63,
          61,
          61,
          61,
          59,
          57,
          56,
          56,
          56,
          55,
          55,
          55,
          53,
          52,
          52,
          51,
          51,
          50,
          47,
          45,
          44,
          44,
          42,
          42,
          41,
          40,
          40,
          39,
          39,
          38,
          38,
          37,
          37,
          37,
          35,
          35,
          34,
          34,
          34,
          34,
          33,
          33,
          33,
          32,
          30,
          30,
          30,
          30,
          30,
          30,
          30,
          28,
          27,
          27,
          27,
          26,
          26,
          26,
          26,
          25,
          24,
          23,
          23,
          23,
          23,
          23,
          21,
          21,
          21,
          21,
          20,
          20,
          20,
          20,
          20,
          19,
          19,
          19,
          19,
          18,
          18,
          18,
          18,
          18,
          18,
          17,
          17,
          17,
          17,
          17,
          16,
          16,
          15,
          15,
          15,
          15,
          15,
          14,
          14,
          14,
          14,
          13,
          13,
          13,
          13,
          12,
          12,
          12,
          12,
          12,
          12,
          11,
          11,
          11,
          11,
          11,
          11,
          11,
          11,
          11,
          11,
          11,
          10,
          10,
          10,
          10,
          10,
          10,
          10,
          10,
          10,
          10,
          10,
          9,
          9,
          9,
          9,
          9,
          9,
          9,
          8,
          8,
          8,
          8,
          8,
          8,
          8,
          8,
          8,
          8,
          7,
          7,
          7,
          7,
          7,
          7,
          7,
          7,
          7,
          7,
          7,
          7,
          7,
          7,
          6,
          6,
          6,
          6,
          6,
          6,
          6,
          6,
          6,
          6,
          6,
          6,
          6,
          6,
          6,
          5,
          5,
          5,
          5,
          5,
          5,
          5,
          5,
          5,
          5,
          5,
          5,
          5,
          4,
          4,
          4,
          4,
          4,
          4,
          4,
          4,
          4,
          4,
          4,
          4,
          4,
          4,
          4,
          4,
          4,
          4,
          4,
          4,
          4,
          3,
          3,
          3,
          3,
          3,
          3,
          3,
          3,
          3,
          3,
          3,
          3,
          3,
          3,
          3,
          3,
          3,
          3,
          3,
          2,
          2,
          2,
          2,
          2,
          2,
          2,
          2,
          2,
          2,
          2,
          2,
          2,
          2,
          2,
          2,
          2,
          2,
          2,
          2,
          2,
          2,
          2,
          2,
          2,
          2,
          2,
          2,
          2,
          2,
          2,
          2,
          2,
          2,
          2,
          2,
          2,
          2,
          2,
          2,
          2,
          2,
          2,
          2,
          2,
          2,
          2,
          2,
          2,
          2,
          2,
          2,
          2,
          2,
          2,
          2,
          2,
          2,
          2,
          2,
          1,
          1,
          1,
          1,
          1,
          1,
          1,
          1,
          1,
          1,
          1,
          1,
          1,
          1,
          1,
          1,
          1,
          1,
          1,
          1,
          1,
          1,
          1,
          1,
          1,
          1,
          1,
          1,
          1,
          1,
          1,
          1,
          1,
          1,
          1,
          1,
          1,
          1,
          1,
          1,
          1,
          1,
          1,
          1,
          1,
          1,
          1,
          1,
          1,
          1,
          1,
          1,
          1,
          1,
          1,
          1,
          1,
          1,
          1,
          1,
          1,
          1,
          1,
          1,
          1,
          1,
          1,
          1,
          1,
          1,
          1,
          1,
          1,
          1,
          1,
          1,
          1,
          1,
          1,
          1,
          1,
          1,
          1,
          1,
          1,
          1,
          1,
          1,
          1,
          1,
          1,
          1,
          1,
          1,
          1,
          1,
          1,
          1,
          1,
          1,
          1,
          1,
          1,
          1,
          1,
          1,
          1,
          1,
          1,
          1
         ]
        }
       ],
       "layout": {
        "height": 800,
        "template": {
         "data": {
          "bar": [
           {
            "error_x": {
             "color": "#2a3f5f"
            },
            "error_y": {
             "color": "#2a3f5f"
            },
            "marker": {
             "line": {
              "color": "#E5ECF6",
              "width": 0.5
             }
            },
            "type": "bar"
           }
          ],
          "barpolar": [
           {
            "marker": {
             "line": {
              "color": "#E5ECF6",
              "width": 0.5
             }
            },
            "type": "barpolar"
           }
          ],
          "carpet": [
           {
            "aaxis": {
             "endlinecolor": "#2a3f5f",
             "gridcolor": "white",
             "linecolor": "white",
             "minorgridcolor": "white",
             "startlinecolor": "#2a3f5f"
            },
            "baxis": {
             "endlinecolor": "#2a3f5f",
             "gridcolor": "white",
             "linecolor": "white",
             "minorgridcolor": "white",
             "startlinecolor": "#2a3f5f"
            },
            "type": "carpet"
           }
          ],
          "choropleth": [
           {
            "colorbar": {
             "outlinewidth": 0,
             "ticks": ""
            },
            "type": "choropleth"
           }
          ],
          "contour": [
           {
            "colorbar": {
             "outlinewidth": 0,
             "ticks": ""
            },
            "colorscale": [
             [
              0,
              "#0d0887"
             ],
             [
              0.1111111111111111,
              "#46039f"
             ],
             [
              0.2222222222222222,
              "#7201a8"
             ],
             [
              0.3333333333333333,
              "#9c179e"
             ],
             [
              0.4444444444444444,
              "#bd3786"
             ],
             [
              0.5555555555555556,
              "#d8576b"
             ],
             [
              0.6666666666666666,
              "#ed7953"
             ],
             [
              0.7777777777777778,
              "#fb9f3a"
             ],
             [
              0.8888888888888888,
              "#fdca26"
             ],
             [
              1,
              "#f0f921"
             ]
            ],
            "type": "contour"
           }
          ],
          "contourcarpet": [
           {
            "colorbar": {
             "outlinewidth": 0,
             "ticks": ""
            },
            "type": "contourcarpet"
           }
          ],
          "heatmap": [
           {
            "colorbar": {
             "outlinewidth": 0,
             "ticks": ""
            },
            "colorscale": [
             [
              0,
              "#0d0887"
             ],
             [
              0.1111111111111111,
              "#46039f"
             ],
             [
              0.2222222222222222,
              "#7201a8"
             ],
             [
              0.3333333333333333,
              "#9c179e"
             ],
             [
              0.4444444444444444,
              "#bd3786"
             ],
             [
              0.5555555555555556,
              "#d8576b"
             ],
             [
              0.6666666666666666,
              "#ed7953"
             ],
             [
              0.7777777777777778,
              "#fb9f3a"
             ],
             [
              0.8888888888888888,
              "#fdca26"
             ],
             [
              1,
              "#f0f921"
             ]
            ],
            "type": "heatmap"
           }
          ],
          "heatmapgl": [
           {
            "colorbar": {
             "outlinewidth": 0,
             "ticks": ""
            },
            "colorscale": [
             [
              0,
              "#0d0887"
             ],
             [
              0.1111111111111111,
              "#46039f"
             ],
             [
              0.2222222222222222,
              "#7201a8"
             ],
             [
              0.3333333333333333,
              "#9c179e"
             ],
             [
              0.4444444444444444,
              "#bd3786"
             ],
             [
              0.5555555555555556,
              "#d8576b"
             ],
             [
              0.6666666666666666,
              "#ed7953"
             ],
             [
              0.7777777777777778,
              "#fb9f3a"
             ],
             [
              0.8888888888888888,
              "#fdca26"
             ],
             [
              1,
              "#f0f921"
             ]
            ],
            "type": "heatmapgl"
           }
          ],
          "histogram": [
           {
            "marker": {
             "colorbar": {
              "outlinewidth": 0,
              "ticks": ""
             }
            },
            "type": "histogram"
           }
          ],
          "histogram2d": [
           {
            "colorbar": {
             "outlinewidth": 0,
             "ticks": ""
            },
            "colorscale": [
             [
              0,
              "#0d0887"
             ],
             [
              0.1111111111111111,
              "#46039f"
             ],
             [
              0.2222222222222222,
              "#7201a8"
             ],
             [
              0.3333333333333333,
              "#9c179e"
             ],
             [
              0.4444444444444444,
              "#bd3786"
             ],
             [
              0.5555555555555556,
              "#d8576b"
             ],
             [
              0.6666666666666666,
              "#ed7953"
             ],
             [
              0.7777777777777778,
              "#fb9f3a"
             ],
             [
              0.8888888888888888,
              "#fdca26"
             ],
             [
              1,
              "#f0f921"
             ]
            ],
            "type": "histogram2d"
           }
          ],
          "histogram2dcontour": [
           {
            "colorbar": {
             "outlinewidth": 0,
             "ticks": ""
            },
            "colorscale": [
             [
              0,
              "#0d0887"
             ],
             [
              0.1111111111111111,
              "#46039f"
             ],
             [
              0.2222222222222222,
              "#7201a8"
             ],
             [
              0.3333333333333333,
              "#9c179e"
             ],
             [
              0.4444444444444444,
              "#bd3786"
             ],
             [
              0.5555555555555556,
              "#d8576b"
             ],
             [
              0.6666666666666666,
              "#ed7953"
             ],
             [
              0.7777777777777778,
              "#fb9f3a"
             ],
             [
              0.8888888888888888,
              "#fdca26"
             ],
             [
              1,
              "#f0f921"
             ]
            ],
            "type": "histogram2dcontour"
           }
          ],
          "mesh3d": [
           {
            "colorbar": {
             "outlinewidth": 0,
             "ticks": ""
            },
            "type": "mesh3d"
           }
          ],
          "parcoords": [
           {
            "line": {
             "colorbar": {
              "outlinewidth": 0,
              "ticks": ""
             }
            },
            "type": "parcoords"
           }
          ],
          "pie": [
           {
            "automargin": true,
            "type": "pie"
           }
          ],
          "scatter": [
           {
            "marker": {
             "colorbar": {
              "outlinewidth": 0,
              "ticks": ""
             }
            },
            "type": "scatter"
           }
          ],
          "scatter3d": [
           {
            "line": {
             "colorbar": {
              "outlinewidth": 0,
              "ticks": ""
             }
            },
            "marker": {
             "colorbar": {
              "outlinewidth": 0,
              "ticks": ""
             }
            },
            "type": "scatter3d"
           }
          ],
          "scattercarpet": [
           {
            "marker": {
             "colorbar": {
              "outlinewidth": 0,
              "ticks": ""
             }
            },
            "type": "scattercarpet"
           }
          ],
          "scattergeo": [
           {
            "marker": {
             "colorbar": {
              "outlinewidth": 0,
              "ticks": ""
             }
            },
            "type": "scattergeo"
           }
          ],
          "scattergl": [
           {
            "marker": {
             "colorbar": {
              "outlinewidth": 0,
              "ticks": ""
             }
            },
            "type": "scattergl"
           }
          ],
          "scattermapbox": [
           {
            "marker": {
             "colorbar": {
              "outlinewidth": 0,
              "ticks": ""
             }
            },
            "type": "scattermapbox"
           }
          ],
          "scatterpolar": [
           {
            "marker": {
             "colorbar": {
              "outlinewidth": 0,
              "ticks": ""
             }
            },
            "type": "scatterpolar"
           }
          ],
          "scatterpolargl": [
           {
            "marker": {
             "colorbar": {
              "outlinewidth": 0,
              "ticks": ""
             }
            },
            "type": "scatterpolargl"
           }
          ],
          "scatterternary": [
           {
            "marker": {
             "colorbar": {
              "outlinewidth": 0,
              "ticks": ""
             }
            },
            "type": "scatterternary"
           }
          ],
          "surface": [
           {
            "colorbar": {
             "outlinewidth": 0,
             "ticks": ""
            },
            "colorscale": [
             [
              0,
              "#0d0887"
             ],
             [
              0.1111111111111111,
              "#46039f"
             ],
             [
              0.2222222222222222,
              "#7201a8"
             ],
             [
              0.3333333333333333,
              "#9c179e"
             ],
             [
              0.4444444444444444,
              "#bd3786"
             ],
             [
              0.5555555555555556,
              "#d8576b"
             ],
             [
              0.6666666666666666,
              "#ed7953"
             ],
             [
              0.7777777777777778,
              "#fb9f3a"
             ],
             [
              0.8888888888888888,
              "#fdca26"
             ],
             [
              1,
              "#f0f921"
             ]
            ],
            "type": "surface"
           }
          ],
          "table": [
           {
            "cells": {
             "fill": {
              "color": "#EBF0F8"
             },
             "line": {
              "color": "white"
             }
            },
            "header": {
             "fill": {
              "color": "#C8D4E3"
             },
             "line": {
              "color": "white"
             }
            },
            "type": "table"
           }
          ]
         },
         "layout": {
          "annotationdefaults": {
           "arrowcolor": "#2a3f5f",
           "arrowhead": 0,
           "arrowwidth": 1
          },
          "coloraxis": {
           "colorbar": {
            "outlinewidth": 0,
            "ticks": ""
           }
          },
          "colorscale": {
           "diverging": [
            [
             0,
             "#8e0152"
            ],
            [
             0.1,
             "#c51b7d"
            ],
            [
             0.2,
             "#de77ae"
            ],
            [
             0.3,
             "#f1b6da"
            ],
            [
             0.4,
             "#fde0ef"
            ],
            [
             0.5,
             "#f7f7f7"
            ],
            [
             0.6,
             "#e6f5d0"
            ],
            [
             0.7,
             "#b8e186"
            ],
            [
             0.8,
             "#7fbc41"
            ],
            [
             0.9,
             "#4d9221"
            ],
            [
             1,
             "#276419"
            ]
           ],
           "sequential": [
            [
             0,
             "#0d0887"
            ],
            [
             0.1111111111111111,
             "#46039f"
            ],
            [
             0.2222222222222222,
             "#7201a8"
            ],
            [
             0.3333333333333333,
             "#9c179e"
            ],
            [
             0.4444444444444444,
             "#bd3786"
            ],
            [
             0.5555555555555556,
             "#d8576b"
            ],
            [
             0.6666666666666666,
             "#ed7953"
            ],
            [
             0.7777777777777778,
             "#fb9f3a"
            ],
            [
             0.8888888888888888,
             "#fdca26"
            ],
            [
             1,
             "#f0f921"
            ]
           ],
           "sequentialminus": [
            [
             0,
             "#0d0887"
            ],
            [
             0.1111111111111111,
             "#46039f"
            ],
            [
             0.2222222222222222,
             "#7201a8"
            ],
            [
             0.3333333333333333,
             "#9c179e"
            ],
            [
             0.4444444444444444,
             "#bd3786"
            ],
            [
             0.5555555555555556,
             "#d8576b"
            ],
            [
             0.6666666666666666,
             "#ed7953"
            ],
            [
             0.7777777777777778,
             "#fb9f3a"
            ],
            [
             0.8888888888888888,
             "#fdca26"
            ],
            [
             1,
             "#f0f921"
            ]
           ]
          },
          "colorway": [
           "#636efa",
           "#EF553B",
           "#00cc96",
           "#ab63fa",
           "#FFA15A",
           "#19d3f3",
           "#FF6692",
           "#B6E880",
           "#FF97FF",
           "#FECB52"
          ],
          "font": {
           "color": "#2a3f5f"
          },
          "geo": {
           "bgcolor": "white",
           "lakecolor": "white",
           "landcolor": "#E5ECF6",
           "showlakes": true,
           "showland": true,
           "subunitcolor": "white"
          },
          "hoverlabel": {
           "align": "left"
          },
          "hovermode": "closest",
          "mapbox": {
           "style": "light"
          },
          "paper_bgcolor": "white",
          "plot_bgcolor": "#E5ECF6",
          "polar": {
           "angularaxis": {
            "gridcolor": "white",
            "linecolor": "white",
            "ticks": ""
           },
           "bgcolor": "#E5ECF6",
           "radialaxis": {
            "gridcolor": "white",
            "linecolor": "white",
            "ticks": ""
           }
          },
          "scene": {
           "xaxis": {
            "backgroundcolor": "#E5ECF6",
            "gridcolor": "white",
            "gridwidth": 2,
            "linecolor": "white",
            "showbackground": true,
            "ticks": "",
            "zerolinecolor": "white"
           },
           "yaxis": {
            "backgroundcolor": "#E5ECF6",
            "gridcolor": "white",
            "gridwidth": 2,
            "linecolor": "white",
            "showbackground": true,
            "ticks": "",
            "zerolinecolor": "white"
           },
           "zaxis": {
            "backgroundcolor": "#E5ECF6",
            "gridcolor": "white",
            "gridwidth": 2,
            "linecolor": "white",
            "showbackground": true,
            "ticks": "",
            "zerolinecolor": "white"
           }
          },
          "shapedefaults": {
           "line": {
            "color": "#2a3f5f"
           }
          },
          "ternary": {
           "aaxis": {
            "gridcolor": "white",
            "linecolor": "white",
            "ticks": ""
           },
           "baxis": {
            "gridcolor": "white",
            "linecolor": "white",
            "ticks": ""
           },
           "bgcolor": "#E5ECF6",
           "caxis": {
            "gridcolor": "white",
            "linecolor": "white",
            "ticks": ""
           }
          },
          "title": {
           "x": 0.05
          },
          "xaxis": {
           "automargin": true,
           "gridcolor": "white",
           "linecolor": "white",
           "ticks": "",
           "title": {
            "standoff": 15
           },
           "zerolinecolor": "white",
           "zerolinewidth": 2
          },
          "yaxis": {
           "automargin": true,
           "gridcolor": "white",
           "linecolor": "white",
           "ticks": "",
           "title": {
            "standoff": 15
           },
           "zerolinecolor": "white",
           "zerolinewidth": 2
          }
         }
        },
        "width": 800
       }
      },
      "text/html": [
       "<div>\n",
       "        \n",
       "        \n",
       "            <div id=\"b96bd364-0f3a-4e0b-a6f3-817b30870251\" class=\"plotly-graph-div\" style=\"height:800px; width:800px;\"></div>\n",
       "            <script type=\"text/javascript\">\n",
       "                require([\"plotly\"], function(Plotly) {\n",
       "                    window.PLOTLYENV=window.PLOTLYENV || {};\n",
       "                    window.PLOTLYENV.BASE_URL='https://plot.ly';\n",
       "                    \n",
       "                if (document.getElementById(\"b96bd364-0f3a-4e0b-a6f3-817b30870251\")) {\n",
       "                    Plotly.newPlot(\n",
       "                        'b96bd364-0f3a-4e0b-a6f3-817b30870251',\n",
       "                        [{\"marker\": {\"color\": \"rgba(255, 153, 51, 0.6)\", \"line\": {\"color\": \"rgba(255, 153, 51, 1.0)\", \"width\": 1}}, \"name\": \"count\", \"orientation\": \"v\", \"text\": \"\", \"type\": \"bar\", \"x\": [6, 5, 4, 8, 9, 3, 10, 7, 11, 0, 12, 13, 2, 14, 15, 1, 16, 17, 18, 19, 20, 21, 22, 23, 24, 25, 26, 27, 29, 28, -1, 30, 31, 32, -2, 33, 34, 35, 36, -3, 37, 38, 39, 40, -4, 42, 41, 43, 44, 45, -5, 46, 50, 47, 48, 52, 49, -6, 53, 51, 54, 55, -7, 56, 57, 59, 60, 58, -8, 61, 63, 62, 66, 67, 65, 64, 68, -9, 70, 69, -10, 71, 73, 74, 72, 75, 76, -11, 77, 78, 79, 80, -12, 81, 82, 84, 85, 83, -13, 89, 88, -14, 86, 87, 90, 92, 91, 93, 95, 94, 100, 97, 96, -16, 102, 101, -15, 98, -17, 103, 104, 105, 99, 106, 107, 110, 108, -20, 112, 109, 111, 121, 115, 113, 125, -18, 114, -19, 116, 117, 120, -21, 122, 124, 127, 119, 118, -22, -25, 123, 126, 128, -24, 132, 135, 129, 130, 137, -23, 142, 134, 131, 140, 133, -27, 148, 136, 157, 138, 147, 144, 154, 139, 141, -26, 149, 164, -29, 145, 152, -28, 143, 155, -31, 150, 153, 156, 146, 168, 159, 160, 171, 169, 158, -33, 167, 151, 172, 161, -30, -32, -34, 166, 186, 177, 162, 174, 163, 180, -36, 185, 173, 181, 178, 170, 182, 176, -35, 202, -38, 192, 190, 165, 183, 194, 193, 189, -42, 179, -41, 184, -37, 223, 216, 175, 188, 224, 198, 210, 203, 201, 196, 187, 199, 207, 204, -40, 205, 191, 222, -39, 229, 218, -43, 209, 197, 225, 227, 232, 226, 212, 206, 214, -54, 247, 236, 200, 208, 220, 228, -50, 211, 213, -46, -62, -51, 231, 239, 235, 215, 242, 249, -44, 230, 195, -57, -45, -55, 219, -48, 265, 233, 217, -53, 241, 234, 277, 221, 259, 262, 260, 261, 269, 278, 240, -47, 243, 275, 237, 254, 246, 306, 251, 290, -75, 298, 263, 331, -52, 264, 238, 272, 270, 253, 244, 245, -71, -58, -49, 252, 300, 257, 299, 282, 296, 276, 295, -56, 310, 324, 274, 285, 307, 294, 323, 301, 334, 309, -59, 344, 328, 291, 287, -64, 297, 248, -88, 335, 349, 289, 406, -82, 350, 316, 302, 330, -61, -63, 255, 326, 305, -66, 266, -74, -69, -80, -87, 284, 313, 411, 258, 339, 329, 317, -95, -72, 293, 325, 443, 256, 345, 250, 280, 304, 391, 268, -99, 370, -96, 286, 312, 288, 311, 407, 373, 385, 375, 314, 319, 445, 404, 410, 318, 376, 377, 281, -103, 378, 503, 516, -81, 346, 353, 435, 352, -78, 424, 348, 347, -68, -79, 356, 273, 271, -84, 469, 332, 392, 303, 336, 267, 351, 394, -60, -93, -91, 361, 453, -76, 363, 364, 402, 292, 357, 308, 388, 397, 512, 393, 530, -107, -108, 396, 532, 913, 390, 1154, 531, 517, -113, -114, 782, 652, 401, 383, 661, 488, 487, 359, 611, 603, -166, 343, 470, 342, 341, 724, 468, 467, 466, 337, 463, 462, 461, 333, -182, 360, 362, 279, -147, -131, 636, 379, -133, 506, 505, 629, 501, 500, 627, 499, 371, 753, 369, -143, 495, 622, 366, 365, -183, 455, 327, 581, -83, 426, -86, 425, 1448, -89, 674, 417, 543, -97, 542, 414, -98, 413, 668, 540, 283, 538, 536, 685, 558, 431, 442, 708, 451, 449, 321, 448, 320, -65, -67, -70, 559, 441, 568, -73, 438, 436, -77, 434, 560, 447], \"y\": [7922, 7279, 7132, 6274, 6271, 6245, 6220, 6021, 5714, 5643, 5586, 5432, 5395, 4962, 4781, 4587, 4579, 4105, 4011, 3753, 3646, 3420, 3218, 3137, 2911, 2734, 2612, 2510, 2308, 2280, 2274, 2142, 2006, 1960, 1932, 1890, 1727, 1611, 1592, 1532, 1513, 1445, 1383, 1258, 1256, 1218, 1194, 1145, 1013, 1005, 976, 897, 896, 872, 851, 849, 827, 821, 802, 783, 751, 702, 652, 635, 628, 587, 576, 574, 567, 548, 529, 512, 505, 495, 494, 491, 479, 461, 431, 413, 388, 372, 362, 360, 356, 341, 337, 321, 319, 308, 305, 291, 280, 272, 269, 259, 259, 259, 244, 234, 228, 225, 223, 223, 212, 210, 209, 188, 188, 187, 181, 174, 170, 170, 170, 168, 166, 165, 163, 163, 162, 146, 139, 139, 136, 134, 132, 129, 128, 127, 125, 115, 114, 113, 111, 109, 109, 108, 108, 103, 93, 93, 93, 90, 89, 89, 89, 88, 84, 84, 83, 80, 79, 76, 75, 75, 74, 72, 72, 72, 69, 67, 63, 63, 61, 61, 61, 59, 57, 56, 56, 56, 55, 55, 55, 53, 52, 52, 51, 51, 50, 47, 45, 44, 44, 42, 42, 41, 40, 40, 39, 39, 38, 38, 37, 37, 37, 35, 35, 34, 34, 34, 34, 33, 33, 33, 32, 30, 30, 30, 30, 30, 30, 30, 28, 27, 27, 27, 26, 26, 26, 26, 25, 24, 23, 23, 23, 23, 23, 21, 21, 21, 21, 20, 20, 20, 20, 20, 19, 19, 19, 19, 18, 18, 18, 18, 18, 18, 17, 17, 17, 17, 17, 16, 16, 15, 15, 15, 15, 15, 14, 14, 14, 14, 13, 13, 13, 13, 12, 12, 12, 12, 12, 12, 11, 11, 11, 11, 11, 11, 11, 11, 11, 11, 11, 10, 10, 10, 10, 10, 10, 10, 10, 10, 10, 10, 9, 9, 9, 9, 9, 9, 9, 8, 8, 8, 8, 8, 8, 8, 8, 8, 8, 7, 7, 7, 7, 7, 7, 7, 7, 7, 7, 7, 7, 7, 7, 6, 6, 6, 6, 6, 6, 6, 6, 6, 6, 6, 6, 6, 6, 6, 5, 5, 5, 5, 5, 5, 5, 5, 5, 5, 5, 5, 5, 4, 4, 4, 4, 4, 4, 4, 4, 4, 4, 4, 4, 4, 4, 4, 4, 4, 4, 4, 4, 4, 3, 3, 3, 3, 3, 3, 3, 3, 3, 3, 3, 3, 3, 3, 3, 3, 3, 3, 3, 2, 2, 2, 2, 2, 2, 2, 2, 2, 2, 2, 2, 2, 2, 2, 2, 2, 2, 2, 2, 2, 2, 2, 2, 2, 2, 2, 2, 2, 2, 2, 2, 2, 2, 2, 2, 2, 2, 2, 2, 2, 2, 2, 2, 2, 2, 2, 2, 2, 2, 2, 2, 2, 2, 2, 2, 2, 2, 2, 2, 1, 1, 1, 1, 1, 1, 1, 1, 1, 1, 1, 1, 1, 1, 1, 1, 1, 1, 1, 1, 1, 1, 1, 1, 1, 1, 1, 1, 1, 1, 1, 1, 1, 1, 1, 1, 1, 1, 1, 1, 1, 1, 1, 1, 1, 1, 1, 1, 1, 1, 1, 1, 1, 1, 1, 1, 1, 1, 1, 1, 1, 1, 1, 1, 1, 1, 1, 1, 1, 1, 1, 1, 1, 1, 1, 1, 1, 1, 1, 1, 1, 1, 1, 1, 1, 1, 1, 1, 1, 1, 1, 1, 1, 1, 1, 1, 1, 1, 1, 1, 1, 1, 1, 1, 1, 1, 1, 1, 1, 1]}],\n",
       "                        {\"height\": 800, \"template\": {\"data\": {\"bar\": [{\"error_x\": {\"color\": \"#2a3f5f\"}, \"error_y\": {\"color\": \"#2a3f5f\"}, \"marker\": {\"line\": {\"color\": \"#E5ECF6\", \"width\": 0.5}}, \"type\": \"bar\"}], \"barpolar\": [{\"marker\": {\"line\": {\"color\": \"#E5ECF6\", \"width\": 0.5}}, \"type\": \"barpolar\"}], \"carpet\": [{\"aaxis\": {\"endlinecolor\": \"#2a3f5f\", \"gridcolor\": \"white\", \"linecolor\": \"white\", \"minorgridcolor\": \"white\", \"startlinecolor\": \"#2a3f5f\"}, \"baxis\": {\"endlinecolor\": \"#2a3f5f\", \"gridcolor\": \"white\", \"linecolor\": \"white\", \"minorgridcolor\": \"white\", \"startlinecolor\": \"#2a3f5f\"}, \"type\": \"carpet\"}], \"choropleth\": [{\"colorbar\": {\"outlinewidth\": 0, \"ticks\": \"\"}, \"type\": \"choropleth\"}], \"contour\": [{\"colorbar\": {\"outlinewidth\": 0, \"ticks\": \"\"}, \"colorscale\": [[0.0, \"#0d0887\"], [0.1111111111111111, \"#46039f\"], [0.2222222222222222, \"#7201a8\"], [0.3333333333333333, \"#9c179e\"], [0.4444444444444444, \"#bd3786\"], [0.5555555555555556, \"#d8576b\"], [0.6666666666666666, \"#ed7953\"], [0.7777777777777778, \"#fb9f3a\"], [0.8888888888888888, \"#fdca26\"], [1.0, \"#f0f921\"]], \"type\": \"contour\"}], \"contourcarpet\": [{\"colorbar\": {\"outlinewidth\": 0, \"ticks\": \"\"}, \"type\": \"contourcarpet\"}], \"heatmap\": [{\"colorbar\": {\"outlinewidth\": 0, \"ticks\": \"\"}, \"colorscale\": [[0.0, \"#0d0887\"], [0.1111111111111111, \"#46039f\"], [0.2222222222222222, \"#7201a8\"], [0.3333333333333333, \"#9c179e\"], [0.4444444444444444, \"#bd3786\"], [0.5555555555555556, \"#d8576b\"], [0.6666666666666666, \"#ed7953\"], [0.7777777777777778, \"#fb9f3a\"], [0.8888888888888888, \"#fdca26\"], [1.0, \"#f0f921\"]], \"type\": \"heatmap\"}], \"heatmapgl\": [{\"colorbar\": {\"outlinewidth\": 0, \"ticks\": \"\"}, \"colorscale\": [[0.0, \"#0d0887\"], [0.1111111111111111, \"#46039f\"], [0.2222222222222222, \"#7201a8\"], [0.3333333333333333, \"#9c179e\"], [0.4444444444444444, \"#bd3786\"], [0.5555555555555556, \"#d8576b\"], [0.6666666666666666, \"#ed7953\"], [0.7777777777777778, \"#fb9f3a\"], [0.8888888888888888, \"#fdca26\"], [1.0, \"#f0f921\"]], \"type\": \"heatmapgl\"}], \"histogram\": [{\"marker\": {\"colorbar\": {\"outlinewidth\": 0, \"ticks\": \"\"}}, \"type\": \"histogram\"}], \"histogram2d\": [{\"colorbar\": {\"outlinewidth\": 0, \"ticks\": \"\"}, \"colorscale\": [[0.0, \"#0d0887\"], [0.1111111111111111, \"#46039f\"], [0.2222222222222222, \"#7201a8\"], [0.3333333333333333, \"#9c179e\"], [0.4444444444444444, \"#bd3786\"], [0.5555555555555556, \"#d8576b\"], [0.6666666666666666, \"#ed7953\"], [0.7777777777777778, \"#fb9f3a\"], [0.8888888888888888, \"#fdca26\"], [1.0, \"#f0f921\"]], \"type\": \"histogram2d\"}], \"histogram2dcontour\": [{\"colorbar\": {\"outlinewidth\": 0, \"ticks\": \"\"}, \"colorscale\": [[0.0, \"#0d0887\"], [0.1111111111111111, \"#46039f\"], [0.2222222222222222, \"#7201a8\"], [0.3333333333333333, \"#9c179e\"], [0.4444444444444444, \"#bd3786\"], [0.5555555555555556, \"#d8576b\"], [0.6666666666666666, \"#ed7953\"], [0.7777777777777778, \"#fb9f3a\"], [0.8888888888888888, \"#fdca26\"], [1.0, \"#f0f921\"]], \"type\": \"histogram2dcontour\"}], \"mesh3d\": [{\"colorbar\": {\"outlinewidth\": 0, \"ticks\": \"\"}, \"type\": \"mesh3d\"}], \"parcoords\": [{\"line\": {\"colorbar\": {\"outlinewidth\": 0, \"ticks\": \"\"}}, \"type\": \"parcoords\"}], \"pie\": [{\"automargin\": true, \"type\": \"pie\"}], \"scatter\": [{\"marker\": {\"colorbar\": {\"outlinewidth\": 0, \"ticks\": \"\"}}, \"type\": \"scatter\"}], \"scatter3d\": [{\"line\": {\"colorbar\": {\"outlinewidth\": 0, \"ticks\": \"\"}}, \"marker\": {\"colorbar\": {\"outlinewidth\": 0, \"ticks\": \"\"}}, \"type\": \"scatter3d\"}], \"scattercarpet\": [{\"marker\": {\"colorbar\": {\"outlinewidth\": 0, \"ticks\": \"\"}}, \"type\": \"scattercarpet\"}], \"scattergeo\": [{\"marker\": {\"colorbar\": {\"outlinewidth\": 0, \"ticks\": \"\"}}, \"type\": \"scattergeo\"}], \"scattergl\": [{\"marker\": {\"colorbar\": {\"outlinewidth\": 0, \"ticks\": \"\"}}, \"type\": \"scattergl\"}], \"scattermapbox\": [{\"marker\": {\"colorbar\": {\"outlinewidth\": 0, \"ticks\": \"\"}}, \"type\": \"scattermapbox\"}], \"scatterpolar\": [{\"marker\": {\"colorbar\": {\"outlinewidth\": 0, \"ticks\": \"\"}}, \"type\": \"scatterpolar\"}], \"scatterpolargl\": [{\"marker\": {\"colorbar\": {\"outlinewidth\": 0, \"ticks\": \"\"}}, \"type\": \"scatterpolargl\"}], \"scatterternary\": [{\"marker\": {\"colorbar\": {\"outlinewidth\": 0, \"ticks\": \"\"}}, \"type\": \"scatterternary\"}], \"surface\": [{\"colorbar\": {\"outlinewidth\": 0, \"ticks\": \"\"}, \"colorscale\": [[0.0, \"#0d0887\"], [0.1111111111111111, \"#46039f\"], [0.2222222222222222, \"#7201a8\"], [0.3333333333333333, \"#9c179e\"], [0.4444444444444444, \"#bd3786\"], [0.5555555555555556, \"#d8576b\"], [0.6666666666666666, \"#ed7953\"], [0.7777777777777778, \"#fb9f3a\"], [0.8888888888888888, \"#fdca26\"], [1.0, \"#f0f921\"]], \"type\": \"surface\"}], \"table\": [{\"cells\": {\"fill\": {\"color\": \"#EBF0F8\"}, \"line\": {\"color\": \"white\"}}, \"header\": {\"fill\": {\"color\": \"#C8D4E3\"}, \"line\": {\"color\": \"white\"}}, \"type\": \"table\"}]}, \"layout\": {\"annotationdefaults\": {\"arrowcolor\": \"#2a3f5f\", \"arrowhead\": 0, \"arrowwidth\": 1}, \"coloraxis\": {\"colorbar\": {\"outlinewidth\": 0, \"ticks\": \"\"}}, \"colorscale\": {\"diverging\": [[0, \"#8e0152\"], [0.1, \"#c51b7d\"], [0.2, \"#de77ae\"], [0.3, \"#f1b6da\"], [0.4, \"#fde0ef\"], [0.5, \"#f7f7f7\"], [0.6, \"#e6f5d0\"], [0.7, \"#b8e186\"], [0.8, \"#7fbc41\"], [0.9, \"#4d9221\"], [1, \"#276419\"]], \"sequential\": [[0.0, \"#0d0887\"], [0.1111111111111111, \"#46039f\"], [0.2222222222222222, \"#7201a8\"], [0.3333333333333333, \"#9c179e\"], [0.4444444444444444, \"#bd3786\"], [0.5555555555555556, \"#d8576b\"], [0.6666666666666666, \"#ed7953\"], [0.7777777777777778, \"#fb9f3a\"], [0.8888888888888888, \"#fdca26\"], [1.0, \"#f0f921\"]], \"sequentialminus\": [[0.0, \"#0d0887\"], [0.1111111111111111, \"#46039f\"], [0.2222222222222222, \"#7201a8\"], [0.3333333333333333, \"#9c179e\"], [0.4444444444444444, \"#bd3786\"], [0.5555555555555556, \"#d8576b\"], [0.6666666666666666, \"#ed7953\"], [0.7777777777777778, \"#fb9f3a\"], [0.8888888888888888, \"#fdca26\"], [1.0, \"#f0f921\"]]}, \"colorway\": [\"#636efa\", \"#EF553B\", \"#00cc96\", \"#ab63fa\", \"#FFA15A\", \"#19d3f3\", \"#FF6692\", \"#B6E880\", \"#FF97FF\", \"#FECB52\"], \"font\": {\"color\": \"#2a3f5f\"}, \"geo\": {\"bgcolor\": \"white\", \"lakecolor\": \"white\", \"landcolor\": \"#E5ECF6\", \"showlakes\": true, \"showland\": true, \"subunitcolor\": \"white\"}, \"hoverlabel\": {\"align\": \"left\"}, \"hovermode\": \"closest\", \"mapbox\": {\"style\": \"light\"}, \"paper_bgcolor\": \"white\", \"plot_bgcolor\": \"#E5ECF6\", \"polar\": {\"angularaxis\": {\"gridcolor\": \"white\", \"linecolor\": \"white\", \"ticks\": \"\"}, \"bgcolor\": \"#E5ECF6\", \"radialaxis\": {\"gridcolor\": \"white\", \"linecolor\": \"white\", \"ticks\": \"\"}}, \"scene\": {\"xaxis\": {\"backgroundcolor\": \"#E5ECF6\", \"gridcolor\": \"white\", \"gridwidth\": 2, \"linecolor\": \"white\", \"showbackground\": true, \"ticks\": \"\", \"zerolinecolor\": \"white\"}, \"yaxis\": {\"backgroundcolor\": \"#E5ECF6\", \"gridcolor\": \"white\", \"gridwidth\": 2, \"linecolor\": \"white\", \"showbackground\": true, \"ticks\": \"\", \"zerolinecolor\": \"white\"}, \"zaxis\": {\"backgroundcolor\": \"#E5ECF6\", \"gridcolor\": \"white\", \"gridwidth\": 2, \"linecolor\": \"white\", \"showbackground\": true, \"ticks\": \"\", \"zerolinecolor\": \"white\"}}, \"shapedefaults\": {\"line\": {\"color\": \"#2a3f5f\"}}, \"ternary\": {\"aaxis\": {\"gridcolor\": \"white\", \"linecolor\": \"white\", \"ticks\": \"\"}, \"baxis\": {\"gridcolor\": \"white\", \"linecolor\": \"white\", \"ticks\": \"\"}, \"bgcolor\": \"#E5ECF6\", \"caxis\": {\"gridcolor\": \"white\", \"linecolor\": \"white\", \"ticks\": \"\"}}, \"title\": {\"x\": 0.05}, \"xaxis\": {\"automargin\": true, \"gridcolor\": \"white\", \"linecolor\": \"white\", \"ticks\": \"\", \"title\": {\"standoff\": 15}, \"zerolinecolor\": \"white\", \"zerolinewidth\": 2}, \"yaxis\": {\"automargin\": true, \"gridcolor\": \"white\", \"linecolor\": \"white\", \"ticks\": \"\", \"title\": {\"standoff\": 15}, \"zerolinecolor\": \"white\", \"zerolinewidth\": 2}}}, \"width\": 800},\n",
       "                        {\"showLink\": true, \"linkText\": \"Export to plot.ly\", \"plotlyServerURL\": \"https://plot.ly\", \"responsive\": true}\n",
       "                    ).then(function(){\n",
       "                            \n",
       "var gd = document.getElementById('b96bd364-0f3a-4e0b-a6f3-817b30870251');\n",
       "var x = new MutationObserver(function (mutations, observer) {{\n",
       "        var display = window.getComputedStyle(gd).display;\n",
       "        if (!display || display === 'none') {{\n",
       "            console.log([gd, 'removed!']);\n",
       "            Plotly.purge(gd);\n",
       "            observer.disconnect();\n",
       "        }}\n",
       "}});\n",
       "\n",
       "// Listen for the removal of the full notebook cells\n",
       "var notebookContainer = gd.closest('#notebook-container');\n",
       "if (notebookContainer) {{\n",
       "    x.observe(notebookContainer, {childList: true});\n",
       "}}\n",
       "\n",
       "// Listen for the clearing of the current output cell\n",
       "var outputEl = gd.closest('.output');\n",
       "if (outputEl) {{\n",
       "    x.observe(outputEl, {childList: true});\n",
       "}}\n",
       "\n",
       "                        })\n",
       "                };\n",
       "                });\n",
       "            </script>\n",
       "        </div>"
      ]
     },
     "metadata": {},
     "output_type": "display_data"
    }
   ],
   "source": [
    "layout1 = cf.Layout(height=800,width=800)\n",
    "df_rate_count.iplot(kind='bar', xTitle='rate',\\\n",
    "                  yTitle='count', title='Rate count',\\\n",
    "                  y='count',x='rate',layout=layout1)"
   ]
  },
  {
   "cell_type": "markdown",
   "metadata": {},
   "source": [
    "Топ популярных рейтингов лежит в диапазоне от 0-6. Самый часто используемый рейтинг - 0, т.е. статья не оценивается?"
   ]
  },
  {
   "cell_type": "markdown",
   "metadata": {},
   "source": [
    " "
   ]
  },
  {
   "cell_type": "markdown",
   "metadata": {},
   "source": [
    "Посмотрим на средний рейтинг статей в зависимости от количества слов в заголовке"
   ]
  },
  {
   "cell_type": "code",
   "execution_count": 114,
   "metadata": {},
   "outputs": [
    {
     "data": {
      "image/png": "[encoded data removed]",
      "text/plain": [
       "<Figure size 864x360 with 1 Axes>"
      ]
     },
     "metadata": {
      "needs_background": "light"
     },
     "output_type": "display_data"
    }
   ],
   "source": [
    "fsize = (12, 5)\n",
    "fig, ax = plt.subplots(figsize=fsize)    \n",
    "plt.title('Средний рейтинг от количества слов в заголовке.')\n",
    "sns.barplot(x='tittle_words_count', y='rate_avg', \\\n",
    "            data=df.groupby('tittle_words_count')['rate'].mean().\\\n",
    "                                    rename('rate_avg').reset_index());"
   ]
  },
  {
   "cell_type": "markdown",
   "metadata": {},
   "source": [
    "У статей с количеством слов в заголовке от 1-22 средний рейтинг выше 20. А статьи с количеством слов в заголовке 25 и 27 имеют самый низкий средний рейтинг. Максимальный средний рейтинг у статей с количеством слов в заголовке 26 и 30. \n",
    "\n",
    "На первый взгляд кажется, что есть корреляция между количеством слов в заголовке и рейтингом. Но выше мы видели, что статей с количеством слов в заголовке от 20 и выше очень мало."
   ]
  },
  {
   "cell_type": "markdown",
   "metadata": {},
   "source": [
    "Посмотрю на статьи с количеством слов в заголовке = 30"
   ]
  },
  {
   "cell_type": "code",
   "execution_count": 458,
   "metadata": {},
   "outputs": [
    {
     "data": {
      "text/html": [
       "<div>\n",
       "<style scoped>\n",
       "    .dataframe tbody tr th:only-of-type {\n",
       "        vertical-align: middle;\n",
       "    }\n",
       "\n",
       "    .dataframe tbody tr th {\n",
       "        vertical-align: top;\n",
       "    }\n",
       "\n",
       "    .dataframe thead th {\n",
       "        text-align: right;\n",
       "    }\n",
       "</style>\n",
       "<table border=\"1\" class=\"dataframe\">\n",
       "  <thead>\n",
       "    <tr style=\"text-align: right;\">\n",
       "      <th></th>\n",
       "      <th>index</th>\n",
       "      <th>date</th>\n",
       "      <th>tittle</th>\n",
       "      <th>text</th>\n",
       "      <th>rate</th>\n",
       "      <th>month</th>\n",
       "      <th>day</th>\n",
       "      <th>hour</th>\n",
       "      <th>weekday</th>\n",
       "      <th>sites_text</th>\n",
       "      <th>...</th>\n",
       "      <th>en_words_text</th>\n",
       "      <th>en_words_text_count</th>\n",
       "      <th>punctuations_text_count</th>\n",
       "      <th>emotions_text_count</th>\n",
       "      <th>text_words_count</th>\n",
       "      <th>text_clwords_count</th>\n",
       "      <th>tittle_words_count</th>\n",
       "      <th>tittle_clwords_count</th>\n",
       "      <th>text_category</th>\n",
       "      <th>rate_category</th>\n",
       "    </tr>\n",
       "  </thead>\n",
       "  <tbody>\n",
       "    <tr>\n",
       "      <td>45953</td>\n",
       "      <td>47737</td>\n",
       "      <td>2010-02-01 21:20:00</td>\n",
       "      <td>Перепрошивка USB модема ZTE MF627, залоченного...</td>\n",
       "      <td>В продолжение темы 3G-модем в Ubuntu.  Пошаго...</td>\n",
       "      <td>224</td>\n",
       "      <td>2</td>\n",
       "      <td>1</td>\n",
       "      <td>21</td>\n",
       "      <td>0</td>\n",
       "      <td>2_exe 2_exe beeline_ru internet_mts tele2_ru i...</td>\n",
       "      <td>...</td>\n",
       "      <td>ubuntu usb zte sim windows ubuntu servik zte h...</td>\n",
       "      <td>379</td>\n",
       "      <td>864</td>\n",
       "      <td>0</td>\n",
       "      <td>2438</td>\n",
       "      <td>380</td>\n",
       "      <td>30</td>\n",
       "      <td>3</td>\n",
       "      <td>4</td>\n",
       "      <td>1</td>\n",
       "    </tr>\n",
       "    <tr>\n",
       "      <td>92292</td>\n",
       "      <td>94966</td>\n",
       "      <td>2012-12-08 14:25:00</td>\n",
       "      <td>Видео: Мама впервые тестирует Windows 8, Ubunt...</td>\n",
       "      <td>В форумах не утихают споры о том, удобна ли...</td>\n",
       "      <td>57</td>\n",
       "      <td>12</td>\n",
       "      <td>8</td>\n",
       "      <td>14</td>\n",
       "      <td>5</td>\n",
       "      <td></td>\n",
       "      <td>...</td>\n",
       "      <td>windows windows windows windows windows ubuntu...</td>\n",
       "      <td>61</td>\n",
       "      <td>178</td>\n",
       "      <td>0</td>\n",
       "      <td>411</td>\n",
       "      <td>87</td>\n",
       "      <td>30</td>\n",
       "      <td>15</td>\n",
       "      <td>2</td>\n",
       "      <td>1</td>\n",
       "    </tr>\n",
       "    <tr>\n",
       "      <td>125621</td>\n",
       "      <td>128329</td>\n",
       "      <td>2015-03-18 10:30:00</td>\n",
       "      <td>Ценопад пришел: серверы в Нидерландах в premiu...</td>\n",
       "      <td>Могли ли в IBM некоторое время назад представ...</td>\n",
       "      <td>-7</td>\n",
       "      <td>3</td>\n",
       "      <td>18</td>\n",
       "      <td>10</td>\n",
       "      <td>2</td>\n",
       "      <td>www_ua</td>\n",
       "      <td>...</td>\n",
       "      <td>ibm evoswitch intel quad core sata http server...</td>\n",
       "      <td>78</td>\n",
       "      <td>174</td>\n",
       "      <td>0</td>\n",
       "      <td>604</td>\n",
       "      <td>93</td>\n",
       "      <td>30</td>\n",
       "      <td>7</td>\n",
       "      <td>3</td>\n",
       "      <td>-1</td>\n",
       "    </tr>\n",
       "  </tbody>\n",
       "</table>\n",
       "<p>3 rows × 23 columns</p>\n",
       "</div>"
      ],
      "text/plain": [
       "         index                date  \\\n",
       "45953    47737 2010-02-01 21:20:00   \n",
       "92292    94966 2012-12-08 14:25:00   \n",
       "125621  128329 2015-03-18 10:30:00   \n",
       "\n",
       "                                                   tittle  \\\n",
       "45953   Перепрошивка USB модема ZTE MF627, залоченного...   \n",
       "92292   Видео: Мама впервые тестирует Windows 8, Ubunt...   \n",
       "125621  Ценопад пришел: серверы в Нидерландах в premiu...   \n",
       "\n",
       "                                                     text  rate  month  day  \\\n",
       "45953    В продолжение темы 3G-модем в Ubuntu.  Пошаго...   224      2    1   \n",
       "92292      В форумах не утихают споры о том, удобна ли...    57     12    8   \n",
       "125621   Могли ли в IBM некоторое время назад представ...    -7      3   18   \n",
       "\n",
       "        hour  weekday                                         sites_text  ...  \\\n",
       "45953     21        0  2_exe 2_exe beeline_ru internet_mts tele2_ru i...  ...   \n",
       "92292     14        5                                                     ...   \n",
       "125621    10        2                                             www_ua  ...   \n",
       "\n",
       "                                            en_words_text en_words_text_count  \\\n",
       "45953   ubuntu usb zte sim windows ubuntu servik zte h...                 379   \n",
       "92292   windows windows windows windows windows ubuntu...                  61   \n",
       "125621  ibm evoswitch intel quad core sata http server...                  78   \n",
       "\n",
       "        punctuations_text_count emotions_text_count  text_words_count  \\\n",
       "45953                       864                   0              2438   \n",
       "92292                       178                   0               411   \n",
       "125621                      174                   0               604   \n",
       "\n",
       "        text_clwords_count  tittle_words_count  tittle_clwords_count  \\\n",
       "45953                  380                  30                     3   \n",
       "92292                   87                  30                    15   \n",
       "125621                  93                  30                     7   \n",
       "\n",
       "        text_category  rate_category  \n",
       "45953               4              1  \n",
       "92292               2              1  \n",
       "125621              3             -1  \n",
       "\n",
       "[3 rows x 23 columns]"
      ]
     },
     "execution_count": 458,
     "metadata": {},
     "output_type": "execute_result"
    }
   ],
   "source": [
    "df[df['tittle_words_count']==30]"
   ]
  },
  {
   "cell_type": "markdown",
   "metadata": {},
   "source": [
    "Их всего 3 штуки! Этого мало, чтобы делать выводы."
   ]
  },
  {
   "cell_type": "markdown",
   "metadata": {},
   "source": [
    "Остальных статей, со словами в заголовке от 23 тоже мало, по сравнению с общим количеством."
   ]
  },
  {
   "cell_type": "code",
   "execution_count": 475,
   "metadata": {},
   "outputs": [
    {
     "data": {
      "text/plain": [
       "24    18\n",
       "23    16\n",
       "27    10\n",
       "26     6\n",
       "25     6\n",
       "30     3\n",
       "Name: tittle_words_count, dtype: int64"
      ]
     },
     "execution_count": 475,
     "metadata": {},
     "output_type": "execute_result"
    }
   ],
   "source": [
    "df[df['tittle_words_count']>22]['tittle_words_count'].value_counts()"
   ]
  },
  {
   "cell_type": "markdown",
   "metadata": {},
   "source": [
    "Пострим на графики количества статей от количества слов в заголовке"
   ]
  },
  {
   "cell_type": "code",
   "execution_count": 103,
   "metadata": {
    "scrolled": true
   },
   "outputs": [
    {
     "data": {
      "image/png": "[encoded data removed]",
      "text/plain": [
       "<Figure size 864x432 with 1 Axes>"
      ]
     },
     "metadata": {
      "needs_background": "light"
     },
     "output_type": "display_data"
    }
   ],
   "source": [
    "df_twc=df['tittle_words_count'].value_counts(normalize=False).rename('count').reset_index()\n",
    "df_twc.rename({'index':'tittle_words_count'}, axis='columns',inplace=True)\n",
    "\n",
    "fsize = (12, 6)\n",
    "fig, ax = plt.subplots(figsize=fsize)    \n",
    "plt.title('Количество статей от количества слов в заголовке')\n",
    "sns.barplot(x='tittle_words_count', y='count', data=df_twc);"
   ]
  },
  {
   "cell_type": "code",
   "execution_count": null,
   "metadata": {},
   "outputs": [],
   "source": []
  },
  {
   "cell_type": "code",
   "execution_count": 104,
   "metadata": {
    "scrolled": true
   },
   "outputs": [
    {
     "data": {
      "image/png": "[encoded data removed]",
      "text/plain": [
       "<Figure size 432x288 with 1 Axes>"
      ]
     },
     "metadata": {
      "needs_background": "light"
     },
     "output_type": "display_data"
    }
   ],
   "source": [
    "df_twc=df['tittle_words_count'].value_counts(normalize=True).rename('percent').reset_index()\n",
    "df_twc.rename({'index':'tittle_words_count'}, axis='columns',inplace=True)\n",
    "\n",
    "plt.title('Менее 1% от общего количества статей')\n",
    "sns.barplot(x='tittle_words_count', y='percent',data=df_twc[df_twc['percent']<0.01]);\n"
   ]
  },
  {
   "cell_type": "code",
   "execution_count": null,
   "metadata": {},
   "outputs": [],
   "source": [
    "Матрица корреляции + если убрать статьи меньше 1 %"
   ]
  },
  {
   "cell_type": "code",
   "execution_count": null,
   "metadata": {},
   "outputs": [],
   "source": []
  },
  {
   "cell_type": "markdown",
   "metadata": {},
   "source": [
    "Посмотрим на рейтинг статей в зависимости от размера статьи"
   ]
  },
  {
   "cell_type": "code",
   "execution_count": 212,
   "metadata": {},
   "outputs": [
    {
     "data": {
      "image/png": "[encoded data removed]",
      "text/plain": [
       "<Figure size 1080x360 with 1 Axes>"
      ]
     },
     "metadata": {
      "needs_background": "light"
     },
     "output_type": "display_data"
    }
   ],
   "source": [
    "fsize = (15, 5)\n",
    "fig, ax = plt.subplots(figsize=fsize)\n",
    "sns.boxplot(y='rate',x='text_category',data=df[(df['rate']<60)&\\\n",
    "                                              (df['rate']>-30)]);"
   ]
  },
  {
   "cell_type": "code",
   "execution_count": 213,
   "metadata": {},
   "outputs": [
    {
     "data": {
      "image/png": "[encoded data removed]",
      "text/plain": [
       "<Figure size 432x288 with 1 Axes>"
      ]
     },
     "metadata": {
      "needs_background": "light"
     },
     "output_type": "display_data"
    }
   ],
   "source": [
    "sns.barplot(x='text_category', y='rate_avg', \\\n",
    "            data=df.groupby('text_category')['rate'].mean().\\\n",
    "                                            rename('rate_avg').reset_index());"
   ]
  },
  {
   "cell_type": "markdown",
   "metadata": {},
   "source": [
    "Видно, что чем больше статья, тем выше рейтинг."
   ]
  },
  {
   "cell_type": "code",
   "execution_count": null,
   "metadata": {},
   "outputs": [],
   "source": []
  },
  {
   "cell_type": "code",
   "execution_count": null,
   "metadata": {},
   "outputs": [],
   "source": []
  },
  {
   "cell_type": "markdown",
   "metadata": {},
   "source": [
    "Выделю новую фичу - категория рейтинга. Разделю все статьи на отрицательные, нейтральные и положительные"
   ]
  },
  {
   "cell_type": "markdown",
   "metadata": {},
   "source": [
    "<font color='green'>#new_feature</font>"
   ]
  },
  {
   "cell_type": "code",
   "execution_count": null,
   "metadata": {},
   "outputs": [],
   "source": [
    "def AddNewFeature_rate_category ():\n",
    "    #Разделю рейтинги на 3 категории (отрицательный, нейтральный и положительный)\n",
    "    df['rate_category'] = pd.cut(df.rate,bins=[df_rate_count['rate'].min()-1,-1,0,\\\n",
    "                                           df_rate_count['rate'].max()+1],labels=[-1,0,1])"
   ]
  },
  {
   "cell_type": "code",
   "execution_count": null,
   "metadata": {},
   "outputs": [],
   "source": [
    "AddNewFeature_rate_category ()"
   ]
  },
  {
   "cell_type": "code",
   "execution_count": null,
   "metadata": {},
   "outputs": [],
   "source": [
    "sns.countplot(df['rate_category']);"
   ]
  },
  {
   "cell_type": "markdown",
   "metadata": {},
   "source": [
    "Статей с положительным рейтингом значительно больше, чем остальных.\n",
    "\n",
    "Средний рейтинг категории:"
   ]
  },
  {
   "cell_type": "code",
   "execution_count": null,
   "metadata": {},
   "outputs": [],
   "source": [
    "df.groupby('rate_category')['rate'].mean().rename('rate_avg').reset_index()"
   ]
  },
  {
   "cell_type": "markdown",
   "metadata": {},
   "source": [
    " "
   ]
  },
  {
   "cell_type": "markdown",
   "metadata": {},
   "source": [
    "Распределение по категориям рейтинга количества статей в зависимости от категории текста:"
   ]
  },
  {
   "cell_type": "code",
   "execution_count": null,
   "metadata": {
    "scrolled": true
   },
   "outputs": [],
   "source": [
    "dataTC = df.groupby(['text_category'], observed=True)['rate_category'].\\\n",
    "         value_counts(normalize=True).rename('count').reset_index().\\\n",
    "         sort_values('text_category')"
   ]
  },
  {
   "cell_type": "code",
   "execution_count": null,
   "metadata": {},
   "outputs": [],
   "source": [
    "sns.barplot(x='text_category', y='count', hue='rate_category',data=dataTC);"
   ]
  },
  {
   "cell_type": "markdown",
   "metadata": {},
   "source": [
    "В основном тенденция роста количества статей по рейтингу, но в категории m больше всего статей с отрицательным рейтингом."
   ]
  },
  {
   "cell_type": "code",
   "execution_count": null,
   "metadata": {},
   "outputs": [],
   "source": [
    "def dataTWC(normalize):\n",
    "    dataTWC= df.groupby(['tittle_words_count'])['rate_category'].value_counts(normalize=normalize).\\\n",
    "    rename('count').reset_index()\n",
    "    fsize = (12, 5)\n",
    "    fig, ax = plt.subplots(figsize=fsize)   \n",
    "    sns.barplot(x='tittle_words_count', y='count', hue='rate_category',data=dataTWC);"
   ]
  },
  {
   "cell_type": "code",
   "execution_count": null,
   "metadata": {},
   "outputs": [],
   "source": [
    "dataTWC(False)"
   ]
  },
  {
   "cell_type": "code",
   "execution_count": null,
   "metadata": {},
   "outputs": [],
   "source": [
    "dataTWC(True)"
   ]
  },
  {
   "cell_type": "markdown",
   "metadata": {},
   "source": [
    "Интересно, что статьи с количеством слов 20-24 в заголовке всегда отрицательные."
   ]
  },
  {
   "cell_type": "markdown",
   "metadata": {},
   "source": [
    "Посмотрим на рисунок зависимости количества слов в заголовке и рейтинга, диффиренцированных по размеру статьи."
   ]
  },
  {
   "cell_type": "code",
   "execution_count": null,
   "metadata": {},
   "outputs": [],
   "source": [
    "fsize = (12, 6)\n",
    "fig, ax = plt.subplots(figsize=fsize)   \n",
    "plt.scatter(df['tittle_words_count'],df['rate'],\\\n",
    "           color=df['text_category'].map({'z':'blue','s':'orange',\\\n",
    "                                          'm':'green','l':'red','xl':'violet'}));"
   ]
  },
  {
   "cell_type": "code",
   "execution_count": null,
   "metadata": {},
   "outputs": [],
   "source": [
    "sns.lmplot(x='text_words_count', y='tittle_words_count', data=df);"
   ]
  },
  {
   "cell_type": "code",
   "execution_count": null,
   "metadata": {},
   "outputs": [],
   "source": [
    "df[['rate','text_words_count','tittle_words_count']].corr(method='pearson')"
   ]
  },
  {
   "cell_type": "code",
   "execution_count": null,
   "metadata": {
    "scrolled": true
   },
   "outputs": [],
   "source": [
    "sns.heatmap(df[['rate','text_words_count','tittle_words_count']].corr(method='pearson'));"
   ]
  },
  {
   "cell_type": "markdown",
   "metadata": {},
   "source": [
    "Какой то явной корреляции не видно. Есть небольшая зависимость длины слов в статье с рейтингом."
   ]
  },
  {
   "cell_type": "markdown",
   "metadata": {},
   "source": [
    "### Дата и время"
   ]
  },
  {
   "cell_type": "markdown",
   "metadata": {},
   "source": [
    "Создам новые признаки, для этого приведем 'date' к формату даты."
   ]
  },
  {
   "cell_type": "markdown",
   "metadata": {},
   "source": [
    "<font color='green'>#new_feature</font>"
   ]
  },
  {
   "cell_type": "code",
   "execution_count": null,
   "metadata": {},
   "outputs": [],
   "source": [
    "def AddNewFeature_dates():\n",
    "    df['date'] = pd.to_datetime(df['date'])\n",
    "    df['month'] = df['date'].dt.month \n",
    "    df['day'] = df['date'].dt.day \n",
    "    df['hour'] = df['date'].dt.hour \n",
    "    df['weekday'] = df['date'].dt.dayofweek"
   ]
  },
  {
   "cell_type": "code",
   "execution_count": null,
   "metadata": {},
   "outputs": [],
   "source": [
    "AddNewFeature_dates()"
   ]
  },
  {
   "cell_type": "code",
   "execution_count": null,
   "metadata": {},
   "outputs": [],
   "source": [
    "df.info()"
   ]
  },
  {
   "cell_type": "code",
   "execution_count": null,
   "metadata": {},
   "outputs": [],
   "source": [
    "def BarGroupByTwo (col1,col2,normalize:bool):    \n",
    "    data = df.groupby([col1])[col2].value_counts(normalize=normalize).rename('count').reset_index().sort_values(col1)\n",
    "    \n",
    "    a4_dims = (11.7, 8.27)\n",
    "    fig, ax = plt.subplots(figsize=a4_dims)    \n",
    "    sns.barplot(x=col1, y='count', hue=col2, data=data)\n",
    "    \n",
    "    normalize_label=''\n",
    "    if normalize:\n",
    "        normalize_label=' (%)'\n",
    "    plt.title('{} vs {}{}'.format(col2, col1,normalize_label))\n",
    "    \n",
    "    labels=[\"Отрицательный\",\"Нейтральный\", \"Положительный\"]\n",
    "    h, l = ax.get_legend_handles_labels()\n",
    "    ax.legend(h, labels)"
   ]
  },
  {
   "cell_type": "markdown",
   "metadata": {},
   "source": [
    "Посмотрим на зависимость рейтинга от времЕнных параметров"
   ]
  },
  {
   "cell_type": "code",
   "execution_count": null,
   "metadata": {},
   "outputs": [],
   "source": [
    "BarGroupByTwo('month','rate_category',False)"
   ]
  },
  {
   "cell_type": "code",
   "execution_count": null,
   "metadata": {
    "scrolled": false
   },
   "outputs": [],
   "source": [
    "BarGroupByTwo('month','rate_category',True)"
   ]
  },
  {
   "cell_type": "markdown",
   "metadata": {},
   "source": [
    "Июль, август, сентябрь и октябрь, месяца, когда меньше всего выходят статьи. В эти месяца количество отрицательных отзывов больше чем в остальные, в процентном соотношении так примерно в 2 раза."
   ]
  },
  {
   "cell_type": "markdown",
   "metadata": {},
   "source": [
    " "
   ]
  },
  {
   "cell_type": "code",
   "execution_count": null,
   "metadata": {},
   "outputs": [],
   "source": [
    "BarGroupByTwo('weekday','rate_category',False)"
   ]
  },
  {
   "cell_type": "code",
   "execution_count": null,
   "metadata": {
    "scrolled": false
   },
   "outputs": [],
   "source": [
    "BarGroupByTwo('weekday','rate_category',True)"
   ]
  },
  {
   "cell_type": "markdown",
   "metadata": {},
   "source": [
    "В субботу и воскресенье (5 и 6) выходит меньше всего статей. При этом, если смотреть в процентном соотношении, то в эти дни больше отрицательных оценок."
   ]
  },
  {
   "cell_type": "code",
   "execution_count": null,
   "metadata": {},
   "outputs": [],
   "source": [
    "BarGroupByTwo('day','rate_category',False)"
   ]
  },
  {
   "cell_type": "code",
   "execution_count": null,
   "metadata": {},
   "outputs": [],
   "source": [
    "BarGroupByTwo('day','rate_category',True)"
   ]
  },
  {
   "cell_type": "markdown",
   "metadata": {},
   "source": [
    "Количество статей публикуется волнообразно, видимо это связано с началом и концом недели. Так же в последнии дни месяца заметно снижение в количестве публикаций."
   ]
  },
  {
   "cell_type": "code",
   "execution_count": null,
   "metadata": {},
   "outputs": [],
   "source": [
    "BarGroupByTwo('hour','rate_category',False)"
   ]
  },
  {
   "cell_type": "code",
   "execution_count": null,
   "metadata": {},
   "outputs": [],
   "source": [
    "BarGroupByTwo('hour','rate_category',True)"
   ]
  },
  {
   "cell_type": "markdown",
   "metadata": {},
   "source": [
    "Пик публикаций утро и день. С 12-14 часов заметно больше ставят отрицательных оценок."
   ]
  },
  {
   "cell_type": "code",
   "execution_count": null,
   "metadata": {},
   "outputs": [],
   "source": [
    "df.columns"
   ]
  },
  {
   "cell_type": "code",
   "execution_count": null,
   "metadata": {},
   "outputs": [],
   "source": [
    "sns.heatmap(df[['rate', 'month', 'day', 'hour', 'weekday']].corr(method='pearson'));"
   ]
  },
  {
   "cell_type": "markdown",
   "metadata": {},
   "source": [
    "Сильной корреляции нет. Небольшая корреляция с рейтингом у дней недели, чисел и часов."
   ]
  },
  {
   "cell_type": "markdown",
   "metadata": {},
   "source": [
    "## Подготовка моделей"
   ]
  },
  {
   "cell_type": "markdown",
   "metadata": {},
   "source": [
    "### LinearRegression, Lasso, Ridge, LassoCV, RidgeCV"
   ]
  },
  {
   "cell_type": "code",
   "execution_count": null,
   "metadata": {},
   "outputs": [],
   "source": [
    "from sklearn.linear_model import LinearRegression\n",
    "from sklearn.linear_model import Lasso, Ridge, LassoCV, RidgeCV\n",
    "from sklearn.metrics import mean_squared_error, r2_score"
   ]
  },
  {
   "cell_type": "code",
   "execution_count": null,
   "metadata": {},
   "outputs": [],
   "source": [
    "linear_regression = LinearRegression()\n",
    "lasso = Lasso(random_state=1,alpha=1)\n",
    "ridge = Ridge(random_state=1, alpha=1)\n",
    "lasso_cv = LassoCV(random_state=1)\n",
    "ridge_cv = RidgeCV()"
   ]
  },
  {
   "cell_type": "code",
   "execution_count": null,
   "metadata": {},
   "outputs": [],
   "source": [
    "#models = [linear_regression,ridge,ridge_cv,lasso,lasso_cv]\n",
    "models = [linear_regression,ridge,lasso]"
   ]
  },
  {
   "cell_type": "code",
   "execution_count": null,
   "metadata": {},
   "outputs": [],
   "source": [
    "def metricsModel (y_train,y_train_pred,y_test,y_test_pred):\n",
    "    '''\n",
    "    расчет метрик\n",
    "    '''    \n",
    "    metrics = []\n",
    "    MSETrain = mean_squared_error(y_train, y_train_pred)\n",
    "    MSETest = mean_squared_error(y_test, y_test_pred)\n",
    "    metrics.append(MSETrain)\n",
    "    metrics.append(MSETest)\n",
    "    metrics.append(np.sqrt(MSETrain))\n",
    "    metrics.append(np.sqrt(MSETest))\n",
    "    metrics.append(r2_score(y_train, y_train_pred))\n",
    "    metrics.append(r2_score(y_test, y_test_pred))\n",
    "    return metrics"
   ]
  },
  {
   "cell_type": "code",
   "execution_count": null,
   "metadata": {},
   "outputs": [],
   "source": [
    "def predGroundTruth (predicted_train,predicted_test,y_train,y_test,row=20):\n",
    "    '''\n",
    "    сравнение предсказаных рейтингов с реальными на трейне и тесте\n",
    "    '''  \n",
    "    predictions_ground_truth_df = pd.DataFrame(list(zip(predicted_train,\\\n",
    "                                                        y_train,predicted_test, y_test)))\n",
    "    predictions_ground_truth_df.columns = ['PredictionRateTrain', 'RrealRateTrain',\\\n",
    "                                           'PredictionRateTest', 'RrealRateTest']\n",
    "    print(predictions_ground_truth_df.head(row))"
   ]
  },
  {
   "cell_type": "code",
   "execution_count": null,
   "metadata": {},
   "outputs": [],
   "source": [
    "def CreateTableInfoResult ():\n",
    "    '''\n",
    "    сюда буду сохранять результаты обучения моделей для анализа\n",
    "    '''\n",
    "    \n",
    "    modelResults_df=pd.DataFrame(columns=['Comment','Model','MSETrain','MSETest',\\\n",
    "          'sMSETrain','sMSETest','R2Train','R2Test','TrainShape','TestShape'])\n",
    "    return modelResults_df"
   ]
  },
  {
   "cell_type": "code",
   "execution_count": null,
   "metadata": {},
   "outputs": [],
   "source": [
    "modelResults_df = CreateTableInfoResult()"
   ]
  },
  {
   "cell_type": "code",
   "execution_count": null,
   "metadata": {},
   "outputs": [],
   "source": [
    "import math"
   ]
  },
  {
   "cell_type": "code",
   "execution_count": null,
   "metadata": {},
   "outputs": [],
   "source": [
    "rate_min = df['rate'].min()+1e-8\n",
    "def LogConvert(rlog,rmin):\n",
    "    '''\n",
    "    конвертация рейтинга обратно из нартурального логарифма\n",
    "    '''\n",
    "    try:\n",
    "        rate = math.exp(rlog) + rmin\n",
    "    except OverflowError:\n",
    "        rate = float('inf')    \n",
    "    return rate"
   ]
  },
  {
   "cell_type": "code",
   "execution_count": null,
   "metadata": {},
   "outputs": [],
   "source": [
    "def LogNdArrayConvert(ndarray):\n",
    "    ndarray_c = np.array([LogConvert(r,rate_min) for r in ndarray])\n",
    "    return ndarray_c"
   ]
  },
  {
   "cell_type": "code",
   "execution_count": null,
   "metadata": {},
   "outputs": [],
   "source": [
    "def ModelFitPredictAndMettrics(mr_df,comment,model,X_train,y_train,X_test,y_test\\\n",
    "                              ,groundtruth=False,metrics=True,logconvert=False,row=20):\n",
    "    '''\n",
    "    обучение модели\n",
    "    '''\n",
    "    print(model)    \n",
    "    model.fit(X_train, y_train)\n",
    "    predicted_train = model.predict(X_train)\n",
    "    predicted_test = model.predict(X_test)\n",
    "    mtxt = ''\n",
    "    \n",
    "    if (logconvert):\n",
    "        predicted_train = LogNdArrayConvert(predicted_train)\n",
    "        predicted_test = LogNdArrayConvert(predicted_test)\n",
    "        y_train = LogNdArrayConvert(y_train)\n",
    "        y_test = LogNdArrayConvert(y_test)\n",
    "    \n",
    "    if(groundtruth):\n",
    "         predGroundTruth(predicted_train,predicted_test,y_train,y_test,row)\n",
    "    \n",
    "    mm = metricsModel(y_train,predicted_train,y_test,predicted_test)\n",
    "    if(metrics):       \n",
    "           print('\\nMSE train:{:.3f}, test: {:.3f}'.format(mm[0],mm[1]))  \n",
    "           print('sqrt MSE train:{:.3f}, test: {:.3f}'.format(mm[2],mm[3]))\n",
    "           print('R^2 train: {:.3f}, test: {:.3f}'.format(mm[4],mm[5]))\n",
    "        \n",
    "    mr_df = mr_df.append({'Comment':comment,'Model':model,'MSETrain':mm[0],\\\n",
    "                         'MSETest':mm[1],'sMSETrain':mm[2],'sMSETest':mm[3],\\\n",
    "                         'R2Train':mm[4],'R2Test':mm[5],\\\n",
    "                         'TrainShape':X_train.shape,'TestShape':X_test.shape},\\\n",
    "                         ignore_index=True)\n",
    "    return mr_df"
   ]
  },
  {
   "cell_type": "markdown",
   "metadata": {},
   "source": [
    "### Векторизация текста"
   ]
  },
  {
   "cell_type": "markdown",
   "metadata": {},
   "source": [
    "Разбираюсь, что это такое и как работает на основе столбца tittle. \n",
    "Посмотрю на модели в лоб, данные как есть, а потом буду улучшать их и добавлять фичи."
   ]
  },
  {
   "cell_type": "code",
   "execution_count": null,
   "metadata": {},
   "outputs": [],
   "source": [
    "df.isnull().sum()"
   ]
  },
  {
   "cell_type": "markdown",
   "metadata": {},
   "source": [
    "Т.к. у нас есть временной параметр, и мы хотим прогнозировать будущее, то нужно разбирть выборку на части отсортированную по времени. Учимся на прошлом, прогнозируем будущее."
   ]
  },
  {
   "cell_type": "code",
   "execution_count": null,
   "metadata": {},
   "outputs": [],
   "source": [
    "def TrainTestSplitByDateTime (coef,df=df,y_col='rate'):\n",
    "    df.sort_values(by='date',ascending=True,inplace=True)\n",
    "    df.reset_index(drop=True,inplace=True);\n",
    "    \n",
    "    rate_cols = [col for col in df.columns if 'rate' in col]\n",
    "    X=df.drop(rate_cols,axis=1)\n",
    "    y=df[y_col]\n",
    "    train_part_size = int(coef * X.shape[0])\n",
    "    \n",
    "    X_train, X_test = X.iloc[:train_part_size, :],X.iloc[train_part_size:, :]\n",
    "    y_train, y_test = y.iloc[:train_part_size],y.iloc[train_part_size:]\n",
    "    \n",
    "    return X_train, X_test, y_train, y_test"
   ]
  },
  {
   "cell_type": "code",
   "execution_count": null,
   "metadata": {
    "scrolled": true
   },
   "outputs": [],
   "source": [
    "X_train, X_test, y_train, y_test = TrainTestSplitByDateTime (.8,df,'rate')"
   ]
  },
  {
   "cell_type": "code",
   "execution_count": null,
   "metadata": {},
   "outputs": [],
   "source": [
    "print('Shape train:{},test:{}'.format(X_train.shape,X_test.shape))"
   ]
  },
  {
   "cell_type": "markdown",
   "metadata": {},
   "source": [
    "### CountVectorizer"
   ]
  },
  {
   "cell_type": "markdown",
   "metadata": {},
   "source": [
    "Токенизация и векторизация текста"
   ]
  },
  {
   "cell_type": "code",
   "execution_count": null,
   "metadata": {},
   "outputs": [],
   "source": [
    "from sklearn.feature_extraction.text import CountVectorizer"
   ]
  },
  {
   "cell_type": "code",
   "execution_count": null,
   "metadata": {},
   "outputs": [],
   "source": [
    "columnOne = 'text'"
   ]
  },
  {
   "cell_type": "code",
   "execution_count": null,
   "metadata": {},
   "outputs": [],
   "source": [
    "X_train_curr = X_train[columnOne]\n",
    "X_test_curr = X_test[columnOne]"
   ]
  },
  {
   "cell_type": "code",
   "execution_count": null,
   "metadata": {},
   "outputs": [],
   "source": [
    "count_vect = CountVectorizer(max_df=1.0, min_df=1,ngram_range=(1, 1)) #токенезированный мешок слов"
   ]
  },
  {
   "cell_type": "code",
   "execution_count": null,
   "metadata": {},
   "outputs": [],
   "source": [
    "X_cvect_train = count_vect.fit_transform(X_train_curr) \n",
    "X_cvect_test = count_vect.transform(X_test_curr)"
   ]
  },
  {
   "cell_type": "code",
   "execution_count": null,
   "metadata": {},
   "outputs": [],
   "source": [
    "#обучаемся на мешке слов и кодируем текст в вектора\n",
    "X_cvect_train.shape"
   ]
  },
  {
   "cell_type": "code",
   "execution_count": null,
   "metadata": {},
   "outputs": [],
   "source": [
    "X_cvect_test.shape"
   ]
  },
  {
   "cell_type": "markdown",
   "metadata": {},
   "source": [
    "Очень длинный вектор, много слов! Нужно чистить."
   ]
  },
  {
   "cell_type": "code",
   "execution_count": null,
   "metadata": {
    "scrolled": true
   },
   "outputs": [],
   "source": [
    "print(count_vect.get_feature_names()) #Мешок слов"
   ]
  },
  {
   "cell_type": "code",
   "execution_count": null,
   "metadata": {},
   "outputs": [],
   "source": [
    "# словарь с идентификаторами расположения слов в словаре\n",
    "print(count_vect.vocabulary_)"
   ]
  },
  {
   "cell_type": "code",
   "execution_count": null,
   "metadata": {},
   "outputs": [],
   "source": [
    "#закодированный (векторизированный) текст (матрица). Количество вхождений слова в словарь\n",
    "#X_cvect_train.toarray() "
   ]
  },
  {
   "cell_type": "code",
   "execution_count": null,
   "metadata": {},
   "outputs": [],
   "source": [
    "# количественное вхождение каждого слова:\n",
    "matrix_freq = np.asarray(X_cvect_train.sum(axis=0)).ravel()\n",
    "final_matrix = np.array([np.array(count_vect.get_feature_names()), matrix_freq])"
   ]
  },
  {
   "cell_type": "code",
   "execution_count": null,
   "metadata": {},
   "outputs": [],
   "source": [
    "final_matrix"
   ]
  },
  {
   "cell_type": "markdown",
   "metadata": {},
   "source": [
    "Цифры и китайские символы, нужно избавляться от них."
   ]
  },
  {
   "cell_type": "markdown",
   "metadata": {},
   "source": [
    "### TfidfTransformer"
   ]
  },
  {
   "cell_type": "markdown",
   "metadata": {},
   "source": [
    "Векторизация с вычисление частот слов (Term Frequency - Inverse Document Frequency)"
   ]
  },
  {
   "cell_type": "code",
   "execution_count": null,
   "metadata": {},
   "outputs": [],
   "source": [
    "from sklearn.feature_extraction.text import TfidfTransformer"
   ]
  },
  {
   "cell_type": "code",
   "execution_count": null,
   "metadata": {},
   "outputs": [],
   "source": [
    "tfidf_transformer = TfidfTransformer()"
   ]
  },
  {
   "cell_type": "code",
   "execution_count": null,
   "metadata": {},
   "outputs": [],
   "source": [
    "X_tfidf_train = tfidf_transformer.fit_transform(X_cvect_train)\n",
    "X_tfidf_test = tfidf_transformer.fit_transform(X_cvect_test)"
   ]
  },
  {
   "cell_type": "code",
   "execution_count": null,
   "metadata": {},
   "outputs": [],
   "source": [
    "X_tfidf_train.shape"
   ]
  },
  {
   "cell_type": "code",
   "execution_count": null,
   "metadata": {},
   "outputs": [],
   "source": [
    "X_tfidf_test.shape"
   ]
  },
  {
   "cell_type": "code",
   "execution_count": null,
   "metadata": {
    "scrolled": true
   },
   "outputs": [],
   "source": [
    "#Tfidf матрица векторов с весами\n",
    "#X_tfidf_train.toarray()"
   ]
  },
  {
   "cell_type": "code",
   "execution_count": null,
   "metadata": {},
   "outputs": [],
   "source": [
    "tfidf_transformer.idf_"
   ]
  },
  {
   "cell_type": "code",
   "execution_count": null,
   "metadata": {},
   "outputs": [],
   "source": [
    "#топ весов слов\n",
    "rr = dict(zip(count_vect.get_feature_names(), tfidf_transformer.idf_))"
   ]
  },
  {
   "cell_type": "code",
   "execution_count": null,
   "metadata": {
    "scrolled": false
   },
   "outputs": [],
   "source": [
    "token_weight = pd.DataFrame.from_dict(rr, orient='index').reset_index()\n",
    "token_weight.columns=('token','weight')\n",
    "token_weight = token_weight.sort_values(by='weight', ascending=False)\n",
    "token_weight.head(10)"
   ]
  },
  {
   "cell_type": "code",
   "execution_count": null,
   "metadata": {},
   "outputs": [],
   "source": [
    "token_weight.tail(10)"
   ]
  },
  {
   "cell_type": "markdown",
   "metadata": {},
   "source": [
    "Низкий вес у часто встречающихся слов, как раз тут видно, что это предлоги и частицы, от них тоже нужно избавиться в словаре."
   ]
  },
  {
   "cell_type": "code",
   "execution_count": null,
   "metadata": {},
   "outputs": [],
   "source": [
    "#np.isnan(X_tfidf_train.toarray().any())"
   ]
  },
  {
   "cell_type": "markdown",
   "metadata": {},
   "source": [
    "### HashingVectorizer"
   ]
  },
  {
   "cell_type": "markdown",
   "metadata": {},
   "source": [
    "Односторонний хэш слов для преобразования их в целые числа"
   ]
  },
  {
   "cell_type": "code",
   "execution_count": null,
   "metadata": {},
   "outputs": [],
   "source": [
    "from sklearn.feature_extraction.text import HashingVectorizer"
   ]
  },
  {
   "cell_type": "code",
   "execution_count": null,
   "metadata": {},
   "outputs": [],
   "source": [
    "hash_vect = HashingVectorizer(n_features=1000)"
   ]
  },
  {
   "cell_type": "code",
   "execution_count": null,
   "metadata": {},
   "outputs": [],
   "source": [
    "X_hashvect_train = hash_vect.fit_transform(X_train_curr)\n",
    "X_hashvect_test = hash_vect.transform(X_test_curr)"
   ]
  },
  {
   "cell_type": "code",
   "execution_count": null,
   "metadata": {
    "scrolled": true
   },
   "outputs": [],
   "source": [
    "# summarize encoded vector\n",
    "print(X_hashvect_train.shape)\n",
    "print(X_hashvect_train.toarray())"
   ]
  },
  {
   "cell_type": "code",
   "execution_count": null,
   "metadata": {
    "scrolled": false
   },
   "outputs": [],
   "source": [
    "print(X_hashvect_test.shape)\n",
    "print(X_hashvect_test.toarray())"
   ]
  },
  {
   "cell_type": "markdown",
   "metadata": {},
   "source": [
    "---------------------------------------"
   ]
  },
  {
   "cell_type": "markdown",
   "metadata": {},
   "source": [
    "При большом количестве данных словарь получается очень большой, очень много мусорных слов. При больших выборках (>40000) результирующая матрица на столько большая, что не хватает памяти. Необходимо обработать текст."
   ]
  },
  {
   "cell_type": "markdown",
   "metadata": {},
   "source": [
    "Выполню простую нормализация текста"
   ]
  },
  {
   "cell_type": "code",
   "execution_count": null,
   "metadata": {},
   "outputs": [],
   "source": [
    "import pymorphy2"
   ]
  },
  {
   "cell_type": "code",
   "execution_count": null,
   "metadata": {},
   "outputs": [],
   "source": [
    "def f_tokenizer(s):\n",
    "    morph = pymorphy2.MorphAnalyzer()    \n",
    "    if type(s) == str:\n",
    "        t = s.split(' ')\n",
    "    else:\n",
    "        t = s\n",
    "    f = []\n",
    "    for j in t:\n",
    "        m = morph.parse(j.replace('.',''))\n",
    "        if len(m) != 0:\n",
    "            wrd = m[0]\n",
    "            if wrd.tag.POS not in ('NUMR','PREP','CONJ','PRCL','INTJ'):\n",
    "                f.append(wrd.normal_form)\n",
    "    return ' '.join(f)"
   ]
  },
  {
   "cell_type": "markdown",
   "metadata": {},
   "source": [
    "<font color='green'>#new_feature</font>"
   ]
  },
  {
   "cell_type": "code",
   "execution_count": null,
   "metadata": {},
   "outputs": [],
   "source": [
    "def AddNewFeature_norm():\n",
    "    df[columnOne+'_norm']=df[columnOne].apply(lambda t: f_tokenizer(t))"
   ]
  },
  {
   "cell_type": "code",
   "execution_count": null,
   "metadata": {
    "scrolled": true
   },
   "outputs": [],
   "source": [
    "AddNewFeature_norm()"
   ]
  },
  {
   "cell_type": "code",
   "execution_count": null,
   "metadata": {
    "scrolled": true
   },
   "outputs": [],
   "source": [
    "df[[columnOne,columnOne+'_norm']].head(2)"
   ]
  },
  {
   "cell_type": "markdown",
   "metadata": {},
   "source": [
    "Выделю слова на кирилице и латинице а так же сайты в отдельные словари"
   ]
  },
  {
   "cell_type": "markdown",
   "metadata": {},
   "source": [
    "Создам еще несколько фичей на основе текста"
   ]
  },
  {
   "cell_type": "markdown",
   "metadata": {},
   "source": [
    "<font color='green'>#new_feature</font>"
   ]
  },
  {
   "cell_type": "code",
   "execution_count": null,
   "metadata": {},
   "outputs": [],
   "source": [
    "def GetSites (txt):  \n",
    "    sites = re.findall(r'[\\w]+\\.{1,1}[^\\.\\d^\\s]\\w{1,3}\\b',str(txt)) #сайты\n",
    "    return (' '.join(sites)).replace('.','_'),len(sites)"
   ]
  },
  {
   "cell_type": "code",
   "execution_count": null,
   "metadata": {},
   "outputs": [],
   "source": [
    "def GetEnWords (txt):  \n",
    "    en_words = re.findall(r'\\b[a-z]{3,}\\b',re.sub(r'[a-z]{2,}\\.+[a-z]*\\b','',str(txt))) #слова на латинице от 3х букв    \n",
    "    return ' '.join(en_words),len(en_words)"
   ]
  },
  {
   "cell_type": "code",
   "execution_count": null,
   "metadata": {},
   "outputs": [],
   "source": [
    "def GetRuWords (txt):  \n",
    "    ru_words = re.findall(r'\\b[а-я]{4,}\\b',re.sub(r'[а-я]{2,}\\.+[а-я]*\\b','',str(txt))) #слова на кириллице от 4х букв\n",
    "    return ' '.join(ru_words),len(ru_words)"
   ]
  },
  {
   "cell_type": "code",
   "execution_count": null,
   "metadata": {},
   "outputs": [],
   "source": [
    "def GetPunctuationsCount (txt):  \n",
    "    punctuations  = re.findall(r'[^\\w\\s]',txt) #Знаки препинания\n",
    "    return len(punctuations)"
   ]
  },
  {
   "cell_type": "code",
   "execution_count": null,
   "metadata": {},
   "outputs": [],
   "source": [
    "def GetEmotionsCount (txt):  \n",
    "    emotions  = re.findall(r'[\\?]{2,}|[\\!]{2,}',txt) #Знаки ??? , !!!\n",
    "    return len(emotions)"
   ]
  },
  {
   "cell_type": "code",
   "execution_count": null,
   "metadata": {},
   "outputs": [],
   "source": [
    "def AddNewFeature_split_txt(column):\n",
    "    for index, row in df.iterrows():\n",
    "        df.loc[index, 'sites_'+column],df.loc[index, 'sites_'+column+'_count'] = GetSites(row[column])\n",
    "        df.loc[index, 'ru_words_'+column],df.loc[index, 'ru_words_'+column+'_count'] = GetRuWords(row[column+'_norm'])\n",
    "        df.loc[index, 'en_words_'+column],df.loc[index, 'en_words_'+column+'_count'] = GetEnWords(row[column])\n",
    "        df.loc[index, 'punctuations_'+column+'_count'] = GetPunctuationsCount(row[column])\n",
    "        df.loc[index, 'emotions_'+column+'_count'] = GetEmotionsCount(row[column])"
   ]
  },
  {
   "cell_type": "code",
   "execution_count": null,
   "metadata": {
    "scrolled": true
   },
   "outputs": [],
   "source": [
    "AddNewFeature_split_txt(columnOne)"
   ]
  },
  {
   "cell_type": "markdown",
   "metadata": {},
   "source": [
    "<font color='green'>#new_feature</font>"
   ]
  },
  {
   "cell_type": "markdown",
   "metadata": {},
   "source": [
    "Заменю буквенные категории на числовые"
   ]
  },
  {
   "cell_type": "code",
   "execution_count": null,
   "metadata": {},
   "outputs": [],
   "source": [
    "def AddNewFeature_text_category_int():\n",
    "    df['text_category_int'] = df['text_category'].map({'z':0,'s':1,'m':2,'l':3,'xl':4})"
   ]
  },
  {
   "cell_type": "code",
   "execution_count": null,
   "metadata": {
    "scrolled": true
   },
   "outputs": [],
   "source": [
    "AddNewFeature_text_category_int()"
   ]
  },
  {
   "cell_type": "markdown",
   "metadata": {},
   "source": [
    "Посмотрим на графики:"
   ]
  },
  {
   "cell_type": "code",
   "execution_count": null,
   "metadata": {
    "scrolled": false
   },
   "outputs": [],
   "source": [
    "sns.heatmap(df[['rate', 'sites_text_count', 'ru_words_text_count', 'en_words_text_count',\\\n",
    "                'punctuations_text_count','emotions_text_count','text_category_int',\\\n",
    "               'tittle_words_count','text_words_count']].corr(method='pearson'));"
   ]
  },
  {
   "cell_type": "markdown",
   "metadata": {},
   "source": [
    "Какой то сильной корреляции фич с рейтингом нет. Некоторые фичи хорошо коррелируют между собой, это и понятно."
   ]
  },
  {
   "cell_type": "markdown",
   "metadata": {},
   "source": [
    "Возьму натуральные логарифмы от всех числовых признаков, кроме категориальных:"
   ]
  },
  {
   "cell_type": "code",
   "execution_count": null,
   "metadata": {},
   "outputs": [],
   "source": [
    "df['rate_log'] = np.log(df['rate'] - df['rate'].min()+1e-8)"
   ]
  },
  {
   "cell_type": "code",
   "execution_count": null,
   "metadata": {},
   "outputs": [],
   "source": [
    "df['rate_cube_r'] = df['rate'].apply(lambda r: int(r)**(1/3))"
   ]
  },
  {
   "cell_type": "code",
   "execution_count": null,
   "metadata": {},
   "outputs": [],
   "source": [
    "df['text_words_count_log'] = np.log(df['text_words_count'])\n",
    "df['tittle_words_count_log'] = np.log(df['tittle_words_count'])"
   ]
  },
  {
   "cell_type": "code",
   "execution_count": null,
   "metadata": {},
   "outputs": [],
   "source": [
    "df['sites_text_count_log'] = np.log(df['sites_text_count'])\n",
    "df['ru_words_text_count_log'] = np.log(df['ru_words_text_count'])\n",
    "df['en_words_text_count_log'] = np.log(df['en_words_text_count'])\n",
    "df['punctuations_text_count_log'] = np.log(df['punctuations_text_count'])\n",
    "df['emotions_text_count_log'] = np.log(df['emotions_text_count'])"
   ]
  },
  {
   "cell_type": "markdown",
   "metadata": {},
   "source": [
    "#### Сформирую новые словари и новые матрицы векторов"
   ]
  },
  {
   "cell_type": "markdown",
   "metadata": {},
   "source": [
    "Формирую 3 словаря - ru,eng,sites, так же в этом случае уйдут все цифры, даты и прочие малоинформативные артифакты"
   ]
  },
  {
   "cell_type": "markdown",
   "metadata": {},
   "source": [
    "Так же уберу слова, которые очень редко и очень часто встречаются"
   ]
  },
  {
   "cell_type": "code",
   "execution_count": null,
   "metadata": {},
   "outputs": [],
   "source": [
    "n_features=1000 #n_features для HashingVectorizer\n",
    "cv_max_df=0.99 #Параметры для CountVectorizer default 1.0\n",
    "cv_min_df=0.005 #Параметры для CountVectorizer default 1\n",
    "cv_ngram_range=(1, 1) #Параметры для CountVectorizer"
   ]
  },
  {
   "cell_type": "code",
   "execution_count": null,
   "metadata": {},
   "outputs": [],
   "source": [
    "import datetime"
   ]
  },
  {
   "cell_type": "markdown",
   "metadata": {},
   "source": [
    "Имя файла для сохранения таблицы с метриками в csv:"
   ]
  },
  {
   "cell_type": "code",
   "execution_count": null,
   "metadata": {},
   "outputs": [],
   "source": [
    "fileNameFromExport = 'ex_habr_'+str(rowCountFromCSV)+'_'+str(n_features)+'_'+\\\n",
    "                      str(cv_max_df)+'_'+str(cv_min_df)+'_'+\\\n",
    "                      str(cv_ngram_range)+'_'+f\"{datetime.datetime.now():%Y-%m-%d %H-%M-%S}\"+'.csv'"
   ]
  },
  {
   "cell_type": "code",
   "execution_count": null,
   "metadata": {},
   "outputs": [],
   "source": [
    "count_vect = CountVectorizer(max_df=cv_max_df, min_df=cv_min_df,\\\n",
    "                             ngram_range=cv_ngram_range)\n",
    "tfidf_transformer = TfidfTransformer()\n",
    "hash_vect = HashingVectorizer(n_features=n_features)"
   ]
  },
  {
   "cell_type": "code",
   "execution_count": null,
   "metadata": {},
   "outputs": [],
   "source": [
    "X_train, X_test, y_train, y_test = TrainTestSplitByDateTime (.8,df,'rate')\n",
    "X_train, X_test, y_train_l, y_test_l = TrainTestSplitByDateTime (.8,df,'rate_log')"
   ]
  },
  {
   "cell_type": "code",
   "execution_count": null,
   "metadata": {},
   "outputs": [],
   "source": [
    "ys = [[y_train,y_test,False],[y_train_l,y_test_l,True]]"
   ]
  },
  {
   "cell_type": "code",
   "execution_count": null,
   "metadata": {},
   "outputs": [],
   "source": [
    "print('Shape train:{},test:{}'.format(X_train.shape,X_test.shape))"
   ]
  },
  {
   "cell_type": "code",
   "execution_count": null,
   "metadata": {
    "scrolled": false
   },
   "outputs": [],
   "source": [
    "X_train_curr = X_train['ru_words_'+columnOne]\n",
    "X_test_curr = X_test['ru_words_'+columnOne]"
   ]
  },
  {
   "cell_type": "code",
   "execution_count": null,
   "metadata": {},
   "outputs": [],
   "source": [
    "X_cvect_ru_words_train = count_vect.fit_transform(X_train_curr) \n",
    "X_tfidf_ru_words_train = tfidf_transformer.fit_transform(X_cvect_ru_words_train)\n",
    "X_cvect_ru_words_test = count_vect.transform(X_test_curr) \n",
    "X_tfidf_ru_words_test = tfidf_transformer.transform(X_cvect_ru_words_test)\n",
    "X_hashvect_ru_words_train = hash_vect.fit_transform(X_train_curr)\n",
    "X_hashvect_ru_words_test = hash_vect.transform(X_test_curr)\n",
    "\n",
    "rr_ru = dict(zip(count_vect.get_feature_names(), tfidf_transformer.idf_))"
   ]
  },
  {
   "cell_type": "code",
   "execution_count": null,
   "metadata": {},
   "outputs": [],
   "source": [
    "print(X_cvect_ru_words_train.shape,X_tfidf_ru_words_train.shape,X_hashvect_ru_words_train.shape)"
   ]
  },
  {
   "cell_type": "code",
   "execution_count": null,
   "metadata": {},
   "outputs": [],
   "source": [
    "X_train_curr = X_train['en_words_'+columnOne]\n",
    "X_test_curr = X_test['en_words_'+columnOne]"
   ]
  },
  {
   "cell_type": "code",
   "execution_count": null,
   "metadata": {},
   "outputs": [],
   "source": [
    "X_cvect_en_words_train = count_vect.fit_transform(X_train_curr) \n",
    "X_tfidf_en_words_train = tfidf_transformer.fit_transform(X_cvect_en_words_train)\n",
    "X_cvect_en_words_test = count_vect.transform(X_test_curr) \n",
    "X_tfidf_en_words_test = tfidf_transformer.transform(X_cvect_en_words_test)\n",
    "X_hashvect_en_words_train = hash_vect.fit_transform(X_train_curr)\n",
    "X_hashvect_en_words_test = hash_vect.transform(X_test_curr)\n",
    "\n",
    "rr_en = dict(zip(count_vect.get_feature_names(), tfidf_transformer.idf_))"
   ]
  },
  {
   "cell_type": "code",
   "execution_count": null,
   "metadata": {},
   "outputs": [],
   "source": [
    "#Посмотрим на топ веса 2х словарей\n",
    "def token_weight_df (dic, prefix):    \n",
    "    token_weight = pd.DataFrame.from_dict(dic, orient='index').reset_index()\n",
    "    token_weight.columns=(prefix,'weight_'+prefix)\n",
    "    token_weight = token_weight.sort_values(by='weight_'+prefix, ascending=False)\n",
    "    return token_weight\n",
    "\n",
    "rr_2_voc = pd.concat([token_weight_df(rr_ru,'ru').reset_index(drop=True),\\\n",
    "                      token_weight_df(rr_en,'en').reset_index(drop=True),\\\n",
    "                     ],axis=1)"
   ]
  },
  {
   "cell_type": "code",
   "execution_count": null,
   "metadata": {},
   "outputs": [],
   "source": [
    "rr_2_voc.head(10)"
   ]
  },
  {
   "cell_type": "code",
   "execution_count": null,
   "metadata": {
    "scrolled": true
   },
   "outputs": [],
   "source": [
    "rr_2_voc.tail(10)"
   ]
  },
  {
   "cell_type": "markdown",
   "metadata": {},
   "source": [
    "Сайты возьму с другими параметрами"
   ]
  },
  {
   "cell_type": "code",
   "execution_count": null,
   "metadata": {},
   "outputs": [],
   "source": [
    "cv_max_df=1.0 #Параметры для CountVectorizer default 1.0\n",
    "cv_min_df=2 #Параметры для CountVectorizer default 1\n",
    "cv_ngram_range=(1, 1) #Параметры для CountVectorizer"
   ]
  },
  {
   "cell_type": "code",
   "execution_count": null,
   "metadata": {},
   "outputs": [],
   "source": [
    "count_vect = CountVectorizer(max_df=cv_max_df, min_df=cv_min_df,\\\n",
    "                             ngram_range=cv_ngram_range)"
   ]
  },
  {
   "cell_type": "code",
   "execution_count": null,
   "metadata": {},
   "outputs": [],
   "source": [
    "X_train_curr = X_train['sites_'+columnOne]\n",
    "X_test_curr = X_test['sites_'+columnOne]"
   ]
  },
  {
   "cell_type": "code",
   "execution_count": null,
   "metadata": {},
   "outputs": [],
   "source": [
    "X_cvect_sites_train = count_vect.fit_transform(X_train_curr) \n",
    "X_tfidf_sites_train = tfidf_transformer.fit_transform(X_cvect_sites_train)\n",
    "X_cvect_sites_test = count_vect.transform(X_test_curr) \n",
    "X_tfidf_sites_test = tfidf_transformer.transform(X_cvect_sites_test)\n",
    "X_hashvect_sites_train = hash_vect.fit_transform(X_train_curr)\n",
    "X_hashvect_sites_test = hash_vect.transform(X_test_curr)\n",
    "\n",
    "rr_sites = dict(zip(count_vect.get_feature_names(), tfidf_transformer.idf_))"
   ]
  },
  {
   "cell_type": "code",
   "execution_count": null,
   "metadata": {},
   "outputs": [],
   "source": [
    "print(X_cvect_sites_train.shape,X_tfidf_sites_train.shape,X_hashvect_sites_train.shape)"
   ]
  },
  {
   "cell_type": "code",
   "execution_count": null,
   "metadata": {
    "scrolled": true
   },
   "outputs": [],
   "source": [
    "#Посмотрим на топ веса\n",
    "rr_1_voc = token_weight_df(rr_sites,'sites').reset_index(drop=True)"
   ]
  },
  {
   "cell_type": "code",
   "execution_count": null,
   "metadata": {},
   "outputs": [],
   "source": [
    "rr_1_voc.head(10)"
   ]
  },
  {
   "cell_type": "code",
   "execution_count": null,
   "metadata": {},
   "outputs": [],
   "source": [
    "rr_1_voc.tail(10)"
   ]
  },
  {
   "cell_type": "markdown",
   "metadata": {},
   "source": [
    "Сформирую общую матрицу по 3м словарям"
   ]
  },
  {
   "cell_type": "code",
   "execution_count": null,
   "metadata": {},
   "outputs": [],
   "source": [
    "from scipy.sparse import hstack"
   ]
  },
  {
   "cell_type": "code",
   "execution_count": null,
   "metadata": {
    "scrolled": true
   },
   "outputs": [],
   "source": [
    "X_cvect_3voc_train = hstack((X_cvect_sites_train, X_cvect_ru_words_train,\\\n",
    "                              X_cvect_en_words_train))"
   ]
  },
  {
   "cell_type": "code",
   "execution_count": null,
   "metadata": {},
   "outputs": [],
   "source": [
    "X_cvect_3voc_test = hstack((X_cvect_sites_test, X_cvect_ru_words_test,\\\n",
    "                              X_cvect_en_words_test))"
   ]
  },
  {
   "cell_type": "code",
   "execution_count": null,
   "metadata": {},
   "outputs": [],
   "source": [
    "X_tfidf_3voc_train = hstack((X_tfidf_sites_train, X_tfidf_ru_words_train,\\\n",
    "                              X_tfidf_en_words_train))"
   ]
  },
  {
   "cell_type": "code",
   "execution_count": null,
   "metadata": {},
   "outputs": [],
   "source": [
    "X_tfidf_3voc_test = hstack((X_tfidf_sites_test, X_tfidf_ru_words_test,\\\n",
    "                              X_tfidf_en_words_test))"
   ]
  },
  {
   "cell_type": "code",
   "execution_count": null,
   "metadata": {},
   "outputs": [],
   "source": [
    "X_hashvect_3voc_train = hstack((X_hashvect_sites_train, X_hashvect_ru_words_train,\\\n",
    "                              X_hashvect_en_words_train))"
   ]
  },
  {
   "cell_type": "code",
   "execution_count": null,
   "metadata": {},
   "outputs": [],
   "source": [
    "X_hashvect_3voc_test = hstack((X_hashvect_sites_test, X_hashvect_ru_words_test,\\\n",
    "                              X_hashvect_en_words_test))"
   ]
  },
  {
   "cell_type": "code",
   "execution_count": null,
   "metadata": {},
   "outputs": [],
   "source": [
    "print(X_cvect_3voc_train.shape)\n",
    "print(X_cvect_3voc_test.shape)\n",
    "print(X_tfidf_3voc_train.shape)\n",
    "print(X_tfidf_3voc_test.shape)\n",
    "print(X_hashvect_3voc_train.shape)\n",
    "print(X_hashvect_3voc_test.shape)"
   ]
  },
  {
   "cell_type": "markdown",
   "metadata": {},
   "source": [
    "Возьму для обучения 5000 строк"
   ]
  },
  {
   "cell_type": "code",
   "execution_count": null,
   "metadata": {},
   "outputs": [],
   "source": [
    "c_row = 5000\n",
    "X_cvect_3voc_train = X_cvect_3voc_train.tocsr()[:c_row].todense()\n",
    "X_tfidf_3voc_train = X_tfidf_3voc_train.tocsr()[:c_row].todense()\n",
    "X_hashvect_3voc_train = X_hashvect_3voc_train.tocsr()[:c_row].todense()"
   ]
  },
  {
   "cell_type": "code",
   "execution_count": null,
   "metadata": {
    "scrolled": true
   },
   "outputs": [],
   "source": [
    "X_cvect_ru_words_train = X_cvect_ru_words_train.tocsr()[:c_row].todense()\n",
    "X_tfidf_ru_words_train = X_tfidf_ru_words_train.tocsr()[:c_row].todense()\n",
    "X_hashvect_ru_words_train = X_hashvect_ru_words_train.tocsr()[:c_row].todense()"
   ]
  },
  {
   "cell_type": "code",
   "execution_count": null,
   "metadata": {},
   "outputs": [],
   "source": [
    "y_train = y_train[0:c_row]\n",
    "y_train_l = y_train_l[0:c_row]\n",
    "ys = [[y_train,y_test,False],[y_train_l,y_test_l,True]]"
   ]
  },
  {
   "cell_type": "markdown",
   "metadata": {},
   "source": [
    "Обучение только на основе столбца 'text'"
   ]
  },
  {
   "cell_type": "code",
   "execution_count": null,
   "metadata": {},
   "outputs": [],
   "source": [
    "def ModelFit_cvect_ru_words_n(m,modelResults_df,X_cvect_ru_words_train,y_train,X_cvect_ru_words_test,y_test,ratelog=False):\n",
    "    comment=columnOne+ ' + Очистка + Нормализация + только ru_words cvect + rate_log:'+str(ratelog)\n",
    "    modelResults_df = ModelFitPredictAndMettrics(modelResults_df,comment,m,\\\n",
    "                      X_cvect_ru_words_train,y_train,X_cvect_ru_words_test,y_test,False,False,ratelog)\n",
    "    return modelResults_df"
   ]
  },
  {
   "cell_type": "code",
   "execution_count": null,
   "metadata": {},
   "outputs": [],
   "source": [
    "def ModelFit_tfidf_ru_words_n(m,modelResults_df,X_tfidf_ru_words_train,y_train,X_tfidf_ru_words_test,y_test,ratelog=False):\n",
    "    comment=columnOne+ ' + Очистка + Нормализация + только ru_words tfidf + rate_log:'+str(ratelog)\n",
    "    modelResults_df = ModelFitPredictAndMettrics(modelResults_df,comment,m,\\\n",
    "                      X_tfidf_ru_words_train,y_train,X_tfidf_ru_words_test,y_test,False,False,ratelog)\n",
    "    return modelResults_df"
   ]
  },
  {
   "cell_type": "code",
   "execution_count": null,
   "metadata": {},
   "outputs": [],
   "source": [
    "def ModelFit_hashvect_ru_words_n(m,modelResults_df,X_hashvect_ru_words_train,y_train,X_hashvect_ru_words_test,y_test,ratelog=False):\n",
    "    comment=columnOne+ ' + Очистка + Нормализация + только ru_words hashvect + rate_log:'+str(ratelog)\n",
    "    modelResults_df = ModelFitPredictAndMettrics(modelResults_df,comment,m,\\\n",
    "                      X_hashvect_ru_words_train,y_train,X_hashvect_ru_words_test,y_test,False,False,ratelog)\n",
    "    return modelResults_df"
   ]
  },
  {
   "cell_type": "code",
   "execution_count": null,
   "metadata": {},
   "outputs": [],
   "source": [
    "def ModelFit_cvect_3voc(m,modelResults_df,X_cvect_3voc_train,y_train,X_cvect_3voc_test,y_test,ratelog=False):\n",
    "    comment=columnOne+ ' + Очистка + Нормализация + разбиение на 3 словаря cvect + rate_log:'+str(ratelog)\n",
    "    modelResults_df = ModelFitPredictAndMettrics(modelResults_df,comment,m,\\\n",
    "                      X_cvect_3voc_train,y_train,X_cvect_3voc_test,y_test,False,False,ratelog)\n",
    "    return modelResults_df"
   ]
  },
  {
   "cell_type": "code",
   "execution_count": null,
   "metadata": {},
   "outputs": [],
   "source": [
    "def ModelFit_tfidf_3voc(m,modelResults_df,X_tfidf_3voc_train,y_train,X_tfidf_3voc_test,y_test,ratelog=False):\n",
    "    comment=columnOne+ ' + Очистка + Нормализация + разбиение на 3 словаря tfidf + rate_log:'+str(ratelog)\n",
    "    modelResults_df = ModelFitPredictAndMettrics(modelResults_df,comment,m,\\\n",
    "                      X_tfidf_3voc_train,y_train,X_tfidf_3voc_test,y_test,False,False,ratelog)\n",
    "    return modelResults_df"
   ]
  },
  {
   "cell_type": "code",
   "execution_count": null,
   "metadata": {},
   "outputs": [],
   "source": [
    "def ModelFit_hashvect_3voc(m,modelResults_df,X_hashvect_3voc_train,y_train,X_hashvecte_3voc_test,y_test,ratelog=False):\n",
    "    comment=columnOne+ ' + Очистка + Нормализация + разбиение на 3 словаря hashvect + rate_log:'+str(ratelog)\n",
    "    modelResults_df = ModelFitPredictAndMettrics(modelResults_df,comment,m,\\\n",
    "                      X_hashvect_3voc_train,y_train,X_hashvect_3voc_test,y_test,False,False,ratelog)\n",
    "    return modelResults_df"
   ]
  },
  {
   "cell_type": "code",
   "execution_count": null,
   "metadata": {},
   "outputs": [],
   "source": [
    "for y  in ys:\n",
    "    y_train=y[0]\n",
    "    y_test=y[1]\n",
    "    ratelogFlag=y[2]\n",
    "    for m in models:\n",
    "        modelResults_df = ModelFit_cvect_ru_words_n(m,modelResults_df,X_cvect_ru_words_train,y_train,X_cvect_ru_words_test,y_test,ratelogFlag)\n",
    "        modelResults_df = ModelFit_tfidf_ru_words_n(m,modelResults_df,X_tfidf_ru_words_train,y_train,X_tfidf_ru_words_test,y_test,ratelogFlag)\n",
    "        modelResults_df = ModelFit_hashvect_ru_words_n(m,modelResults_df,X_hashvect_ru_words_train,y_train,X_hashvect_ru_words_test,y_test,ratelogFlag)\n",
    "        modelResults_df = ModelFit_cvect_3voc(m,modelResults_df,X_cvect_3voc_train,y_train,X_cvect_3voc_test,y_test,ratelogFlag)\n",
    "        modelResults_df = ModelFit_tfidf_3voc(m,modelResults_df,X_tfidf_3voc_train,y_train,X_tfidf_3voc_test,y_test,ratelogFlag)\n",
    "        modelResults_df = ModelFit_hashvect_3voc(m,modelResults_df,X_hashvect_3voc_train,y_train,X_hashvect_3voc_test,y_test,ratelogFlag)"
   ]
  },
  {
   "cell_type": "markdown",
   "metadata": {},
   "source": [
    "Обучение только на основе доп. фич"
   ]
  },
  {
   "cell_type": "code",
   "execution_count": null,
   "metadata": {},
   "outputs": [],
   "source": [
    "X_train, X_test, y_train, y_test = TrainTestSplitByDateTime (.8,df,'rate')\n",
    "X_train, X_test, y_train_l, y_test_l = TrainTestSplitByDateTime (.8,df,'rate_log')"
   ]
  },
  {
   "cell_type": "code",
   "execution_count": null,
   "metadata": {},
   "outputs": [],
   "source": [
    "ys = [[y_train,y_test,False],[y_train_l,y_test_l,True]]"
   ]
  },
  {
   "cell_type": "code",
   "execution_count": null,
   "metadata": {},
   "outputs": [],
   "source": [
    "columnsAddFeatures = ['tittle_words_count', 'text_words_count',\\\n",
    "                    'text_category_int','sites_'+columnOne+'_count', \\\n",
    "            'ru_words_'+columnOne+'_count', 'en_words_'+columnOne+'_count',\\\n",
    "            'punctuations_'+columnOne+'_count','emotions_'+columnOne+'_count']"
   ]
  },
  {
   "cell_type": "code",
   "execution_count": null,
   "metadata": {},
   "outputs": [],
   "source": [
    "X_train_choice_col = X_train[columnsAddFeatures]"
   ]
  },
  {
   "cell_type": "code",
   "execution_count": null,
   "metadata": {},
   "outputs": [],
   "source": [
    "X_test_choice_col = X_test[columnsAddFeatures]"
   ]
  },
  {
   "cell_type": "code",
   "execution_count": null,
   "metadata": {},
   "outputs": [],
   "source": [
    "from scipy import sparse"
   ]
  },
  {
   "cell_type": "code",
   "execution_count": null,
   "metadata": {},
   "outputs": [],
   "source": [
    "X_train_choice_col_m = sparse.csr_matrix(X_train_choice_col)\n",
    "X_test_choice_col_m = sparse.csr_matrix(X_test_choice_col)"
   ]
  },
  {
   "cell_type": "code",
   "execution_count": null,
   "metadata": {},
   "outputs": [],
   "source": [
    "def ModelFit_only_choice_col(m,modelResults_df,X_train_choice_col_m,y_train,X_test_choice_col_m,y_test,ratelog=False):\n",
    "    comment=columnOne + ' + только доп.фичи + rate_log:'+str(ratelog)+' + '+', '.join(columnsAddFeatures)\n",
    "    modelResults_df = ModelFitPredictAndMettrics(modelResults_df,comment,m,\\\n",
    "                      X_train_choice_col_m,y_train,X_test_choice_col_m,y_test,False,False,ratelog)\n",
    "    return modelResults_df"
   ]
  },
  {
   "cell_type": "markdown",
   "metadata": {},
   "source": [
    "Так же выполню шкалирование и посмотрю на результат"
   ]
  },
  {
   "cell_type": "code",
   "execution_count": null,
   "metadata": {},
   "outputs": [],
   "source": [
    "from sklearn.preprocessing import StandardScaler"
   ]
  },
  {
   "cell_type": "code",
   "execution_count": null,
   "metadata": {},
   "outputs": [],
   "source": [
    "scaler = StandardScaler()"
   ]
  },
  {
   "cell_type": "code",
   "execution_count": null,
   "metadata": {},
   "outputs": [],
   "source": [
    "# масштабируем данные\n",
    "X_train_choice_col_m_scaled = scaler.fit_transform(X_train_choice_col)"
   ]
  },
  {
   "cell_type": "code",
   "execution_count": null,
   "metadata": {},
   "outputs": [],
   "source": [
    "X_test_choice_col_m_scaled = scaler.transform(X_test_choice_col)"
   ]
  },
  {
   "cell_type": "code",
   "execution_count": null,
   "metadata": {},
   "outputs": [],
   "source": [
    "def ModelFit_only_choice_col_scaled(m,modelResults_df,X_train_choice_col_m_scaled,y_train,X_test_choice_col_m_scaled,y_test,ratelog=False):\n",
    "    comment=columnOne + ' + только доп.фичи + масштабирование ss + rate_log:'+str(ratelog)+' + ' +', '.join(columnsAddFeatures)\n",
    "    modelResults_df = ModelFitPredictAndMettrics(modelResults_df,comment,m,\\\n",
    "                      X_train_choice_col_m_scaled,y_train,X_test_choice_col_m_scaled,y_test,False,False,ratelog)\n",
    "    return modelResults_df"
   ]
  },
  {
   "cell_type": "code",
   "execution_count": null,
   "metadata": {
    "scrolled": true
   },
   "outputs": [],
   "source": [
    "for y  in ys:\n",
    "    y_train=y[0]\n",
    "    y_test=y[1]\n",
    "    ratelogFlag=y[2]\n",
    "    for m in models:\n",
    "        modelResults_df = ModelFit_only_choice_col(m,modelResults_df,\\\n",
    "                                                      X_train_choice_col_m,y_train,X_test_choice_col_m,y_test,ratelogFlag)\n",
    "        modelResults_df = ModelFit_only_choice_col_scaled(m,modelResults_df,\\\n",
    "                                        X_train_choice_col_m_scaled,y_train,X_test_choice_col_m_scaled,y_test,ratelogFlag)"
   ]
  },
  {
   "cell_type": "markdown",
   "metadata": {},
   "source": [
    " "
   ]
  },
  {
   "cell_type": "markdown",
   "metadata": {},
   "source": [
    "Объединю доп. фичи и векторайзеры"
   ]
  },
  {
   "cell_type": "code",
   "execution_count": null,
   "metadata": {},
   "outputs": [],
   "source": [
    "def Create_exp_m (X,vectorizer,dropindex=True):\n",
    "    if (dropindex):\n",
    "        exp = pd.concat([X.reset_index(drop=True),\\\n",
    "                           pd.DataFrame(vectorizer.toarray()).reset_index(drop=True)],axis=1)\n",
    "        exp[columnsAddFeatures] = exp[columnsAddFeatures].astype('float64')\n",
    "    else:\n",
    "        exp = pd.concat([X,\\\n",
    "                           pd.DataFrame(vectorizer.toarray()).reset_index(drop=True)],axis=1)   \n",
    "    exp.columns = range(exp.shape[1])\n",
    "    exp_m = sparse.csr_matrix(exp)\n",
    "    return exp_m "
   ]
  },
  {
   "cell_type": "code",
   "execution_count": null,
   "metadata": {},
   "outputs": [],
   "source": [
    "from scipy.sparse import csr_matrix"
   ]
  },
  {
   "cell_type": "code",
   "execution_count": null,
   "metadata": {},
   "outputs": [],
   "source": [
    "X_train_choice_col = X_train_choice_col[:c_row]"
   ]
  },
  {
   "cell_type": "code",
   "execution_count": null,
   "metadata": {},
   "outputs": [],
   "source": [
    "y_train = y_train[0:c_row]\n",
    "y_train_l = y_train_l[0:c_row]\n",
    "ys = [[y_train,y_test,False],[y_train_l,y_test_l,True]]"
   ]
  },
  {
   "cell_type": "code",
   "execution_count": null,
   "metadata": {
    "scrolled": true
   },
   "outputs": [],
   "source": [
    "X_cvect_exp_m_train = Create_exp_m (X_train_choice_col,csr_matrix(X_cvect_3voc_train))"
   ]
  },
  {
   "cell_type": "code",
   "execution_count": null,
   "metadata": {},
   "outputs": [],
   "source": [
    "X_cvect_exp_m_test = Create_exp_m (X_test_choice_col,X_cvect_3voc_test)"
   ]
  },
  {
   "cell_type": "code",
   "execution_count": null,
   "metadata": {},
   "outputs": [],
   "source": [
    "X_tfidf_exp_m_train = Create_exp_m (X_train_choice_col,csr_matrix(X_tfidf_3voc_train))"
   ]
  },
  {
   "cell_type": "code",
   "execution_count": null,
   "metadata": {},
   "outputs": [],
   "source": [
    "X_tfidf_exp_m_test = Create_exp_m (X_test_choice_col,X_tfidf_3voc_test)"
   ]
  },
  {
   "cell_type": "code",
   "execution_count": null,
   "metadata": {
    "scrolled": true
   },
   "outputs": [],
   "source": [
    "X_hashvect_exp_m_train = Create_exp_m (X_train_choice_col,csr_matrix(X_hashvect_3voc_train))"
   ]
  },
  {
   "cell_type": "code",
   "execution_count": null,
   "metadata": {},
   "outputs": [],
   "source": [
    "X_hashvect_exp_m_test = Create_exp_m (X_test_choice_col,X_hashvect_3voc_test)"
   ]
  },
  {
   "cell_type": "code",
   "execution_count": null,
   "metadata": {},
   "outputs": [],
   "source": [
    "print(X_cvect_exp_m_train.shape)\n",
    "print(X_tfidf_exp_m_train.shape)\n",
    "print(X_hashvect_exp_m_train.shape)"
   ]
  },
  {
   "cell_type": "code",
   "execution_count": null,
   "metadata": {},
   "outputs": [],
   "source": [
    "def ModelFit_cvect_exp_m(m,modelResults_df,X_cvect_exp_m_train,y_train,X_cvect_exp_m_test,y_test,ratelog=False):\n",
    "    comment=columnOne+ ' + Очистка + Нормализация + разбиение на 3 словаря cvect + rate_log:'+str(ratelog)+' + доп.фичи + '+ ', '.join(columnsAddFeatures)\n",
    "    modelResults_df = ModelFitPredictAndMettrics(modelResults_df,comment,m,\\\n",
    "                      X_cvect_exp_m_train,y_train,X_cvect_exp_m_test,y_test,False,False,ratelog)\n",
    "    return modelResults_df"
   ]
  },
  {
   "cell_type": "code",
   "execution_count": null,
   "metadata": {},
   "outputs": [],
   "source": [
    "def ModelFit_tfidf_exp_m(m,modelResults_df,X_tfidf_exp_m_train,y_train,X_tfidf_exp_m_test,y_test,ratelog=False):\n",
    "    comment=columnOne+ ' + Очистка + Нормализация + разбиение на 3 словаря tfidf + rate_log:'+str(ratelog)+' + доп.фичи + '+ ', '.join(columnsAddFeatures)\n",
    "    modelResults_df = ModelFitPredictAndMettrics(modelResults_df,comment,m,\\\n",
    "                      X_tfidf_exp_m_train,y_train,X_tfidf_exp_m_test,y_test,False,False,ratelog)\n",
    "    return modelResults_df"
   ]
  },
  {
   "cell_type": "code",
   "execution_count": null,
   "metadata": {},
   "outputs": [],
   "source": [
    "def ModelFit_hashvect_exp_m(m,modelResults_df,X_hashvect_exp_m_train,y_train,X_hashvect_exp_m_test,y_test,ratelog=False):\n",
    "    comment=columnOne+ ' + Очистка + Нормализация + разбиение на 3 словаря hashvect + rate_log:'+str(ratelog)+' + доп.фичи + '+ ', '.join(columnsAddFeatures)\n",
    "    modelResults_df = ModelFitPredictAndMettrics(modelResults_df,comment,m,\\\n",
    "                      X_hashvect_exp_m_train,y_train,X_hashvect_exp_m_test,y_test,False,False,ratelog)\n",
    "    return modelResults_df"
   ]
  },
  {
   "cell_type": "code",
   "execution_count": null,
   "metadata": {},
   "outputs": [],
   "source": [
    "for y  in ys:\n",
    "    y_train=y[0]\n",
    "    y_test=y[1]\n",
    "    ratelogFlag=y[2]\n",
    "    for m in models:\n",
    "        modelResults_df = ModelFit_cvect_exp_m(m,modelResults_df,X_cvect_exp_m_train,y_train,X_cvect_exp_m_test,y_test,ratelogFlag)\n",
    "        modelResults_df = ModelFit_tfidf_exp_m(m,modelResults_df,X_tfidf_exp_m_train,y_train,X_tfidf_exp_m_test,y_test,ratelogFlag)\n",
    "        modelResults_df = ModelFit_hashvect_exp_m(m,modelResults_df,X_hashvect_exp_m_train,y_train,X_hashvect_exp_m_test,y_test,ratelogFlag)    "
   ]
  },
  {
   "cell_type": "markdown",
   "metadata": {},
   "source": [
    "Тоже самое, но с масштабированными данными"
   ]
  },
  {
   "cell_type": "code",
   "execution_count": null,
   "metadata": {},
   "outputs": [],
   "source": [
    "X_train_choice_col_m_scaled = X_train_choice_col_m_scaled[:c_row]"
   ]
  },
  {
   "cell_type": "code",
   "execution_count": null,
   "metadata": {
    "scrolled": true
   },
   "outputs": [],
   "source": [
    "X_cvect_exp_m_scaled_train = Create_exp_m (pd.DataFrame(X_train_choice_col_m_scaled),csr_matrix(X_cvect_3voc_train),False)\n",
    "X_cvect_exp_m_scaled_test = Create_exp_m (pd.DataFrame(X_test_choice_col_m_scaled),csr_matrix(X_cvect_3voc_test),False)\n",
    "X_tfidf_exp_m_scaled_train = Create_exp_m (pd.DataFrame(X_train_choice_col_m_scaled),csr_matrix(X_tfidf_3voc_train),False)\n",
    "X_tfidf_exp_m_scaled_test = Create_exp_m (pd.DataFrame(X_test_choice_col_m_scaled),csr_matrix(X_tfidf_3voc_test),False)\n",
    "X_hashvect_exp_m_scaled_train = Create_exp_m (pd.DataFrame(X_train_choice_col_m_scaled),csr_matrix(X_hashvect_3voc_train),False)\n",
    "X_hashvect_exp_m_scaled_test = Create_exp_m (pd.DataFrame(X_test_choice_col_m_scaled),csr_matrix(X_hashvect_3voc_test),False)"
   ]
  },
  {
   "cell_type": "code",
   "execution_count": null,
   "metadata": {},
   "outputs": [],
   "source": [
    "def ModelFit_cvect_exp_m_scaled(m,modelResults_df,X_cvect_exp_m_scaled_train,y_train,X_cvect_exp_m_scaled_test,y_test,ratelog=False):\n",
    "    comment=columnOne+ ' + Очистка + Нормализация + разбиение на 3 словаря cvect + rate_log:'+str(ratelog)+' + доп.фичи + масштабирование ss + '+ ', '.join(columnsAddFeatures)\n",
    "    modelResults_df = ModelFitPredictAndMettrics(modelResults_df,comment,m,\\\n",
    "                      X_cvect_exp_m_scaled_train,y_train,X_cvect_exp_m_scaled_test,y_test,False,False,ratelog)\n",
    "    return modelResults_df"
   ]
  },
  {
   "cell_type": "code",
   "execution_count": null,
   "metadata": {},
   "outputs": [],
   "source": [
    "def ModelFit_tfidf_exp_m_scaled(m,modelResults_df,X_tfidf_exp_m_scaled_train,y_train,X_tfidf_exp_m_scaled_test,y_test,ratelog=False):\n",
    "    comment=columnOne+ ' + Очистка + Нормализация + разбиение на 3 словаря tfidf + rate_log:'+str(ratelog)+' + доп.фичи + масштабирование ss + '+ ', '.join(columnsAddFeatures)\n",
    "    modelResults_df = ModelFitPredictAndMettrics(modelResults_df,comment,m,\\\n",
    "                      X_tfidf_exp_m_scaled_train,y_train,X_tfidf_exp_m_scaled_test,y_test,False,False,ratelog)\n",
    "    return modelResults_df"
   ]
  },
  {
   "cell_type": "code",
   "execution_count": null,
   "metadata": {},
   "outputs": [],
   "source": [
    "def ModelFit_hashvect_exp_m_scaled(m,modelResults_df,X_hashvect_exp_m_scaled_train,y_train,X_hashvect_exp_m_scaled_test,y_test,ratelog=False):\n",
    "    comment=columnOne+ ' + Очистка + Нормализация + разбиение на 3 словаря hashvect + rate_log:'+str(ratelog)+' + доп.фичи + масштабирование ss + '+ ', '.join(columnsAddFeatures)\n",
    "    modelResults_df = ModelFitPredictAndMettrics(modelResults_df,comment,m,\\\n",
    "                      X_hashvect_exp_m_scaled_train,y_train,X_hashvect_exp_m_scaled_test,y_test,False,False,ratelog)\n",
    "    return modelResults_df"
   ]
  },
  {
   "cell_type": "code",
   "execution_count": null,
   "metadata": {},
   "outputs": [],
   "source": [
    "for y  in ys:\n",
    "    y_train=y[0]\n",
    "    y_test=y[1]\n",
    "    ratelogFlag=y[2]\n",
    "    for m in models:\n",
    "        modelResults_df = ModelFit_cvect_exp_m_scaled(m,modelResults_df,X_cvect_exp_m_scaled_train,y_train,X_cvect_exp_m_scaled_test,y_test,ratelogFlag)\n",
    "        modelResults_df = ModelFit_tfidf_exp_m_scaled(m,modelResults_df,X_tfidf_exp_m_scaled_train,y_train,X_tfidf_exp_m_scaled_test,y_test,ratelogFlag)\n",
    "        modelResults_df = ModelFit_hashvect_exp_m_scaled(m,modelResults_df,X_hashvect_exp_m_scaled_train,y_train,X_hashvect_exp_m_scaled_test,y_test,ratelogFlag)"
   ]
  },
  {
   "cell_type": "markdown",
   "metadata": {},
   "source": [
    "Чем отличаются словари теста и трейна? Почему на тесте такая низкая точность?"
   ]
  },
  {
   "cell_type": "markdown",
   "metadata": {},
   "source": [
    "Сформирую словарь для теста"
   ]
  },
  {
   "cell_type": "code",
   "execution_count": null,
   "metadata": {},
   "outputs": [],
   "source": [
    "count_vect_test = CountVectorizer(max_df=cv_max_df, min_df=cv_min_df,\\\n",
    "                             ngram_range=cv_ngram_range)\n",
    "tfidf_transformer_test = TfidfTransformer()"
   ]
  },
  {
   "cell_type": "code",
   "execution_count": null,
   "metadata": {},
   "outputs": [],
   "source": [
    "X_test_curr = X_test['ru_words_'+columnOne]"
   ]
  },
  {
   "cell_type": "code",
   "execution_count": null,
   "metadata": {},
   "outputs": [],
   "source": [
    "X_cvect_ru_words_test2 =count_vect_test.fit_transform(X_test_curr) \n",
    "X_tfidf_ru_words_test2 =tfidf_transformer_test.fit_transform\\\n",
    "                        (X_cvect_ru_words_test2)"
   ]
  },
  {
   "cell_type": "code",
   "execution_count": null,
   "metadata": {
    "scrolled": true
   },
   "outputs": [],
   "source": [
    "rr_ru_test = dict(zip(count_vect_test.get_feature_names(),\\\n",
    "                      tfidf_transformer_test.idf_))"
   ]
  },
  {
   "cell_type": "code",
   "execution_count": null,
   "metadata": {},
   "outputs": [],
   "source": [
    "rr_ru_test_df = token_weight_df(rr_ru_test,'ru')\n",
    "rr_ru_train_df = token_weight_df(rr_ru,'ru')"
   ]
  },
  {
   "cell_type": "code",
   "execution_count": null,
   "metadata": {},
   "outputs": [],
   "source": [
    "rr_ru_test_df.head(10)"
   ]
  },
  {
   "cell_type": "code",
   "execution_count": null,
   "metadata": {},
   "outputs": [],
   "source": [
    "rr_ru_train_df.head(10)"
   ]
  },
  {
   "cell_type": "markdown",
   "metadata": {},
   "source": [
    "Посмотрим вообще сколько слов есть в словаре трейна из тестовой выборки и какие у них веса"
   ]
  },
  {
   "cell_type": "code",
   "execution_count": null,
   "metadata": {},
   "outputs": [],
   "source": [
    "len(set(rr_ru_train_df['ru']))"
   ]
  },
  {
   "cell_type": "code",
   "execution_count": null,
   "metadata": {},
   "outputs": [],
   "source": [
    "len(set(rr_ru_test_df['ru']))"
   ]
  },
  {
   "cell_type": "code",
   "execution_count": null,
   "metadata": {},
   "outputs": [],
   "source": [
    "rr_ru_testIntrain = list(set(rr_ru_train_df['ru']) - set(rr_ru_test_df['ru']))"
   ]
  },
  {
   "cell_type": "code",
   "execution_count": null,
   "metadata": {},
   "outputs": [],
   "source": [
    "len(rr_ru_testIntrain)"
   ]
  },
  {
   "cell_type": "markdown",
   "metadata": {},
   "source": [
    "Практически все слова теста содержатся в словаре трейна. Значит модель плохо обучилась. Нет взаимосвязи между словами и рейтингом."
   ]
  },
  {
   "cell_type": "markdown",
   "metadata": {},
   "source": [
    "Попробую сделать отдельные словари для отрицательных, нулевых и положительных статей"
   ]
  },
  {
   "cell_type": "code",
   "execution_count": null,
   "metadata": {},
   "outputs": [],
   "source": [
    "count_vect_rate = CountVectorizer(max_df=cv_max_df, min_df=cv_min_df,\\\n",
    "                             ngram_range=cv_ngram_range)\n",
    "tfidf_transformer_rate = TfidfTransformer()"
   ]
  },
  {
   "cell_type": "code",
   "execution_count": null,
   "metadata": {},
   "outputs": [],
   "source": [
    "df.columns"
   ]
  },
  {
   "cell_type": "code",
   "execution_count": null,
   "metadata": {
    "scrolled": true
   },
   "outputs": [],
   "source": [
    "X_test_curr_0 = df[df['rate_category'] == 0]['ru_words_'+columnOne]"
   ]
  },
  {
   "cell_type": "code",
   "execution_count": null,
   "metadata": {},
   "outputs": [],
   "source": [
    "X_test_curr_gt0 = df[df['rate_category'] > 0]['ru_words_'+columnOne]"
   ]
  },
  {
   "cell_type": "code",
   "execution_count": null,
   "metadata": {},
   "outputs": [],
   "source": [
    "X_test_curr_lt0 = df[df['rate_category'] < 0]['ru_words_'+columnOne]"
   ]
  },
  {
   "cell_type": "code",
   "execution_count": null,
   "metadata": {},
   "outputs": [],
   "source": [
    "def voc_for_rate (words):    \n",
    "    X_cvect_ru_words_rate =count_vect_rate.fit_transform(words) \n",
    "    X_tfidf_ru_words_rate =tfidf_transformer_rate.fit_transform(X_cvect_ru_words_rate)\n",
    "    rr_ru_rate = dict(zip(count_vect_rate.get_feature_names(),tfidf_transformer_rate.idf_))\n",
    "    return token_weight_df(rr_ru_rate,'ru')"
   ]
  },
  {
   "cell_type": "code",
   "execution_count": null,
   "metadata": {},
   "outputs": [],
   "source": [
    "rr_ru_rate_0 =  voc_for_rate(X_test_curr_0)\n",
    "rr_ru_rate_gt0 =  voc_for_rate(X_test_curr_gt0)\n",
    "rr_ru_rate_lt0 =  voc_for_rate(X_test_curr_lt0)"
   ]
  },
  {
   "cell_type": "code",
   "execution_count": null,
   "metadata": {},
   "outputs": [],
   "source": [
    "print('len_0={0}; len_gt0={1}; len_lt0={2}'.format(len(rr_ru_rate_0['ru']),len(rr_ru_rate_gt0['ru']),len(rr_ru_rate_lt0['ru'])))"
   ]
  },
  {
   "cell_type": "markdown",
   "metadata": {},
   "source": [
    "Сколько слов из статей с отрицательным рейтингом содержется в статьях с положительным:"
   ]
  },
  {
   "cell_type": "code",
   "execution_count": null,
   "metadata": {},
   "outputs": [],
   "source": [
    "len(rr_ru_rate_gt0['ru']) - len(list(set(rr_ru_rate_gt0['ru']) - set(rr_ru_rate_lt0['ru'])))"
   ]
  },
  {
   "cell_type": "code",
   "execution_count": null,
   "metadata": {},
   "outputs": [],
   "source": [
    "rr_ru_rate_gt0.head()"
   ]
  },
  {
   "cell_type": "code",
   "execution_count": null,
   "metadata": {},
   "outputs": [],
   "source": [
    "rr_ru_rate_lt0.head()"
   ]
  },
  {
   "cell_type": "markdown",
   "metadata": {},
   "source": [
    "Практически все слова из статей с отрицательным рейтингом содержатся в статьях с положительным.\n",
    "Нужно проанализировать тексты этих статей и подмумать над передачей модели смысловых нагрузок."
   ]
  },
  {
   "cell_type": "markdown",
   "metadata": {},
   "source": [
    "### word2vec"
   ]
  },
  {
   "cell_type": "code",
   "execution_count": null,
   "metadata": {},
   "outputs": [],
   "source": [
    "from gensim.models import word2vec"
   ]
  },
  {
   "cell_type": "code",
   "execution_count": null,
   "metadata": {
    "scrolled": true
   },
   "outputs": [],
   "source": [
    "df['ru_words_text_w2v'] = df['ru_words_text'].\\\n",
    "                                apply(lambda t: t.split(' '))"
   ]
  },
  {
   "cell_type": "code",
   "execution_count": null,
   "metadata": {},
   "outputs": [],
   "source": [
    "w2v = word2vec.Word2Vec(df['ru_words_text_w2v'], size=300, window=5, workers=2)\n",
    "w2v_dict = dict(zip(w2v.wv.index2word, w2v.wv.syn0))"
   ]
  },
  {
   "cell_type": "code",
   "execution_count": null,
   "metadata": {
    "scrolled": true
   },
   "outputs": [],
   "source": [
    "w2v.wv.most_similar(positive=['гугл'])"
   ]
  },
  {
   "cell_type": "code",
   "execution_count": null,
   "metadata": {},
   "outputs": [],
   "source": [
    "class mean_vectorizer(object):\n",
    "    def __init__(self, word2vec):\n",
    "        self.word2vec = word2vec\n",
    "        self.dim = len(next(iter(w2v_dict.values())))\n",
    "\n",
    "    def fit(self, X):\n",
    "        return self \n",
    "\n",
    "    def transform(self, X):\n",
    "        return np.array([\n",
    "            np.mean([self.word2vec[w] for w in words if w in self.word2vec] \n",
    "                    or [np.zeros(self.dim)], axis=0)\n",
    "            for words in X\n",
    "        ])"
   ]
  },
  {
   "cell_type": "code",
   "execution_count": null,
   "metadata": {},
   "outputs": [],
   "source": [
    "data_mean = mean_vectorizer(w2v).fit(df['ru_words_text_w2v']).\\\n",
    "                                    transform(df['ru_words_text_w2v'])\n",
    "data_mean.shape"
   ]
  },
  {
   "cell_type": "code",
   "execution_count": null,
   "metadata": {},
   "outputs": [],
   "source": [
    "def TrainTestSplitForW2V (coef,X,y):\n",
    "    \n",
    "    train_part_size = int(coef * X.shape[0])\n",
    "    \n",
    "    X_train, X_test = X[:train_part_size, :],X[train_part_size:, :]\n",
    "    y_train, y_test = y[:train_part_size],   y[train_part_size:]\n",
    "    \n",
    "    return X_train, X_test, y_train, y_test"
   ]
  },
  {
   "cell_type": "code",
   "execution_count": null,
   "metadata": {
    "scrolled": true
   },
   "outputs": [],
   "source": [
    "X_train, X_test, y_train, y_test = TrainTestSplitForW2V(.8,data_mean,df['rate'])\n",
    "X_train, X_test, y_train_l, y_test_l = TrainTestSplitForW2V(.8,data_mean,df['rate_log'])"
   ]
  },
  {
   "cell_type": "code",
   "execution_count": null,
   "metadata": {},
   "outputs": [],
   "source": [
    "ys = [[y_train,y_test,False],[y_train_l,y_test_l,True]]"
   ]
  },
  {
   "cell_type": "code",
   "execution_count": null,
   "metadata": {
    "scrolled": true
   },
   "outputs": [],
   "source": [
    "df['ru_words_text_w2v'].shape"
   ]
  },
  {
   "cell_type": "code",
   "execution_count": null,
   "metadata": {},
   "outputs": [],
   "source": [
    "def ModelFit_ru_words_w2v(m,modelResults_df,X_train,y_train,X_test,y_test,ratelog=False):\n",
    "    comment=columnOne+ '+ ru_words + w2v + rate_log:'+str(ratelog)\n",
    "    modelResults_df = ModelFitPredictAndMettrics(modelResults_df,comment,m,\\\n",
    "                      X_train,y_train,X_test,y_test,False,False,ratelog)\n",
    "    return modelResults_df"
   ]
  },
  {
   "cell_type": "code",
   "execution_count": null,
   "metadata": {},
   "outputs": [],
   "source": [
    "for y  in ys:\n",
    "    y_train=y[0]\n",
    "    y_test=y[1]\n",
    "    ratelogFlag=y[2]\n",
    "    for m in models:\n",
    "        modelResults_df = ModelFit_ru_words_w2v(m,modelResults_df,X_train,y_train,X_test,y_test,ratelogFlag) "
   ]
  },
  {
   "cell_type": "code",
   "execution_count": null,
   "metadata": {},
   "outputs": [],
   "source": [
    "pd.set_option('display.max_colwidth', -1)"
   ]
  },
  {
   "cell_type": "code",
   "execution_count": null,
   "metadata": {
    "scrolled": true
   },
   "outputs": [],
   "source": [
    "modelResults_df.sort_values(by='sMSETest')"
   ]
  },
  {
   "cell_type": "code",
   "execution_count": null,
   "metadata": {},
   "outputs": [],
   "source": [
    "modelResults_df.to_csv(fileNameFromExport, sep=';',index=False,encoding=\"windows-1251\")"
   ]
  },
  {
   "cell_type": "markdown",
   "metadata": {},
   "source": [
    "_________________________________________"
   ]
  },
  {
   "cell_type": "markdown",
   "metadata": {},
   "source": [
    "Что дальше?\n",
    "1. Понять почему низкая оценка на тесте и повысить качество предикшена\n",
    "2. Попробовать n-граммы\n",
    "3. Разобраться с Pipeline и GridSearchCV, переписать с помощью них обучение и проработать разные гиперпараметры моделей\n",
    "4. По словарям, попробовать разные словари на положительные и отрицательные статьи, попробовать их объеденить взяв определенные части, понять чем они отличаются, какие уникальные вещи.\n",
    "5. kNN для построения мета-признаков\n",
    "6. Попробовать отдельные словари например на слова относящиеся к \"apple\", \"it\", \"деньгам\" и др."
   ]
  }
 ],
 "metadata": {
  "kernelspec": {
   "display_name": "Python 3",
   "language": "python",
   "name": "python3"
  },
  "language_info": {
   "codemirror_mode": {
    "name": "ipython",
    "version": 3
   },
   "file_extension": ".py",
   "mimetype": "text/x-python",
   "name": "python",
   "nbconvert_exporter": "python",
   "pygments_lexer": "ipython3",
   "version": "3.7.4"
  }
 },
 "nbformat": 4,
 "nbformat_minor": 2
}
