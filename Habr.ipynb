{
 "cells": [
  {
   "cell_type": "code",
   "execution_count": 69,
   "metadata": {},
   "outputs": [],
   "source": [
    "import pandas as pd\n",
    "import numpy as np\n",
    "from matplotlib import pyplot as plt\n",
    "import seaborn as sns\n",
    "import re\n",
    "import csv"
   ]
  },
  {
   "cell_type": "code",
   "execution_count": 2,
   "metadata": {},
   "outputs": [],
   "source": [
    "csv.field_size_limit(231072);"
   ]
  },
  {
   "cell_type": "code",
   "execution_count": 37,
   "metadata": {},
   "outputs": [],
   "source": [
    "first_columns = ['rate','tittle','text','date']"
   ]
  },
  {
   "cell_type": "code",
   "execution_count": 38,
   "metadata": {},
   "outputs": [],
   "source": [
    "def ImportFromCSV (nrows):  \n",
    "    df = pd.read_csv('dataset/clear_dataset.csv', engine=\"python\",sep=',',nrows=nrows, \\\n",
    "                     encoding='utf-8', error_bad_lines=False)[first_columns]\n",
    "    return df"
   ]
  },
  {
   "cell_type": "code",
   "execution_count": 79,
   "metadata": {},
   "outputs": [],
   "source": [
    "rowCountFromCSV = 100 #Количество загружаемых строк из csv"
   ]
  },
  {
   "cell_type": "code",
   "execution_count": 80,
   "metadata": {
    "scrolled": true
   },
   "outputs": [],
   "source": [
    "df = ImportFromCSV(rowCountFromCSV)"
   ]
  },
  {
   "cell_type": "code",
   "execution_count": 81,
   "metadata": {},
   "outputs": [
    {
     "name": "stdout",
     "output_type": "stream",
     "text": [
      "<class 'pandas.core.frame.DataFrame'>\n",
      "RangeIndex: 100 entries, 0 to 99\n",
      "Data columns (total 4 columns):\n",
      "rate      100 non-null int64\n",
      "tittle    100 non-null object\n",
      "text      100 non-null object\n",
      "date      100 non-null object\n",
      "dtypes: int64(1), object(3)\n",
      "memory usage: 3.2+ KB\n"
     ]
    }
   ],
   "source": [
    "df.info()"
   ]
  },
  {
   "cell_type": "code",
   "execution_count": 82,
   "metadata": {},
   "outputs": [
    {
     "data": {
      "text/html": [
       "<div>\n",
       "<style scoped>\n",
       "    .dataframe tbody tr th:only-of-type {\n",
       "        vertical-align: middle;\n",
       "    }\n",
       "\n",
       "    .dataframe tbody tr th {\n",
       "        vertical-align: top;\n",
       "    }\n",
       "\n",
       "    .dataframe thead th {\n",
       "        text-align: right;\n",
       "    }\n",
       "</style>\n",
       "<table border=\"1\" class=\"dataframe\">\n",
       "  <thead>\n",
       "    <tr style=\"text-align: right;\">\n",
       "      <th></th>\n",
       "      <th>rate</th>\n",
       "      <th>tittle</th>\n",
       "      <th>text</th>\n",
       "      <th>date</th>\n",
       "    </tr>\n",
       "  </thead>\n",
       "  <tbody>\n",
       "    <tr>\n",
       "      <td>0</td>\n",
       "      <td>0</td>\n",
       "      <td>В США и России размещено больше всего сайтов с...</td>\n",
       "      <td>Организация Internet Watch Foundation в ходе ...</td>\n",
       "      <td>2006-10-24 20:49:00</td>\n",
       "    </tr>\n",
       "    <tr>\n",
       "      <td>1</td>\n",
       "      <td>-2</td>\n",
       "      <td>«Цифровой раздел» между поколениями увеличивается</td>\n",
       "      <td>21% американских родителей уверены в том, что...</td>\n",
       "      <td>2006-11-30 12:07:00</td>\n",
       "    </tr>\n",
       "    <tr>\n",
       "      <td>2</td>\n",
       "      <td>0</td>\n",
       "      <td>Результаты Yahoo Answers вошли в основную выда...</td>\n",
       "      <td>Флагман социального поиска в интернете Yahoo ...</td>\n",
       "      <td>2006-09-05 08:32:00</td>\n",
       "    </tr>\n",
       "    <tr>\n",
       "      <td>3</td>\n",
       "      <td>0</td>\n",
       "      <td>«Артон консалтинг» исследовала контекстную рек...</td>\n",
       "      <td>Компания «Артон консалтинг» опубликовала иссл...</td>\n",
       "      <td>2006-07-01 21:45:00</td>\n",
       "    </tr>\n",
       "    <tr>\n",
       "      <td>4</td>\n",
       "      <td>0</td>\n",
       "      <td>Внутренний голос в RSS</td>\n",
       "      <td>У меня вот какая бяка постоянно вылезает. Есл...</td>\n",
       "      <td>2007-01-19 11:14:00</td>\n",
       "    </tr>\n",
       "  </tbody>\n",
       "</table>\n",
       "</div>"
      ],
      "text/plain": [
       "   rate                                             tittle  \\\n",
       "0     0  В США и России размещено больше всего сайтов с...   \n",
       "1    -2  «Цифровой раздел» между поколениями увеличивается   \n",
       "2     0  Результаты Yahoo Answers вошли в основную выда...   \n",
       "3     0  «Артон консалтинг» исследовала контекстную рек...   \n",
       "4     0                             Внутренний голос в RSS   \n",
       "\n",
       "                                                text                 date  \n",
       "0   Организация Internet Watch Foundation в ходе ...  2006-10-24 20:49:00  \n",
       "1   21% американских родителей уверены в том, что...  2006-11-30 12:07:00  \n",
       "2   Флагман социального поиска в интернете Yahoo ...  2006-09-05 08:32:00  \n",
       "3   Компания «Артон консалтинг» опубликовала иссл...  2006-07-01 21:45:00  \n",
       "4   У меня вот какая бяка постоянно вылезает. Есл...  2007-01-19 11:14:00  "
      ]
     },
     "execution_count": 82,
     "metadata": {},
     "output_type": "execute_result"
    }
   ],
   "source": [
    "df.head()"
   ]
  },
  {
   "cell_type": "markdown",
   "metadata": {},
   "source": [
    "Буду загружать данные порциями, очищать, нормализовать и генерировать новые фичи.\n",
    "Подготовленные данные экспортиру.\n",
    "Когда все данные будут переработаны таким образом, то затем склею их в одну csv и загружу для анализа."
   ]
  },
  {
   "cell_type": "markdown",
   "metadata": {},
   "source": [
    "Все необходимые функции вынесу сюда"
   ]
  },
  {
   "cell_type": "code",
   "execution_count": 51,
   "metadata": {},
   "outputs": [],
   "source": [
    "def CleanDataFirstSatge (df):\n",
    "    '''\n",
    "    Удалю статьи, состоящие только из одного слова/символа или цифр.\n",
    "    Так же статьи с пустым полем 'text'\n",
    "    '''\n",
    "    df_for_drop = df[((df['text'].apply(lambda t: len(t.strip().split()))<=1)\\\n",
    "      & (df['tittle'].apply(lambda t: len(t.strip().split()))<=1))\\\n",
    "      | (df['text'] == '   ')]\n",
    "    return df_for_drop.index"
   ]
  },
  {
   "cell_type": "code",
   "execution_count": 52,
   "metadata": {},
   "outputs": [],
   "source": [
    "def AddNewFeature_dates(df):\n",
    "    '''\n",
    "    Генерация фич на основе времени\n",
    "    '''\n",
    "    df['date'] = pd.to_datetime(df['date'])\n",
    "    df['month'] = df['date'].dt.month \n",
    "    df['day'] = df['date'].dt.day \n",
    "    df['hour'] = df['date'].dt.hour \n",
    "    df['weekday'] = df['date'].dt.dayofweek\n",
    "    df.sort_values(by='date',ascending=True,inplace=True)\n",
    "    \n",
    "    return df['date'],df['month'],df['day'],df['hour'],df['weekday']"
   ]
  },
  {
   "cell_type": "code",
   "execution_count": 61,
   "metadata": {},
   "outputs": [],
   "source": [
    "def GetSites (txt):  \n",
    "    sites = re.findall(r'[\\w]+\\.{1,1}[^\\.\\d^\\s]\\w{1,3}\\b',str(txt)) #сайты\n",
    "    return (' '.join(sites)).replace('.','_'),len(sites)"
   ]
  },
  {
   "cell_type": "code",
   "execution_count": 62,
   "metadata": {},
   "outputs": [],
   "source": [
    "def GetEnWords (txt):  \n",
    "    en_words = re.findall(r'\\b[a-z]{3,}\\b',re.sub(r'[a-z]{2,}\\.+[a-z]*\\b','',str(txt))) #слова на латинице от 3х букв    \n",
    "    return ' '.join(en_words),len(en_words)"
   ]
  },
  {
   "cell_type": "code",
   "execution_count": 63,
   "metadata": {},
   "outputs": [],
   "source": [
    "def GetRuWords (txt):  \n",
    "    ru_words = re.findall(r'\\b[а-я]{4,}\\b',re.sub(r'[а-я]{2,}\\.+[а-я]*\\b','',str(txt))) #слова на кириллице от 4х букв\n",
    "    return ' '.join(ru_words),len(ru_words)"
   ]
  },
  {
   "cell_type": "code",
   "execution_count": 64,
   "metadata": {},
   "outputs": [],
   "source": [
    "def GetPunctuationsCount (txt):  \n",
    "    punctuations  = re.findall(r'[^\\w\\s]',txt) #Знаки препинания\n",
    "    return len(punctuations)"
   ]
  },
  {
   "cell_type": "code",
   "execution_count": 65,
   "metadata": {},
   "outputs": [],
   "source": [
    "def GetEmotionsCount (txt):  \n",
    "    emotions  = re.findall(r'[\\?]{2,}|[\\!]{2,}',txt) #Знаки ??? , !!!\n",
    "    return len(emotions)"
   ]
  },
  {
   "cell_type": "code",
   "execution_count": 68,
   "metadata": {},
   "outputs": [],
   "source": [
    "def GetAllWordsCount (txt):  \n",
    "    words_count = len(txt.strip().split()) #Количество текстовых объектов\n",
    "    clwords  = re.findall(r'[А-ЯA-Z]{1,}[а-яa-z]{1,}\\b',txt) #Количество слов с заглавной буквы\n",
    "    return words_count,len(clwords)"
   ]
  },
  {
   "cell_type": "code",
   "execution_count": 70,
   "metadata": {},
   "outputs": [],
   "source": [
    "def AddNewFeatures_from_txt(columns):\n",
    "    for index, row in df.iterrows():\n",
    "        df.loc[index, 'sites_'+column],df.loc[index, 'sites_'+column+'_count'] = GetSites(row[column])\n",
    "        df.loc[index, 'ru_words_'+column],df.loc[index, 'ru_words_'+column+'_count'] = GetRuWords(row[column])\n",
    "        df.loc[index, 'en_words_'+column],df.loc[index, 'en_words_'+column+'_count'] = GetEnWords(row[column])\n",
    "        df.loc[index, 'punctuations_'+column+'_count'] = GetPunctuationsCount(row[column])\n",
    "        df.loc[index, 'emotions_'+column+'_count'] = GetEmotionsCount(row[column])\n",
    "        df.loc[index, column+'_words_count'],df.loc[index, column+'_clwords_count']"
   ]
  },
  {
   "cell_type": "code",
   "execution_count": 56,
   "metadata": {},
   "outputs": [],
   "source": [
    "def AddNewFeature_text_category(df):\n",
    "    '''\n",
    "    Создание фичи категория текста (размер)\n",
    "    '''\n",
    "    twc25 = df['text_words_count'].describe()['25%']\n",
    "    twc50 = df['text_words_count'].describe()['50%']\n",
    "    twc75 = df['text_words_count'].describe()['75%']\n",
    "    twcmax = df['text_words_count'].describe()['max']\n",
    "    \n",
    "    df['text_category'] = pd.cut(df.text_words_count\\\n",
    "                             ,bins=[-1,0,twc25,twc50,twc75,twcmax]\\\n",
    "                             ,labels=['0','1','2','3','4']) \n",
    "    return df['text_category']"
   ]
  },
  {
   "cell_type": "code",
   "execution_count": null,
   "metadata": {},
   "outputs": [],
   "source": []
  },
  {
   "cell_type": "code",
   "execution_count": null,
   "metadata": {},
   "outputs": [],
   "source": []
  },
  {
   "cell_type": "markdown",
   "metadata": {},
   "source": [
    "Конвеер обработки данных:"
   ]
  },
  {
   "cell_type": "code",
   "execution_count": 83,
   "metadata": {},
   "outputs": [],
   "source": [
    "df.drop(CleanDataFirstSatge(df),inplace=True)"
   ]
  },
  {
   "cell_type": "code",
   "execution_count": 84,
   "metadata": {},
   "outputs": [],
   "source": [
    "df['date'],df['month'],df['day'],df['hour'],df['weekday'] = AddNewFeature_dates(df)"
   ]
  },
  {
   "cell_type": "code",
   "execution_count": 85,
   "metadata": {},
   "outputs": [],
   "source": [
    "text_column = 'text'\n",
    "tittle_column = 'tittle'\n",
    "for index, row in df.iterrows():\n",
    "    df.loc[index, 'sites_'+text_column],df.loc[index, 'sites_'+text_column+'_count'] = GetSites(row[text_column])\n",
    "    df.loc[index, 'ru_words_'+text_column],df.loc[index, 'ru_words_'+text_column+'_count'] = GetRuWords(row[text_column])\n",
    "    df.loc[index, 'en_words_'+text_column],df.loc[index, 'en_words_'+text_column+'_count'] = GetEnWords(row[text_column])\n",
    "    df.loc[index, 'punctuations_'+text_column+'_count'] = GetPunctuationsCount(row[text_column])\n",
    "    df.loc[index, 'emotions_'+text_column+'_count'] = GetEmotionsCount(row[text_column])\n",
    "    df.loc[index, text_column+'_words_count'],df.loc[index, text_column+'_clwords_count'] = GetAllWordsCount(row[text_column])\n",
    "    df.loc[index, tittle_column+'_words_count'],df.loc[index, tittle_column+'_clwords_count'] = GetAllWordsCount(row[tittle_column])"
   ]
  },
  {
   "cell_type": "code",
   "execution_count": 86,
   "metadata": {},
   "outputs": [],
   "source": [
    "df.drop(df[df['text_words_count']==0].index,inplace=True)"
   ]
  },
  {
   "cell_type": "code",
   "execution_count": 87,
   "metadata": {},
   "outputs": [],
   "source": [
    "df['text_category'] = AddNewFeature_text_category(df)"
   ]
  },
  {
   "cell_type": "code",
   "execution_count": 88,
   "metadata": {
    "scrolled": true
   },
   "outputs": [
    {
     "data": {
      "text/html": [
       "<div>\n",
       "<style scoped>\n",
       "    .dataframe tbody tr th:only-of-type {\n",
       "        vertical-align: middle;\n",
       "    }\n",
       "\n",
       "    .dataframe tbody tr th {\n",
       "        vertical-align: top;\n",
       "    }\n",
       "\n",
       "    .dataframe thead th {\n",
       "        text-align: right;\n",
       "    }\n",
       "</style>\n",
       "<table border=\"1\" class=\"dataframe\">\n",
       "  <thead>\n",
       "    <tr style=\"text-align: right;\">\n",
       "      <th></th>\n",
       "      <th>rate</th>\n",
       "      <th>tittle</th>\n",
       "      <th>text</th>\n",
       "      <th>date</th>\n",
       "      <th>month</th>\n",
       "      <th>day</th>\n",
       "      <th>hour</th>\n",
       "      <th>weekday</th>\n",
       "      <th>sites_text</th>\n",
       "      <th>sites_text_count</th>\n",
       "      <th>...</th>\n",
       "      <th>ru_words_text_count</th>\n",
       "      <th>en_words_text</th>\n",
       "      <th>en_words_text_count</th>\n",
       "      <th>punctuations_text_count</th>\n",
       "      <th>emotions_text_count</th>\n",
       "      <th>text_words_count</th>\n",
       "      <th>text_clwords_count</th>\n",
       "      <th>tittle_words_count</th>\n",
       "      <th>tittle_clwords_count</th>\n",
       "      <th>text_category</th>\n",
       "    </tr>\n",
       "  </thead>\n",
       "  <tbody>\n",
       "    <tr>\n",
       "      <td>3</td>\n",
       "      <td>0</td>\n",
       "      <td>«Артон консалтинг» исследовала контекстную рек...</td>\n",
       "      <td>Компания «Артон консалтинг» опубликовала иссл...</td>\n",
       "      <td>2006-07-01 21:45:00</td>\n",
       "      <td>7</td>\n",
       "      <td>1</td>\n",
       "      <td>21</td>\n",
       "      <td>5</td>\n",
       "      <td></td>\n",
       "      <td>0.0</td>\n",
       "      <td>...</td>\n",
       "      <td>127.0</td>\n",
       "      <td></td>\n",
       "      <td>0.0</td>\n",
       "      <td>66.0</td>\n",
       "      <td>0.0</td>\n",
       "      <td>202.0</td>\n",
       "      <td>16.0</td>\n",
       "      <td>5.0</td>\n",
       "      <td>1.0</td>\n",
       "      <td>4</td>\n",
       "    </tr>\n",
       "    <tr>\n",
       "      <td>14</td>\n",
       "      <td>0</td>\n",
       "      <td>К интернет-конференции Путина поступило более ...</td>\n",
       "      <td>Более 51 тыс вопросов Владимиру Путину поступ...</td>\n",
       "      <td>2006-07-03 08:30:00</td>\n",
       "      <td>7</td>\n",
       "      <td>3</td>\n",
       "      <td>8</td>\n",
       "      <td>0</td>\n",
       "      <td></td>\n",
       "      <td>0.0</td>\n",
       "      <td>...</td>\n",
       "      <td>32.0</td>\n",
       "      <td></td>\n",
       "      <td>0.0</td>\n",
       "      <td>15.0</td>\n",
       "      <td>0.0</td>\n",
       "      <td>62.0</td>\n",
       "      <td>14.0</td>\n",
       "      <td>8.0</td>\n",
       "      <td>1.0</td>\n",
       "      <td>2</td>\n",
       "    </tr>\n",
       "    <tr>\n",
       "      <td>23</td>\n",
       "      <td>0</td>\n",
       "      <td>Против спама всем миром</td>\n",
       "      <td>Россия вошла в международную антиспам-коалици...</td>\n",
       "      <td>2006-07-03 11:31:00</td>\n",
       "      <td>7</td>\n",
       "      <td>3</td>\n",
       "      <td>11</td>\n",
       "      <td>0</td>\n",
       "      <td></td>\n",
       "      <td>0.0</td>\n",
       "      <td>...</td>\n",
       "      <td>90.0</td>\n",
       "      <td></td>\n",
       "      <td>0.0</td>\n",
       "      <td>43.0</td>\n",
       "      <td>0.0</td>\n",
       "      <td>141.0</td>\n",
       "      <td>23.0</td>\n",
       "      <td>4.0</td>\n",
       "      <td>1.0</td>\n",
       "      <td>4</td>\n",
       "    </tr>\n",
       "    <tr>\n",
       "      <td>32</td>\n",
       "      <td>0</td>\n",
       "      <td>«Новости высоких технологий» возвращаются на т...</td>\n",
       "      <td>С 3-го июля на телеканале Rambler вновь можно...</td>\n",
       "      <td>2006-07-03 19:01:00</td>\n",
       "      <td>7</td>\n",
       "      <td>3</td>\n",
       "      <td>19</td>\n",
       "      <td>0</td>\n",
       "      <td></td>\n",
       "      <td>0.0</td>\n",
       "      <td>...</td>\n",
       "      <td>53.0</td>\n",
       "      <td></td>\n",
       "      <td>0.0</td>\n",
       "      <td>16.0</td>\n",
       "      <td>0.0</td>\n",
       "      <td>77.0</td>\n",
       "      <td>7.0</td>\n",
       "      <td>7.0</td>\n",
       "      <td>2.0</td>\n",
       "      <td>2</td>\n",
       "    </tr>\n",
       "    <tr>\n",
       "      <td>40</td>\n",
       "      <td>0</td>\n",
       "      <td>Фурсенко: к концу 2007-го во все школы подведу...</td>\n",
       "      <td>По словам министра образования РФ Андрей Фурс...</td>\n",
       "      <td>2006-07-03 19:30:00</td>\n",
       "      <td>7</td>\n",
       "      <td>3</td>\n",
       "      <td>19</td>\n",
       "      <td>0</td>\n",
       "      <td></td>\n",
       "      <td>0.0</td>\n",
       "      <td>...</td>\n",
       "      <td>46.0</td>\n",
       "      <td></td>\n",
       "      <td>0.0</td>\n",
       "      <td>12.0</td>\n",
       "      <td>0.0</td>\n",
       "      <td>78.0</td>\n",
       "      <td>8.0</td>\n",
       "      <td>9.0</td>\n",
       "      <td>1.0</td>\n",
       "      <td>2</td>\n",
       "    </tr>\n",
       "  </tbody>\n",
       "</table>\n",
       "<p>5 rows × 21 columns</p>\n",
       "</div>"
      ],
      "text/plain": [
       "    rate                                             tittle  \\\n",
       "3      0  «Артон консалтинг» исследовала контекстную рек...   \n",
       "14     0  К интернет-конференции Путина поступило более ...   \n",
       "23     0                            Против спама всем миром   \n",
       "32     0  «Новости высоких технологий» возвращаются на т...   \n",
       "40     0  Фурсенко: к концу 2007-го во все школы подведу...   \n",
       "\n",
       "                                                 text                date  \\\n",
       "3    Компания «Артон консалтинг» опубликовала иссл... 2006-07-01 21:45:00   \n",
       "14   Более 51 тыс вопросов Владимиру Путину поступ... 2006-07-03 08:30:00   \n",
       "23   Россия вошла в международную антиспам-коалици... 2006-07-03 11:31:00   \n",
       "32   С 3-го июля на телеканале Rambler вновь можно... 2006-07-03 19:01:00   \n",
       "40   По словам министра образования РФ Андрей Фурс... 2006-07-03 19:30:00   \n",
       "\n",
       "    month  day  hour  weekday sites_text  sites_text_count  ...  \\\n",
       "3       7    1    21        5                          0.0  ...   \n",
       "14      7    3     8        0                          0.0  ...   \n",
       "23      7    3    11        0                          0.0  ...   \n",
       "32      7    3    19        0                          0.0  ...   \n",
       "40      7    3    19        0                          0.0  ...   \n",
       "\n",
       "   ru_words_text_count  en_words_text en_words_text_count  \\\n",
       "3                127.0                                0.0   \n",
       "14                32.0                                0.0   \n",
       "23                90.0                                0.0   \n",
       "32                53.0                                0.0   \n",
       "40                46.0                                0.0   \n",
       "\n",
       "    punctuations_text_count  emotions_text_count  text_words_count  \\\n",
       "3                      66.0                  0.0             202.0   \n",
       "14                     15.0                  0.0              62.0   \n",
       "23                     43.0                  0.0             141.0   \n",
       "32                     16.0                  0.0              77.0   \n",
       "40                     12.0                  0.0              78.0   \n",
       "\n",
       "    text_clwords_count  tittle_words_count  tittle_clwords_count  \\\n",
       "3                 16.0                 5.0                   1.0   \n",
       "14                14.0                 8.0                   1.0   \n",
       "23                23.0                 4.0                   1.0   \n",
       "32                 7.0                 7.0                   2.0   \n",
       "40                 8.0                 9.0                   1.0   \n",
       "\n",
       "    text_category  \n",
       "3               4  \n",
       "14              2  \n",
       "23              4  \n",
       "32              2  \n",
       "40              2  \n",
       "\n",
       "[5 rows x 21 columns]"
      ]
     },
     "execution_count": 88,
     "metadata": {},
     "output_type": "execute_result"
    }
   ],
   "source": [
    "df.head()"
   ]
  },
  {
   "cell_type": "code",
   "execution_count": null,
   "metadata": {},
   "outputs": [],
   "source": []
  },
  {
   "cell_type": "code",
   "execution_count": null,
   "metadata": {},
   "outputs": [],
   "source": []
  },
  {
   "cell_type": "code",
   "execution_count": 50,
   "metadata": {},
   "outputs": [
    {
     "data": {
      "text/html": [
       "<div>\n",
       "<style scoped>\n",
       "    .dataframe tbody tr th:only-of-type {\n",
       "        vertical-align: middle;\n",
       "    }\n",
       "\n",
       "    .dataframe tbody tr th {\n",
       "        vertical-align: top;\n",
       "    }\n",
       "\n",
       "    .dataframe thead th {\n",
       "        text-align: right;\n",
       "    }\n",
       "</style>\n",
       "<table border=\"1\" class=\"dataframe\">\n",
       "  <thead>\n",
       "    <tr style=\"text-align: right;\">\n",
       "      <th></th>\n",
       "      <th>rate</th>\n",
       "      <th>tittle</th>\n",
       "      <th>text</th>\n",
       "      <th>date</th>\n",
       "      <th>month</th>\n",
       "      <th>day</th>\n",
       "      <th>hour</th>\n",
       "      <th>weekday</th>\n",
       "    </tr>\n",
       "  </thead>\n",
       "  <tbody>\n",
       "    <tr>\n",
       "      <td>3</td>\n",
       "      <td>0</td>\n",
       "      <td>«Артон консалтинг» исследовала контекстную рек...</td>\n",
       "      <td>Компания «Артон консалтинг» опубликовала иссл...</td>\n",
       "      <td>2006-07-01 21:45:00</td>\n",
       "      <td>7</td>\n",
       "      <td>1</td>\n",
       "      <td>21</td>\n",
       "      <td>5</td>\n",
       "    </tr>\n",
       "    <tr>\n",
       "      <td>14</td>\n",
       "      <td>0</td>\n",
       "      <td>К интернет-конференции Путина поступило более ...</td>\n",
       "      <td>Более 51 тыс вопросов Владимиру Путину поступ...</td>\n",
       "      <td>2006-07-03 08:30:00</td>\n",
       "      <td>7</td>\n",
       "      <td>3</td>\n",
       "      <td>8</td>\n",
       "      <td>0</td>\n",
       "    </tr>\n",
       "    <tr>\n",
       "      <td>23</td>\n",
       "      <td>0</td>\n",
       "      <td>Против спама всем миром</td>\n",
       "      <td>Россия вошла в международную антиспам-коалици...</td>\n",
       "      <td>2006-07-03 11:31:00</td>\n",
       "      <td>7</td>\n",
       "      <td>3</td>\n",
       "      <td>11</td>\n",
       "      <td>0</td>\n",
       "    </tr>\n",
       "    <tr>\n",
       "      <td>32</td>\n",
       "      <td>0</td>\n",
       "      <td>«Новости высоких технологий» возвращаются на т...</td>\n",
       "      <td>С 3-го июля на телеканале Rambler вновь можно...</td>\n",
       "      <td>2006-07-03 19:01:00</td>\n",
       "      <td>7</td>\n",
       "      <td>3</td>\n",
       "      <td>19</td>\n",
       "      <td>0</td>\n",
       "    </tr>\n",
       "    <tr>\n",
       "      <td>40</td>\n",
       "      <td>0</td>\n",
       "      <td>Фурсенко: к концу 2007-го во все школы подведу...</td>\n",
       "      <td>По словам министра образования РФ Андрей Фурс...</td>\n",
       "      <td>2006-07-03 19:30:00</td>\n",
       "      <td>7</td>\n",
       "      <td>3</td>\n",
       "      <td>19</td>\n",
       "      <td>0</td>\n",
       "    </tr>\n",
       "  </tbody>\n",
       "</table>\n",
       "</div>"
      ],
      "text/plain": [
       "    rate                                             tittle  \\\n",
       "3      0  «Артон консалтинг» исследовала контекстную рек...   \n",
       "14     0  К интернет-конференции Путина поступило более ...   \n",
       "23     0                            Против спама всем миром   \n",
       "32     0  «Новости высоких технологий» возвращаются на т...   \n",
       "40     0  Фурсенко: к концу 2007-го во все школы подведу...   \n",
       "\n",
       "                                                 text                date  \\\n",
       "3    Компания «Артон консалтинг» опубликовала иссл... 2006-07-01 21:45:00   \n",
       "14   Более 51 тыс вопросов Владимиру Путину поступ... 2006-07-03 08:30:00   \n",
       "23   Россия вошла в международную антиспам-коалици... 2006-07-03 11:31:00   \n",
       "32   С 3-го июля на телеканале Rambler вновь можно... 2006-07-03 19:01:00   \n",
       "40   По словам министра образования РФ Андрей Фурс... 2006-07-03 19:30:00   \n",
       "\n",
       "    month  day  hour  weekday  \n",
       "3       7    1    21        5  \n",
       "14      7    3     8        0  \n",
       "23      7    3    11        0  \n",
       "32      7    3    19        0  \n",
       "40      7    3    19        0  "
      ]
     },
     "execution_count": 50,
     "metadata": {},
     "output_type": "execute_result"
    }
   ],
   "source": [
    "df.head()"
   ]
  },
  {
   "cell_type": "code",
   "execution_count": null,
   "metadata": {},
   "outputs": [],
   "source": []
  },
  {
   "cell_type": "code",
   "execution_count": null,
   "metadata": {},
   "outputs": [],
   "source": []
  },
  {
   "cell_type": "code",
   "execution_count": null,
   "metadata": {},
   "outputs": [],
   "source": []
  },
  {
   "cell_type": "code",
   "execution_count": null,
   "metadata": {},
   "outputs": [],
   "source": []
  },
  {
   "cell_type": "code",
   "execution_count": null,
   "metadata": {},
   "outputs": [],
   "source": []
  },
  {
   "cell_type": "code",
   "execution_count": null,
   "metadata": {},
   "outputs": [],
   "source": []
  },
  {
   "cell_type": "code",
   "execution_count": 6,
   "metadata": {},
   "outputs": [],
   "source": [
    "#df = pd.read_csv(u'D:\\Denis\\DataSciense\\DataSets\\Habr\\clear_dataset.csv'\\\n",
    "#                 , engine=\"python\",sep=',',nrows=100, encoding='utf-8', error_bad_lines=False)"
   ]
  },
  {
   "cell_type": "code",
   "execution_count": 6,
   "metadata": {},
   "outputs": [
    {
     "name": "stdout",
     "output_type": "stream",
     "text": [
      "<class 'pandas.core.frame.DataFrame'>\n",
      "RangeIndex: 20 entries, 0 to 19\n",
      "Data columns (total 4 columns):\n",
      "date      20 non-null object\n",
      "tittle    20 non-null object\n",
      "text      20 non-null object\n",
      "rate      20 non-null int64\n",
      "dtypes: int64(1), object(3)\n",
      "memory usage: 768.0+ bytes\n"
     ]
    }
   ],
   "source": [
    "df.info()"
   ]
  },
  {
   "cell_type": "code",
   "execution_count": 8,
   "metadata": {},
   "outputs": [
    {
     "data": {
      "text/plain": [
       "date      0\n",
       "tittle    0\n",
       "text      0\n",
       "rate      0\n",
       "dtype: int64"
      ]
     },
     "execution_count": 8,
     "metadata": {},
     "output_type": "execute_result"
    }
   ],
   "source": [
    "df.isnull().sum()"
   ]
  },
  {
   "cell_type": "code",
   "execution_count": 9,
   "metadata": {
    "scrolled": false
   },
   "outputs": [
    {
     "data": {
      "text/html": [
       "<div>\n",
       "<style scoped>\n",
       "    .dataframe tbody tr th:only-of-type {\n",
       "        vertical-align: middle;\n",
       "    }\n",
       "\n",
       "    .dataframe tbody tr th {\n",
       "        vertical-align: top;\n",
       "    }\n",
       "\n",
       "    .dataframe thead th {\n",
       "        text-align: right;\n",
       "    }\n",
       "</style>\n",
       "<table border=\"1\" class=\"dataframe\">\n",
       "  <thead>\n",
       "    <tr style=\"text-align: right;\">\n",
       "      <th></th>\n",
       "      <th>date</th>\n",
       "      <th>tittle</th>\n",
       "      <th>text</th>\n",
       "      <th>rate</th>\n",
       "    </tr>\n",
       "  </thead>\n",
       "  <tbody>\n",
       "    <tr>\n",
       "      <th>0</th>\n",
       "      <td>2006-10-24 20:49:00</td>\n",
       "      <td>В США и России размещено больше всего сайтов с...</td>\n",
       "      <td>Организация Internet Watch Foundation в ходе ...</td>\n",
       "      <td>0</td>\n",
       "    </tr>\n",
       "    <tr>\n",
       "      <th>1</th>\n",
       "      <td>2006-11-30 12:07:00</td>\n",
       "      <td>«Цифровой раздел» между поколениями увеличивается</td>\n",
       "      <td>21% американских родителей уверены в том, что...</td>\n",
       "      <td>-2</td>\n",
       "    </tr>\n",
       "    <tr>\n",
       "      <th>2</th>\n",
       "      <td>2006-09-05 08:32:00</td>\n",
       "      <td>Результаты Yahoo Answers вошли в основную выда...</td>\n",
       "      <td>Флагман социального поиска в интернете Yahoo ...</td>\n",
       "      <td>0</td>\n",
       "    </tr>\n",
       "    <tr>\n",
       "      <th>3</th>\n",
       "      <td>2006-07-01 21:45:00</td>\n",
       "      <td>«Артон консалтинг» исследовала контекстную рек...</td>\n",
       "      <td>Компания «Артон консалтинг» опубликовала иссл...</td>\n",
       "      <td>0</td>\n",
       "    </tr>\n",
       "    <tr>\n",
       "      <th>4</th>\n",
       "      <td>2007-01-19 11:14:00</td>\n",
       "      <td>Внутренний голос в RSS</td>\n",
       "      <td>У меня вот какая бяка постоянно вылезает. Есл...</td>\n",
       "      <td>0</td>\n",
       "    </tr>\n",
       "    <tr>\n",
       "      <th>5</th>\n",
       "      <td>2006-09-28 08:53:00</td>\n",
       "      <td>1st post</td>\n",
       "      <td>Ну вот я и в Сочи Юрмале Хопре Аду Израиле</td>\n",
       "      <td>-8</td>\n",
       "    </tr>\n",
       "    <tr>\n",
       "      <th>6</th>\n",
       "      <td>2006-11-29 21:38:00</td>\n",
       "      <td>HTML теги &lt;acronym&gt;, &lt;small&gt;, &lt;sup&gt; и др.</td>\n",
       "      <td>Мне кажется, было бы логично разрешить для ис...</td>\n",
       "      <td>11</td>\n",
       "    </tr>\n",
       "    <tr>\n",
       "      <th>7</th>\n",
       "      <td>2006-12-26 12:04:00</td>\n",
       "      <td>Грид-социум: организация связи II</td>\n",
       "      <td>Есть мысль привязать систему идентификации в ...</td>\n",
       "      <td>4</td>\n",
       "    </tr>\n",
       "    <tr>\n",
       "      <th>8</th>\n",
       "      <td>2006-07-13 14:23:00</td>\n",
       "      <td>Wiki-FAQ для Хабрахабра</td>\n",
       "      <td>Привет!   Для сборника ответов на Часто Задав...</td>\n",
       "      <td>1</td>\n",
       "    </tr>\n",
       "    <tr>\n",
       "      <th>9</th>\n",
       "      <td>2006-10-25 12:32:00</td>\n",
       "      <td>Голливудское агентство будет искать таланты в ...</td>\n",
       "      <td>Голливудское агентство по поиску талантов Uni...</td>\n",
       "      <td>0</td>\n",
       "    </tr>\n",
       "  </tbody>\n",
       "</table>\n",
       "</div>"
      ],
      "text/plain": [
       "                  date                                             tittle  \\\n",
       "0  2006-10-24 20:49:00  В США и России размещено больше всего сайтов с...   \n",
       "1  2006-11-30 12:07:00  «Цифровой раздел» между поколениями увеличивается   \n",
       "2  2006-09-05 08:32:00  Результаты Yahoo Answers вошли в основную выда...   \n",
       "3  2006-07-01 21:45:00  «Артон консалтинг» исследовала контекстную рек...   \n",
       "4  2007-01-19 11:14:00                             Внутренний голос в RSS   \n",
       "5  2006-09-28 08:53:00                                           1st post   \n",
       "6  2006-11-29 21:38:00          HTML теги <acronym>, <small>, <sup> и др.   \n",
       "7  2006-12-26 12:04:00                  Грид-социум: организация связи II   \n",
       "8  2006-07-13 14:23:00                            Wiki-FAQ для Хабрахабра   \n",
       "9  2006-10-25 12:32:00  Голливудское агентство будет искать таланты в ...   \n",
       "\n",
       "                                                text  rate  \n",
       "0   Организация Internet Watch Foundation в ходе ...     0  \n",
       "1   21% американских родителей уверены в том, что...    -2  \n",
       "2   Флагман социального поиска в интернете Yahoo ...     0  \n",
       "3   Компания «Артон консалтинг» опубликовала иссл...     0  \n",
       "4   У меня вот какая бяка постоянно вылезает. Есл...     0  \n",
       "5       Ну вот я и в Сочи Юрмале Хопре Аду Израиле      -8  \n",
       "6   Мне кажется, было бы логично разрешить для ис...    11  \n",
       "7   Есть мысль привязать систему идентификации в ...     4  \n",
       "8   Привет!   Для сборника ответов на Часто Задав...     1  \n",
       "9   Голливудское агентство по поиску талантов Uni...     0  "
      ]
     },
     "execution_count": 9,
     "metadata": {},
     "output_type": "execute_result"
    }
   ],
   "source": [
    "df.head(10)"
   ]
  },
  {
   "cell_type": "markdown",
   "metadata": {},
   "source": [
    "## Анализ на основе 20000 статей"
   ]
  },
  {
   "cell_type": "markdown",
   "metadata": {},
   "source": [
    "### Текстовые данные"
   ]
  },
  {
   "cell_type": "markdown",
   "metadata": {},
   "source": [
    "Нужно провести анализ на наличие мусорных статей, таких как состоящих только из цифр, повторящихся заголовков, пустых и т.д."
   ]
  },
  {
   "cell_type": "markdown",
   "metadata": {},
   "source": [
    "Посмотрим на статьи с повторяющимися заголовками"
   ]
  },
  {
   "cell_type": "code",
   "execution_count": 10,
   "metadata": {},
   "outputs": [],
   "source": [
    "df_TC = df['tittle'].value_counts().rename('count').reset_index()"
   ]
  },
  {
   "cell_type": "code",
   "execution_count": 11,
   "metadata": {},
   "outputs": [],
   "source": [
    "Ttop = np.array(df_TC[df_TC['count']>1]['index']) #отберем все повторяющиеся заголовки"
   ]
  },
  {
   "cell_type": "code",
   "execution_count": 12,
   "metadata": {
    "scrolled": true
   },
   "outputs": [],
   "source": [
    "df_Ttop = df[df['tittle'].apply(lambda t: t in Ttop)].sort_values(by='tittle')"
   ]
  },
  {
   "cell_type": "code",
   "execution_count": 13,
   "metadata": {
    "scrolled": true
   },
   "outputs": [
    {
     "data": {
      "text/plain": [
       "1                                                                                                 11\n",
       "test                                                                                               7\n",
       "удаленное                                                                                          6\n",
       "Заголовок сообщения                                                                                5\n",
       "Cоздайте Cвой Cобственный Web — Cайт За ДВА Дня!!! (Учимся на ошибках)                             5\n",
       "Про лепешки                                                                                        5\n",
       "Обзор блогов №43. Блогеръ                                                                          5\n",
       "Наблюдение                                                                                         4\n",
       "тест                                                                                               4\n",
       "Crysis                                                                                             4\n",
       "SUP! SUP! SUP!                                                                                     4\n",
       "удалено                                                                                            4\n",
       "Лебедев сотрудничает с ThinkGeek?                                                                  4\n",
       "Простой и удобный IRC-клиент                                                                       4\n",
       "Новые комментарии                                                                                  3\n",
       "Что нужно написать, чтобы получить МИНУС на Хабре                                                  3\n",
       "Test                                                                                               3\n",
       "0                                                                                                  3\n",
       "Начало                                                                                             3\n",
       "Идея для сайта                                                                                     3\n",
       "Необычный взгляд на RSS-feeds от Yahoo                                                             3\n",
       "Кармаграф                                                                                          3\n",
       "Вышла 4-ая beta браузера Firefox                                                                   3\n",
       "Без комментариев                                                                                   3\n",
       "Тест                                                                                               3\n",
       "Ускорение Оперы, часть 1                                                                           3\n",
       "…                                                                                                  3\n",
       "Как установить Internet Explorer в Ubuntu (Gutsy Gibbon, Feisty Fawn, Edgy Eft и Dapper Drake)     3\n",
       "Может тебя тоже ищут? Сайт телепрограммы «Жди меня»                                                3\n",
       "Цитата                                                                                             3\n",
       "                                                                                                  ..\n",
       "Эмулятор внутреннего голоса                                                                        2\n",
       "Перепись глаз Большого Брата                                                                       2\n",
       "Батарейка Стива Балмера                                                                            2\n",
       "Манифест против музыкальных магнатов                                                               2\n",
       "Юридическая составляющая                                                                           2\n",
       "Игорь Ашманов                                                                                      2\n",
       "Новый поиск видео в стиле web 2.0                                                                  2\n",
       "Интервью с создателем habrahabr — Денисом Крючковым                                                2\n",
       "неисповедимы пути русского языка                                                                   2\n",
       "Xobni — социальный плагин для Outlook                                                              2\n",
       "Prototype: селекторы и события                                                                     2\n",
       "RSS личной хабраленты без комментариев                                                             2\n",
       "Прощай, Хабр                                                                                       2\n",
       "По поводу некоторых блогов                                                                         2\n",
       "Joost выходит с новой версией — 0.9                                                                2\n",
       "Проблема с кодировкой                                                                              2\n",
       "iPhone                                                                                             2\n",
       "Банкротство физического лица.                                                                      2\n",
       "WTF? Логотипы двух российских банков. Вы найдёте 10 отличий?                                       2\n",
       "Сумасшедшие яйца, или сервис для отслеживания посетителей                                          2\n",
       "Vista                                                                                              2\n",
       "Танцующий белорус стал звездой YouTube                                                             2\n",
       "Интернет коммерция в России                                                                        2\n",
       "Решение проблемы с длинными заголовками                                                            2\n",
       "Файловый хостинг                                                                                   2\n",
       "Мои мысли. Что такое бренд?                                                                        2\n",
       "Анонс блога                                                                                        2\n",
       "HTML 5                                                                                             2\n",
       "Выбираем календарик                                                                                2\n",
       "Photosynth                                                                                         2\n",
       "Name: tittle, Length: 231, dtype: int64"
      ]
     },
     "execution_count": 13,
     "metadata": {},
     "output_type": "execute_result"
    }
   ],
   "source": [
    "df_Ttop['tittle'].value_counts()"
   ]
  },
  {
   "cell_type": "code",
   "execution_count": 14,
   "metadata": {},
   "outputs": [
    {
     "data": {
      "text/html": [
       "<div>\n",
       "<style scoped>\n",
       "    .dataframe tbody tr th:only-of-type {\n",
       "        vertical-align: middle;\n",
       "    }\n",
       "\n",
       "    .dataframe tbody tr th {\n",
       "        vertical-align: top;\n",
       "    }\n",
       "\n",
       "    .dataframe thead th {\n",
       "        text-align: right;\n",
       "    }\n",
       "</style>\n",
       "<table border=\"1\" class=\"dataframe\">\n",
       "  <thead>\n",
       "    <tr style=\"text-align: right;\">\n",
       "      <th></th>\n",
       "      <th>date</th>\n",
       "      <th>tittle</th>\n",
       "      <th>text</th>\n",
       "      <th>rate</th>\n",
       "    </tr>\n",
       "  </thead>\n",
       "  <tbody>\n",
       "    <tr>\n",
       "      <th>9176</th>\n",
       "      <td>2007-06-17 06:30:00</td>\n",
       "      <td>удаленное</td>\n",
       "      <td>удаленное</td>\n",
       "      <td>-2</td>\n",
       "    </tr>\n",
       "    <tr>\n",
       "      <th>8928</th>\n",
       "      <td>2007-06-16 07:51:00</td>\n",
       "      <td>удаленное</td>\n",
       "      <td>удаленное</td>\n",
       "      <td>-9</td>\n",
       "    </tr>\n",
       "    <tr>\n",
       "      <th>8864</th>\n",
       "      <td>2007-06-15 22:03:00</td>\n",
       "      <td>удаленное</td>\n",
       "      <td>удаленное</td>\n",
       "      <td>-8</td>\n",
       "    </tr>\n",
       "    <tr>\n",
       "      <th>8727</th>\n",
       "      <td>2007-06-25 12:53:00</td>\n",
       "      <td>удаленное</td>\n",
       "      <td>удаленное</td>\n",
       "      <td>-5</td>\n",
       "    </tr>\n",
       "    <tr>\n",
       "      <th>10021</th>\n",
       "      <td>2007-06-27 19:03:00</td>\n",
       "      <td>удаленное</td>\n",
       "      <td>удаленное</td>\n",
       "      <td>0</td>\n",
       "    </tr>\n",
       "    <tr>\n",
       "      <th>9779</th>\n",
       "      <td>2007-06-22 15:09:00</td>\n",
       "      <td>удаленное</td>\n",
       "      <td>удаленное</td>\n",
       "      <td>-8</td>\n",
       "    </tr>\n",
       "  </tbody>\n",
       "</table>\n",
       "</div>"
      ],
      "text/plain": [
       "                      date     tittle          text  rate\n",
       "9176   2007-06-17 06:30:00  удаленное   удаленное      -2\n",
       "8928   2007-06-16 07:51:00  удаленное   удаленное      -9\n",
       "8864   2007-06-15 22:03:00  удаленное   удаленное      -8\n",
       "8727   2007-06-25 12:53:00  удаленное   удаленное      -5\n",
       "10021  2007-06-27 19:03:00  удаленное   удаленное       0\n",
       "9779   2007-06-22 15:09:00  удаленное   удаленное      -8"
      ]
     },
     "execution_count": 14,
     "metadata": {},
     "output_type": "execute_result"
    }
   ],
   "source": [
    "df_Ttop[df_Ttop['tittle']=='удаленное']"
   ]
  },
  {
   "cell_type": "markdown",
   "metadata": {},
   "source": [
    "Возможно статьи которые содержат слова 'test','тест','удаленное','удалено','удалил','deleted','delete'\n",
    "стоит исключить из выборки, т.к. рейтинг у таких статей как правило отрицательный и может влиять на предсказание других статей содержащие такие слова."
   ]
  },
  {
   "cell_type": "markdown",
   "metadata": {},
   "source": [
    "Так же к фейковым статьям скорее всего можно отнести статьи, состоящие только из одного слова/символа или цифр.Так же есть статьи с пустым полем 'text'. Посмотрим на них."
   ]
  },
  {
   "cell_type": "code",
   "execution_count": 15,
   "metadata": {
    "scrolled": true
   },
   "outputs": [
    {
     "data": {
      "text/html": [
       "<div>\n",
       "<style scoped>\n",
       "    .dataframe tbody tr th:only-of-type {\n",
       "        vertical-align: middle;\n",
       "    }\n",
       "\n",
       "    .dataframe tbody tr th {\n",
       "        vertical-align: top;\n",
       "    }\n",
       "\n",
       "    .dataframe thead th {\n",
       "        text-align: right;\n",
       "    }\n",
       "</style>\n",
       "<table border=\"1\" class=\"dataframe\">\n",
       "  <thead>\n",
       "    <tr style=\"text-align: right;\">\n",
       "      <th></th>\n",
       "      <th>date</th>\n",
       "      <th>tittle</th>\n",
       "      <th>text</th>\n",
       "      <th>rate</th>\n",
       "    </tr>\n",
       "  </thead>\n",
       "  <tbody>\n",
       "    <tr>\n",
       "      <th>31</th>\n",
       "      <td>2006-10-31 10:48:00</td>\n",
       "      <td>Хабрахабриус</td>\n",
       "      <td></td>\n",
       "      <td>7</td>\n",
       "    </tr>\n",
       "    <tr>\n",
       "      <th>404</th>\n",
       "      <td>2006-11-03 07:58:00</td>\n",
       "      <td>В коллекцию псевдо-гаджетов 2</td>\n",
       "      <td></td>\n",
       "      <td>6</td>\n",
       "    </tr>\n",
       "    <tr>\n",
       "      <th>460</th>\n",
       "      <td>2006-10-05 22:53:00</td>\n",
       "      <td>Яблокги</td>\n",
       "      <td></td>\n",
       "      <td>10</td>\n",
       "    </tr>\n",
       "    <tr>\n",
       "      <th>525</th>\n",
       "      <td>2006-12-05 19:23:00</td>\n",
       "      <td>Стих</td>\n",
       "      <td>…</td>\n",
       "      <td>-3</td>\n",
       "    </tr>\n",
       "    <tr>\n",
       "      <th>1148</th>\n",
       "      <td>2007-01-11 08:36:00</td>\n",
       "      <td>Без комментариев</td>\n",
       "      <td></td>\n",
       "      <td>30</td>\n",
       "    </tr>\n",
       "    <tr>\n",
       "      <th>1256</th>\n",
       "      <td>2006-10-18 13:27:00</td>\n",
       "      <td>В коллекцию псевдо-гаджетов</td>\n",
       "      <td></td>\n",
       "      <td>11</td>\n",
       "    </tr>\n",
       "    <tr>\n",
       "      <th>1553</th>\n",
       "      <td>2007-01-15 18:58:00</td>\n",
       "      <td>Наверно много кто видел, но все же…</td>\n",
       "      <td></td>\n",
       "      <td>46</td>\n",
       "    </tr>\n",
       "    <tr>\n",
       "      <th>1780</th>\n",
       "      <td>2006-11-22 07:36:00</td>\n",
       "      <td>1</td>\n",
       "      <td>1</td>\n",
       "      <td>-6</td>\n",
       "    </tr>\n",
       "    <tr>\n",
       "      <th>1844</th>\n",
       "      <td>2006-11-23 10:03:00</td>\n",
       "      <td>Привет Носику ;)</td>\n",
       "      <td></td>\n",
       "      <td>-4</td>\n",
       "    </tr>\n",
       "    <tr>\n",
       "      <th>1900</th>\n",
       "      <td>2006-08-31 03:16:00</td>\n",
       "      <td>D'oh!</td>\n",
       "      <td></td>\n",
       "      <td>4</td>\n",
       "    </tr>\n",
       "    <tr>\n",
       "      <th>1977</th>\n",
       "      <td>2006-10-29 09:07:00</td>\n",
       "      <td>Bill Gates vs. Ubuntu</td>\n",
       "      <td></td>\n",
       "      <td>3</td>\n",
       "    </tr>\n",
       "    <tr>\n",
       "      <th>2019</th>\n",
       "      <td>2006-09-10 18:03:00</td>\n",
       "      <td>[без заголовка]</td>\n",
       "      <td></td>\n",
       "      <td>-3</td>\n",
       "    </tr>\n",
       "    <tr>\n",
       "      <th>2057</th>\n",
       "      <td>2007-01-18 14:57:00</td>\n",
       "      <td>Фантасты отменили РИФ (Это атака НЛО)</td>\n",
       "      <td></td>\n",
       "      <td>1</td>\n",
       "    </tr>\n",
       "    <tr>\n",
       "      <th>2369</th>\n",
       "      <td>2007-03-02 16:20:00</td>\n",
       "      <td>Описка</td>\n",
       "      <td>Ошибся</td>\n",
       "      <td>-3</td>\n",
       "    </tr>\n",
       "    <tr>\n",
       "      <th>2392</th>\n",
       "      <td>2007-02-06 19:11:00</td>\n",
       "      <td>К Человеку с Самой Большой Кармой прилетел НЛО</td>\n",
       "      <td></td>\n",
       "      <td>8</td>\n",
       "    </tr>\n",
       "    <tr>\n",
       "      <th>2463</th>\n",
       "      <td>2007-03-03 01:08:00</td>\n",
       "      <td>xxx</td>\n",
       "      <td>adcakesx</td>\n",
       "      <td>0</td>\n",
       "    </tr>\n",
       "    <tr>\n",
       "      <th>2494</th>\n",
       "      <td>2006-10-10 12:22:00</td>\n",
       "      <td>Усiм тут схавацца ў бульбу i маўчаць!</td>\n",
       "      <td></td>\n",
       "      <td>9</td>\n",
       "    </tr>\n",
       "    <tr>\n",
       "      <th>2501</th>\n",
       "      <td>2007-02-02 01:02:00</td>\n",
       "      <td>Жопа</td>\n",
       "      <td></td>\n",
       "      <td>3</td>\n",
       "    </tr>\n",
       "    <tr>\n",
       "      <th>2625</th>\n",
       "      <td>2006-10-12 13:38:00</td>\n",
       "      <td>Готовьте вакансии и резюме</td>\n",
       "      <td></td>\n",
       "      <td>13</td>\n",
       "    </tr>\n",
       "    <tr>\n",
       "      <th>2745</th>\n",
       "      <td>2006-11-30 16:18:00</td>\n",
       "      <td>RTX Dualphone</td>\n",
       "      <td></td>\n",
       "      <td>0</td>\n",
       "    </tr>\n",
       "    <tr>\n",
       "      <th>2752</th>\n",
       "      <td>2006-11-30 16:32:00</td>\n",
       "      <td>Чамби-медвежонок</td>\n",
       "      <td></td>\n",
       "      <td>0</td>\n",
       "    </tr>\n",
       "    <tr>\n",
       "      <th>2761</th>\n",
       "      <td>2007-03-04 18:59:00</td>\n",
       "      <td>Приманка</td>\n",
       "      <td></td>\n",
       "      <td>3</td>\n",
       "    </tr>\n",
       "    <tr>\n",
       "      <th>2803</th>\n",
       "      <td>2006-12-01 11:51:00</td>\n",
       "      <td>Патрисия Руссо</td>\n",
       "      <td></td>\n",
       "      <td>0</td>\n",
       "    </tr>\n",
       "    <tr>\n",
       "      <th>2820</th>\n",
       "      <td>2006-12-01 13:20:00</td>\n",
       "      <td>Адаптер TeleSky с материнскими палатами</td>\n",
       "      <td></td>\n",
       "      <td>0</td>\n",
       "    </tr>\n",
       "    <tr>\n",
       "      <th>2832</th>\n",
       "      <td>2007-02-14 18:23:00</td>\n",
       "      <td>День Св. Валентина ;)</td>\n",
       "      <td></td>\n",
       "      <td>1</td>\n",
       "    </tr>\n",
       "    <tr>\n",
       "      <th>2842</th>\n",
       "      <td>2007-03-05 05:27:00</td>\n",
       "      <td>Как обмануть RIAA</td>\n",
       "      <td></td>\n",
       "      <td>1</td>\n",
       "    </tr>\n",
       "    <tr>\n",
       "      <th>2941</th>\n",
       "      <td>2007-03-05 11:47:00</td>\n",
       "      <td>Семья</td>\n",
       "      <td></td>\n",
       "      <td>-1</td>\n",
       "    </tr>\n",
       "    <tr>\n",
       "      <th>2942</th>\n",
       "      <td>2006-12-04 14:42:00</td>\n",
       "      <td>Crysis</td>\n",
       "      <td></td>\n",
       "      <td>0</td>\n",
       "    </tr>\n",
       "    <tr>\n",
       "      <th>2950</th>\n",
       "      <td>2007-03-05 11:51:00</td>\n",
       "      <td>Пощадите!</td>\n",
       "      <td></td>\n",
       "      <td>4</td>\n",
       "    </tr>\n",
       "    <tr>\n",
       "      <th>2957</th>\n",
       "      <td>2006-12-04 14:46:00</td>\n",
       "      <td>Crysis</td>\n",
       "      <td></td>\n",
       "      <td>0</td>\n",
       "    </tr>\n",
       "    <tr>\n",
       "      <th>...</th>\n",
       "      <td>...</td>\n",
       "      <td>...</td>\n",
       "      <td>...</td>\n",
       "      <td>...</td>\n",
       "    </tr>\n",
       "    <tr>\n",
       "      <th>18025</th>\n",
       "      <td>2008-05-14 22:32:00</td>\n",
       "      <td>НЛО</td>\n",
       "      <td></td>\n",
       "      <td>38</td>\n",
       "    </tr>\n",
       "    <tr>\n",
       "      <th>18041</th>\n",
       "      <td>2008-05-11 15:24:00</td>\n",
       "      <td>GAY test</td>\n",
       "      <td></td>\n",
       "      <td>41</td>\n",
       "    </tr>\n",
       "    <tr>\n",
       "      <th>18084</th>\n",
       "      <td>2008-05-11 21:51:00</td>\n",
       "      <td>-</td>\n",
       "      <td>-</td>\n",
       "      <td>-1</td>\n",
       "    </tr>\n",
       "    <tr>\n",
       "      <th>18151</th>\n",
       "      <td>2008-05-16 16:34:00</td>\n",
       "      <td>Забавное ретро приложение для iPhone</td>\n",
       "      <td></td>\n",
       "      <td>-12</td>\n",
       "    </tr>\n",
       "    <tr>\n",
       "      <th>18163</th>\n",
       "      <td>2008-05-20 10:16:00</td>\n",
       "      <td>Телевидение высокой четкости</td>\n",
       "      <td></td>\n",
       "      <td>120</td>\n",
       "    </tr>\n",
       "    <tr>\n",
       "      <th>18236</th>\n",
       "      <td>2008-05-23 11:55:00</td>\n",
       "      <td>кенке</td>\n",
       "      <td>нкенкен</td>\n",
       "      <td>-23</td>\n",
       "    </tr>\n",
       "    <tr>\n",
       "      <th>18246</th>\n",
       "      <td>2008-05-23 12:15:00</td>\n",
       "      <td>Нечисть</td>\n",
       "      <td></td>\n",
       "      <td>4</td>\n",
       "    </tr>\n",
       "    <tr>\n",
       "      <th>18306</th>\n",
       "      <td>2008-05-23 18:48:00</td>\n",
       "      <td>хабракомки и PSP</td>\n",
       "      <td></td>\n",
       "      <td>9</td>\n",
       "    </tr>\n",
       "    <tr>\n",
       "      <th>18312</th>\n",
       "      <td>2008-05-27 12:32:00</td>\n",
       "      <td>Искомая комбинация слов нигде не встречается</td>\n",
       "      <td></td>\n",
       "      <td>-25</td>\n",
       "    </tr>\n",
       "    <tr>\n",
       "      <th>18362</th>\n",
       "      <td>2008-05-18 09:36:00</td>\n",
       "      <td>Питомец</td>\n",
       "      <td></td>\n",
       "      <td>0</td>\n",
       "    </tr>\n",
       "    <tr>\n",
       "      <th>18420</th>\n",
       "      <td>2008-05-28 05:18:00</td>\n",
       "      <td>Яндекс: глюки или новый алгоритм поиска?</td>\n",
       "      <td></td>\n",
       "      <td>7</td>\n",
       "    </tr>\n",
       "    <tr>\n",
       "      <th>18630</th>\n",
       "      <td>2008-05-26 10:44:00</td>\n",
       "      <td>Google?</td>\n",
       "      <td></td>\n",
       "      <td>6</td>\n",
       "    </tr>\n",
       "    <tr>\n",
       "      <th>18671</th>\n",
       "      <td>2008-05-19 20:56:00</td>\n",
       "      <td>Сайтоводы все еще не найдены?</td>\n",
       "      <td></td>\n",
       "      <td>-5</td>\n",
       "    </tr>\n",
       "    <tr>\n",
       "      <th>18711</th>\n",
       "      <td>2008-05-22 21:26:00</td>\n",
       "      <td>Теннис будущего</td>\n",
       "      <td></td>\n",
       "      <td>29</td>\n",
       "    </tr>\n",
       "    <tr>\n",
       "      <th>18754</th>\n",
       "      <td>2008-05-23 02:01:00</td>\n",
       "      <td>НЛО</td>\n",
       "      <td></td>\n",
       "      <td>0</td>\n",
       "    </tr>\n",
       "    <tr>\n",
       "      <th>19016</th>\n",
       "      <td>2008-06-08 18:13:00</td>\n",
       "      <td>Реклама ZX Spectrum, 1982-ой год.</td>\n",
       "      <td></td>\n",
       "      <td>17</td>\n",
       "    </tr>\n",
       "    <tr>\n",
       "      <th>19179</th>\n",
       "      <td>2008-06-14 09:49:00</td>\n",
       "      <td>Любите ли Вы MacBook так, как люблю его Я? =)</td>\n",
       "      <td></td>\n",
       "      <td>-4</td>\n",
       "    </tr>\n",
       "    <tr>\n",
       "      <th>19237</th>\n",
       "      <td>2008-06-05 21:52:00</td>\n",
       "      <td>Google порадовал</td>\n",
       "      <td></td>\n",
       "      <td>0</td>\n",
       "    </tr>\n",
       "    <tr>\n",
       "      <th>19264</th>\n",
       "      <td>2008-06-15 11:06:00</td>\n",
       "      <td>Для чайников</td>\n",
       "      <td></td>\n",
       "      <td>22</td>\n",
       "    </tr>\n",
       "    <tr>\n",
       "      <th>19329</th>\n",
       "      <td>2008-06-17 20:45:00</td>\n",
       "      <td>dead</td>\n",
       "      <td>dead</td>\n",
       "      <td>0</td>\n",
       "    </tr>\n",
       "    <tr>\n",
       "      <th>19339</th>\n",
       "      <td>2008-06-17 21:12:00</td>\n",
       "      <td>Как правильно гуглить (юмор)</td>\n",
       "      <td></td>\n",
       "      <td>-34</td>\n",
       "    </tr>\n",
       "    <tr>\n",
       "      <th>19499</th>\n",
       "      <td>2008-06-18 14:51:00</td>\n",
       "      <td>Как вы достали своим FIREFOX 3.</td>\n",
       "      <td></td>\n",
       "      <td>16</td>\n",
       "    </tr>\n",
       "    <tr>\n",
       "      <th>19507</th>\n",
       "      <td>2008-06-18 15:40:00</td>\n",
       "      <td>Как вы достали своим Firefox 3.</td>\n",
       "      <td></td>\n",
       "      <td>-17</td>\n",
       "    </tr>\n",
       "    <tr>\n",
       "      <th>19550</th>\n",
       "      <td>2008-06-26 17:40:00</td>\n",
       "      <td>Шахиджанян-эффект</td>\n",
       "      <td></td>\n",
       "      <td>27</td>\n",
       "    </tr>\n",
       "    <tr>\n",
       "      <th>19586</th>\n",
       "      <td>2008-06-19 07:56:00</td>\n",
       "      <td>Идея в картинках</td>\n",
       "      <td></td>\n",
       "      <td>6</td>\n",
       "    </tr>\n",
       "    <tr>\n",
       "      <th>19597</th>\n",
       "      <td>2008-06-19 08:48:00</td>\n",
       "      <td>Удалтьь</td>\n",
       "      <td>ывапывапыва</td>\n",
       "      <td>0</td>\n",
       "    </tr>\n",
       "    <tr>\n",
       "      <th>19633</th>\n",
       "      <td>2008-07-01 08:23:00</td>\n",
       "      <td>Голографические сообщения в iPhone</td>\n",
       "      <td></td>\n",
       "      <td>-5</td>\n",
       "    </tr>\n",
       "    <tr>\n",
       "      <th>19702</th>\n",
       "      <td>2008-06-27 19:00:00</td>\n",
       "      <td>…</td>\n",
       "      <td>…</td>\n",
       "      <td>0</td>\n",
       "    </tr>\n",
       "    <tr>\n",
       "      <th>19760</th>\n",
       "      <td>2008-06-28 12:40:00</td>\n",
       "      <td>Билл ушёл</td>\n",
       "      <td></td>\n",
       "      <td>28</td>\n",
       "    </tr>\n",
       "    <tr>\n",
       "      <th>19822</th>\n",
       "      <td>2008-07-02 05:33:00</td>\n",
       "      <td>…</td>\n",
       "      <td>…</td>\n",
       "      <td>0</td>\n",
       "    </tr>\n",
       "  </tbody>\n",
       "</table>\n",
       "<p>331 rows × 4 columns</p>\n",
       "</div>"
      ],
      "text/plain": [
       "                      date                                          tittle  \\\n",
       "31     2006-10-31 10:48:00                                    Хабрахабриус   \n",
       "404    2006-11-03 07:58:00                   В коллекцию псевдо-гаджетов 2   \n",
       "460    2006-10-05 22:53:00                                         Яблокги   \n",
       "525    2006-12-05 19:23:00                                            Стих   \n",
       "1148   2007-01-11 08:36:00                                Без комментариев   \n",
       "1256   2006-10-18 13:27:00                     В коллекцию псевдо-гаджетов   \n",
       "1553   2007-01-15 18:58:00             Наверно много кто видел, но все же…   \n",
       "1780   2006-11-22 07:36:00                                               1   \n",
       "1844   2006-11-23 10:03:00                                Привет Носику ;)   \n",
       "1900   2006-08-31 03:16:00                                           D'oh!   \n",
       "1977   2006-10-29 09:07:00                           Bill Gates vs. Ubuntu   \n",
       "2019   2006-09-10 18:03:00                                 [без заголовка]   \n",
       "2057   2007-01-18 14:57:00           Фантасты отменили РИФ (Это атака НЛО)   \n",
       "2369   2007-03-02 16:20:00                                          Описка   \n",
       "2392   2007-02-06 19:11:00  К Человеку с Самой Большой Кармой прилетел НЛО   \n",
       "2463   2007-03-03 01:08:00                                             xxx   \n",
       "2494   2006-10-10 12:22:00           Усiм тут схавацца ў бульбу i маўчаць!   \n",
       "2501   2007-02-02 01:02:00                                            Жопа   \n",
       "2625   2006-10-12 13:38:00                      Готовьте вакансии и резюме   \n",
       "2745   2006-11-30 16:18:00                                   RTX Dualphone   \n",
       "2752   2006-11-30 16:32:00                                Чамби-медвежонок   \n",
       "2761   2007-03-04 18:59:00                                        Приманка   \n",
       "2803   2006-12-01 11:51:00                                  Патрисия Руссо   \n",
       "2820   2006-12-01 13:20:00         Адаптер TeleSky с материнскими палатами   \n",
       "2832   2007-02-14 18:23:00                           День Св. Валентина ;)   \n",
       "2842   2007-03-05 05:27:00                               Как обмануть RIAA   \n",
       "2941   2007-03-05 11:47:00                                           Семья   \n",
       "2942   2006-12-04 14:42:00                                          Crysis   \n",
       "2950   2007-03-05 11:51:00                                       Пощадите!   \n",
       "2957   2006-12-04 14:46:00                                          Crysis   \n",
       "...                    ...                                             ...   \n",
       "18025  2008-05-14 22:32:00                                             НЛО   \n",
       "18041  2008-05-11 15:24:00                                        GAY test   \n",
       "18084  2008-05-11 21:51:00                                               -   \n",
       "18151  2008-05-16 16:34:00            Забавное ретро приложение для iPhone   \n",
       "18163  2008-05-20 10:16:00                    Телевидение высокой четкости   \n",
       "18236  2008-05-23 11:55:00                                           кенке   \n",
       "18246  2008-05-23 12:15:00                                         Нечисть   \n",
       "18306  2008-05-23 18:48:00                                хабракомки и PSP   \n",
       "18312  2008-05-27 12:32:00    Искомая комбинация слов нигде не встречается   \n",
       "18362  2008-05-18 09:36:00                                         Питомец   \n",
       "18420  2008-05-28 05:18:00        Яндекс: глюки или новый алгоритм поиска?   \n",
       "18630  2008-05-26 10:44:00                                         Google?   \n",
       "18671  2008-05-19 20:56:00                   Сайтоводы все еще не найдены?   \n",
       "18711  2008-05-22 21:26:00                                 Теннис будущего   \n",
       "18754  2008-05-23 02:01:00                                             НЛО   \n",
       "19016  2008-06-08 18:13:00               Реклама ZX Spectrum, 1982-ой год.   \n",
       "19179  2008-06-14 09:49:00   Любите ли Вы MacBook так, как люблю его Я? =)   \n",
       "19237  2008-06-05 21:52:00                                Google порадовал   \n",
       "19264  2008-06-15 11:06:00                                    Для чайников   \n",
       "19329  2008-06-17 20:45:00                                            dead   \n",
       "19339  2008-06-17 21:12:00                    Как правильно гуглить (юмор)   \n",
       "19499  2008-06-18 14:51:00                 Как вы достали своим FIREFOX 3.   \n",
       "19507  2008-06-18 15:40:00                 Как вы достали своим Firefox 3.   \n",
       "19550  2008-06-26 17:40:00                               Шахиджанян-эффект   \n",
       "19586  2008-06-19 07:56:00                                Идея в картинках   \n",
       "19597  2008-06-19 08:48:00                                         Удалтьь   \n",
       "19633  2008-07-01 08:23:00              Голографические сообщения в iPhone   \n",
       "19702  2008-06-27 19:00:00                                               …   \n",
       "19760  2008-06-28 12:40:00                                       Билл ушёл   \n",
       "19822  2008-07-02 05:33:00                                               …   \n",
       "\n",
       "                 text  rate  \n",
       "31                        7  \n",
       "404                       6  \n",
       "460                      10  \n",
       "525               …      -3  \n",
       "1148                     30  \n",
       "1256                     11  \n",
       "1553                     46  \n",
       "1780              1      -6  \n",
       "1844                     -4  \n",
       "1900                      4  \n",
       "1977                      3  \n",
       "2019                     -3  \n",
       "2057                      1  \n",
       "2369         Ошибся      -3  \n",
       "2392                      8  \n",
       "2463       adcakesx       0  \n",
       "2494                      9  \n",
       "2501                      3  \n",
       "2625                     13  \n",
       "2745                      0  \n",
       "2752                      0  \n",
       "2761                      3  \n",
       "2803                      0  \n",
       "2820                      0  \n",
       "2832                      1  \n",
       "2842                      1  \n",
       "2941                     -1  \n",
       "2942                      0  \n",
       "2950                      4  \n",
       "2957                      0  \n",
       "...               ...   ...  \n",
       "18025                    38  \n",
       "18041                    41  \n",
       "18084             -      -1  \n",
       "18151                   -12  \n",
       "18163                   120  \n",
       "18236     нкенкен       -23  \n",
       "18246                     4  \n",
       "18306                     9  \n",
       "18312                   -25  \n",
       "18362                     0  \n",
       "18420                     7  \n",
       "18630                     6  \n",
       "18671                    -5  \n",
       "18711                    29  \n",
       "18754                     0  \n",
       "19016                    17  \n",
       "19179                    -4  \n",
       "19237                     0  \n",
       "19264                    22  \n",
       "19329          dead       0  \n",
       "19339                   -34  \n",
       "19499                    16  \n",
       "19507                   -17  \n",
       "19550                    27  \n",
       "19586                     6  \n",
       "19597   ывапывапыва       0  \n",
       "19633                    -5  \n",
       "19702             …       0  \n",
       "19760                    28  \n",
       "19822             …       0  \n",
       "\n",
       "[331 rows x 4 columns]"
      ]
     },
     "execution_count": 15,
     "metadata": {},
     "output_type": "execute_result"
    }
   ],
   "source": [
    "df_for_drop = df[((df['text'].apply(lambda t: len(t.strip().split()))<=1)\\\n",
    "  & (df['tittle'].apply(lambda t: len(t.strip().split()))<=1))\\\n",
    "  | (df['text'] == '   ')]\n",
    "df_for_drop"
   ]
  },
  {
   "cell_type": "markdown",
   "metadata": {},
   "source": [
    "Такие статьи решил удалить. Так же нужно сделать новые признаки по количеству слов."
   ]
  },
  {
   "cell_type": "code",
   "execution_count": 16,
   "metadata": {},
   "outputs": [],
   "source": [
    "df.drop(df_for_drop.index,inplace=True)"
   ]
  },
  {
   "cell_type": "markdown",
   "metadata": {},
   "source": [
    "<font color='green'>#new_feature</font>"
   ]
  },
  {
   "cell_type": "code",
   "execution_count": 17,
   "metadata": {},
   "outputs": [],
   "source": [
    "def AddNewFeature_tittle_words_count():\n",
    "    df['tittle_words_count'] = df['tittle'].apply(lambda t: len(t.strip().split()))"
   ]
  },
  {
   "cell_type": "code",
   "execution_count": 18,
   "metadata": {},
   "outputs": [],
   "source": [
    "def AddNewFeature_text_words_count():\n",
    "    df['text_words_count'] = df['text'].apply(lambda t: len(t.strip().split()))"
   ]
  },
  {
   "cell_type": "code",
   "execution_count": 19,
   "metadata": {},
   "outputs": [],
   "source": [
    "AddNewFeature_tittle_words_count()"
   ]
  },
  {
   "cell_type": "code",
   "execution_count": 20,
   "metadata": {},
   "outputs": [],
   "source": [
    "AddNewFeature_text_words_count()"
   ]
  },
  {
   "cell_type": "code",
   "execution_count": 21,
   "metadata": {},
   "outputs": [],
   "source": [
    "df.drop(df[df['text_words_count']==0].index,inplace=True)"
   ]
  },
  {
   "cell_type": "markdown",
   "metadata": {},
   "source": [
    "Количество статей в зависимости от количества слов в заголовке."
   ]
  },
  {
   "cell_type": "code",
   "execution_count": 22,
   "metadata": {},
   "outputs": [
    {
     "data": {
      "image/png": "[encoded data removed]",
      "text/plain": [
       "<Figure size 432x288 with 1 Axes>"
      ]
     },
     "metadata": {
      "needs_background": "light"
     },
     "output_type": "display_data"
    }
   ],
   "source": [
    "sns.boxplot(x=df['tittle_words_count']);"
   ]
  },
  {
   "cell_type": "code",
   "execution_count": 23,
   "metadata": {
    "scrolled": true
   },
   "outputs": [
    {
     "data": {
      "image/png": "[encoded data removed]",
      "text/plain": [
       "<Figure size 720x360 with 1 Axes>"
      ]
     },
     "metadata": {
      "needs_background": "light"
     },
     "output_type": "display_data"
    }
   ],
   "source": [
    "fsize = (10, 5)\n",
    "fig, ax = plt.subplots(figsize=fsize)\n",
    "df['tittle_words_count'].value_counts().plot(kind='barh');"
   ]
  },
  {
   "cell_type": "markdown",
   "metadata": {},
   "source": [
    "Большинство заголовков статей не превышает 10 слов. Больше всего статей с 3-6 словами в заголовке."
   ]
  },
  {
   "cell_type": "markdown",
   "metadata": {},
   "source": [
    " "
   ]
  },
  {
   "cell_type": "markdown",
   "metadata": {},
   "source": [
    "Статьи в зависимости от количества слов в тексте."
   ]
  },
  {
   "cell_type": "code",
   "execution_count": 24,
   "metadata": {},
   "outputs": [
    {
     "data": {
      "image/png": "[encoded data removed]",
      "text/plain": [
       "<Figure size 1080x360 with 1 Axes>"
      ]
     },
     "metadata": {
      "needs_background": "light"
     },
     "output_type": "display_data"
    }
   ],
   "source": [
    "fsize = (15, 5)\n",
    "fig, ax = plt.subplots(figsize=fsize)\n",
    "sns.boxplot(x=df['text_words_count']);"
   ]
  },
  {
   "cell_type": "code",
   "execution_count": 25,
   "metadata": {},
   "outputs": [
    {
     "data": {
      "text/plain": [
       "count    19653.000000\n",
       "mean       229.371394\n",
       "std        339.287955\n",
       "min          1.000000\n",
       "25%         66.000000\n",
       "50%        126.000000\n",
       "75%        261.000000\n",
       "max       7090.000000\n",
       "Name: text_words_count, dtype: float64"
      ]
     },
     "execution_count": 25,
     "metadata": {},
     "output_type": "execute_result"
    }
   ],
   "source": [
    "df['text_words_count'].describe()"
   ]
  },
  {
   "cell_type": "code",
   "execution_count": 26,
   "metadata": {},
   "outputs": [
    {
     "data": {
      "text/plain": [
       "623"
      ]
     },
     "execution_count": 26,
     "metadata": {},
     "output_type": "execute_result"
    }
   ],
   "source": [
    "df[df['text_words_count']>1000]['text'].count()"
   ]
  },
  {
   "cell_type": "markdown",
   "metadata": {},
   "source": [
    "БОльшая часть статей не превышает 370 слов, хотя есть и статьи от 1000 слов, но их не много."
   ]
  },
  {
   "cell_type": "markdown",
   "metadata": {},
   "source": [
    "Создам новый признак, который будет отвечать за размер статьи"
   ]
  },
  {
   "cell_type": "markdown",
   "metadata": {},
   "source": [
    "<font color='green'>#new_feature</font>"
   ]
  },
  {
   "cell_type": "code",
   "execution_count": 27,
   "metadata": {},
   "outputs": [],
   "source": [
    "def AddNewFeature_text_category():\n",
    "    twc25 = df['text_words_count'].describe()['25%']\n",
    "    twc50 = df['text_words_count'].describe()['50%']\n",
    "    twc75 = df['text_words_count'].describe()['75%']\n",
    "    twcmax = df['text_words_count'].describe()['max']\n",
    "    \n",
    "    df['text_category'] = pd.cut(df.text_words_count\\\n",
    "                             ,bins=[-1,0,twc25,twc50,twc75,twcmax]\\\n",
    "                             ,labels=['z','s','m','l','xl'])    "
   ]
  },
  {
   "cell_type": "code",
   "execution_count": 28,
   "metadata": {},
   "outputs": [],
   "source": [
    "AddNewFeature_text_category()"
   ]
  },
  {
   "cell_type": "code",
   "execution_count": 29,
   "metadata": {},
   "outputs": [
    {
     "data": {
      "image/png": "[encoded data removed]",
      "text/plain": [
       "<Figure size 432x288 with 1 Axes>"
      ]
     },
     "metadata": {
      "needs_background": "light"
     },
     "output_type": "display_data"
    }
   ],
   "source": [
    "df['text_category'].value_counts().plot(kind='barh');"
   ]
  },
  {
   "cell_type": "markdown",
   "metadata": {},
   "source": [
    "Создам еще несколко фичей по тексту"
   ]
  },
  {
   "cell_type": "code",
   "execution_count": 30,
   "metadata": {},
   "outputs": [],
   "source": [
    "import re"
   ]
  },
  {
   "cell_type": "markdown",
   "metadata": {},
   "source": [
    "<font color='green'>#new_feature</font>"
   ]
  },
  {
   "cell_type": "code",
   "execution_count": 31,
   "metadata": {},
   "outputs": [],
   "source": [
    "def GetCapitalLetterWordsCount (txt):\n",
    "    #Количество слов с заглавной буквы\n",
    "    clwords  = re.findall(r'[А-ЯA-Z]{1,}[а-яa-z]{1,}\\b',txt) \n",
    "    return len(clwords)"
   ]
  },
  {
   "cell_type": "code",
   "execution_count": 32,
   "metadata": {},
   "outputs": [],
   "source": [
    "def AddNewFeature_text_clwords_count():\n",
    "    df['text_clwords_count'] = df['text'].\\\n",
    "                            apply(lambda t: GetCapitalLetterWordsCount(t))"
   ]
  },
  {
   "cell_type": "code",
   "execution_count": 33,
   "metadata": {
    "scrolled": true
   },
   "outputs": [],
   "source": [
    "AddNewFeature_text_clwords_count()"
   ]
  },
  {
   "cell_type": "markdown",
   "metadata": {},
   "source": [
    "<font color='green'>#new_feature</font>"
   ]
  },
  {
   "cell_type": "code",
   "execution_count": 34,
   "metadata": {},
   "outputs": [],
   "source": [
    "def AddNewFeature_tittle_words_count():\n",
    "    #Количество \"слов\" в tittle\n",
    "    df['tittle_words_count'] = df['tittle'].apply(lambda t: len(t.strip().\\\n",
    "                                                                split()))"
   ]
  },
  {
   "cell_type": "code",
   "execution_count": 35,
   "metadata": {},
   "outputs": [],
   "source": [
    "def AddNewFeature_text_words_count():\n",
    "    #Количество \"слов\" в text\n",
    "    df['text_words_count'] = df['text'].apply(lambda t: len(t.strip().split()))"
   ]
  },
  {
   "cell_type": "code",
   "execution_count": 36,
   "metadata": {},
   "outputs": [],
   "source": [
    "AddNewFeature_tittle_words_count()"
   ]
  },
  {
   "cell_type": "code",
   "execution_count": 37,
   "metadata": {},
   "outputs": [],
   "source": [
    "AddNewFeature_text_words_count()"
   ]
  },
  {
   "cell_type": "markdown",
   "metadata": {},
   "source": [
    "Переведем все слова в нижний регистр"
   ]
  },
  {
   "cell_type": "code",
   "execution_count": 38,
   "metadata": {},
   "outputs": [],
   "source": [
    "def StrLower (series):\n",
    "    col = series.str.lower()\n",
    "    return col"
   ]
  },
  {
   "cell_type": "code",
   "execution_count": 39,
   "metadata": {},
   "outputs": [],
   "source": [
    "df['tittle'] = StrLower(df['tittle'])\n",
    "df['text'] = StrLower(df['text'])"
   ]
  },
  {
   "cell_type": "markdown",
   "metadata": {},
   "source": [
    "### Рейтинг"
   ]
  },
  {
   "cell_type": "code",
   "execution_count": 40,
   "metadata": {},
   "outputs": [
    {
     "data": {
      "image/png": "[encoded data removed]",
      "text/plain": [
       "<Figure size 1080x360 with 1 Axes>"
      ]
     },
     "metadata": {
      "needs_background": "light"
     },
     "output_type": "display_data"
    }
   ],
   "source": [
    "fsize = (15, 5)\n",
    "fig, ax = plt.subplots(figsize=fsize)\n",
    "sns.violinplot(x=df['rate'], palette=\"Blues\");\n",
    "sns.boxplot(x=df['rate']);"
   ]
  },
  {
   "cell_type": "code",
   "execution_count": 41,
   "metadata": {},
   "outputs": [
    {
     "data": {
      "text/plain": [
       "count    19653.000000\n",
       "mean        10.942909\n",
       "std         17.823658\n",
       "min        -62.000000\n",
       "25%          1.000000\n",
       "50%          6.000000\n",
       "75%         16.000000\n",
       "max        248.000000\n",
       "Name: rate, dtype: float64"
      ]
     },
     "execution_count": 41,
     "metadata": {},
     "output_type": "execute_result"
    }
   ],
   "source": [
    "df['rate'].describe()"
   ]
  },
  {
   "cell_type": "code",
   "execution_count": 42,
   "metadata": {},
   "outputs": [],
   "source": [
    "df_rate_count = df['rate'].value_counts().rename('count').reset_index()\n",
    "df_rate_count.rename({'index':'rate'}, axis='columns',inplace=True)"
   ]
  },
  {
   "cell_type": "code",
   "execution_count": 43,
   "metadata": {},
   "outputs": [
    {
     "name": "stdout",
     "output_type": "stream",
     "text": [
      "<class 'pandas.core.frame.DataFrame'>\n",
      "RangeIndex: 193 entries, 0 to 192\n",
      "Data columns (total 2 columns):\n",
      "rate     193 non-null int64\n",
      "count    193 non-null int64\n",
      "dtypes: int64(2)\n",
      "memory usage: 3.1 KB\n"
     ]
    }
   ],
   "source": [
    "df_rate_count.info()"
   ]
  },
  {
   "cell_type": "code",
   "execution_count": 44,
   "metadata": {},
   "outputs": [
    {
     "data": {
      "image/png": "[encoded data removed]",
      "text/plain": [
       "<Figure size 1346.4x595.44 with 1 Axes>"
      ]
     },
     "metadata": {
      "needs_background": "light"
     },
     "output_type": "display_data"
    }
   ],
   "source": [
    "a4_dims = (18.7, 8.27)\n",
    "fig, ax = plt.subplots(figsize=a4_dims)\n",
    "sns.barplot(y='count',x='rate',data=df_rate_count[df_rate_count['count']>100]);"
   ]
  },
  {
   "cell_type": "markdown",
   "metadata": {},
   "source": [
    "Топ популярных рейтингов лежит в диапазоне от 0-6. Самый часто используемый рейтинг - 0, т.е. статья не оценивается?"
   ]
  },
  {
   "cell_type": "markdown",
   "metadata": {},
   "source": [
    " "
   ]
  },
  {
   "cell_type": "markdown",
   "metadata": {},
   "source": [
    "Посмотрим на средний рейтинг статей в зависимости от количества слов в заголовке"
   ]
  },
  {
   "cell_type": "code",
   "execution_count": 45,
   "metadata": {},
   "outputs": [
    {
     "data": {
      "image/png": "[encoded data removed]",
      "text/plain": [
       "<Figure size 864x360 with 1 Axes>"
      ]
     },
     "metadata": {
      "needs_background": "light"
     },
     "output_type": "display_data"
    }
   ],
   "source": [
    "fsize = (12, 5)\n",
    "fig, ax = plt.subplots(figsize=fsize)    \n",
    "sns.barplot(x='tittle_words_count', y='rate_avg', \\\n",
    "            data=df.groupby('tittle_words_count')['rate'].mean().\\\n",
    "                                            rename('rate_avg').reset_index());"
   ]
  },
  {
   "cell_type": "markdown",
   "metadata": {},
   "source": [
    "В среднем,у статей с количеством слов в заголовке мене 19 слов рейтинг положительный и не превышает 20.\n",
    "\n",
    "Максимальный положительный рейтинг у статей с количеством слов в заголовке 18-19. Но дальше резкое снижение рейтинга!"
   ]
  },
  {
   "cell_type": "markdown",
   "metadata": {},
   "source": [
    "Посмотрим на рейтинг статей в зависимости от размера статьи"
   ]
  },
  {
   "cell_type": "code",
   "execution_count": 46,
   "metadata": {},
   "outputs": [
    {
     "data": {
      "image/png": "[encoded data removed]",
      "text/plain": [
       "<Figure size 1080x360 with 1 Axes>"
      ]
     },
     "metadata": {
      "needs_background": "light"
     },
     "output_type": "display_data"
    }
   ],
   "source": [
    "fsize = (15, 5)\n",
    "fig, ax = plt.subplots(figsize=fsize)\n",
    "sns.boxplot(y='rate',x='text_category',data=df[(df['rate']<60)&\\\n",
    "                                              (df['rate']>-30)]);"
   ]
  },
  {
   "cell_type": "code",
   "execution_count": 47,
   "metadata": {},
   "outputs": [
    {
     "data": {
      "image/png": "[encoded data removed]",
      "text/plain": [
       "<Figure size 432x288 with 1 Axes>"
      ]
     },
     "metadata": {
      "needs_background": "light"
     },
     "output_type": "display_data"
    }
   ],
   "source": [
    "sns.barplot(x='text_category', y='rate_avg', \\\n",
    "            data=df.groupby('text_category')['rate'].mean().\\\n",
    "                                            rename('rate_avg').reset_index());"
   ]
  },
  {
   "cell_type": "markdown",
   "metadata": {},
   "source": [
    "Видно, что чем больше статья, тем выше рейтинг."
   ]
  },
  {
   "cell_type": "markdown",
   "metadata": {},
   "source": [
    "Выделю новую фичу - категория рейтинга. Разделю все статьи на отрицательные, нейтральные и положительные"
   ]
  },
  {
   "cell_type": "markdown",
   "metadata": {},
   "source": [
    "<font color='green'>#new_feature</font>"
   ]
  },
  {
   "cell_type": "code",
   "execution_count": 48,
   "metadata": {},
   "outputs": [],
   "source": [
    "def AddNewFeature_rate_category ():\n",
    "    #Разделю рейтинги на 3 категории (отрицательный, нейтральный и положительный)\n",
    "    df['rate_category'] = pd.cut(df.rate,bins=[df_rate_count['rate'].min()-1,-1,0,\\\n",
    "                                           df_rate_count['rate'].max()+1],labels=[-1,0,1])"
   ]
  },
  {
   "cell_type": "code",
   "execution_count": 49,
   "metadata": {},
   "outputs": [],
   "source": [
    "AddNewFeature_rate_category ()"
   ]
  },
  {
   "cell_type": "code",
   "execution_count": 50,
   "metadata": {},
   "outputs": [
    {
     "data": {
      "image/png": "[encoded data removed]",
      "text/plain": [
       "<Figure size 432x288 with 1 Axes>"
      ]
     },
     "metadata": {
      "needs_background": "light"
     },
     "output_type": "display_data"
    }
   ],
   "source": [
    "sns.countplot(df['rate_category']);"
   ]
  },
  {
   "cell_type": "markdown",
   "metadata": {},
   "source": [
    "Статей с положительным рейтингом значительно больше, чем остальных.\n",
    "\n",
    "Средний рейтинг категории:"
   ]
  },
  {
   "cell_type": "code",
   "execution_count": 51,
   "metadata": {},
   "outputs": [
    {
     "data": {
      "text/html": [
       "<div>\n",
       "<style scoped>\n",
       "    .dataframe tbody tr th:only-of-type {\n",
       "        vertical-align: middle;\n",
       "    }\n",
       "\n",
       "    .dataframe tbody tr th {\n",
       "        vertical-align: top;\n",
       "    }\n",
       "\n",
       "    .dataframe thead th {\n",
       "        text-align: right;\n",
       "    }\n",
       "</style>\n",
       "<table border=\"1\" class=\"dataframe\">\n",
       "  <thead>\n",
       "    <tr style=\"text-align: right;\">\n",
       "      <th></th>\n",
       "      <th>rate_category</th>\n",
       "      <th>rate_avg</th>\n",
       "    </tr>\n",
       "  </thead>\n",
       "  <tbody>\n",
       "    <tr>\n",
       "      <th>0</th>\n",
       "      <td>-1</td>\n",
       "      <td>-6.047914</td>\n",
       "    </tr>\n",
       "    <tr>\n",
       "      <th>1</th>\n",
       "      <td>0</td>\n",
       "      <td>0.000000</td>\n",
       "    </tr>\n",
       "    <tr>\n",
       "      <th>2</th>\n",
       "      <td>1</td>\n",
       "      <td>15.455726</td>\n",
       "    </tr>\n",
       "  </tbody>\n",
       "</table>\n",
       "</div>"
      ],
      "text/plain": [
       "  rate_category   rate_avg\n",
       "0            -1  -6.047914\n",
       "1             0   0.000000\n",
       "2             1  15.455726"
      ]
     },
     "execution_count": 51,
     "metadata": {},
     "output_type": "execute_result"
    }
   ],
   "source": [
    "df.groupby('rate_category')['rate'].mean().rename('rate_avg').reset_index()"
   ]
  },
  {
   "cell_type": "markdown",
   "metadata": {},
   "source": [
    " "
   ]
  },
  {
   "cell_type": "markdown",
   "metadata": {},
   "source": [
    "Распределение по категориям рейтинга количества статей в зависимости от категории текста:"
   ]
  },
  {
   "cell_type": "code",
   "execution_count": 52,
   "metadata": {
    "scrolled": true
   },
   "outputs": [],
   "source": [
    "dataTC = df.groupby(['text_category'], observed=True)['rate_category'].\\\n",
    "         value_counts(normalize=True).rename('count').reset_index().\\\n",
    "         sort_values('text_category')"
   ]
  },
  {
   "cell_type": "code",
   "execution_count": 53,
   "metadata": {},
   "outputs": [
    {
     "data": {
      "image/png": "[encoded data removed]",
      "text/plain": [
       "<Figure size 432x288 with 1 Axes>"
      ]
     },
     "metadata": {
      "needs_background": "light"
     },
     "output_type": "display_data"
    }
   ],
   "source": [
    "sns.barplot(x='text_category', y='count', hue='rate_category',data=dataTC);"
   ]
  },
  {
   "cell_type": "markdown",
   "metadata": {},
   "source": [
    "В основном тенденция роста количества статей по рейтингу, но в категории m больше всего статей с отрицательным рейтингом."
   ]
  },
  {
   "cell_type": "code",
   "execution_count": 54,
   "metadata": {},
   "outputs": [],
   "source": [
    "def dataTWC(normalize):\n",
    "    dataTWC= df.groupby(['tittle_words_count'])['rate_category'].value_counts(normalize=normalize).\\\n",
    "    rename('count').reset_index()\n",
    "    fsize = (12, 5)\n",
    "    fig, ax = plt.subplots(figsize=fsize)   \n",
    "    sns.barplot(x='tittle_words_count', y='count', hue='rate_category',data=dataTWC);"
   ]
  },
  {
   "cell_type": "code",
   "execution_count": 55,
   "metadata": {},
   "outputs": [
    {
     "data": {
      "image/png": "[encoded data removed]",
      "text/plain": [
       "<Figure size 864x360 with 1 Axes>"
      ]
     },
     "metadata": {
      "needs_background": "light"
     },
     "output_type": "display_data"
    }
   ],
   "source": [
    "dataTWC(False)"
   ]
  },
  {
   "cell_type": "code",
   "execution_count": 56,
   "metadata": {},
   "outputs": [
    {
     "data": {
      "image/png": "[encoded data removed]",
      "text/plain": [
       "<Figure size 864x360 with 1 Axes>"
      ]
     },
     "metadata": {
      "needs_background": "light"
     },
     "output_type": "display_data"
    }
   ],
   "source": [
    "dataTWC(True)"
   ]
  },
  {
   "cell_type": "markdown",
   "metadata": {},
   "source": [
    "Интересно, что статьи с количеством слов 20-24 в заголовке всегда отрицательные."
   ]
  },
  {
   "cell_type": "markdown",
   "metadata": {},
   "source": [
    "Посмотрим на рисунок зависимости количества слов в заголовке и рейтинга, диффиренцированных по размеру статьи."
   ]
  },
  {
   "cell_type": "code",
   "execution_count": 57,
   "metadata": {},
   "outputs": [
    {
     "data": {
      "image/png": "[encoded data removed]",
      "text/plain": [
       "<Figure size 864x432 with 1 Axes>"
      ]
     },
     "metadata": {
      "needs_background": "light"
     },
     "output_type": "display_data"
    }
   ],
   "source": [
    "fsize = (12, 6)\n",
    "fig, ax = plt.subplots(figsize=fsize)   \n",
    "plt.scatter(df['tittle_words_count'],df['rate'],\\\n",
    "           color=df['text_category'].map({'z':'blue','s':'orange',\\\n",
    "                                          'm':'green','l':'red','xl':'violet'}));"
   ]
  },
  {
   "cell_type": "code",
   "execution_count": 58,
   "metadata": {},
   "outputs": [
    {
     "data": {
      "image/png": "[encoded data removed]",
      "text/plain": [
       "<Figure size 360x360 with 1 Axes>"
      ]
     },
     "metadata": {
      "needs_background": "light"
     },
     "output_type": "display_data"
    }
   ],
   "source": [
    "sns.lmplot(x='text_words_count', y='tittle_words_count', data=df);"
   ]
  },
  {
   "cell_type": "code",
   "execution_count": 59,
   "metadata": {},
   "outputs": [
    {
     "data": {
      "text/html": [
       "<div>\n",
       "<style scoped>\n",
       "    .dataframe tbody tr th:only-of-type {\n",
       "        vertical-align: middle;\n",
       "    }\n",
       "\n",
       "    .dataframe tbody tr th {\n",
       "        vertical-align: top;\n",
       "    }\n",
       "\n",
       "    .dataframe thead th {\n",
       "        text-align: right;\n",
       "    }\n",
       "</style>\n",
       "<table border=\"1\" class=\"dataframe\">\n",
       "  <thead>\n",
       "    <tr style=\"text-align: right;\">\n",
       "      <th></th>\n",
       "      <th>rate</th>\n",
       "      <th>text_words_count</th>\n",
       "      <th>tittle_words_count</th>\n",
       "    </tr>\n",
       "  </thead>\n",
       "  <tbody>\n",
       "    <tr>\n",
       "      <th>rate</th>\n",
       "      <td>1.000000</td>\n",
       "      <td>0.163994</td>\n",
       "      <td>-0.006898</td>\n",
       "    </tr>\n",
       "    <tr>\n",
       "      <th>text_words_count</th>\n",
       "      <td>0.163994</td>\n",
       "      <td>1.000000</td>\n",
       "      <td>0.118776</td>\n",
       "    </tr>\n",
       "    <tr>\n",
       "      <th>tittle_words_count</th>\n",
       "      <td>-0.006898</td>\n",
       "      <td>0.118776</td>\n",
       "      <td>1.000000</td>\n",
       "    </tr>\n",
       "  </tbody>\n",
       "</table>\n",
       "</div>"
      ],
      "text/plain": [
       "                        rate  text_words_count  tittle_words_count\n",
       "rate                1.000000          0.163994           -0.006898\n",
       "text_words_count    0.163994          1.000000            0.118776\n",
       "tittle_words_count -0.006898          0.118776            1.000000"
      ]
     },
     "execution_count": 59,
     "metadata": {},
     "output_type": "execute_result"
    }
   ],
   "source": [
    "df[['rate','text_words_count','tittle_words_count']].corr(method='pearson')"
   ]
  },
  {
   "cell_type": "code",
   "execution_count": 60,
   "metadata": {
    "scrolled": true
   },
   "outputs": [
    {
     "data": {
      "image/png": "[encoded data removed]",
      "text/plain": [
       "<Figure size 432x288 with 2 Axes>"
      ]
     },
     "metadata": {
      "needs_background": "light"
     },
     "output_type": "display_data"
    }
   ],
   "source": [
    "sns.heatmap(df[['rate','text_words_count','tittle_words_count']].corr(method='pearson'));"
   ]
  },
  {
   "cell_type": "markdown",
   "metadata": {},
   "source": [
    "Какой то явной корреляции не видно. Есть небольшая зависимость длины слов в статье с рейтингом."
   ]
  },
  {
   "cell_type": "markdown",
   "metadata": {},
   "source": [
    "### Дата и время"
   ]
  },
  {
   "cell_type": "markdown",
   "metadata": {},
   "source": [
    "Создам новые признаки, для этого приведем 'date' к формату даты."
   ]
  },
  {
   "cell_type": "markdown",
   "metadata": {},
   "source": [
    "<font color='green'>#new_feature</font>"
   ]
  },
  {
   "cell_type": "code",
   "execution_count": 61,
   "metadata": {},
   "outputs": [],
   "source": [
    "def AddNewFeature_dates():\n",
    "    df['date'] = pd.to_datetime(df['date'])\n",
    "    df['month'] = df['date'].dt.month \n",
    "    df['day'] = df['date'].dt.day \n",
    "    df['hour'] = df['date'].dt.hour \n",
    "    df['weekday'] = df['date'].dt.dayofweek"
   ]
  },
  {
   "cell_type": "code",
   "execution_count": 62,
   "metadata": {},
   "outputs": [],
   "source": [
    "AddNewFeature_dates()"
   ]
  },
  {
   "cell_type": "code",
   "execution_count": 63,
   "metadata": {},
   "outputs": [
    {
     "name": "stdout",
     "output_type": "stream",
     "text": [
      "<class 'pandas.core.frame.DataFrame'>\n",
      "Int64Index: 19653 entries, 0 to 19999\n",
      "Data columns (total 13 columns):\n",
      "date                  19653 non-null datetime64[ns]\n",
      "tittle                19653 non-null object\n",
      "text                  19653 non-null object\n",
      "rate                  19653 non-null int64\n",
      "tittle_words_count    19653 non-null int64\n",
      "text_words_count      19653 non-null int64\n",
      "text_category         19653 non-null category\n",
      "text_clwords_count    19653 non-null int64\n",
      "rate_category         19653 non-null category\n",
      "month                 19653 non-null int64\n",
      "day                   19653 non-null int64\n",
      "hour                  19653 non-null int64\n",
      "weekday               19653 non-null int64\n",
      "dtypes: category(2), datetime64[ns](1), int64(8), object(2)\n",
      "memory usage: 2.5+ MB\n"
     ]
    }
   ],
   "source": [
    "df.info()"
   ]
  },
  {
   "cell_type": "code",
   "execution_count": 64,
   "metadata": {},
   "outputs": [],
   "source": [
    "def BarGroupByTwo (col1,col2,normalize:bool):    \n",
    "    data = df.groupby([col1])[col2].value_counts(normalize=normalize).rename('count').reset_index().sort_values(col1)\n",
    "    \n",
    "    a4_dims = (11.7, 8.27)\n",
    "    fig, ax = plt.subplots(figsize=a4_dims)    \n",
    "    sns.barplot(x=col1, y='count', hue=col2, data=data)\n",
    "    \n",
    "    normalize_label=''\n",
    "    if normalize:\n",
    "        normalize_label=' (%)'\n",
    "    plt.title('{} vs {}{}'.format(col2, col1,normalize_label))\n",
    "    \n",
    "    labels=[\"Отрицательный\",\"Нейтральный\", \"Положительный\"]\n",
    "    h, l = ax.get_legend_handles_labels()\n",
    "    ax.legend(h, labels)"
   ]
  },
  {
   "cell_type": "markdown",
   "metadata": {},
   "source": [
    "Посмотрим на зависимость рейтинга от времЕнных параметров"
   ]
  },
  {
   "cell_type": "code",
   "execution_count": 65,
   "metadata": {},
   "outputs": [
    {
     "data": {
      "image/png": "[encoded data removed]",
      "text/plain": [
       "<Figure size 842.4x595.44 with 1 Axes>"
      ]
     },
     "metadata": {
      "needs_background": "light"
     },
     "output_type": "display_data"
    }
   ],
   "source": [
    "BarGroupByTwo('month','rate_category',False)"
   ]
  },
  {
   "cell_type": "code",
   "execution_count": 66,
   "metadata": {
    "scrolled": false
   },
   "outputs": [
    {
     "data": {
      "image/png": "[encoded data removed]",
      "text/plain": [
       "<Figure size 842.4x595.44 with 1 Axes>"
      ]
     },
     "metadata": {
      "needs_background": "light"
     },
     "output_type": "display_data"
    }
   ],
   "source": [
    "BarGroupByTwo('month','rate_category',True)"
   ]
  },
  {
   "cell_type": "markdown",
   "metadata": {},
   "source": [
    "Июль, август, сентябрь и октябрь, месяца, когда меньше всего выходят статьи. В эти месяца количество отрицательных отзывов больше чем в остальные, в процентном соотношении так примерно в 2 раза."
   ]
  },
  {
   "cell_type": "markdown",
   "metadata": {},
   "source": [
    " "
   ]
  },
  {
   "cell_type": "code",
   "execution_count": 67,
   "metadata": {},
   "outputs": [
    {
     "data": {
      "image/png": "[encoded data removed]",
      "text/plain": [
       "<Figure size 842.4x595.44 with 1 Axes>"
      ]
     },
     "metadata": {
      "needs_background": "light"
     },
     "output_type": "display_data"
    }
   ],
   "source": [
    "BarGroupByTwo('weekday','rate_category',False)"
   ]
  },
  {
   "cell_type": "code",
   "execution_count": 68,
   "metadata": {
    "scrolled": false
   },
   "outputs": [
    {
     "data": {
      "image/png": "[encoded data removed]",
      "text/plain": [
       "<Figure size 842.4x595.44 with 1 Axes>"
      ]
     },
     "metadata": {
      "needs_background": "light"
     },
     "output_type": "display_data"
    }
   ],
   "source": [
    "BarGroupByTwo('weekday','rate_category',True)"
   ]
  },
  {
   "cell_type": "markdown",
   "metadata": {},
   "source": [
    "В субботу и воскресенье (5 и 6) выходит меньше всего статей. При этом, если смотреть в процентном соотношении, то в эти дни больше отрицательных оценок."
   ]
  },
  {
   "cell_type": "code",
   "execution_count": 69,
   "metadata": {},
   "outputs": [
    {
     "data": {
      "image/png": "[encoded data removed]",
      "text/plain": [
       "<Figure size 842.4x595.44 with 1 Axes>"
      ]
     },
     "metadata": {
      "needs_background": "light"
     },
     "output_type": "display_data"
    }
   ],
   "source": [
    "BarGroupByTwo('day','rate_category',False)"
   ]
  },
  {
   "cell_type": "code",
   "execution_count": 70,
   "metadata": {},
   "outputs": [
    {
     "data": {
      "image/png": "[encoded data removed]",
      "text/plain": [
       "<Figure size 842.4x595.44 with 1 Axes>"
      ]
     },
     "metadata": {
      "needs_background": "light"
     },
     "output_type": "display_data"
    }
   ],
   "source": [
    "BarGroupByTwo('day','rate_category',True)"
   ]
  },
  {
   "cell_type": "markdown",
   "metadata": {},
   "source": [
    "Количество статей публикуется волнообразно, видимо это связано с началом и концом недели. Так же в последнии дни месяца заметно снижение в количестве публикаций."
   ]
  },
  {
   "cell_type": "code",
   "execution_count": 71,
   "metadata": {},
   "outputs": [
    {
     "data": {
      "image/png": "[encoded data removed]",
      "text/plain": [
       "<Figure size 842.4x595.44 with 1 Axes>"
      ]
     },
     "metadata": {
      "needs_background": "light"
     },
     "output_type": "display_data"
    }
   ],
   "source": [
    "BarGroupByTwo('hour','rate_category',False)"
   ]
  },
  {
   "cell_type": "code",
   "execution_count": 72,
   "metadata": {},
   "outputs": [
    {
     "data": {
      "image/png": "[encoded data removed]",
      "text/plain": [
       "<Figure size 842.4x595.44 with 1 Axes>"
      ]
     },
     "metadata": {
      "needs_background": "light"
     },
     "output_type": "display_data"
    }
   ],
   "source": [
    "BarGroupByTwo('hour','rate_category',True)"
   ]
  },
  {
   "cell_type": "markdown",
   "metadata": {},
   "source": [
    "Пик публикаций утро и день. С 12-14 часов заметно больше ставят отрицательных оценок."
   ]
  },
  {
   "cell_type": "code",
   "execution_count": 73,
   "metadata": {},
   "outputs": [
    {
     "data": {
      "text/plain": [
       "Index(['date', 'tittle', 'text', 'rate', 'tittle_words_count',\n",
       "       'text_words_count', 'text_category', 'text_clwords_count',\n",
       "       'rate_category', 'month', 'day', 'hour', 'weekday'],\n",
       "      dtype='object')"
      ]
     },
     "execution_count": 73,
     "metadata": {},
     "output_type": "execute_result"
    }
   ],
   "source": [
    "df.columns"
   ]
  },
  {
   "cell_type": "code",
   "execution_count": 74,
   "metadata": {},
   "outputs": [
    {
     "data": {
      "image/png": "[encoded data removed]",
      "text/plain": [
       "<Figure size 432x288 with 2 Axes>"
      ]
     },
     "metadata": {
      "needs_background": "light"
     },
     "output_type": "display_data"
    }
   ],
   "source": [
    "sns.heatmap(df[['rate', 'month', 'day', 'hour', 'weekday']].corr(method='pearson'));"
   ]
  },
  {
   "cell_type": "markdown",
   "metadata": {},
   "source": [
    "Сильной корреляции нет. Небольшая корреляция с рейтингом у дней недели, чисел и часов."
   ]
  },
  {
   "cell_type": "markdown",
   "metadata": {},
   "source": [
    "## Подготовка моделей"
   ]
  },
  {
   "cell_type": "markdown",
   "metadata": {},
   "source": [
    "### LinearRegression, Lasso, Ridge, LassoCV, RidgeCV"
   ]
  },
  {
   "cell_type": "code",
   "execution_count": 75,
   "metadata": {},
   "outputs": [],
   "source": [
    "from sklearn.linear_model import LinearRegression\n",
    "from sklearn.linear_model import Lasso, Ridge, LassoCV, RidgeCV\n",
    "from sklearn.metrics import mean_squared_error, r2_score"
   ]
  },
  {
   "cell_type": "code",
   "execution_count": 76,
   "metadata": {},
   "outputs": [],
   "source": [
    "linear_regression = LinearRegression()\n",
    "lasso = Lasso(random_state=1,alpha=1)\n",
    "ridge = Ridge(random_state=1, alpha=1)\n",
    "lasso_cv = LassoCV(random_state=1)\n",
    "ridge_cv = RidgeCV()"
   ]
  },
  {
   "cell_type": "code",
   "execution_count": 77,
   "metadata": {},
   "outputs": [],
   "source": [
    "#models = [linear_regression,ridge,ridge_cv,lasso,lasso_cv]\n",
    "models = [linear_regression,ridge,lasso]"
   ]
  },
  {
   "cell_type": "code",
   "execution_count": 78,
   "metadata": {},
   "outputs": [],
   "source": [
    "def metricsModel (y_train,y_train_pred,y_test,y_test_pred):\n",
    "    '''\n",
    "    расчет метрик\n",
    "    '''    \n",
    "    metrics = []\n",
    "    MSETrain = mean_squared_error(y_train, y_train_pred)\n",
    "    MSETest = mean_squared_error(y_test, y_test_pred)\n",
    "    metrics.append(MSETrain)\n",
    "    metrics.append(MSETest)\n",
    "    metrics.append(np.sqrt(MSETrain))\n",
    "    metrics.append(np.sqrt(MSETest))\n",
    "    metrics.append(r2_score(y_train, y_train_pred))\n",
    "    metrics.append(r2_score(y_test, y_test_pred))\n",
    "    return metrics"
   ]
  },
  {
   "cell_type": "code",
   "execution_count": 79,
   "metadata": {},
   "outputs": [],
   "source": [
    "def predGroundTruth (predicted_train,predicted_test,y_train,y_test,row=20):\n",
    "    '''\n",
    "    сравнение предсказаных рейтингов с реальными на трейне и тесте\n",
    "    '''  \n",
    "    predictions_ground_truth_df = pd.DataFrame(list(zip(predicted_train,\\\n",
    "                                                        y_train,predicted_test, y_test)))\n",
    "    predictions_ground_truth_df.columns = ['PredictionRateTrain', 'RrealRateTrain',\\\n",
    "                                           'PredictionRateTest', 'RrealRateTest']\n",
    "    print(predictions_ground_truth_df.head(row))"
   ]
  },
  {
   "cell_type": "code",
   "execution_count": 80,
   "metadata": {},
   "outputs": [],
   "source": [
    "def CreateTableInfoResult ():\n",
    "    '''\n",
    "    сюда буду сохранять результаты обучения моделей для анализа\n",
    "    '''\n",
    "    \n",
    "    modelResults_df=pd.DataFrame(columns=['Comment','Model','MSETrain','MSETest',\\\n",
    "          'sMSETrain','sMSETest','R2Train','R2Test','TrainShape','TestShape'])\n",
    "    return modelResults_df"
   ]
  },
  {
   "cell_type": "code",
   "execution_count": 568,
   "metadata": {},
   "outputs": [],
   "source": [
    "modelResults_df = CreateTableInfoResult()"
   ]
  },
  {
   "cell_type": "code",
   "execution_count": 322,
   "metadata": {},
   "outputs": [],
   "source": [
    "import math"
   ]
  },
  {
   "cell_type": "code",
   "execution_count": 348,
   "metadata": {},
   "outputs": [],
   "source": [
    "rate_min = df['rate'].min()+1e-8\n",
    "def LogConvert(rlog,rmin):\n",
    "    '''\n",
    "    конвертация рейтинга обратно из нартурального логарифма\n",
    "    '''\n",
    "    try:\n",
    "        rate = math.exp(rlog) + rmin\n",
    "    except OverflowError:\n",
    "        rate = float('inf')    \n",
    "    return rate"
   ]
  },
  {
   "cell_type": "code",
   "execution_count": 83,
   "metadata": {},
   "outputs": [],
   "source": [
    "def LogNdArrayConvert(ndarray):\n",
    "    ndarray_c = np.array([LogConvert(r,rate_min) for r in ndarray])\n",
    "    return ndarray_c"
   ]
  },
  {
   "cell_type": "code",
   "execution_count": 84,
   "metadata": {},
   "outputs": [],
   "source": [
    "def ModelFitPredictAndMettrics(mr_df,comment,model,X_train,y_train,X_test,y_test\\\n",
    "                              ,groundtruth=False,metrics=True,logconvert=False,row=20):\n",
    "    '''\n",
    "    обучение модели\n",
    "    '''\n",
    "    print(model)    \n",
    "    model.fit(X_train, y_train)\n",
    "    predicted_train = model.predict(X_train)\n",
    "    predicted_test = model.predict(X_test)\n",
    "    mtxt = ''\n",
    "    \n",
    "    if (logconvert):\n",
    "        predicted_train = LogNdArrayConvert(predicted_train)\n",
    "        predicted_test = LogNdArrayConvert(predicted_test)\n",
    "        y_train = LogNdArrayConvert(y_train)\n",
    "        y_test = LogNdArrayConvert(y_test)\n",
    "    \n",
    "    if(groundtruth):\n",
    "         predGroundTruth(predicted_train,predicted_test,y_train,y_test,row)\n",
    "    \n",
    "    mm = metricsModel(y_train,predicted_train,y_test,predicted_test)\n",
    "    if(metrics):       \n",
    "           print('\\nMSE train:{:.3f}, test: {:.3f}'.format(mm[0],mm[1]))  \n",
    "           print('sqrt MSE train:{:.3f}, test: {:.3f}'.format(mm[2],mm[3]))\n",
    "           print('R^2 train: {:.3f}, test: {:.3f}'.format(mm[4],mm[5]))\n",
    "        \n",
    "    mr_df = mr_df.append({'Comment':comment,'Model':model,'MSETrain':mm[0],\\\n",
    "                         'MSETest':mm[1],'sMSETrain':mm[2],'sMSETest':mm[3],\\\n",
    "                         'R2Train':mm[4],'R2Test':mm[5],\\\n",
    "                         'TrainShape':X_train.shape,'TestShape':X_test.shape},\\\n",
    "                         ignore_index=True)\n",
    "    return mr_df"
   ]
  },
  {
   "cell_type": "markdown",
   "metadata": {},
   "source": [
    "### Векторизация текста"
   ]
  },
  {
   "cell_type": "markdown",
   "metadata": {},
   "source": [
    "Разбираюсь, что это такое и как работает на основе столбца tittle. \n",
    "Посмотрю на модели в лоб, данные как есть, а потом буду улучшать их и добавлять фичи."
   ]
  },
  {
   "cell_type": "code",
   "execution_count": 85,
   "metadata": {},
   "outputs": [
    {
     "data": {
      "text/plain": [
       "date                  0\n",
       "tittle                0\n",
       "text                  0\n",
       "rate                  0\n",
       "tittle_words_count    0\n",
       "text_words_count      0\n",
       "text_category         0\n",
       "text_clwords_count    0\n",
       "rate_category         0\n",
       "month                 0\n",
       "day                   0\n",
       "hour                  0\n",
       "weekday               0\n",
       "dtype: int64"
      ]
     },
     "execution_count": 85,
     "metadata": {},
     "output_type": "execute_result"
    }
   ],
   "source": [
    "df.isnull().sum()"
   ]
  },
  {
   "cell_type": "markdown",
   "metadata": {},
   "source": [
    "Т.к. у нас есть временной параметр, и мы хотим прогнозировать будущее, то нужно разбирть выборку на части отсортированную по времени. Учимся на прошлом, прогнозируем будущее."
   ]
  },
  {
   "cell_type": "code",
   "execution_count": 86,
   "metadata": {},
   "outputs": [],
   "source": [
    "def TrainTestSplitByDateTime (coef,df=df,y_col='rate'):\n",
    "    df.sort_values(by='date',ascending=True,inplace=True)\n",
    "    df.reset_index(drop=True,inplace=True);\n",
    "    \n",
    "    rate_cols = [col for col in df.columns if 'rate' in col]\n",
    "    X=df.drop(rate_cols,axis=1)\n",
    "    y=df[y_col]\n",
    "    train_part_size = int(coef * X.shape[0])\n",
    "    \n",
    "    X_train, X_test = X.iloc[:train_part_size, :],X.iloc[train_part_size:, :]\n",
    "    y_train, y_test = y.iloc[:train_part_size],y.iloc[train_part_size:]\n",
    "    \n",
    "    return X_train, X_test, y_train, y_test"
   ]
  },
  {
   "cell_type": "code",
   "execution_count": 88,
   "metadata": {
    "scrolled": true
   },
   "outputs": [],
   "source": [
    "X_train, X_test, y_train, y_test = TrainTestSplitByDateTime (.8,df,'rate')"
   ]
  },
  {
   "cell_type": "code",
   "execution_count": 89,
   "metadata": {},
   "outputs": [
    {
     "name": "stdout",
     "output_type": "stream",
     "text": [
      "Shape train:(15722, 11),test:(3931, 11)\n"
     ]
    }
   ],
   "source": [
    "print('Shape train:{},test:{}'.format(X_train.shape,X_test.shape))"
   ]
  },
  {
   "cell_type": "markdown",
   "metadata": {},
   "source": [
    "### CountVectorizer"
   ]
  },
  {
   "cell_type": "markdown",
   "metadata": {},
   "source": [
    "Токенизация и векторизация текста"
   ]
  },
  {
   "cell_type": "code",
   "execution_count": 90,
   "metadata": {},
   "outputs": [],
   "source": [
    "from sklearn.feature_extraction.text import CountVectorizer"
   ]
  },
  {
   "cell_type": "code",
   "execution_count": 91,
   "metadata": {},
   "outputs": [],
   "source": [
    "columnOne = 'text'"
   ]
  },
  {
   "cell_type": "code",
   "execution_count": 92,
   "metadata": {},
   "outputs": [],
   "source": [
    "X_train_curr = X_train[columnOne]\n",
    "X_test_curr = X_test[columnOne]"
   ]
  },
  {
   "cell_type": "code",
   "execution_count": 93,
   "metadata": {},
   "outputs": [],
   "source": [
    "count_vect = CountVectorizer(max_df=1.0, min_df=1,ngram_range=(1, 1)) #токенезированный мешок слов"
   ]
  },
  {
   "cell_type": "code",
   "execution_count": 94,
   "metadata": {},
   "outputs": [],
   "source": [
    "X_cvect_train = count_vect.fit_transform(X_train_curr) \n",
    "X_cvect_test = count_vect.transform(X_test_curr)"
   ]
  },
  {
   "cell_type": "code",
   "execution_count": 95,
   "metadata": {},
   "outputs": [
    {
     "data": {
      "text/plain": [
       "(15722, 198436)"
      ]
     },
     "execution_count": 95,
     "metadata": {},
     "output_type": "execute_result"
    }
   ],
   "source": [
    "#обучаемся на мешке слов и кодируем текст в вектора\n",
    "X_cvect_train.shape"
   ]
  },
  {
   "cell_type": "code",
   "execution_count": 96,
   "metadata": {},
   "outputs": [
    {
     "data": {
      "text/plain": [
       "(3931, 198436)"
      ]
     },
     "execution_count": 96,
     "metadata": {},
     "output_type": "execute_result"
    }
   ],
   "source": [
    "X_cvect_test.shape"
   ]
  },
  {
   "cell_type": "markdown",
   "metadata": {},
   "source": [
    "Очень длинный вектор, много слов! Нужно чистить."
   ]
  },
  {
   "cell_type": "code",
   "execution_count": 97,
   "metadata": {
    "scrolled": true
   },
   "outputs": [
    {
     "name": "stderr",
     "output_type": "stream",
     "text": [
      "IOPub data rate exceeded.\n",
      "The notebook server will temporarily stop sending output\n",
      "to the client in order to avoid crashing it.\n",
      "To change this limit, set the config variable\n",
      "`--NotebookApp.iopub_data_rate_limit`.\n",
      "\n",
      "Current values:\n",
      "NotebookApp.iopub_data_rate_limit=1000000.0 (bytes/sec)\n",
      "NotebookApp.rate_limit_window=3.0 (secs)\n",
      "\n"
     ]
    }
   ],
   "source": [
    "print(count_vect.get_feature_names()) #Мешок слов"
   ]
  },
  {
   "cell_type": "code",
   "execution_count": 98,
   "metadata": {},
   "outputs": [
    {
     "name": "stderr",
     "output_type": "stream",
     "text": [
      "IOPub data rate exceeded.\n",
      "The notebook server will temporarily stop sending output\n",
      "to the client in order to avoid crashing it.\n",
      "To change this limit, set the config variable\n",
      "`--NotebookApp.iopub_data_rate_limit`.\n",
      "\n",
      "Current values:\n",
      "NotebookApp.iopub_data_rate_limit=1000000.0 (bytes/sec)\n",
      "NotebookApp.rate_limit_window=3.0 (secs)\n",
      "\n"
     ]
    }
   ],
   "source": [
    "# словарь с идентификаторами расположения слов в словаре\n",
    "print(count_vect.vocabulary_)"
   ]
  },
  {
   "cell_type": "code",
   "execution_count": 99,
   "metadata": {},
   "outputs": [],
   "source": [
    "#закодированный (векторизированный) текст (матрица). Количество вхождений слова в словарь\n",
    "#X_cvect_train.toarray() "
   ]
  },
  {
   "cell_type": "code",
   "execution_count": 100,
   "metadata": {},
   "outputs": [],
   "source": [
    "# количественное вхождение каждого слова:\n",
    "matrix_freq = np.asarray(X_cvect_train.sum(axis=0)).ravel()\n",
    "final_matrix = np.array([np.array(count_vect.get_feature_names()), matrix_freq])"
   ]
  },
  {
   "cell_type": "code",
   "execution_count": 101,
   "metadata": {},
   "outputs": [
    {
     "data": {
      "text/plain": [
       "array([['00', '000', '0000', ..., '純一郎萩野', '迟志强', '평양순안국제공항'],\n",
       "       ['351', '910', '1', ..., '1', '1', '1']], dtype='<U81')"
      ]
     },
     "execution_count": 101,
     "metadata": {},
     "output_type": "execute_result"
    }
   ],
   "source": [
    "final_matrix"
   ]
  },
  {
   "cell_type": "markdown",
   "metadata": {},
   "source": [
    "Цифры и китайские символы, нужно избавляться от них."
   ]
  },
  {
   "cell_type": "markdown",
   "metadata": {},
   "source": [
    "### TfidfTransformer"
   ]
  },
  {
   "cell_type": "markdown",
   "metadata": {},
   "source": [
    "Векторизация с вычисление частот слов (Term Frequency - Inverse Document Frequency)"
   ]
  },
  {
   "cell_type": "code",
   "execution_count": 102,
   "metadata": {},
   "outputs": [],
   "source": [
    "from sklearn.feature_extraction.text import TfidfTransformer"
   ]
  },
  {
   "cell_type": "code",
   "execution_count": 103,
   "metadata": {},
   "outputs": [],
   "source": [
    "tfidf_transformer = TfidfTransformer()"
   ]
  },
  {
   "cell_type": "code",
   "execution_count": 104,
   "metadata": {},
   "outputs": [],
   "source": [
    "X_tfidf_train = tfidf_transformer.fit_transform(X_cvect_train)\n",
    "X_tfidf_test = tfidf_transformer.fit_transform(X_cvect_test)"
   ]
  },
  {
   "cell_type": "code",
   "execution_count": 105,
   "metadata": {},
   "outputs": [
    {
     "data": {
      "text/plain": [
       "(15722, 198436)"
      ]
     },
     "execution_count": 105,
     "metadata": {},
     "output_type": "execute_result"
    }
   ],
   "source": [
    "X_tfidf_train.shape"
   ]
  },
  {
   "cell_type": "code",
   "execution_count": 106,
   "metadata": {},
   "outputs": [
    {
     "data": {
      "text/plain": [
       "(3931, 198436)"
      ]
     },
     "execution_count": 106,
     "metadata": {},
     "output_type": "execute_result"
    }
   ],
   "source": [
    "X_tfidf_test.shape"
   ]
  },
  {
   "cell_type": "code",
   "execution_count": 107,
   "metadata": {
    "scrolled": true
   },
   "outputs": [],
   "source": [
    "#Tfidf матрица векторов с весами\n",
    "#X_tfidf_train.toarray()"
   ]
  },
  {
   "cell_type": "code",
   "execution_count": 108,
   "metadata": {},
   "outputs": [
    {
     "data": {
      "text/plain": [
       "array([4.94617014, 4.60407465, 8.5837563 , ..., 9.27690348, 9.27690348,\n",
       "       9.27690348])"
      ]
     },
     "execution_count": 108,
     "metadata": {},
     "output_type": "execute_result"
    }
   ],
   "source": [
    "tfidf_transformer.idf_"
   ]
  },
  {
   "cell_type": "code",
   "execution_count": 109,
   "metadata": {},
   "outputs": [],
   "source": [
    "#топ весов слов\n",
    "rr = dict(zip(count_vect.get_feature_names(), tfidf_transformer.idf_))"
   ]
  },
  {
   "cell_type": "code",
   "execution_count": 110,
   "metadata": {
    "scrolled": false
   },
   "outputs": [
    {
     "data": {
      "text/html": [
       "<div>\n",
       "<style scoped>\n",
       "    .dataframe tbody tr th:only-of-type {\n",
       "        vertical-align: middle;\n",
       "    }\n",
       "\n",
       "    .dataframe tbody tr th {\n",
       "        vertical-align: top;\n",
       "    }\n",
       "\n",
       "    .dataframe thead th {\n",
       "        text-align: right;\n",
       "    }\n",
       "</style>\n",
       "<table border=\"1\" class=\"dataframe\">\n",
       "  <thead>\n",
       "    <tr style=\"text-align: right;\">\n",
       "      <th></th>\n",
       "      <th>token</th>\n",
       "      <th>weight</th>\n",
       "    </tr>\n",
       "  </thead>\n",
       "  <tbody>\n",
       "    <tr>\n",
       "      <th>99218</th>\n",
       "      <td>миллениума</td>\n",
       "      <td>9.276903</td>\n",
       "    </tr>\n",
       "    <tr>\n",
       "      <th>114891</th>\n",
       "      <td>обретенного</td>\n",
       "      <td>9.276903</td>\n",
       "    </tr>\n",
       "    <tr>\n",
       "      <th>114872</th>\n",
       "      <td>обременительные</td>\n",
       "      <td>9.276903</td>\n",
       "    </tr>\n",
       "    <tr>\n",
       "      <th>114873</th>\n",
       "      <td>обременительным</td>\n",
       "      <td>9.276903</td>\n",
       "    </tr>\n",
       "    <tr>\n",
       "      <th>114874</th>\n",
       "      <td>обременительных</td>\n",
       "      <td>9.276903</td>\n",
       "    </tr>\n",
       "    <tr>\n",
       "      <th>114875</th>\n",
       "      <td>обременяют</td>\n",
       "      <td>9.276903</td>\n",
       "    </tr>\n",
       "    <tr>\n",
       "      <th>114876</th>\n",
       "      <td>обременяя</td>\n",
       "      <td>9.276903</td>\n",
       "    </tr>\n",
       "    <tr>\n",
       "      <th>114877</th>\n",
       "      <td>обременён</td>\n",
       "      <td>9.276903</td>\n",
       "    </tr>\n",
       "    <tr>\n",
       "      <th>114878</th>\n",
       "      <td>обременённые</td>\n",
       "      <td>9.276903</td>\n",
       "    </tr>\n",
       "    <tr>\n",
       "      <th>114880</th>\n",
       "      <td>обретавшейся</td>\n",
       "      <td>9.276903</td>\n",
       "    </tr>\n",
       "  </tbody>\n",
       "</table>\n",
       "</div>"
      ],
      "text/plain": [
       "                  token    weight\n",
       "99218        миллениума  9.276903\n",
       "114891      обретенного  9.276903\n",
       "114872  обременительные  9.276903\n",
       "114873  обременительным  9.276903\n",
       "114874  обременительных  9.276903\n",
       "114875       обременяют  9.276903\n",
       "114876        обременяя  9.276903\n",
       "114877        обременён  9.276903\n",
       "114878     обременённые  9.276903\n",
       "114880     обретавшейся  9.276903"
      ]
     },
     "execution_count": 110,
     "metadata": {},
     "output_type": "execute_result"
    }
   ],
   "source": [
    "token_weight = pd.DataFrame.from_dict(rr, orient='index').reset_index()\n",
    "token_weight.columns=('token','weight')\n",
    "token_weight = token_weight.sort_values(by='weight', ascending=False)\n",
    "token_weight.head(10)"
   ]
  },
  {
   "cell_type": "code",
   "execution_count": 111,
   "metadata": {},
   "outputs": [
    {
     "data": {
      "text/html": [
       "<div>\n",
       "<style scoped>\n",
       "    .dataframe tbody tr th:only-of-type {\n",
       "        vertical-align: middle;\n",
       "    }\n",
       "\n",
       "    .dataframe tbody tr th {\n",
       "        vertical-align: top;\n",
       "    }\n",
       "\n",
       "    .dataframe thead th {\n",
       "        text-align: right;\n",
       "    }\n",
       "</style>\n",
       "<table border=\"1\" class=\"dataframe\">\n",
       "  <thead>\n",
       "    <tr style=\"text-align: right;\">\n",
       "      <th></th>\n",
       "      <th>token</th>\n",
       "      <th>weight</th>\n",
       "    </tr>\n",
       "  </thead>\n",
       "  <tbody>\n",
       "    <tr>\n",
       "      <th>78086</th>\n",
       "      <td>из</td>\n",
       "      <td>1.726242</td>\n",
       "    </tr>\n",
       "    <tr>\n",
       "      <th>178054</th>\n",
       "      <td>то</td>\n",
       "      <td>1.697736</td>\n",
       "    </tr>\n",
       "    <tr>\n",
       "      <th>111921</th>\n",
       "      <td>но</td>\n",
       "      <td>1.656689</td>\n",
       "    </tr>\n",
       "    <tr>\n",
       "      <th>197358</th>\n",
       "      <td>это</td>\n",
       "      <td>1.584334</td>\n",
       "    </tr>\n",
       "    <tr>\n",
       "      <th>83102</th>\n",
       "      <td>как</td>\n",
       "      <td>1.563119</td>\n",
       "    </tr>\n",
       "    <tr>\n",
       "      <th>130269</th>\n",
       "      <td>по</td>\n",
       "      <td>1.493679</td>\n",
       "    </tr>\n",
       "    <tr>\n",
       "      <th>65693</th>\n",
       "      <td>для</td>\n",
       "      <td>1.474694</td>\n",
       "    </tr>\n",
       "    <tr>\n",
       "      <th>193495</th>\n",
       "      <td>что</td>\n",
       "      <td>1.375896</td>\n",
       "    </tr>\n",
       "    <tr>\n",
       "      <th>106710</th>\n",
       "      <td>не</td>\n",
       "      <td>1.312400</td>\n",
       "    </tr>\n",
       "    <tr>\n",
       "      <th>102658</th>\n",
       "      <td>на</td>\n",
       "      <td>1.191417</td>\n",
       "    </tr>\n",
       "  </tbody>\n",
       "</table>\n",
       "</div>"
      ],
      "text/plain": [
       "       token    weight\n",
       "78086     из  1.726242\n",
       "178054    то  1.697736\n",
       "111921    но  1.656689\n",
       "197358   это  1.584334\n",
       "83102    как  1.563119\n",
       "130269    по  1.493679\n",
       "65693    для  1.474694\n",
       "193495   что  1.375896\n",
       "106710    не  1.312400\n",
       "102658    на  1.191417"
      ]
     },
     "execution_count": 111,
     "metadata": {},
     "output_type": "execute_result"
    }
   ],
   "source": [
    "token_weight.tail(10)"
   ]
  },
  {
   "cell_type": "markdown",
   "metadata": {},
   "source": [
    "Низкий вес у часто встречающихся слов, как раз тут видно, что это предлоги и частицы, от них тоже нужно избавиться в словаре."
   ]
  },
  {
   "cell_type": "code",
   "execution_count": 112,
   "metadata": {},
   "outputs": [],
   "source": [
    "#np.isnan(X_tfidf_train.toarray().any())"
   ]
  },
  {
   "cell_type": "markdown",
   "metadata": {},
   "source": [
    "### HashingVectorizer"
   ]
  },
  {
   "cell_type": "markdown",
   "metadata": {},
   "source": [
    "Односторонний хэш слов для преобразования их в целые числа"
   ]
  },
  {
   "cell_type": "code",
   "execution_count": 113,
   "metadata": {},
   "outputs": [],
   "source": [
    "from sklearn.feature_extraction.text import HashingVectorizer"
   ]
  },
  {
   "cell_type": "code",
   "execution_count": 114,
   "metadata": {},
   "outputs": [],
   "source": [
    "hash_vect = HashingVectorizer(n_features=1000)"
   ]
  },
  {
   "cell_type": "code",
   "execution_count": 115,
   "metadata": {},
   "outputs": [],
   "source": [
    "X_hashvect_train = hash_vect.fit_transform(X_train_curr)\n",
    "X_hashvect_test = hash_vect.transform(X_test_curr)"
   ]
  },
  {
   "cell_type": "code",
   "execution_count": 116,
   "metadata": {
    "scrolled": true
   },
   "outputs": [
    {
     "name": "stdout",
     "output_type": "stream",
     "text": [
      "(15722, 1000)\n",
      "[[ 0.          0.          0.         ...  0.          0.\n",
      "   0.06868028]\n",
      " [ 0.          0.06757374  0.         ...  0.          0.06757374\n",
      "   0.        ]\n",
      " [ 0.          0.          0.         ...  0.          0.\n",
      "   0.        ]\n",
      " ...\n",
      " [ 0.          0.         -0.09950372 ...  0.          0.\n",
      "   0.        ]\n",
      " [ 0.          0.          0.         ...  0.          0.\n",
      "   0.        ]\n",
      " [-0.06183924  0.          0.         ...  0.          0.\n",
      "   0.        ]]\n"
     ]
    }
   ],
   "source": [
    "# summarize encoded vector\n",
    "print(X_hashvect_train.shape)\n",
    "print(X_hashvect_train.toarray())"
   ]
  },
  {
   "cell_type": "code",
   "execution_count": 117,
   "metadata": {
    "scrolled": false
   },
   "outputs": [
    {
     "name": "stdout",
     "output_type": "stream",
     "text": [
      "(3931, 1000)\n",
      "[[-0.01443376 -0.04330127  0.         ...  0.          0.01443376\n",
      "   0.        ]\n",
      " [ 0.08391814  0.          0.         ...  0.          0.08391814\n",
      "   0.        ]\n",
      " [ 0.08391814  0.          0.         ...  0.          0.08391814\n",
      "   0.        ]\n",
      " ...\n",
      " [ 0.          0.07412493  0.         ...  0.          0.\n",
      "   0.        ]\n",
      " [ 0.          0.          0.         ...  0.          0.\n",
      "   0.        ]\n",
      " [ 0.          0.          0.         ...  0.          0.\n",
      "   0.        ]]\n"
     ]
    }
   ],
   "source": [
    "print(X_hashvect_test.shape)\n",
    "print(X_hashvect_test.toarray())"
   ]
  },
  {
   "cell_type": "markdown",
   "metadata": {},
   "source": [
    "---------------------------------------"
   ]
  },
  {
   "cell_type": "markdown",
   "metadata": {},
   "source": [
    "При большом количестве данных словарь получается очень большой, очень много мусорных слов. При больших выборках (>40000) результирующая матрица на столько большая, что не хватает памяти. Необходимо обработать текст."
   ]
  },
  {
   "cell_type": "markdown",
   "metadata": {},
   "source": [
    "Выполню простую нормализация текста"
   ]
  },
  {
   "cell_type": "code",
   "execution_count": 118,
   "metadata": {},
   "outputs": [],
   "source": [
    "import pymorphy2"
   ]
  },
  {
   "cell_type": "code",
   "execution_count": 119,
   "metadata": {},
   "outputs": [],
   "source": [
    "def f_tokenizer(s):\n",
    "    morph = pymorphy2.MorphAnalyzer()    \n",
    "    if type(s) == str:\n",
    "        t = s.split(' ')\n",
    "    else:\n",
    "        t = s\n",
    "    f = []\n",
    "    for j in t:\n",
    "        m = morph.parse(j.replace('.',''))\n",
    "        if len(m) != 0:\n",
    "            wrd = m[0]\n",
    "            if wrd.tag.POS not in ('NUMR','PREP','CONJ','PRCL','INTJ'):\n",
    "                f.append(wrd.normal_form)\n",
    "    return ' '.join(f)"
   ]
  },
  {
   "cell_type": "markdown",
   "metadata": {},
   "source": [
    "<font color='green'>#new_feature</font>"
   ]
  },
  {
   "cell_type": "code",
   "execution_count": 120,
   "metadata": {},
   "outputs": [],
   "source": [
    "def AddNewFeature_norm():\n",
    "    df[columnOne+'_norm']=df[columnOne].apply(lambda t: f_tokenizer(t))"
   ]
  },
  {
   "cell_type": "code",
   "execution_count": 121,
   "metadata": {
    "scrolled": true
   },
   "outputs": [],
   "source": [
    "AddNewFeature_norm()"
   ]
  },
  {
   "cell_type": "code",
   "execution_count": 705,
   "metadata": {
    "scrolled": true
   },
   "outputs": [
    {
     "data": {
      "text/html": [
       "<div>\n",
       "<style scoped>\n",
       "    .dataframe tbody tr th:only-of-type {\n",
       "        vertical-align: middle;\n",
       "    }\n",
       "\n",
       "    .dataframe tbody tr th {\n",
       "        vertical-align: top;\n",
       "    }\n",
       "\n",
       "    .dataframe thead th {\n",
       "        text-align: right;\n",
       "    }\n",
       "</style>\n",
       "<table border=\"1\" class=\"dataframe\">\n",
       "  <thead>\n",
       "    <tr style=\"text-align: right;\">\n",
       "      <th></th>\n",
       "      <th>text</th>\n",
       "      <th>text_norm</th>\n",
       "    </tr>\n",
       "  </thead>\n",
       "  <tbody>\n",
       "    <tr>\n",
       "      <th>0</th>\n",
       "      <td>два крупнейших портала российского интернета — mail.ru и «яндекс» — договорились о стратегическом партнерстве в области поисковых технологий и контекстной рекламы. согласно договоренности, с начала 2006 года на портале mail.ru установлен поисковый механизм, разработанный компанией «яндекс», а на страницах с результатами поиска вся контекстная реклама будет размещаться при помощи системы «яндекс.директ».   в конце 2005 года у mail.ru закончился контракт с поставщиком поискового решения, компанией google, и руководством компании было принято решение изучить все существующие конкурентоспособные предложения в этой области. в качестве потенциальных партнеров рассматривались несколько крупных российских и зарубежных поисковых систем, в том числе и прежний поставщик.   «решение о выборе яндекса в качестве партнера, предоставляющего систему продажи контекстной рекламы, а также поисковое решение, было принято исходя из совокупности многих факторов, — говорит генеральный директор компании mail.ru дмитрий гришин. — с одной стороны — это возможность предложить пользователям портала качественный поисковый механизм, адаптированный для русскоязычных пользователей; с другой — за счет этого сотрудничества мы планируем значительно повысить наши доходы от продажи контекстной рекламы».</td>\n",
       "      <td>крупный портал российский интернет — mailru «яндекс» — договориться стратегический партнерство область поисковый технология контекстный реклама договоренности, начало 2006 год портал mailru установить поисковый механизм, разработать компания «яндекс», страница результат поиск весь контекстный реклама быть размещаться помощь система «яндексдирект»   конец 2005 год mailru закончиться контракт поставщик поисковый решения, компания google, руководство компания быть принять решение изучить весь существующий конкурентоспособный предложение этот область качество потенциальный партнёр рассматриваться несколько крупный российский зарубежный поисковый систем, тот число прежний поставщик   «решение выбор яндекс качество партнера, предоставлять система продажа контекстный рекламы, поисковый решение, быть принять исходить совокупность многий факторов, — говорить генеральный директор компания mailru дмитрий гришин — один сторона — возможность предложить пользователь портал качественный поисковый механизм, адаптировать русскоязычный пользователей; другой — счёт это сотрудничество мы планировать значительно повысить наш доход продажа контекстный рекламы»</td>\n",
       "    </tr>\n",
       "    <tr>\n",
       "      <th>1</th>\n",
       "      <td>сегодня стартует «яндекс.тариф» — проект «яндекса» по продвижению широкополосного доступа к сети.    в проекте участвуют два типа предложений: «яндекс.тарифы» и «тарифы-кандидаты». «яндекс.тариф» — это услуга безлимитного доступа в интернет с фиксированной абонентской платой, не превышающей 30$ в месяц, и скоростью передачи данных не менее 128 кбит/с. предложения с подходящими техническими условиями, но стоимостью несколько выше указанного порога, попадают в категорию «тарифов-кандидатов». на сайте проекта пользователи смогут выбрать наиболее удобный тариф для своего региона. по мере развития широкополосного доступа в россии параметры «яндекс.тарифа» будут пересматриваться.    «развитие недорогого и неограниченного широкополосного доступа выгодно не только пользователям, но и создателям сайтов. считайте это материальной заинтересованностью и яндекса тоже, — говорит аркадий волож, генеральный директор компании «яндекс». — в этом году «правильные» тарифы будут появляться у многих провайдеров во многих городах. мы запускаем яндекс.тариф, чтобы следить за этим захватывающим процессом, потому что уверены, что само наблюдение способно его ускорить».</td>\n",
       "      <td>сегодня стартовать «яндекстариф» — проект «яндекса» продвижение широкополосный доступ сеть    проект участвовать тип предложений: «яндекстарифы» «тарифы-кандидаты» «яндекстариф» — услуга безлимитный доступ интернет фиксировать абонентский платой, превышать 30$ месяц, скорость передача дать менее 128 кбит/с предложение подходящий технический условиями, стоимость несколько выше указанный порога, попадать категория «тарифов-кандидатов» сайт проект пользователь смочь выбрать наиболее удобный тариф свой регион мера развитие широкополосный доступ россия параметр «яндекстарифа» быть пересматриваться    «развитие недорогой неограниченный широкополосный доступ выгодно пользователям, создатель сайт считать материальный заинтересованность яндекс тоже, — говорить аркадий волож, генеральный директор компания «яндекс» — это год «правильные» тариф быть появляться многий провайдер многий город мы запускать яндекстариф, следить это захватывать процессом, потому уверены, сам наблюдение способный он ускорить»</td>\n",
       "    </tr>\n",
       "  </tbody>\n",
       "</table>\n",
       "</div>"
      ],
      "text/plain": [
       "                                                                                                                                                                                                                                                                                                                                                                                                                                                                                                                                                                                                                                                                                                                                                                                                                                                                                                                                                                                                                                                                                                                                                                                                                                                                                                                                        text  \\\n",
       "0   два крупнейших портала российского интернета — mail.ru и «яндекс» — договорились о стратегическом партнерстве в области поисковых технологий и контекстной рекламы. согласно договоренности, с начала 2006 года на портале mail.ru установлен поисковый механизм, разработанный компанией «яндекс», а на страницах с результатами поиска вся контекстная реклама будет размещаться при помощи системы «яндекс.директ».   в конце 2005 года у mail.ru закончился контракт с поставщиком поискового решения, компанией google, и руководством компании было принято решение изучить все существующие конкурентоспособные предложения в этой области. в качестве потенциальных партнеров рассматривались несколько крупных российских и зарубежных поисковых систем, в том числе и прежний поставщик.   «решение о выборе яндекса в качестве партнера, предоставляющего систему продажи контекстной рекламы, а также поисковое решение, было принято исходя из совокупности многих факторов, — говорит генеральный директор компании mail.ru дмитрий гришин. — с одной стороны — это возможность предложить пользователям портала качественный поисковый механизм, адаптированный для русскоязычных пользователей; с другой — за счет этого сотрудничества мы планируем значительно повысить наши доходы от продажи контекстной рекламы».     \n",
       "1   сегодня стартует «яндекс.тариф» — проект «яндекса» по продвижению широкополосного доступа к сети.    в проекте участвуют два типа предложений: «яндекс.тарифы» и «тарифы-кандидаты». «яндекс.тариф» — это услуга безлимитного доступа в интернет с фиксированной абонентской платой, не превышающей 30$ в месяц, и скоростью передачи данных не менее 128 кбит/с. предложения с подходящими техническими условиями, но стоимостью несколько выше указанного порога, попадают в категорию «тарифов-кандидатов». на сайте проекта пользователи смогут выбрать наиболее удобный тариф для своего региона. по мере развития широкополосного доступа в россии параметры «яндекс.тарифа» будут пересматриваться.    «развитие недорогого и неограниченного широкополосного доступа выгодно не только пользователям, но и создателям сайтов. считайте это материальной заинтересованностью и яндекса тоже, — говорит аркадий волож, генеральный директор компании «яндекс». — в этом году «правильные» тарифы будут появляться у многих провайдеров во многих городах. мы запускаем яндекс.тариф, чтобы следить за этим захватывающим процессом, потому что уверены, что само наблюдение способно его ускорить».                                                                                                                                  \n",
       "\n",
       "                                                                                                                                                                                                                                                                                                                                                                                                                                                                                                                                                                                                                                                                                                                                                                                                                                                                                                                                                                                                                                                                                                                                                                                                 text_norm  \n",
       "0   крупный портал российский интернет — mailru «яндекс» — договориться стратегический партнерство область поисковый технология контекстный реклама договоренности, начало 2006 год портал mailru установить поисковый механизм, разработать компания «яндекс», страница результат поиск весь контекстный реклама быть размещаться помощь система «яндексдирект»   конец 2005 год mailru закончиться контракт поставщик поисковый решения, компания google, руководство компания быть принять решение изучить весь существующий конкурентоспособный предложение этот область качество потенциальный партнёр рассматриваться несколько крупный российский зарубежный поисковый систем, тот число прежний поставщик   «решение выбор яндекс качество партнера, предоставлять система продажа контекстный рекламы, поисковый решение, быть принять исходить совокупность многий факторов, — говорить генеральный директор компания mailru дмитрий гришин — один сторона — возможность предложить пользователь портал качественный поисковый механизм, адаптировать русскоязычный пользователей; другой — счёт это сотрудничество мы планировать значительно повысить наш доход продажа контекстный рекламы»    \n",
       "1   сегодня стартовать «яндекстариф» — проект «яндекса» продвижение широкополосный доступ сеть    проект участвовать тип предложений: «яндекстарифы» «тарифы-кандидаты» «яндекстариф» — услуга безлимитный доступ интернет фиксировать абонентский платой, превышать 30$ месяц, скорость передача дать менее 128 кбит/с предложение подходящий технический условиями, стоимость несколько выше указанный порога, попадать категория «тарифов-кандидатов» сайт проект пользователь смочь выбрать наиболее удобный тариф свой регион мера развитие широкополосный доступ россия параметр «яндекстарифа» быть пересматриваться    «развитие недорогой неограниченный широкополосный доступ выгодно пользователям, создатель сайт считать материальный заинтересованность яндекс тоже, — говорить аркадий волож, генеральный директор компания «яндекс» — это год «правильные» тариф быть появляться многий провайдер многий город мы запускать яндекстариф, следить это захватывать процессом, потому уверены, сам наблюдение способный он ускорить»                                                                                                                                                           "
      ]
     },
     "execution_count": 705,
     "metadata": {},
     "output_type": "execute_result"
    }
   ],
   "source": [
    "df[[columnOne,columnOne+'_norm']].head(2)"
   ]
  },
  {
   "cell_type": "markdown",
   "metadata": {},
   "source": [
    "Выделю слова на кирилице и латинице а так же сайты в отдельные словари"
   ]
  },
  {
   "cell_type": "markdown",
   "metadata": {},
   "source": [
    "Создам еще несколько фичей на основе текста"
   ]
  },
  {
   "cell_type": "markdown",
   "metadata": {},
   "source": [
    "<font color='green'>#new_feature</font>"
   ]
  },
  {
   "cell_type": "code",
   "execution_count": 125,
   "metadata": {},
   "outputs": [],
   "source": [
    "def GetSites (txt):  \n",
    "    sites = re.findall(r'[\\w]+\\.{1,1}[^\\.\\d^\\s]\\w{1,3}\\b',str(txt)) #сайты\n",
    "    return (' '.join(sites)).replace('.','_'),len(sites)"
   ]
  },
  {
   "cell_type": "code",
   "execution_count": 126,
   "metadata": {},
   "outputs": [],
   "source": [
    "def GetEnWords (txt):  \n",
    "    en_words = re.findall(r'\\b[a-z]{3,}\\b',re.sub(r'[a-z]{2,}\\.+[a-z]*\\b','',str(txt))) #слова на латинице от 3х букв    \n",
    "    return ' '.join(en_words),len(en_words)"
   ]
  },
  {
   "cell_type": "code",
   "execution_count": 127,
   "metadata": {},
   "outputs": [],
   "source": [
    "def GetRuWords (txt):  \n",
    "    ru_words = re.findall(r'\\b[а-я]{4,}\\b',re.sub(r'[а-я]{2,}\\.+[а-я]*\\b','',str(txt))) #слова на кириллице от 4х букв\n",
    "    return ' '.join(ru_words),len(ru_words)"
   ]
  },
  {
   "cell_type": "code",
   "execution_count": 131,
   "metadata": {},
   "outputs": [],
   "source": [
    "def GetPunctuationsCount (txt):  \n",
    "    punctuations  = re.findall(r'[^\\w\\s]',txt) #Знаки препинания\n",
    "    return len(punctuations)"
   ]
  },
  {
   "cell_type": "code",
   "execution_count": 128,
   "metadata": {},
   "outputs": [],
   "source": [
    "def GetEmotionsCount (txt):  \n",
    "    emotions  = re.findall(r'[\\?]{2,}|[\\!]{2,}',txt) #Знаки ??? , !!!\n",
    "    return len(emotions)"
   ]
  },
  {
   "cell_type": "code",
   "execution_count": 225,
   "metadata": {},
   "outputs": [],
   "source": [
    "def AddNewFeature_split_txt(column):\n",
    "    for index, row in df.iterrows():\n",
    "        df.loc[index, 'sites_'+column],df.loc[index, 'sites_'+column+'_count'] = GetSites(row[column])\n",
    "        df.loc[index, 'ru_words_'+column],df.loc[index, 'ru_words_'+column+'_count'] = GetRuWords(row[column+'_norm'])\n",
    "        df.loc[index, 'en_words_'+column],df.loc[index, 'en_words_'+column+'_count'] = GetEnWords(row[column])\n",
    "        df.loc[index, 'punctuations_'+column+'_count'] = GetPunctuationsCount(row[column])\n",
    "        df.loc[index, 'emotions_'+column+'_count'] = GetEmotionsCount(row[column])"
   ]
  },
  {
   "cell_type": "code",
   "execution_count": 418,
   "metadata": {
    "scrolled": true
   },
   "outputs": [],
   "source": [
    "AddNewFeature_split_txt(columnOne)"
   ]
  },
  {
   "cell_type": "markdown",
   "metadata": {},
   "source": [
    "<font color='green'>#new_feature</font>"
   ]
  },
  {
   "cell_type": "markdown",
   "metadata": {},
   "source": [
    "Заменю буквенные категории на числовые"
   ]
  },
  {
   "cell_type": "code",
   "execution_count": 419,
   "metadata": {},
   "outputs": [],
   "source": [
    "def AddNewFeature_text_category_int():\n",
    "    df['text_category_int'] = df['text_category'].map({'z':0,'s':1,'m':2,'l':3,'xl':4})"
   ]
  },
  {
   "cell_type": "code",
   "execution_count": 420,
   "metadata": {
    "scrolled": true
   },
   "outputs": [],
   "source": [
    "AddNewFeature_text_category_int()"
   ]
  },
  {
   "cell_type": "markdown",
   "metadata": {},
   "source": [
    "Посмотрим на графики:"
   ]
  },
  {
   "cell_type": "code",
   "execution_count": 229,
   "metadata": {
    "scrolled": false
   },
   "outputs": [
    {
     "data": {
      "image/png": "[encoded data removed]",
      "text/plain": [
       "<Figure size 432x288 with 2 Axes>"
      ]
     },
     "metadata": {
      "needs_background": "light"
     },
     "output_type": "display_data"
    }
   ],
   "source": [
    "sns.heatmap(df[['rate', 'sites_text_count', 'ru_words_text_count', 'en_words_text_count',\\\n",
    "                'punctuations_text_count','emotions_text_count','text_category_int',\\\n",
    "               'tittle_words_count','text_words_count']].corr(method='pearson'));"
   ]
  },
  {
   "cell_type": "markdown",
   "metadata": {},
   "source": [
    "Какой то сильной корреляции фич с рейтингом нет. Некоторые фичи хорошо коррелируют между собой, это и понятно."
   ]
  },
  {
   "cell_type": "markdown",
   "metadata": {},
   "source": [
    "Возьму натуральные логарифмы от всех числовых признаков, кроме категориальных:"
   ]
  },
  {
   "cell_type": "code",
   "execution_count": 421,
   "metadata": {},
   "outputs": [],
   "source": [
    "df['rate_log'] = np.log(df['rate'] - df['rate'].min()+1e-8)"
   ]
  },
  {
   "cell_type": "code",
   "execution_count": 422,
   "metadata": {},
   "outputs": [],
   "source": [
    "df['rate_cube_r'] = df['rate'].apply(lambda r: int(r)**(1/3))"
   ]
  },
  {
   "cell_type": "code",
   "execution_count": 423,
   "metadata": {},
   "outputs": [],
   "source": [
    "df['text_words_count_log'] = np.log(df['text_words_count'])\n",
    "df['tittle_words_count_log'] = np.log(df['tittle_words_count'])"
   ]
  },
  {
   "cell_type": "code",
   "execution_count": 706,
   "metadata": {},
   "outputs": [],
   "source": [
    "df['sites_text_count_log'] = np.log(df['sites_text_count'])\n",
    "df['ru_words_text_count_log'] = np.log(df['ru_words_text_count'])\n",
    "df['en_words_text_count_log'] = np.log(df['en_words_text_count'])\n",
    "df['punctuations_text_count_log'] = np.log(df['punctuations_text_count'])\n",
    "df['emotions_text_count_log'] = np.log(df['emotions_text_count'])"
   ]
  },
  {
   "cell_type": "markdown",
   "metadata": {},
   "source": [
    "#### Сформирую новые словари и новые матрицы векторов"
   ]
  },
  {
   "cell_type": "markdown",
   "metadata": {},
   "source": [
    "Формирую 3 словаря - ru,eng,sites, так же в этом случае уйдут все цифры, даты и прочие малоинформативные артифакты"
   ]
  },
  {
   "cell_type": "markdown",
   "metadata": {},
   "source": [
    "Так же уберу слова, которые очень редко и очень часто встречаются"
   ]
  },
  {
   "cell_type": "code",
   "execution_count": 569,
   "metadata": {},
   "outputs": [],
   "source": [
    "n_features=1000 #n_features для HashingVectorizer\n",
    "cv_max_df=0.99 #Параметры для CountVectorizer default 1.0\n",
    "cv_min_df=0.005 #Параметры для CountVectorizer default 1\n",
    "cv_ngram_range=(1, 1) #Параметры для CountVectorizer"
   ]
  },
  {
   "cell_type": "code",
   "execution_count": 570,
   "metadata": {},
   "outputs": [],
   "source": [
    "import datetime"
   ]
  },
  {
   "cell_type": "markdown",
   "metadata": {},
   "source": [
    "Имя файла для сохранения таблицы с метриками в csv:"
   ]
  },
  {
   "cell_type": "code",
   "execution_count": 571,
   "metadata": {},
   "outputs": [],
   "source": [
    "fileNameFromExport = 'ex_habr_'+str(rowCountFromCSV)+'_'+str(n_features)+'_'+\\\n",
    "                      str(cv_max_df)+'_'+str(cv_min_df)+'_'+\\\n",
    "                      str(cv_ngram_range)+'_'+f\"{datetime.datetime.now():%Y-%m-%d %H-%M-%S}\"+'.csv'"
   ]
  },
  {
   "cell_type": "code",
   "execution_count": 572,
   "metadata": {},
   "outputs": [],
   "source": [
    "count_vect = CountVectorizer(max_df=cv_max_df, min_df=cv_min_df,\\\n",
    "                             ngram_range=cv_ngram_range)\n",
    "tfidf_transformer = TfidfTransformer()\n",
    "hash_vect = HashingVectorizer(n_features=n_features)"
   ]
  },
  {
   "cell_type": "code",
   "execution_count": 573,
   "metadata": {},
   "outputs": [],
   "source": [
    "X_train, X_test, y_train, y_test = TrainTestSplitByDateTime (.8,df,'rate')\n",
    "X_train, X_test, y_train_l, y_test_l = TrainTestSplitByDateTime (.8,df,'rate_log')"
   ]
  },
  {
   "cell_type": "code",
   "execution_count": 574,
   "metadata": {},
   "outputs": [],
   "source": [
    "ys = [[y_train,y_test,False],[y_train_l,y_test_l,True]]"
   ]
  },
  {
   "cell_type": "code",
   "execution_count": 575,
   "metadata": {},
   "outputs": [
    {
     "name": "stdout",
     "output_type": "stream",
     "text": [
      "Shape train:(15722, 29),test:(3931, 29)\n"
     ]
    }
   ],
   "source": [
    "print('Shape train:{},test:{}'.format(X_train.shape,X_test.shape))"
   ]
  },
  {
   "cell_type": "code",
   "execution_count": 576,
   "metadata": {
    "scrolled": false
   },
   "outputs": [],
   "source": [
    "X_train_curr = X_train['ru_words_'+columnOne]\n",
    "X_test_curr = X_test['ru_words_'+columnOne]"
   ]
  },
  {
   "cell_type": "code",
   "execution_count": 577,
   "metadata": {},
   "outputs": [],
   "source": [
    "X_cvect_ru_words_train = count_vect.fit_transform(X_train_curr) \n",
    "X_tfidf_ru_words_train = tfidf_transformer.fit_transform(X_cvect_ru_words_train)\n",
    "X_cvect_ru_words_test = count_vect.transform(X_test_curr) \n",
    "X_tfidf_ru_words_test = tfidf_transformer.transform(X_cvect_ru_words_test)\n",
    "X_hashvect_ru_words_train = hash_vect.fit_transform(X_train_curr)\n",
    "X_hashvect_ru_words_test = hash_vect.transform(X_test_curr)\n",
    "\n",
    "rr_ru = dict(zip(count_vect.get_feature_names(), tfidf_transformer.idf_))"
   ]
  },
  {
   "cell_type": "code",
   "execution_count": 578,
   "metadata": {},
   "outputs": [
    {
     "name": "stdout",
     "output_type": "stream",
     "text": [
      "(15722, 3060) (15722, 3060) (15722, 1000)\n"
     ]
    }
   ],
   "source": [
    "print(X_cvect_ru_words_train.shape,X_tfidf_ru_words_train.shape,X_hashvect_ru_words_train.shape)"
   ]
  },
  {
   "cell_type": "code",
   "execution_count": 579,
   "metadata": {},
   "outputs": [],
   "source": [
    "X_train_curr = X_train['en_words_'+columnOne]\n",
    "X_test_curr = X_test['en_words_'+columnOne]"
   ]
  },
  {
   "cell_type": "code",
   "execution_count": 580,
   "metadata": {},
   "outputs": [],
   "source": [
    "X_cvect_en_words_train = count_vect.fit_transform(X_train_curr) \n",
    "X_tfidf_en_words_train = tfidf_transformer.fit_transform(X_cvect_en_words_train)\n",
    "X_cvect_en_words_test = count_vect.transform(X_test_curr) \n",
    "X_tfidf_en_words_test = tfidf_transformer.transform(X_cvect_en_words_test)\n",
    "X_hashvect_en_words_train = hash_vect.fit_transform(X_train_curr)\n",
    "X_hashvect_en_words_test = hash_vect.transform(X_test_curr)\n",
    "\n",
    "rr_en = dict(zip(count_vect.get_feature_names(), tfidf_transformer.idf_))"
   ]
  },
  {
   "cell_type": "code",
   "execution_count": 581,
   "metadata": {},
   "outputs": [],
   "source": [
    "#Посмотрим на топ веса 2х словарей\n",
    "def token_weight_df (dic, prefix):    \n",
    "    token_weight = pd.DataFrame.from_dict(dic, orient='index').reset_index()\n",
    "    token_weight.columns=(prefix,'weight_'+prefix)\n",
    "    token_weight = token_weight.sort_values(by='weight_'+prefix, ascending=False)\n",
    "    return token_weight\n",
    "\n",
    "rr_2_voc = pd.concat([token_weight_df(rr_ru,'ru').reset_index(drop=True),\\\n",
    "                      token_weight_df(rr_en,'en').reset_index(drop=True),\\\n",
    "                     ],axis=1)"
   ]
  },
  {
   "cell_type": "code",
   "execution_count": 582,
   "metadata": {},
   "outputs": [
    {
     "data": {
      "text/html": [
       "<div>\n",
       "<style scoped>\n",
       "    .dataframe tbody tr th:only-of-type {\n",
       "        vertical-align: middle;\n",
       "    }\n",
       "\n",
       "    .dataframe tbody tr th {\n",
       "        vertical-align: top;\n",
       "    }\n",
       "\n",
       "    .dataframe thead th {\n",
       "        text-align: right;\n",
       "    }\n",
       "</style>\n",
       "<table border=\"1\" class=\"dataframe\">\n",
       "  <thead>\n",
       "    <tr style=\"text-align: right;\">\n",
       "      <th></th>\n",
       "      <th>ru</th>\n",
       "      <th>weight_ru</th>\n",
       "      <th>en</th>\n",
       "      <th>weight_en</th>\n",
       "    </tr>\n",
       "  </thead>\n",
       "  <tbody>\n",
       "    <tr>\n",
       "      <th>0</th>\n",
       "      <td>ссылок</td>\n",
       "      <td>6.280853</td>\n",
       "      <td>cnews</td>\n",
       "      <td>6.280853</td>\n",
       "    </tr>\n",
       "    <tr>\n",
       "      <th>1</th>\n",
       "      <td>противник</td>\n",
       "      <td>6.280853</td>\n",
       "      <td>adwords</td>\n",
       "      <td>6.268431</td>\n",
       "    </tr>\n",
       "    <tr>\n",
       "      <th>2</th>\n",
       "      <td>воспроизведение</td>\n",
       "      <td>6.280853</td>\n",
       "      <td>aol</td>\n",
       "      <td>6.268431</td>\n",
       "    </tr>\n",
       "    <tr>\n",
       "      <th>3</th>\n",
       "      <td>ошибки</td>\n",
       "      <td>6.280853</td>\n",
       "      <td>systems</td>\n",
       "      <td>6.256161</td>\n",
       "    </tr>\n",
       "    <tr>\n",
       "      <th>4</th>\n",
       "      <td>генерация</td>\n",
       "      <td>6.280853</td>\n",
       "      <td>xbox</td>\n",
       "      <td>6.244039</td>\n",
       "    </tr>\n",
       "    <tr>\n",
       "      <th>5</th>\n",
       "      <td>помещение</td>\n",
       "      <td>6.280853</td>\n",
       "      <td>daily</td>\n",
       "      <td>6.244039</td>\n",
       "    </tr>\n",
       "    <tr>\n",
       "      <th>6</th>\n",
       "      <td>обвинять</td>\n",
       "      <td>6.280853</td>\n",
       "      <td>page</td>\n",
       "      <td>6.244039</td>\n",
       "    </tr>\n",
       "    <tr>\n",
       "      <th>7</th>\n",
       "      <td>хуже</td>\n",
       "      <td>6.280853</td>\n",
       "      <td>paypal</td>\n",
       "      <td>6.244039</td>\n",
       "    </tr>\n",
       "    <tr>\n",
       "      <th>8</th>\n",
       "      <td>порог</td>\n",
       "      <td>6.280853</td>\n",
       "      <td>second</td>\n",
       "      <td>6.232063</td>\n",
       "    </tr>\n",
       "    <tr>\n",
       "      <th>9</th>\n",
       "      <td>возвращать</td>\n",
       "      <td>6.280853</td>\n",
       "      <td>webmoney</td>\n",
       "      <td>6.232063</td>\n",
       "    </tr>\n",
       "  </tbody>\n",
       "</table>\n",
       "</div>"
      ],
      "text/plain": [
       "                ru  weight_ru        en  weight_en\n",
       "0  ссылок           6.280853   cnews     6.280853 \n",
       "1  противник        6.280853   adwords   6.268431 \n",
       "2  воспроизведение  6.280853   aol       6.268431 \n",
       "3  ошибки           6.280853   systems   6.256161 \n",
       "4  генерация        6.280853   xbox      6.244039 \n",
       "5  помещение        6.280853   daily     6.244039 \n",
       "6  обвинять         6.280853   page      6.244039 \n",
       "7  хуже             6.280853   paypal    6.244039 \n",
       "8  порог            6.280853   second    6.232063 \n",
       "9  возвращать       6.280853   webmoney  6.232063 "
      ]
     },
     "execution_count": 582,
     "metadata": {},
     "output_type": "execute_result"
    }
   ],
   "source": [
    "rr_2_voc.head(10)"
   ]
  },
  {
   "cell_type": "code",
   "execution_count": 583,
   "metadata": {
    "scrolled": true
   },
   "outputs": [
    {
     "data": {
      "text/html": [
       "<div>\n",
       "<style scoped>\n",
       "    .dataframe tbody tr th:only-of-type {\n",
       "        vertical-align: middle;\n",
       "    }\n",
       "\n",
       "    .dataframe tbody tr th {\n",
       "        vertical-align: top;\n",
       "    }\n",
       "\n",
       "    .dataframe thead th {\n",
       "        text-align: right;\n",
       "    }\n",
       "</style>\n",
       "<table border=\"1\" class=\"dataframe\">\n",
       "  <thead>\n",
       "    <tr style=\"text-align: right;\">\n",
       "      <th></th>\n",
       "      <th>ru</th>\n",
       "      <th>weight_ru</th>\n",
       "      <th>en</th>\n",
       "      <th>weight_en</th>\n",
       "    </tr>\n",
       "  </thead>\n",
       "  <tbody>\n",
       "    <tr>\n",
       "      <th>3050</th>\n",
       "      <td>компания</td>\n",
       "      <td>2.242859</td>\n",
       "      <td>NaN</td>\n",
       "      <td>NaN</td>\n",
       "    </tr>\n",
       "    <tr>\n",
       "      <th>3051</th>\n",
       "      <td>можно</td>\n",
       "      <td>2.130995</td>\n",
       "      <td>NaN</td>\n",
       "      <td>NaN</td>\n",
       "    </tr>\n",
       "    <tr>\n",
       "      <th>3052</th>\n",
       "      <td>такой</td>\n",
       "      <td>2.050558</td>\n",
       "      <td>NaN</td>\n",
       "      <td>NaN</td>\n",
       "    </tr>\n",
       "    <tr>\n",
       "      <th>3053</th>\n",
       "      <td>мочь</td>\n",
       "      <td>1.993481</td>\n",
       "      <td>NaN</td>\n",
       "      <td>NaN</td>\n",
       "    </tr>\n",
       "    <tr>\n",
       "      <th>3054</th>\n",
       "      <td>этот</td>\n",
       "      <td>1.916959</td>\n",
       "      <td>NaN</td>\n",
       "      <td>NaN</td>\n",
       "    </tr>\n",
       "    <tr>\n",
       "      <th>3055</th>\n",
       "      <td>свой</td>\n",
       "      <td>1.897421</td>\n",
       "      <td>NaN</td>\n",
       "      <td>NaN</td>\n",
       "    </tr>\n",
       "    <tr>\n",
       "      <th>3056</th>\n",
       "      <td>один</td>\n",
       "      <td>1.879790</td>\n",
       "      <td>NaN</td>\n",
       "      <td>NaN</td>\n",
       "    </tr>\n",
       "    <tr>\n",
       "      <th>3057</th>\n",
       "      <td>весь</td>\n",
       "      <td>1.757164</td>\n",
       "      <td>NaN</td>\n",
       "      <td>NaN</td>\n",
       "    </tr>\n",
       "    <tr>\n",
       "      <th>3058</th>\n",
       "      <td>который</td>\n",
       "      <td>1.679817</td>\n",
       "      <td>NaN</td>\n",
       "      <td>NaN</td>\n",
       "    </tr>\n",
       "    <tr>\n",
       "      <th>3059</th>\n",
       "      <td>быть</td>\n",
       "      <td>1.521675</td>\n",
       "      <td>NaN</td>\n",
       "      <td>NaN</td>\n",
       "    </tr>\n",
       "  </tbody>\n",
       "</table>\n",
       "</div>"
      ],
      "text/plain": [
       "            ru  weight_ru   en  weight_en\n",
       "3050  компания  2.242859   NaN NaN       \n",
       "3051  можно     2.130995   NaN NaN       \n",
       "3052  такой     2.050558   NaN NaN       \n",
       "3053  мочь      1.993481   NaN NaN       \n",
       "3054  этот      1.916959   NaN NaN       \n",
       "3055  свой      1.897421   NaN NaN       \n",
       "3056  один      1.879790   NaN NaN       \n",
       "3057  весь      1.757164   NaN NaN       \n",
       "3058  который   1.679817   NaN NaN       \n",
       "3059  быть      1.521675   NaN NaN       "
      ]
     },
     "execution_count": 583,
     "metadata": {},
     "output_type": "execute_result"
    }
   ],
   "source": [
    "rr_2_voc.tail(10)"
   ]
  },
  {
   "cell_type": "markdown",
   "metadata": {},
   "source": [
    "Сайты возьму с другими параметрами"
   ]
  },
  {
   "cell_type": "code",
   "execution_count": 584,
   "metadata": {},
   "outputs": [],
   "source": [
    "cv_max_df=1.0 #Параметры для CountVectorizer default 1.0\n",
    "cv_min_df=2 #Параметры для CountVectorizer default 1\n",
    "cv_ngram_range=(1, 1) #Параметры для CountVectorizer"
   ]
  },
  {
   "cell_type": "code",
   "execution_count": 585,
   "metadata": {},
   "outputs": [],
   "source": [
    "count_vect = CountVectorizer(max_df=cv_max_df, min_df=cv_min_df,\\\n",
    "                             ngram_range=cv_ngram_range)"
   ]
  },
  {
   "cell_type": "code",
   "execution_count": 586,
   "metadata": {},
   "outputs": [],
   "source": [
    "X_train_curr = X_train['sites_'+columnOne]\n",
    "X_test_curr = X_test['sites_'+columnOne]"
   ]
  },
  {
   "cell_type": "code",
   "execution_count": 587,
   "metadata": {},
   "outputs": [],
   "source": [
    "X_cvect_sites_train = count_vect.fit_transform(X_train_curr) \n",
    "X_tfidf_sites_train = tfidf_transformer.fit_transform(X_cvect_sites_train)\n",
    "X_cvect_sites_test = count_vect.transform(X_test_curr) \n",
    "X_tfidf_sites_test = tfidf_transformer.transform(X_cvect_sites_test)\n",
    "X_hashvect_sites_train = hash_vect.fit_transform(X_train_curr)\n",
    "X_hashvect_sites_test = hash_vect.transform(X_test_curr)\n",
    "\n",
    "rr_sites = dict(zip(count_vect.get_feature_names(), tfidf_transformer.idf_))"
   ]
  },
  {
   "cell_type": "code",
   "execution_count": 588,
   "metadata": {},
   "outputs": [
    {
     "name": "stdout",
     "output_type": "stream",
     "text": [
      "(15722, 1197) (15722, 1197) (15722, 1000)\n"
     ]
    }
   ],
   "source": [
    "print(X_cvect_sites_train.shape,X_tfidf_sites_train.shape,X_hashvect_sites_train.shape)"
   ]
  },
  {
   "cell_type": "code",
   "execution_count": 589,
   "metadata": {
    "scrolled": true
   },
   "outputs": [],
   "source": [
    "#Посмотрим на топ веса\n",
    "rr_1_voc = token_weight_df(rr_sites,'sites').reset_index(drop=True)"
   ]
  },
  {
   "cell_type": "code",
   "execution_count": 590,
   "metadata": {},
   "outputs": [
    {
     "data": {
      "text/html": [
       "<div>\n",
       "<style scoped>\n",
       "    .dataframe tbody tr th:only-of-type {\n",
       "        vertical-align: middle;\n",
       "    }\n",
       "\n",
       "    .dataframe tbody tr th {\n",
       "        vertical-align: top;\n",
       "    }\n",
       "\n",
       "    .dataframe thead th {\n",
       "        text-align: right;\n",
       "    }\n",
       "</style>\n",
       "<table border=\"1\" class=\"dataframe\">\n",
       "  <thead>\n",
       "    <tr style=\"text-align: right;\">\n",
       "      <th></th>\n",
       "      <th>sites</th>\n",
       "      <th>weight_sites</th>\n",
       "    </tr>\n",
       "  </thead>\n",
       "  <tbody>\n",
       "    <tr>\n",
       "      <th>0</th>\n",
       "      <td>infoworld_com</td>\n",
       "      <td>9.564268</td>\n",
       "    </tr>\n",
       "    <tr>\n",
       "      <th>1</th>\n",
       "      <td>visions_ru</td>\n",
       "      <td>9.564268</td>\n",
       "    </tr>\n",
       "    <tr>\n",
       "      <th>2</th>\n",
       "      <td>w2_com</td>\n",
       "      <td>9.564268</td>\n",
       "    </tr>\n",
       "    <tr>\n",
       "      <th>3</th>\n",
       "      <td>vspomni_ru</td>\n",
       "      <td>9.564268</td>\n",
       "    </tr>\n",
       "    <tr>\n",
       "      <th>4</th>\n",
       "      <td>vodka_ru</td>\n",
       "      <td>9.564268</td>\n",
       "    </tr>\n",
       "    <tr>\n",
       "      <th>5</th>\n",
       "      <td>vodka_com</td>\n",
       "      <td>9.564268</td>\n",
       "    </tr>\n",
       "    <tr>\n",
       "      <th>6</th>\n",
       "      <td>vnunet_com</td>\n",
       "      <td>9.564268</td>\n",
       "    </tr>\n",
       "    <tr>\n",
       "      <th>7</th>\n",
       "      <td>vmashine_ru</td>\n",
       "      <td>9.564268</td>\n",
       "    </tr>\n",
       "    <tr>\n",
       "      <th>8</th>\n",
       "      <td>location_href</td>\n",
       "      <td>9.564268</td>\n",
       "    </tr>\n",
       "    <tr>\n",
       "      <th>9</th>\n",
       "      <td>love_ru</td>\n",
       "      <td>9.564268</td>\n",
       "    </tr>\n",
       "  </tbody>\n",
       "</table>\n",
       "</div>"
      ],
      "text/plain": [
       "           sites  weight_sites\n",
       "0  infoworld_com  9.564268    \n",
       "1  visions_ru     9.564268    \n",
       "2  w2_com         9.564268    \n",
       "3  vspomni_ru     9.564268    \n",
       "4  vodka_ru       9.564268    \n",
       "5  vodka_com      9.564268    \n",
       "6  vnunet_com     9.564268    \n",
       "7  vmashine_ru    9.564268    \n",
       "8  location_href  9.564268    \n",
       "9  love_ru        9.564268    "
      ]
     },
     "execution_count": 590,
     "metadata": {},
     "output_type": "execute_result"
    }
   ],
   "source": [
    "rr_1_voc.head(10)"
   ]
  },
  {
   "cell_type": "code",
   "execution_count": 591,
   "metadata": {},
   "outputs": [
    {
     "data": {
      "text/html": [
       "<div>\n",
       "<style scoped>\n",
       "    .dataframe tbody tr th:only-of-type {\n",
       "        vertical-align: middle;\n",
       "    }\n",
       "\n",
       "    .dataframe tbody tr th {\n",
       "        vertical-align: top;\n",
       "    }\n",
       "\n",
       "    .dataframe thead th {\n",
       "        text-align: right;\n",
       "    }\n",
       "</style>\n",
       "<table border=\"1\" class=\"dataframe\">\n",
       "  <thead>\n",
       "    <tr style=\"text-align: right;\">\n",
       "      <th></th>\n",
       "      <th>sites</th>\n",
       "      <th>weight_sites</th>\n",
       "    </tr>\n",
       "  </thead>\n",
       "  <tbody>\n",
       "    <tr>\n",
       "      <th>1187</th>\n",
       "      <td>del_icio</td>\n",
       "      <td>6.519745</td>\n",
       "    </tr>\n",
       "    <tr>\n",
       "      <th>1188</th>\n",
       "      <td>lenta_ru</td>\n",
       "      <td>6.519745</td>\n",
       "    </tr>\n",
       "    <tr>\n",
       "      <th>1189</th>\n",
       "      <td>rutube_ru</td>\n",
       "      <td>6.519745</td>\n",
       "    </tr>\n",
       "    <tr>\n",
       "      <th>1190</th>\n",
       "      <td>last_fm</td>\n",
       "      <td>6.428773</td>\n",
       "    </tr>\n",
       "    <tr>\n",
       "      <th>1191</th>\n",
       "      <td>youtube_com</td>\n",
       "      <td>6.109003</td>\n",
       "    </tr>\n",
       "    <tr>\n",
       "      <th>1192</th>\n",
       "      <td>yandex_ru</td>\n",
       "      <td>5.999441</td>\n",
       "    </tr>\n",
       "    <tr>\n",
       "      <th>1193</th>\n",
       "      <td>google_com</td>\n",
       "      <td>5.795345</td>\n",
       "    </tr>\n",
       "    <tr>\n",
       "      <th>1194</th>\n",
       "      <td>livejournal_com</td>\n",
       "      <td>5.405385</td>\n",
       "    </tr>\n",
       "    <tr>\n",
       "      <th>1195</th>\n",
       "      <td>habrahabr_ru</td>\n",
       "      <td>5.354612</td>\n",
       "    </tr>\n",
       "    <tr>\n",
       "      <th>1196</th>\n",
       "      <td>mail_ru</td>\n",
       "      <td>5.071893</td>\n",
       "    </tr>\n",
       "  </tbody>\n",
       "</table>\n",
       "</div>"
      ],
      "text/plain": [
       "                sites  weight_sites\n",
       "1187  del_icio         6.519745    \n",
       "1188  lenta_ru         6.519745    \n",
       "1189  rutube_ru        6.519745    \n",
       "1190  last_fm          6.428773    \n",
       "1191  youtube_com      6.109003    \n",
       "1192  yandex_ru        5.999441    \n",
       "1193  google_com       5.795345    \n",
       "1194  livejournal_com  5.405385    \n",
       "1195  habrahabr_ru     5.354612    \n",
       "1196  mail_ru          5.071893    "
      ]
     },
     "execution_count": 591,
     "metadata": {},
     "output_type": "execute_result"
    }
   ],
   "source": [
    "rr_1_voc.tail(10)"
   ]
  },
  {
   "cell_type": "markdown",
   "metadata": {},
   "source": [
    "Сформирую общую матрицу по 3м словарям"
   ]
  },
  {
   "cell_type": "code",
   "execution_count": 592,
   "metadata": {},
   "outputs": [],
   "source": [
    "from scipy.sparse import hstack"
   ]
  },
  {
   "cell_type": "code",
   "execution_count": 593,
   "metadata": {
    "scrolled": true
   },
   "outputs": [],
   "source": [
    "X_cvect_3voc_train = hstack((X_cvect_sites_train, X_cvect_ru_words_train,\\\n",
    "                              X_cvect_en_words_train))"
   ]
  },
  {
   "cell_type": "code",
   "execution_count": 594,
   "metadata": {},
   "outputs": [],
   "source": [
    "X_cvect_3voc_test = hstack((X_cvect_sites_test, X_cvect_ru_words_test,\\\n",
    "                              X_cvect_en_words_test))"
   ]
  },
  {
   "cell_type": "code",
   "execution_count": 595,
   "metadata": {},
   "outputs": [],
   "source": [
    "X_tfidf_3voc_train = hstack((X_tfidf_sites_train, X_tfidf_ru_words_train,\\\n",
    "                              X_tfidf_en_words_train))"
   ]
  },
  {
   "cell_type": "code",
   "execution_count": 596,
   "metadata": {},
   "outputs": [],
   "source": [
    "X_tfidf_3voc_test = hstack((X_tfidf_sites_test, X_tfidf_ru_words_test,\\\n",
    "                              X_tfidf_en_words_test))"
   ]
  },
  {
   "cell_type": "code",
   "execution_count": 597,
   "metadata": {},
   "outputs": [],
   "source": [
    "X_hashvect_3voc_train = hstack((X_hashvect_sites_train, X_hashvect_ru_words_train,\\\n",
    "                              X_hashvect_en_words_train))"
   ]
  },
  {
   "cell_type": "code",
   "execution_count": 598,
   "metadata": {},
   "outputs": [],
   "source": [
    "X_hashvect_3voc_test = hstack((X_hashvect_sites_test, X_hashvect_ru_words_test,\\\n",
    "                              X_hashvect_en_words_test))"
   ]
  },
  {
   "cell_type": "code",
   "execution_count": 599,
   "metadata": {},
   "outputs": [
    {
     "name": "stdout",
     "output_type": "stream",
     "text": [
      "(15722, 4414)\n",
      "(3931, 4414)\n",
      "(15722, 4414)\n",
      "(3931, 4414)\n",
      "(15722, 3000)\n",
      "(3931, 3000)\n"
     ]
    }
   ],
   "source": [
    "print(X_cvect_3voc_train.shape)\n",
    "print(X_cvect_3voc_test.shape)\n",
    "print(X_tfidf_3voc_train.shape)\n",
    "print(X_tfidf_3voc_test.shape)\n",
    "print(X_hashvect_3voc_train.shape)\n",
    "print(X_hashvect_3voc_test.shape)"
   ]
  },
  {
   "cell_type": "markdown",
   "metadata": {},
   "source": [
    "Возьму для обучения 5000 строк"
   ]
  },
  {
   "cell_type": "code",
   "execution_count": 600,
   "metadata": {},
   "outputs": [],
   "source": [
    "c_row = 5000\n",
    "X_cvect_3voc_train = X_cvect_3voc_train.tocsr()[:c_row].todense()\n",
    "X_tfidf_3voc_train = X_tfidf_3voc_train.tocsr()[:c_row].todense()\n",
    "X_hashvect_3voc_train = X_hashvect_3voc_train.tocsr()[:c_row].todense()"
   ]
  },
  {
   "cell_type": "code",
   "execution_count": 601,
   "metadata": {
    "scrolled": true
   },
   "outputs": [],
   "source": [
    "X_cvect_ru_words_train = X_cvect_ru_words_train.tocsr()[:c_row].todense()\n",
    "X_tfidf_ru_words_train = X_tfidf_ru_words_train.tocsr()[:c_row].todense()\n",
    "X_hashvect_ru_words_train = X_hashvect_ru_words_train.tocsr()[:c_row].todense()"
   ]
  },
  {
   "cell_type": "code",
   "execution_count": 602,
   "metadata": {},
   "outputs": [],
   "source": [
    "y_train = y_train[0:c_row]\n",
    "y_train_l = y_train_l[0:c_row]\n",
    "ys = [[y_train,y_test,False],[y_train_l,y_test_l,True]]"
   ]
  },
  {
   "cell_type": "markdown",
   "metadata": {},
   "source": [
    "Обучение только на основе столбца 'text'"
   ]
  },
  {
   "cell_type": "code",
   "execution_count": 605,
   "metadata": {},
   "outputs": [],
   "source": [
    "def ModelFit_cvect_ru_words_n(m,modelResults_df,X_cvect_ru_words_train,y_train,X_cvect_ru_words_test,y_test,ratelog=False):\n",
    "    comment=columnOne+ ' + Очистка + Нормализация + только ru_words cvect + rate_log:'+str(ratelog)\n",
    "    modelResults_df = ModelFitPredictAndMettrics(modelResults_df,comment,m,\\\n",
    "                      X_cvect_ru_words_train,y_train,X_cvect_ru_words_test,y_test,False,False,ratelog)\n",
    "    return modelResults_df"
   ]
  },
  {
   "cell_type": "code",
   "execution_count": 606,
   "metadata": {},
   "outputs": [],
   "source": [
    "def ModelFit_tfidf_ru_words_n(m,modelResults_df,X_tfidf_ru_words_train,y_train,X_tfidf_ru_words_test,y_test,ratelog=False):\n",
    "    comment=columnOne+ ' + Очистка + Нормализация + только ru_words tfidf + rate_log:'+str(ratelog)\n",
    "    modelResults_df = ModelFitPredictAndMettrics(modelResults_df,comment,m,\\\n",
    "                      X_tfidf_ru_words_train,y_train,X_tfidf_ru_words_test,y_test,False,False,ratelog)\n",
    "    return modelResults_df"
   ]
  },
  {
   "cell_type": "code",
   "execution_count": 607,
   "metadata": {},
   "outputs": [],
   "source": [
    "def ModelFit_hashvect_ru_words_n(m,modelResults_df,X_hashvect_ru_words_train,y_train,X_hashvect_ru_words_test,y_test,ratelog=False):\n",
    "    comment=columnOne+ ' + Очистка + Нормализация + только ru_words hashvect + rate_log:'+str(ratelog)\n",
    "    modelResults_df = ModelFitPredictAndMettrics(modelResults_df,comment,m,\\\n",
    "                      X_hashvect_ru_words_train,y_train,X_hashvect_ru_words_test,y_test,False,False,ratelog)\n",
    "    return modelResults_df"
   ]
  },
  {
   "cell_type": "code",
   "execution_count": 608,
   "metadata": {},
   "outputs": [],
   "source": [
    "def ModelFit_cvect_3voc(m,modelResults_df,X_cvect_3voc_train,y_train,X_cvect_3voc_test,y_test,ratelog=False):\n",
    "    comment=columnOne+ ' + Очистка + Нормализация + разбиение на 3 словаря cvect + rate_log:'+str(ratelog)\n",
    "    modelResults_df = ModelFitPredictAndMettrics(modelResults_df,comment,m,\\\n",
    "                      X_cvect_3voc_train,y_train,X_cvect_3voc_test,y_test,False,False,ratelog)\n",
    "    return modelResults_df"
   ]
  },
  {
   "cell_type": "code",
   "execution_count": 609,
   "metadata": {},
   "outputs": [],
   "source": [
    "def ModelFit_tfidf_3voc(m,modelResults_df,X_tfidf_3voc_train,y_train,X_tfidf_3voc_test,y_test,ratelog=False):\n",
    "    comment=columnOne+ ' + Очистка + Нормализация + разбиение на 3 словаря tfidf + rate_log:'+str(ratelog)\n",
    "    modelResults_df = ModelFitPredictAndMettrics(modelResults_df,comment,m,\\\n",
    "                      X_tfidf_3voc_train,y_train,X_tfidf_3voc_test,y_test,False,False,ratelog)\n",
    "    return modelResults_df"
   ]
  },
  {
   "cell_type": "code",
   "execution_count": 610,
   "metadata": {},
   "outputs": [],
   "source": [
    "def ModelFit_hashvect_3voc(m,modelResults_df,X_hashvect_3voc_train,y_train,X_hashvecte_3voc_test,y_test,ratelog=False):\n",
    "    comment=columnOne+ ' + Очистка + Нормализация + разбиение на 3 словаря hashvect + rate_log:'+str(ratelog)\n",
    "    modelResults_df = ModelFitPredictAndMettrics(modelResults_df,comment,m,\\\n",
    "                      X_hashvect_3voc_train,y_train,X_hashvect_3voc_test,y_test,False,False,ratelog)\n",
    "    return modelResults_df"
   ]
  },
  {
   "cell_type": "code",
   "execution_count": null,
   "metadata": {},
   "outputs": [],
   "source": [
    "for y  in ys:\n",
    "    y_train=y[0]\n",
    "    y_test=y[1]\n",
    "    ratelogFlag=y[2]\n",
    "    for m in models:\n",
    "        modelResults_df = ModelFit_cvect_ru_words_n(m,modelResults_df,X_cvect_ru_words_train,y_train,X_cvect_ru_words_test,y_test,ratelogFlag)\n",
    "        modelResults_df = ModelFit_tfidf_ru_words_n(m,modelResults_df,X_tfidf_ru_words_train,y_train,X_tfidf_ru_words_test,y_test,ratelogFlag)\n",
    "        modelResults_df = ModelFit_hashvect_ru_words_n(m,modelResults_df,X_hashvect_ru_words_train,y_train,X_hashvect_ru_words_test,y_test,ratelogFlag)\n",
    "        modelResults_df = ModelFit_cvect_3voc(m,modelResults_df,X_cvect_3voc_train,y_train,X_cvect_3voc_test,y_test,ratelogFlag)\n",
    "        modelResults_df = ModelFit_tfidf_3voc(m,modelResults_df,X_tfidf_3voc_train,y_train,X_tfidf_3voc_test,y_test,ratelogFlag)\n",
    "        modelResults_df = ModelFit_hashvect_3voc(m,modelResults_df,X_hashvect_3voc_train,y_train,X_hashvect_3voc_test,y_test,ratelogFlag)"
   ]
  },
  {
   "cell_type": "markdown",
   "metadata": {},
   "source": [
    "Обучение только на основе доп. фич"
   ]
  },
  {
   "cell_type": "code",
   "execution_count": 632,
   "metadata": {},
   "outputs": [],
   "source": [
    "X_train, X_test, y_train, y_test = TrainTestSplitByDateTime (.8,df,'rate')\n",
    "X_train, X_test, y_train_l, y_test_l = TrainTestSplitByDateTime (.8,df,'rate_log')"
   ]
  },
  {
   "cell_type": "code",
   "execution_count": 633,
   "metadata": {},
   "outputs": [],
   "source": [
    "ys = [[y_train,y_test,False],[y_train_l,y_test_l,True]]"
   ]
  },
  {
   "cell_type": "code",
   "execution_count": 616,
   "metadata": {},
   "outputs": [],
   "source": [
    "columnsAddFeatures = ['tittle_words_count', 'text_words_count',\\\n",
    "                    'text_category_int','sites_'+columnOne+'_count', \\\n",
    "            'ru_words_'+columnOne+'_count', 'en_words_'+columnOne+'_count',\\\n",
    "            'punctuations_'+columnOne+'_count','emotions_'+columnOne+'_count']"
   ]
  },
  {
   "cell_type": "code",
   "execution_count": 617,
   "metadata": {},
   "outputs": [],
   "source": [
    "X_train_choice_col = X_train[columnsAddFeatures]"
   ]
  },
  {
   "cell_type": "code",
   "execution_count": 618,
   "metadata": {},
   "outputs": [],
   "source": [
    "X_test_choice_col = X_test[columnsAddFeatures]"
   ]
  },
  {
   "cell_type": "code",
   "execution_count": 619,
   "metadata": {},
   "outputs": [],
   "source": [
    "from scipy import sparse"
   ]
  },
  {
   "cell_type": "code",
   "execution_count": 620,
   "metadata": {},
   "outputs": [],
   "source": [
    "X_train_choice_col_m = sparse.csr_matrix(X_train_choice_col)\n",
    "X_test_choice_col_m = sparse.csr_matrix(X_test_choice_col)"
   ]
  },
  {
   "cell_type": "code",
   "execution_count": 621,
   "metadata": {},
   "outputs": [],
   "source": [
    "def ModelFit_only_choice_col(m,modelResults_df,X_train_choice_col_m,y_train,X_test_choice_col_m,y_test,ratelog=False):\n",
    "    comment=columnOne + ' + только доп.фичи + rate_log:'+str(ratelog)+' + '+', '.join(columnsAddFeatures)\n",
    "    modelResults_df = ModelFitPredictAndMettrics(modelResults_df,comment,m,\\\n",
    "                      X_train_choice_col_m,y_train,X_test_choice_col_m,y_test,False,False,ratelog)\n",
    "    return modelResults_df"
   ]
  },
  {
   "cell_type": "markdown",
   "metadata": {},
   "source": [
    "Так же выполню шкалирование и посмотрю на результат"
   ]
  },
  {
   "cell_type": "code",
   "execution_count": 622,
   "metadata": {},
   "outputs": [],
   "source": [
    "from sklearn.preprocessing import StandardScaler"
   ]
  },
  {
   "cell_type": "code",
   "execution_count": 623,
   "metadata": {},
   "outputs": [],
   "source": [
    "scaler = StandardScaler()"
   ]
  },
  {
   "cell_type": "code",
   "execution_count": null,
   "metadata": {},
   "outputs": [],
   "source": [
    "# масштабируем данные\n",
    "X_train_choice_col_m_scaled = scaler.fit_transform(X_train_choice_col)"
   ]
  },
  {
   "cell_type": "code",
   "execution_count": null,
   "metadata": {},
   "outputs": [],
   "source": [
    "X_test_choice_col_m_scaled = scaler.transform(X_test_choice_col)"
   ]
  },
  {
   "cell_type": "code",
   "execution_count": 642,
   "metadata": {},
   "outputs": [],
   "source": [
    "def ModelFit_only_choice_col_scaled(m,modelResults_df,X_train_choice_col_m_scaled,y_train,X_test_choice_col_m_scaled,y_test,ratelog=False):\n",
    "    comment=columnOne + ' + только доп.фичи + масштабирование ss + rate_log:'+str(ratelog)+' + ' +', '.join(columnsAddFeatures)\n",
    "    modelResults_df = ModelFitPredictAndMettrics(modelResults_df,comment,m,\\\n",
    "                      X_train_choice_col_m_scaled,y_train,X_test_choice_col_m_scaled,y_test,False,False,ratelog)\n",
    "    return modelResults_df"
   ]
  },
  {
   "cell_type": "code",
   "execution_count": 627,
   "metadata": {
    "scrolled": true
   },
   "outputs": [
    {
     "name": "stdout",
     "output_type": "stream",
     "text": [
      "LinearRegression(copy_X=True, fit_intercept=True, n_jobs=None,\n",
      "         normalize=False)\n",
      "LinearRegression(copy_X=True, fit_intercept=True, n_jobs=None,\n",
      "         normalize=False)\n",
      "Ridge(alpha=1, copy_X=True, fit_intercept=True, max_iter=None,\n",
      "   normalize=False, random_state=1, solver='auto', tol=0.001)\n",
      "Ridge(alpha=1, copy_X=True, fit_intercept=True, max_iter=None,\n",
      "   normalize=False, random_state=1, solver='auto', tol=0.001)\n",
      "Lasso(alpha=1, copy_X=True, fit_intercept=True, max_iter=1000,\n",
      "   normalize=False, positive=False, precompute=False, random_state=1,\n",
      "   selection='cyclic', tol=0.0001, warm_start=False)\n",
      "Lasso(alpha=1, copy_X=True, fit_intercept=True, max_iter=1000,\n",
      "   normalize=False, positive=False, precompute=False, random_state=1,\n",
      "   selection='cyclic', tol=0.0001, warm_start=False)\n",
      "LinearRegression(copy_X=True, fit_intercept=True, n_jobs=None,\n",
      "         normalize=False)\n",
      "LinearRegression(copy_X=True, fit_intercept=True, n_jobs=None,\n",
      "         normalize=False)\n",
      "Ridge(alpha=1, copy_X=True, fit_intercept=True, max_iter=None,\n",
      "   normalize=False, random_state=1, solver='auto', tol=0.001)\n",
      "Ridge(alpha=1, copy_X=True, fit_intercept=True, max_iter=None,\n",
      "   normalize=False, random_state=1, solver='auto', tol=0.001)\n",
      "Lasso(alpha=1, copy_X=True, fit_intercept=True, max_iter=1000,\n",
      "   normalize=False, positive=False, precompute=False, random_state=1,\n",
      "   selection='cyclic', tol=0.0001, warm_start=False)\n",
      "Lasso(alpha=1, copy_X=True, fit_intercept=True, max_iter=1000,\n",
      "   normalize=False, positive=False, precompute=False, random_state=1,\n",
      "   selection='cyclic', tol=0.0001, warm_start=False)\n"
     ]
    }
   ],
   "source": [
    "for y  in ys:\n",
    "    y_train=y[0]\n",
    "    y_test=y[1]\n",
    "    ratelogFlag=y[2]\n",
    "    for m in models:\n",
    "        modelResults_df = ModelFit_only_choice_col(m,modelResults_df,\\\n",
    "                                                      X_train_choice_col_m,y_train,X_test_choice_col_m,y_test,ratelogFlag)\n",
    "        modelResults_df = ModelFit_only_choice_col_scaled(m,modelResults_df,\\\n",
    "                                        X_train_choice_col_m_scaled,y_train,X_test_choice_col_m_scaled,y_test,ratelogFlag)"
   ]
  },
  {
   "cell_type": "markdown",
   "metadata": {},
   "source": [
    " "
   ]
  },
  {
   "cell_type": "markdown",
   "metadata": {},
   "source": [
    "Объединю доп. фичи и векторайзеры"
   ]
  },
  {
   "cell_type": "code",
   "execution_count": 643,
   "metadata": {},
   "outputs": [],
   "source": [
    "def Create_exp_m (X,vectorizer,dropindex=True):\n",
    "    if (dropindex):\n",
    "        exp = pd.concat([X.reset_index(drop=True),\\\n",
    "                           pd.DataFrame(vectorizer.toarray()).reset_index(drop=True)],axis=1)\n",
    "        exp[columnsAddFeatures] = exp[columnsAddFeatures].astype('float64')\n",
    "    else:\n",
    "        exp = pd.concat([X,\\\n",
    "                           pd.DataFrame(vectorizer.toarray()).reset_index(drop=True)],axis=1)   \n",
    "    exp.columns = range(exp.shape[1])\n",
    "    exp_m = sparse.csr_matrix(exp)\n",
    "    return exp_m "
   ]
  },
  {
   "cell_type": "code",
   "execution_count": 644,
   "metadata": {},
   "outputs": [],
   "source": [
    "from scipy.sparse import csr_matrix"
   ]
  },
  {
   "cell_type": "code",
   "execution_count": 645,
   "metadata": {},
   "outputs": [],
   "source": [
    "X_train_choice_col = X_train_choice_col[:c_row]"
   ]
  },
  {
   "cell_type": "code",
   "execution_count": 646,
   "metadata": {},
   "outputs": [],
   "source": [
    "y_train = y_train[0:c_row]\n",
    "y_train_l = y_train_l[0:c_row]\n",
    "ys = [[y_train,y_test,False],[y_train_l,y_test_l,True]]"
   ]
  },
  {
   "cell_type": "code",
   "execution_count": 647,
   "metadata": {
    "scrolled": true
   },
   "outputs": [],
   "source": [
    "X_cvect_exp_m_train = Create_exp_m (X_train_choice_col,csr_matrix(X_cvect_3voc_train))"
   ]
  },
  {
   "cell_type": "code",
   "execution_count": 648,
   "metadata": {},
   "outputs": [],
   "source": [
    "X_cvect_exp_m_test = Create_exp_m (X_test_choice_col,X_cvect_3voc_test)"
   ]
  },
  {
   "cell_type": "code",
   "execution_count": 649,
   "metadata": {},
   "outputs": [],
   "source": [
    "X_tfidf_exp_m_train = Create_exp_m (X_train_choice_col,csr_matrix(X_tfidf_3voc_train))"
   ]
  },
  {
   "cell_type": "code",
   "execution_count": 650,
   "metadata": {},
   "outputs": [],
   "source": [
    "X_tfidf_exp_m_test = Create_exp_m (X_test_choice_col,X_tfidf_3voc_test)"
   ]
  },
  {
   "cell_type": "code",
   "execution_count": 651,
   "metadata": {
    "scrolled": true
   },
   "outputs": [],
   "source": [
    "X_hashvect_exp_m_train = Create_exp_m (X_train_choice_col,csr_matrix(X_hashvect_3voc_train))"
   ]
  },
  {
   "cell_type": "code",
   "execution_count": 652,
   "metadata": {},
   "outputs": [],
   "source": [
    "X_hashvect_exp_m_test = Create_exp_m (X_test_choice_col,X_hashvect_3voc_test)"
   ]
  },
  {
   "cell_type": "code",
   "execution_count": 653,
   "metadata": {},
   "outputs": [
    {
     "name": "stdout",
     "output_type": "stream",
     "text": [
      "(5000, 4422)\n",
      "(5000, 4422)\n",
      "(5000, 3008)\n"
     ]
    }
   ],
   "source": [
    "print(X_cvect_exp_m_train.shape)\n",
    "print(X_tfidf_exp_m_train.shape)\n",
    "print(X_hashvect_exp_m_train.shape)"
   ]
  },
  {
   "cell_type": "code",
   "execution_count": 654,
   "metadata": {},
   "outputs": [],
   "source": [
    "def ModelFit_cvect_exp_m(m,modelResults_df,X_cvect_exp_m_train,y_train,X_cvect_exp_m_test,y_test,ratelog=False):\n",
    "    comment=columnOne+ ' + Очистка + Нормализация + разбиение на 3 словаря cvect + rate_log:'+str(ratelog)+' + доп.фичи + '+ ', '.join(columnsAddFeatures)\n",
    "    modelResults_df = ModelFitPredictAndMettrics(modelResults_df,comment,m,\\\n",
    "                      X_cvect_exp_m_train,y_train,X_cvect_exp_m_test,y_test,False,False,ratelog)\n",
    "    return modelResults_df"
   ]
  },
  {
   "cell_type": "code",
   "execution_count": 655,
   "metadata": {},
   "outputs": [],
   "source": [
    "def ModelFit_tfidf_exp_m(m,modelResults_df,X_tfidf_exp_m_train,y_train,X_tfidf_exp_m_test,y_test,ratelog=False):\n",
    "    comment=columnOne+ ' + Очистка + Нормализация + разбиение на 3 словаря tfidf + rate_log:'+str(ratelog)+' + доп.фичи + '+ ', '.join(columnsAddFeatures)\n",
    "    modelResults_df = ModelFitPredictAndMettrics(modelResults_df,comment,m,\\\n",
    "                      X_tfidf_exp_m_train,y_train,X_tfidf_exp_m_test,y_test,False,False,ratelog)\n",
    "    return modelResults_df"
   ]
  },
  {
   "cell_type": "code",
   "execution_count": 656,
   "metadata": {},
   "outputs": [],
   "source": [
    "def ModelFit_hashvect_exp_m(m,modelResults_df,X_hashvect_exp_m_train,y_train,X_hashvect_exp_m_test,y_test,ratelog=False):\n",
    "    comment=columnOne+ ' + Очистка + Нормализация + разбиение на 3 словаря hashvect + rate_log:'+str(ratelog)+' + доп.фичи + '+ ', '.join(columnsAddFeatures)\n",
    "    modelResults_df = ModelFitPredictAndMettrics(modelResults_df,comment,m,\\\n",
    "                      X_hashvect_exp_m_train,y_train,X_hashvect_exp_m_test,y_test,False,False,ratelog)\n",
    "    return modelResults_df"
   ]
  },
  {
   "cell_type": "code",
   "execution_count": null,
   "metadata": {},
   "outputs": [],
   "source": [
    "for y  in ys:\n",
    "    y_train=y[0]\n",
    "    y_test=y[1]\n",
    "    ratelogFlag=y[2]\n",
    "    for m in models:\n",
    "        modelResults_df = ModelFit_cvect_exp_m(m,modelResults_df,X_cvect_exp_m_train,y_train,X_cvect_exp_m_test,y_test,ratelogFlag)\n",
    "        modelResults_df = ModelFit_tfidf_exp_m(m,modelResults_df,X_tfidf_exp_m_train,y_train,X_tfidf_exp_m_test,y_test,ratelogFlag)\n",
    "        modelResults_df = ModelFit_hashvect_exp_m(m,modelResults_df,X_hashvect_exp_m_train,y_train,X_hashvect_exp_m_test,y_test,ratelogFlag)    "
   ]
  },
  {
   "cell_type": "markdown",
   "metadata": {},
   "source": [
    "Тоже самое, но с масштабированными данными"
   ]
  },
  {
   "cell_type": "code",
   "execution_count": 658,
   "metadata": {},
   "outputs": [],
   "source": [
    "X_train_choice_col_m_scaled = X_train_choice_col_m_scaled[:c_row]"
   ]
  },
  {
   "cell_type": "code",
   "execution_count": 659,
   "metadata": {
    "scrolled": true
   },
   "outputs": [],
   "source": [
    "X_cvect_exp_m_scaled_train = Create_exp_m (pd.DataFrame(X_train_choice_col_m_scaled),csr_matrix(X_cvect_3voc_train),False)\n",
    "X_cvect_exp_m_scaled_test = Create_exp_m (pd.DataFrame(X_test_choice_col_m_scaled),csr_matrix(X_cvect_3voc_test),False)\n",
    "X_tfidf_exp_m_scaled_train = Create_exp_m (pd.DataFrame(X_train_choice_col_m_scaled),csr_matrix(X_tfidf_3voc_train),False)\n",
    "X_tfidf_exp_m_scaled_test = Create_exp_m (pd.DataFrame(X_test_choice_col_m_scaled),csr_matrix(X_tfidf_3voc_test),False)\n",
    "X_hashvect_exp_m_scaled_train = Create_exp_m (pd.DataFrame(X_train_choice_col_m_scaled),csr_matrix(X_hashvect_3voc_train),False)\n",
    "X_hashvect_exp_m_scaled_test = Create_exp_m (pd.DataFrame(X_test_choice_col_m_scaled),csr_matrix(X_hashvect_3voc_test),False)"
   ]
  },
  {
   "cell_type": "code",
   "execution_count": 660,
   "metadata": {},
   "outputs": [],
   "source": [
    "def ModelFit_cvect_exp_m_scaled(m,modelResults_df,X_cvect_exp_m_scaled_train,y_train,X_cvect_exp_m_scaled_test,y_test,ratelog=False):\n",
    "    comment=columnOne+ ' + Очистка + Нормализация + разбиение на 3 словаря cvect + rate_log:'+str(ratelog)+' + доп.фичи + масштабирование ss + '+ ', '.join(columnsAddFeatures)\n",
    "    modelResults_df = ModelFitPredictAndMettrics(modelResults_df,comment,m,\\\n",
    "                      X_cvect_exp_m_scaled_train,y_train,X_cvect_exp_m_scaled_test,y_test,False,False,ratelog)\n",
    "    return modelResults_df"
   ]
  },
  {
   "cell_type": "code",
   "execution_count": 661,
   "metadata": {},
   "outputs": [],
   "source": [
    "def ModelFit_tfidf_exp_m_scaled(m,modelResults_df,X_tfidf_exp_m_scaled_train,y_train,X_tfidf_exp_m_scaled_test,y_test,ratelog=False):\n",
    "    comment=columnOne+ ' + Очистка + Нормализация + разбиение на 3 словаря tfidf + rate_log:'+str(ratelog)+' + доп.фичи + масштабирование ss + '+ ', '.join(columnsAddFeatures)\n",
    "    modelResults_df = ModelFitPredictAndMettrics(modelResults_df,comment,m,\\\n",
    "                      X_tfidf_exp_m_scaled_train,y_train,X_tfidf_exp_m_scaled_test,y_test,False,False,ratelog)\n",
    "    return modelResults_df"
   ]
  },
  {
   "cell_type": "code",
   "execution_count": 662,
   "metadata": {},
   "outputs": [],
   "source": [
    "def ModelFit_hashvect_exp_m_scaled(m,modelResults_df,X_hashvect_exp_m_scaled_train,y_train,X_hashvect_exp_m_scaled_test,y_test,ratelog=False):\n",
    "    comment=columnOne+ ' + Очистка + Нормализация + разбиение на 3 словаря hashvect + rate_log:'+str(ratelog)+' + доп.фичи + масштабирование ss + '+ ', '.join(columnsAddFeatures)\n",
    "    modelResults_df = ModelFitPredictAndMettrics(modelResults_df,comment,m,\\\n",
    "                      X_hashvect_exp_m_scaled_train,y_train,X_hashvect_exp_m_scaled_test,y_test,False,False,ratelog)\n",
    "    return modelResults_df"
   ]
  },
  {
   "cell_type": "code",
   "execution_count": null,
   "metadata": {},
   "outputs": [],
   "source": [
    "for y  in ys:\n",
    "    y_train=y[0]\n",
    "    y_test=y[1]\n",
    "    ratelogFlag=y[2]\n",
    "    for m in models:\n",
    "        modelResults_df = ModelFit_cvect_exp_m_scaled(m,modelResults_df,X_cvect_exp_m_scaled_train,y_train,X_cvect_exp_m_scaled_test,y_test,ratelogFlag)\n",
    "        modelResults_df = ModelFit_tfidf_exp_m_scaled(m,modelResults_df,X_tfidf_exp_m_scaled_train,y_train,X_tfidf_exp_m_scaled_test,y_test,ratelogFlag)\n",
    "        modelResults_df = ModelFit_hashvect_exp_m_scaled(m,modelResults_df,X_hashvect_exp_m_scaled_train,y_train,X_hashvect_exp_m_scaled_test,y_test,ratelogFlag)"
   ]
  },
  {
   "cell_type": "markdown",
   "metadata": {},
   "source": [
    "Чем отличаются словари теста и трейна? Почему на тесте такая низкая точность?"
   ]
  },
  {
   "cell_type": "markdown",
   "metadata": {},
   "source": [
    "Сформирую словарь для теста"
   ]
  },
  {
   "cell_type": "code",
   "execution_count": 664,
   "metadata": {},
   "outputs": [],
   "source": [
    "count_vect_test = CountVectorizer(max_df=cv_max_df, min_df=cv_min_df,\\\n",
    "                             ngram_range=cv_ngram_range)\n",
    "tfidf_transformer_test = TfidfTransformer()"
   ]
  },
  {
   "cell_type": "code",
   "execution_count": 665,
   "metadata": {},
   "outputs": [],
   "source": [
    "X_test_curr = X_test['ru_words_'+columnOne]"
   ]
  },
  {
   "cell_type": "code",
   "execution_count": 666,
   "metadata": {},
   "outputs": [],
   "source": [
    "X_cvect_ru_words_test2 =count_vect_test.fit_transform(X_test_curr) \n",
    "X_tfidf_ru_words_test2 =tfidf_transformer_test.fit_transform\\\n",
    "                        (X_cvect_ru_words_test2)"
   ]
  },
  {
   "cell_type": "code",
   "execution_count": 667,
   "metadata": {
    "scrolled": true
   },
   "outputs": [],
   "source": [
    "rr_ru_test = dict(zip(count_vect_test.get_feature_names(),\\\n",
    "                      tfidf_transformer_test.idf_))"
   ]
  },
  {
   "cell_type": "code",
   "execution_count": 668,
   "metadata": {},
   "outputs": [],
   "source": [
    "rr_ru_test_df = token_weight_df(rr_ru_test,'ru')\n",
    "rr_ru_train_df = token_weight_df(rr_ru,'ru')"
   ]
  },
  {
   "cell_type": "code",
   "execution_count": 669,
   "metadata": {},
   "outputs": [
    {
     "data": {
      "text/html": [
       "<div>\n",
       "<style scoped>\n",
       "    .dataframe tbody tr th:only-of-type {\n",
       "        vertical-align: middle;\n",
       "    }\n",
       "\n",
       "    .dataframe tbody tr th {\n",
       "        vertical-align: top;\n",
       "    }\n",
       "\n",
       "    .dataframe thead th {\n",
       "        text-align: right;\n",
       "    }\n",
       "</style>\n",
       "<table border=\"1\" class=\"dataframe\">\n",
       "  <thead>\n",
       "    <tr style=\"text-align: right;\">\n",
       "      <th></th>\n",
       "      <th>ru</th>\n",
       "      <th>weight_ru</th>\n",
       "    </tr>\n",
       "  </thead>\n",
       "  <tbody>\n",
       "    <tr>\n",
       "      <th>16630</th>\n",
       "      <td>пчела</td>\n",
       "      <td>8.178291</td>\n",
       "    </tr>\n",
       "    <tr>\n",
       "      <th>5753</th>\n",
       "      <td>знакомой</td>\n",
       "      <td>8.178291</td>\n",
       "    </tr>\n",
       "    <tr>\n",
       "      <th>14666</th>\n",
       "      <td>посиделки</td>\n",
       "      <td>8.178291</td>\n",
       "    </tr>\n",
       "    <tr>\n",
       "      <th>14670</th>\n",
       "      <td>посколько</td>\n",
       "      <td>8.178291</td>\n",
       "    </tr>\n",
       "    <tr>\n",
       "      <th>14677</th>\n",
       "      <td>последней</td>\n",
       "      <td>8.178291</td>\n",
       "    </tr>\n",
       "    <tr>\n",
       "      <th>14678</th>\n",
       "      <td>последнем</td>\n",
       "      <td>8.178291</td>\n",
       "    </tr>\n",
       "    <tr>\n",
       "      <th>14682</th>\n",
       "      <td>последних</td>\n",
       "      <td>8.178291</td>\n",
       "    </tr>\n",
       "    <tr>\n",
       "      <th>5870</th>\n",
       "      <td>идеальны</td>\n",
       "      <td>8.178291</td>\n",
       "    </tr>\n",
       "    <tr>\n",
       "      <th>5869</th>\n",
       "      <td>идеальной</td>\n",
       "      <td>8.178291</td>\n",
       "    </tr>\n",
       "    <tr>\n",
       "      <th>5867</th>\n",
       "      <td>идеальна</td>\n",
       "      <td>8.178291</td>\n",
       "    </tr>\n",
       "  </tbody>\n",
       "</table>\n",
       "</div>"
      ],
      "text/plain": [
       "              ru  weight_ru\n",
       "16630  пчела      8.178291 \n",
       "5753   знакомой   8.178291 \n",
       "14666  посиделки  8.178291 \n",
       "14670  посколько  8.178291 \n",
       "14677  последней  8.178291 \n",
       "14678  последнем  8.178291 \n",
       "14682  последних  8.178291 \n",
       "5870   идеальны   8.178291 \n",
       "5869   идеальной  8.178291 \n",
       "5867   идеальна   8.178291 "
      ]
     },
     "execution_count": 669,
     "metadata": {},
     "output_type": "execute_result"
    }
   ],
   "source": [
    "rr_ru_test_df.head(10)"
   ]
  },
  {
   "cell_type": "code",
   "execution_count": 670,
   "metadata": {},
   "outputs": [
    {
     "data": {
      "text/html": [
       "<div>\n",
       "<style scoped>\n",
       "    .dataframe tbody tr th:only-of-type {\n",
       "        vertical-align: middle;\n",
       "    }\n",
       "\n",
       "    .dataframe tbody tr th {\n",
       "        vertical-align: top;\n",
       "    }\n",
       "\n",
       "    .dataframe thead th {\n",
       "        text-align: right;\n",
       "    }\n",
       "</style>\n",
       "<table border=\"1\" class=\"dataframe\">\n",
       "  <thead>\n",
       "    <tr style=\"text-align: right;\">\n",
       "      <th></th>\n",
       "      <th>ru</th>\n",
       "      <th>weight_ru</th>\n",
       "    </tr>\n",
       "  </thead>\n",
       "  <tbody>\n",
       "    <tr>\n",
       "      <th>2561</th>\n",
       "      <td>ссылок</td>\n",
       "      <td>6.280853</td>\n",
       "    </tr>\n",
       "    <tr>\n",
       "      <th>2080</th>\n",
       "      <td>противник</td>\n",
       "      <td>6.280853</td>\n",
       "    </tr>\n",
       "    <tr>\n",
       "      <th>272</th>\n",
       "      <td>воспроизведение</td>\n",
       "      <td>6.280853</td>\n",
       "    </tr>\n",
       "    <tr>\n",
       "      <th>1583</th>\n",
       "      <td>ошибки</td>\n",
       "      <td>6.280853</td>\n",
       "    </tr>\n",
       "    <tr>\n",
       "      <th>383</th>\n",
       "      <td>генерация</td>\n",
       "      <td>6.280853</td>\n",
       "    </tr>\n",
       "    <tr>\n",
       "      <th>1785</th>\n",
       "      <td>помещение</td>\n",
       "      <td>6.280853</td>\n",
       "    </tr>\n",
       "    <tr>\n",
       "      <th>1343</th>\n",
       "      <td>обвинять</td>\n",
       "      <td>6.280853</td>\n",
       "    </tr>\n",
       "    <tr>\n",
       "      <th>2939</th>\n",
       "      <td>хуже</td>\n",
       "      <td>6.280853</td>\n",
       "    </tr>\n",
       "    <tr>\n",
       "      <th>1813</th>\n",
       "      <td>порог</td>\n",
       "      <td>6.280853</td>\n",
       "    </tr>\n",
       "    <tr>\n",
       "      <th>249</th>\n",
       "      <td>возвращать</td>\n",
       "      <td>6.280853</td>\n",
       "    </tr>\n",
       "  </tbody>\n",
       "</table>\n",
       "</div>"
      ],
      "text/plain": [
       "                   ru  weight_ru\n",
       "2561  ссылок           6.280853 \n",
       "2080  противник        6.280853 \n",
       "272   воспроизведение  6.280853 \n",
       "1583  ошибки           6.280853 \n",
       "383   генерация        6.280853 \n",
       "1785  помещение        6.280853 \n",
       "1343  обвинять         6.280853 \n",
       "2939  хуже             6.280853 \n",
       "1813  порог            6.280853 \n",
       "249   возвращать       6.280853 "
      ]
     },
     "execution_count": 670,
     "metadata": {},
     "output_type": "execute_result"
    }
   ],
   "source": [
    "rr_ru_train_df.head(10)"
   ]
  },
  {
   "cell_type": "markdown",
   "metadata": {},
   "source": [
    "Посмотрим вообще сколько слов есть в словаре трейна из тестовой выборки и какие у них веса"
   ]
  },
  {
   "cell_type": "code",
   "execution_count": 671,
   "metadata": {},
   "outputs": [
    {
     "data": {
      "text/plain": [
       "3060"
      ]
     },
     "execution_count": 671,
     "metadata": {},
     "output_type": "execute_result"
    }
   ],
   "source": [
    "len(set(rr_ru_train_df['ru']))"
   ]
  },
  {
   "cell_type": "code",
   "execution_count": 672,
   "metadata": {},
   "outputs": [
    {
     "data": {
      "text/plain": [
       "23674"
      ]
     },
     "execution_count": 672,
     "metadata": {},
     "output_type": "execute_result"
    }
   ],
   "source": [
    "len(set(rr_ru_test_df['ru']))"
   ]
  },
  {
   "cell_type": "code",
   "execution_count": 673,
   "metadata": {},
   "outputs": [],
   "source": [
    "rr_ru_testIntrain = list(set(rr_ru_train_df['ru']) - set(rr_ru_test_df['ru']))"
   ]
  },
  {
   "cell_type": "code",
   "execution_count": 674,
   "metadata": {},
   "outputs": [
    {
     "data": {
      "text/plain": [
       "0"
      ]
     },
     "execution_count": 674,
     "metadata": {},
     "output_type": "execute_result"
    }
   ],
   "source": [
    "len(rr_ru_testIntrain)"
   ]
  },
  {
   "cell_type": "markdown",
   "metadata": {},
   "source": [
    "Практически все слова теста содержатся в словаре трейна. Значит модель плохо обучилась. Нет взаимосвязи между словами и рейтингом."
   ]
  },
  {
   "cell_type": "markdown",
   "metadata": {},
   "source": [
    "Попробую сделать отдельные словари для отрицательных, нулевых и положительных статей"
   ]
  },
  {
   "cell_type": "code",
   "execution_count": 675,
   "metadata": {},
   "outputs": [],
   "source": [
    "count_vect_rate = CountVectorizer(max_df=cv_max_df, min_df=cv_min_df,\\\n",
    "                             ngram_range=cv_ngram_range)\n",
    "tfidf_transformer_rate = TfidfTransformer()"
   ]
  },
  {
   "cell_type": "code",
   "execution_count": 676,
   "metadata": {},
   "outputs": [
    {
     "data": {
      "text/plain": [
       "Index(['date', 'tittle', 'text', 'rate', 'tittle_words_count',\n",
       "       'text_words_count', 'text_category', 'text_clwords_count',\n",
       "       'rate_category', 'month', 'day', 'hour', 'weekday', 'text_norm',\n",
       "       'sites_text', 'sites_text_count', 'ru_words_text',\n",
       "       'ru_words_text_count', 'en_words_text', 'en_words_text_count',\n",
       "       'punctuations_text_count', 'emotions_text_count', 'text_category_int',\n",
       "       'rate_log', 'rate_cube_r', 'text_words_count_log',\n",
       "       'tittle_words_count_log', 'sites_text_count_log',\n",
       "       'ru_words_text_count_log', 'en_words_text_count_log',\n",
       "       'punctuations_text_count_log', 'emotions_text_count_log',\n",
       "       'ru_words_text_w2v'],\n",
       "      dtype='object')"
      ]
     },
     "execution_count": 676,
     "metadata": {},
     "output_type": "execute_result"
    }
   ],
   "source": [
    "df.columns"
   ]
  },
  {
   "cell_type": "code",
   "execution_count": 677,
   "metadata": {
    "scrolled": true
   },
   "outputs": [],
   "source": [
    "X_test_curr_0 = df[df['rate_category'] == 0]['ru_words_'+columnOne]"
   ]
  },
  {
   "cell_type": "code",
   "execution_count": 678,
   "metadata": {},
   "outputs": [],
   "source": [
    "X_test_curr_gt0 = df[df['rate_category'] > 0]['ru_words_'+columnOne]"
   ]
  },
  {
   "cell_type": "code",
   "execution_count": 679,
   "metadata": {},
   "outputs": [],
   "source": [
    "X_test_curr_lt0 = df[df['rate_category'] < 0]['ru_words_'+columnOne]"
   ]
  },
  {
   "cell_type": "code",
   "execution_count": 680,
   "metadata": {},
   "outputs": [],
   "source": [
    "def voc_for_rate (words):    \n",
    "    X_cvect_ru_words_rate =count_vect_rate.fit_transform(words) \n",
    "    X_tfidf_ru_words_rate =tfidf_transformer_rate.fit_transform(X_cvect_ru_words_rate)\n",
    "    rr_ru_rate = dict(zip(count_vect_rate.get_feature_names(),tfidf_transformer_rate.idf_))\n",
    "    return token_weight_df(rr_ru_rate,'ru')"
   ]
  },
  {
   "cell_type": "code",
   "execution_count": 681,
   "metadata": {},
   "outputs": [],
   "source": [
    "rr_ru_rate_0 =  voc_for_rate(X_test_curr_0)\n",
    "rr_ru_rate_gt0 =  voc_for_rate(X_test_curr_gt0)\n",
    "rr_ru_rate_lt0 =  voc_for_rate(X_test_curr_lt0)"
   ]
  },
  {
   "cell_type": "code",
   "execution_count": 682,
   "metadata": {},
   "outputs": [
    {
     "name": "stdout",
     "output_type": "stream",
     "text": [
      "len_0=13215; len_gt0=45947; len_lt0=14833\n"
     ]
    }
   ],
   "source": [
    "print('len_0={0}; len_gt0={1}; len_lt0={2}'.format(len(rr_ru_rate_0['ru']),len(rr_ru_rate_gt0['ru']),len(rr_ru_rate_lt0['ru'])))"
   ]
  },
  {
   "cell_type": "markdown",
   "metadata": {},
   "source": [
    "Сколько слов из статей с отрицательным рейтингом содержется в статьях с положительным:"
   ]
  },
  {
   "cell_type": "code",
   "execution_count": 683,
   "metadata": {},
   "outputs": [
    {
     "data": {
      "text/plain": [
       "13816"
      ]
     },
     "execution_count": 683,
     "metadata": {},
     "output_type": "execute_result"
    }
   ],
   "source": [
    "len(rr_ru_rate_gt0['ru']) - len(list(set(rr_ru_rate_gt0['ru']) - set(rr_ru_rate_lt0['ru'])))"
   ]
  },
  {
   "cell_type": "code",
   "execution_count": 684,
   "metadata": {},
   "outputs": [
    {
     "data": {
      "text/html": [
       "<div>\n",
       "<style scoped>\n",
       "    .dataframe tbody tr th:only-of-type {\n",
       "        vertical-align: middle;\n",
       "    }\n",
       "\n",
       "    .dataframe tbody tr th {\n",
       "        vertical-align: top;\n",
       "    }\n",
       "\n",
       "    .dataframe thead th {\n",
       "        text-align: right;\n",
       "    }\n",
       "</style>\n",
       "<table border=\"1\" class=\"dataframe\">\n",
       "  <thead>\n",
       "    <tr style=\"text-align: right;\">\n",
       "      <th></th>\n",
       "      <th>ru</th>\n",
       "      <th>weight_ru</th>\n",
       "    </tr>\n",
       "  </thead>\n",
       "  <tbody>\n",
       "    <tr>\n",
       "      <th>45946</th>\n",
       "      <td>ящичек</td>\n",
       "      <td>9.508018</td>\n",
       "    </tr>\n",
       "    <tr>\n",
       "      <th>13884</th>\n",
       "      <td>клавише</td>\n",
       "      <td>9.508018</td>\n",
       "    </tr>\n",
       "    <tr>\n",
       "      <th>34204</th>\n",
       "      <td>рисуется</td>\n",
       "      <td>9.508018</td>\n",
       "    </tr>\n",
       "    <tr>\n",
       "      <th>34203</th>\n",
       "      <td>рисует</td>\n",
       "      <td>9.508018</td>\n",
       "    </tr>\n",
       "    <tr>\n",
       "      <th>34202</th>\n",
       "      <td>рисуем</td>\n",
       "      <td>9.508018</td>\n",
       "    </tr>\n",
       "  </tbody>\n",
       "</table>\n",
       "</div>"
      ],
      "text/plain": [
       "             ru  weight_ru\n",
       "45946  ящичек    9.508018 \n",
       "13884  клавише   9.508018 \n",
       "34204  рисуется  9.508018 \n",
       "34203  рисует    9.508018 \n",
       "34202  рисуем    9.508018 "
      ]
     },
     "execution_count": 684,
     "metadata": {},
     "output_type": "execute_result"
    }
   ],
   "source": [
    "rr_ru_rate_gt0.head()"
   ]
  },
  {
   "cell_type": "code",
   "execution_count": 685,
   "metadata": {},
   "outputs": [
    {
     "data": {
      "text/html": [
       "<div>\n",
       "<style scoped>\n",
       "    .dataframe tbody tr th:only-of-type {\n",
       "        vertical-align: middle;\n",
       "    }\n",
       "\n",
       "    .dataframe tbody tr th {\n",
       "        vertical-align: top;\n",
       "    }\n",
       "\n",
       "    .dataframe thead th {\n",
       "        text-align: right;\n",
       "    }\n",
       "</style>\n",
       "<table border=\"1\" class=\"dataframe\">\n",
       "  <thead>\n",
       "    <tr style=\"text-align: right;\">\n",
       "      <th></th>\n",
       "      <th>ru</th>\n",
       "      <th>weight_ru</th>\n",
       "    </tr>\n",
       "  </thead>\n",
       "  <tbody>\n",
       "    <tr>\n",
       "      <th>0</th>\n",
       "      <td>аарон</td>\n",
       "      <td>7.693737</td>\n",
       "    </tr>\n",
       "    <tr>\n",
       "      <th>9463</th>\n",
       "      <td>практиковаться</td>\n",
       "      <td>7.693737</td>\n",
       "    </tr>\n",
       "    <tr>\n",
       "      <th>4010</th>\n",
       "      <td>инков</td>\n",
       "      <td>7.693737</td>\n",
       "    </tr>\n",
       "    <tr>\n",
       "      <th>9452</th>\n",
       "      <td>праздника</td>\n",
       "      <td>7.693737</td>\n",
       "    </tr>\n",
       "    <tr>\n",
       "      <th>9454</th>\n",
       "      <td>праздником</td>\n",
       "      <td>7.693737</td>\n",
       "    </tr>\n",
       "  </tbody>\n",
       "</table>\n",
       "</div>"
      ],
      "text/plain": [
       "                  ru  weight_ru\n",
       "0     аарон           7.693737 \n",
       "9463  практиковаться  7.693737 \n",
       "4010  инков           7.693737 \n",
       "9452  праздника       7.693737 \n",
       "9454  праздником      7.693737 "
      ]
     },
     "execution_count": 685,
     "metadata": {},
     "output_type": "execute_result"
    }
   ],
   "source": [
    "rr_ru_rate_lt0.head()"
   ]
  },
  {
   "cell_type": "markdown",
   "metadata": {},
   "source": [
    "Практически все слова из статей с отрицательным рейтингом содержатся в статьях с положительным.\n",
    "Нужно проанализировать тексты этих статей и подмумать над передачей модели смысловых нагрузок."
   ]
  },
  {
   "cell_type": "markdown",
   "metadata": {},
   "source": [
    "### word2vec"
   ]
  },
  {
   "cell_type": "code",
   "execution_count": 686,
   "metadata": {},
   "outputs": [],
   "source": [
    "from gensim.models import word2vec"
   ]
  },
  {
   "cell_type": "code",
   "execution_count": 687,
   "metadata": {
    "scrolled": true
   },
   "outputs": [],
   "source": [
    "df['ru_words_text_w2v'] = df['ru_words_text'].\\\n",
    "                                apply(lambda t: t.split(' '))"
   ]
  },
  {
   "cell_type": "code",
   "execution_count": null,
   "metadata": {},
   "outputs": [],
   "source": [
    "w2v = word2vec.Word2Vec(df['ru_words_text_w2v'], size=300, window=5, workers=2)\n",
    "w2v_dict = dict(zip(w2v.wv.index2word, w2v.wv.syn0))"
   ]
  },
  {
   "cell_type": "code",
   "execution_count": 690,
   "metadata": {
    "scrolled": true
   },
   "outputs": [
    {
     "data": {
      "text/plain": [
       "[('яндекс', 0.8541227579116821),\n",
       " ('поисковик', 0.7335008382797241),\n",
       " ('блогам', 0.7232916951179504),\n",
       " ('яндексе', 0.7206761837005615),\n",
       " ('гугла', 0.6879168152809143),\n",
       " ('жираф', 0.6774791479110718),\n",
       " ('вебальт', 0.6770147085189819),\n",
       " ('мейлр', 0.6668910980224609),\n",
       " ('обнаружил', 0.6586644649505615),\n",
       " ('твиттер', 0.6530939340591431)]"
      ]
     },
     "execution_count": 690,
     "metadata": {},
     "output_type": "execute_result"
    }
   ],
   "source": [
    "w2v.wv.most_similar(positive=['гугл'])"
   ]
  },
  {
   "cell_type": "code",
   "execution_count": 691,
   "metadata": {},
   "outputs": [],
   "source": [
    "class mean_vectorizer(object):\n",
    "    def __init__(self, word2vec):\n",
    "        self.word2vec = word2vec\n",
    "        self.dim = len(next(iter(w2v_dict.values())))\n",
    "\n",
    "    def fit(self, X):\n",
    "        return self \n",
    "\n",
    "    def transform(self, X):\n",
    "        return np.array([\n",
    "            np.mean([self.word2vec[w] for w in words if w in self.word2vec] \n",
    "                    or [np.zeros(self.dim)], axis=0)\n",
    "            for words in X\n",
    "        ])"
   ]
  },
  {
   "cell_type": "code",
   "execution_count": null,
   "metadata": {},
   "outputs": [],
   "source": [
    "data_mean = mean_vectorizer(w2v).fit(df['ru_words_text_w2v']).\\\n",
    "                                    transform(df['ru_words_text_w2v'])\n",
    "data_mean.shape"
   ]
  },
  {
   "cell_type": "code",
   "execution_count": 693,
   "metadata": {},
   "outputs": [],
   "source": [
    "def TrainTestSplitForW2V (coef,X,y):\n",
    "    \n",
    "    train_part_size = int(coef * X.shape[0])\n",
    "    \n",
    "    X_train, X_test = X[:train_part_size, :],X[train_part_size:, :]\n",
    "    y_train, y_test = y[:train_part_size],   y[train_part_size:]\n",
    "    \n",
    "    return X_train, X_test, y_train, y_test"
   ]
  },
  {
   "cell_type": "code",
   "execution_count": 694,
   "metadata": {
    "scrolled": true
   },
   "outputs": [],
   "source": [
    "X_train, X_test, y_train, y_test = TrainTestSplitForW2V(.8,data_mean,df['rate'])\n",
    "X_train, X_test, y_train_l, y_test_l = TrainTestSplitForW2V(.8,data_mean,df['rate_log'])"
   ]
  },
  {
   "cell_type": "code",
   "execution_count": 695,
   "metadata": {},
   "outputs": [],
   "source": [
    "ys = [[y_train,y_test,False],[y_train_l,y_test_l,True]]"
   ]
  },
  {
   "cell_type": "code",
   "execution_count": 696,
   "metadata": {
    "scrolled": true
   },
   "outputs": [
    {
     "data": {
      "text/plain": [
       "(19653,)"
      ]
     },
     "execution_count": 696,
     "metadata": {},
     "output_type": "execute_result"
    }
   ],
   "source": [
    "df['ru_words_text_w2v'].shape"
   ]
  },
  {
   "cell_type": "code",
   "execution_count": 697,
   "metadata": {},
   "outputs": [],
   "source": [
    "def ModelFit_ru_words_w2v(m,modelResults_df,X_train,y_train,X_test,y_test,ratelog=False):\n",
    "    comment=columnOne+ '+ ru_words + w2v + rate_log:'+str(ratelog)\n",
    "    modelResults_df = ModelFitPredictAndMettrics(modelResults_df,comment,m,\\\n",
    "                      X_train,y_train,X_test,y_test,False,False,ratelog)\n",
    "    return modelResults_df"
   ]
  },
  {
   "cell_type": "code",
   "execution_count": 698,
   "metadata": {},
   "outputs": [
    {
     "name": "stdout",
     "output_type": "stream",
     "text": [
      "LinearRegression(copy_X=True, fit_intercept=True, n_jobs=None,\n",
      "         normalize=False)\n",
      "Ridge(alpha=1, copy_X=True, fit_intercept=True, max_iter=None,\n",
      "   normalize=False, random_state=1, solver='auto', tol=0.001)\n",
      "Lasso(alpha=1, copy_X=True, fit_intercept=True, max_iter=1000,\n",
      "   normalize=False, positive=False, precompute=False, random_state=1,\n",
      "   selection='cyclic', tol=0.0001, warm_start=False)\n",
      "LinearRegression(copy_X=True, fit_intercept=True, n_jobs=None,\n",
      "         normalize=False)\n",
      "Ridge(alpha=1, copy_X=True, fit_intercept=True, max_iter=None,\n",
      "   normalize=False, random_state=1, solver='auto', tol=0.001)\n",
      "Lasso(alpha=1, copy_X=True, fit_intercept=True, max_iter=1000,\n",
      "   normalize=False, positive=False, precompute=False, random_state=1,\n",
      "   selection='cyclic', tol=0.0001, warm_start=False)\n"
     ]
    }
   ],
   "source": [
    "for y  in ys:\n",
    "    y_train=y[0]\n",
    "    y_test=y[1]\n",
    "    ratelogFlag=y[2]\n",
    "    for m in models:\n",
    "        modelResults_df = ModelFit_ru_words_w2v(m,modelResults_df,X_train,y_train,X_test,y_test,ratelogFlag) "
   ]
  },
  {
   "cell_type": "code",
   "execution_count": 699,
   "metadata": {},
   "outputs": [],
   "source": [
    "pd.set_option('display.max_colwidth', -1)"
   ]
  },
  {
   "cell_type": "code",
   "execution_count": 700,
   "metadata": {
    "scrolled": true
   },
   "outputs": [
    {
     "data": {
      "text/html": [
       "<div>\n",
       "<style scoped>\n",
       "    .dataframe tbody tr th:only-of-type {\n",
       "        vertical-align: middle;\n",
       "    }\n",
       "\n",
       "    .dataframe tbody tr th {\n",
       "        vertical-align: top;\n",
       "    }\n",
       "\n",
       "    .dataframe thead th {\n",
       "        text-align: right;\n",
       "    }\n",
       "</style>\n",
       "<table border=\"1\" class=\"dataframe\">\n",
       "  <thead>\n",
       "    <tr style=\"text-align: right;\">\n",
       "      <th></th>\n",
       "      <th>Comment</th>\n",
       "      <th>Model</th>\n",
       "      <th>MSETrain</th>\n",
       "      <th>MSETest</th>\n",
       "      <th>sMSETrain</th>\n",
       "      <th>sMSETest</th>\n",
       "      <th>R2Train</th>\n",
       "      <th>R2Test</th>\n",
       "      <th>TrainShape</th>\n",
       "      <th>TestShape</th>\n",
       "    </tr>\n",
       "  </thead>\n",
       "  <tbody>\n",
       "    <tr>\n",
       "      <th>21</th>\n",
       "      <td>text + только доп.фичи + rate_log:False + tittle_words_count, text_words_count, text_category_int, sites_text_count, ru_words_text_count, en_words_text_count, punctuations_text_count, emotions_text_count</td>\n",
       "      <td>LinearRegression(copy_X=True, fit_intercept=True, n_jobs=None,\\n         normalize=False)</td>\n",
       "      <td>215.098810</td>\n",
       "      <td>6.863324e+02</td>\n",
       "      <td>14.666247</td>\n",
       "      <td>2.619795e+01</td>\n",
       "      <td>0.024021</td>\n",
       "      <td>-4.851774e-02</td>\n",
       "      <td>(15722, 8)</td>\n",
       "      <td>(3931, 8)</td>\n",
       "    </tr>\n",
       "    <tr>\n",
       "      <th>23</th>\n",
       "      <td>text + только доп.фичи + rate_log:False + tittle_words_count, text_words_count, text_category_int, sites_text_count, ru_words_text_count, en_words_text_count, punctuations_text_count, emotions_text_count</td>\n",
       "      <td>Ridge(alpha=1, copy_X=True, fit_intercept=True, max_iter=None,\\n   normalize=False, random_state=1, solver='auto', tol=0.001)</td>\n",
       "      <td>215.375423</td>\n",
       "      <td>6.874739e+02</td>\n",
       "      <td>14.675675</td>\n",
       "      <td>2.621972e+01</td>\n",
       "      <td>0.022766</td>\n",
       "      <td>-5.026158e-02</td>\n",
       "      <td>(15722, 8)</td>\n",
       "      <td>(3931, 8)</td>\n",
       "    </tr>\n",
       "    <tr>\n",
       "      <th>22</th>\n",
       "      <td>text + только доп.фичи + масштабирование ss + rate_log:False + tittle_words_count, text_words_count, text_category_int, sites_text_count, ru_words_text_count, en_words_text_count, punctuations_text_count, emotions_text_count</td>\n",
       "      <td>LinearRegression(copy_X=True, fit_intercept=True, n_jobs=None,\\n         normalize=False)</td>\n",
       "      <td>214.421238</td>\n",
       "      <td>6.882526e+02</td>\n",
       "      <td>14.643129</td>\n",
       "      <td>2.623457e+01</td>\n",
       "      <td>0.027096</td>\n",
       "      <td>-5.145113e-02</td>\n",
       "      <td>(15722, 8)</td>\n",
       "      <td>(3931, 8)</td>\n",
       "    </tr>\n",
       "    <tr>\n",
       "      <th>24</th>\n",
       "      <td>text + только доп.фичи + масштабирование ss + rate_log:False + tittle_words_count, text_words_count, text_category_int, sites_text_count, ru_words_text_count, en_words_text_count, punctuations_text_count, emotions_text_count</td>\n",
       "      <td>Ridge(alpha=1, copy_X=True, fit_intercept=True, max_iter=None,\\n   normalize=False, random_state=1, solver='auto', tol=0.001)</td>\n",
       "      <td>214.421246</td>\n",
       "      <td>6.882601e+02</td>\n",
       "      <td>14.643130</td>\n",
       "      <td>2.623471e+01</td>\n",
       "      <td>0.027096</td>\n",
       "      <td>-5.146265e-02</td>\n",
       "      <td>(15722, 8)</td>\n",
       "      <td>(3931, 8)</td>\n",
       "    </tr>\n",
       "    <tr>\n",
       "      <th>25</th>\n",
       "      <td>text + только доп.фичи + rate_log:False + tittle_words_count, text_words_count, text_category_int, sites_text_count, ru_words_text_count, en_words_text_count, punctuations_text_count, emotions_text_count</td>\n",
       "      <td>Lasso(alpha=1, copy_X=True, fit_intercept=True, max_iter=1000,\\n   normalize=False, positive=False, precompute=False, random_state=1,\\n   selection='cyclic', tol=0.0001, warm_start=False)</td>\n",
       "      <td>215.183382</td>\n",
       "      <td>6.917683e+02</td>\n",
       "      <td>14.669130</td>\n",
       "      <td>2.630149e+01</td>\n",
       "      <td>0.023638</td>\n",
       "      <td>-5.682215e-02</td>\n",
       "      <td>(15722, 8)</td>\n",
       "      <td>(3931, 8)</td>\n",
       "    </tr>\n",
       "    <tr>\n",
       "      <th>69</th>\n",
       "      <td>text+ ru_words + w2v + rate_log:False</td>\n",
       "      <td>LinearRegression(copy_X=True, fit_intercept=True, n_jobs=None,\\n         normalize=False)</td>\n",
       "      <td>207.260462</td>\n",
       "      <td>6.958500e+02</td>\n",
       "      <td>14.396543</td>\n",
       "      <td>2.637897e+01</td>\n",
       "      <td>0.059587</td>\n",
       "      <td>-6.305790e-02</td>\n",
       "      <td>(15722, 300)</td>\n",
       "      <td>(3931, 300)</td>\n",
       "    </tr>\n",
       "    <tr>\n",
       "      <th>70</th>\n",
       "      <td>text+ ru_words + w2v + rate_log:False</td>\n",
       "      <td>Ridge(alpha=1, copy_X=True, fit_intercept=True, max_iter=None,\\n   normalize=False, random_state=1, solver='auto', tol=0.001)</td>\n",
       "      <td>211.517331</td>\n",
       "      <td>6.981084e+02</td>\n",
       "      <td>14.543635</td>\n",
       "      <td>2.642174e+01</td>\n",
       "      <td>0.040272</td>\n",
       "      <td>-6.650800e-02</td>\n",
       "      <td>(15722, 300)</td>\n",
       "      <td>(3931, 300)</td>\n",
       "    </tr>\n",
       "    <tr>\n",
       "      <th>54</th>\n",
       "      <td>text + Очистка + Нормализация + разбиение на 3 словаря cvect + rate_log:False + доп.фичи + масштабирование ss + tittle_words_count, text_words_count, text_category_int, sites_text_count, ru_words_text_count, en_words_text_count, punctuations_text_count, emotions_text_count</td>\n",
       "      <td>Ridge(alpha=1, copy_X=True, fit_intercept=True, max_iter=None,\\n   normalize=False, random_state=1, solver='auto', tol=0.001)</td>\n",
       "      <td>69.127194</td>\n",
       "      <td>7.022477e+02</td>\n",
       "      <td>8.314277</td>\n",
       "      <td>2.649996e+01</td>\n",
       "      <td>0.332572</td>\n",
       "      <td>-7.283171e-02</td>\n",
       "      <td>(5000, 4422)</td>\n",
       "      <td>(3931, 4422)</td>\n",
       "    </tr>\n",
       "    <tr>\n",
       "      <th>26</th>\n",
       "      <td>text + только доп.фичи + масштабирование ss + rate_log:False + tittle_words_count, text_words_count, text_category_int, sites_text_count, ru_words_text_count, en_words_text_count, punctuations_text_count, emotions_text_count</td>\n",
       "      <td>Lasso(alpha=1, copy_X=True, fit_intercept=True, max_iter=1000,\\n   normalize=False, positive=False, precompute=False, random_state=1,\\n   selection='cyclic', tol=0.0001, warm_start=False)</td>\n",
       "      <td>216.609236</td>\n",
       "      <td>7.031047e+02</td>\n",
       "      <td>14.717650</td>\n",
       "      <td>2.651612e+01</td>\n",
       "      <td>0.017168</td>\n",
       "      <td>-7.414089e-02</td>\n",
       "      <td>(15722, 8)</td>\n",
       "      <td>(3931, 8)</td>\n",
       "    </tr>\n",
       "    <tr>\n",
       "      <th>10</th>\n",
       "      <td>text + Очистка + Нормализация + разбиение на 3 словаря tfidf + rate_log:False</td>\n",
       "      <td>Ridge(alpha=1, copy_X=True, fit_intercept=True, max_iter=None,\\n   normalize=False, random_state=1, solver='auto', tol=0.001)</td>\n",
       "      <td>45.682548</td>\n",
       "      <td>7.086883e+02</td>\n",
       "      <td>6.758887</td>\n",
       "      <td>2.662120e+01</td>\n",
       "      <td>0.558932</td>\n",
       "      <td>-8.267103e-02</td>\n",
       "      <td>(5000, 4414)</td>\n",
       "      <td>(3931, 4414)</td>\n",
       "    </tr>\n",
       "    <tr>\n",
       "      <th>27</th>\n",
       "      <td>text + только доп.фичи + rate_log:True + tittle_words_count, text_words_count, text_category_int, sites_text_count, ru_words_text_count, en_words_text_count, punctuations_text_count, emotions_text_count</td>\n",
       "      <td>LinearRegression(copy_X=True, fit_intercept=True, n_jobs=None,\\n         normalize=False)</td>\n",
       "      <td>216.041013</td>\n",
       "      <td>7.101691e+02</td>\n",
       "      <td>14.698334</td>\n",
       "      <td>2.664900e+01</td>\n",
       "      <td>0.019746</td>\n",
       "      <td>-8.493328e-02</td>\n",
       "      <td>(15722, 8)</td>\n",
       "      <td>(3931, 8)</td>\n",
       "    </tr>\n",
       "    <tr>\n",
       "      <th>7</th>\n",
       "      <td>text + Очистка + Нормализация + только ru_words tfidf + rate_log:False</td>\n",
       "      <td>Ridge(alpha=1, copy_X=True, fit_intercept=True, max_iter=None,\\n   normalize=False, random_state=1, solver='auto', tol=0.001)</td>\n",
       "      <td>54.837824</td>\n",
       "      <td>7.103997e+02</td>\n",
       "      <td>7.405257</td>\n",
       "      <td>2.665332e+01</td>\n",
       "      <td>0.470537</td>\n",
       "      <td>-8.528553e-02</td>\n",
       "      <td>(5000, 3060)</td>\n",
       "      <td>(3931, 3060)</td>\n",
       "    </tr>\n",
       "    <tr>\n",
       "      <th>29</th>\n",
       "      <td>text + только доп.фичи + rate_log:True + tittle_words_count, text_words_count, text_category_int, sites_text_count, ru_words_text_count, en_words_text_count, punctuations_text_count, emotions_text_count</td>\n",
       "      <td>Ridge(alpha=1, copy_X=True, fit_intercept=True, max_iter=None,\\n   normalize=False, random_state=1, solver='auto', tol=0.001)</td>\n",
       "      <td>216.449409</td>\n",
       "      <td>7.110940e+02</td>\n",
       "      <td>14.712220</td>\n",
       "      <td>2.666635e+01</td>\n",
       "      <td>0.017893</td>\n",
       "      <td>-8.634628e-02</td>\n",
       "      <td>(15722, 8)</td>\n",
       "      <td>(3931, 8)</td>\n",
       "    </tr>\n",
       "    <tr>\n",
       "      <th>30</th>\n",
       "      <td>text + только доп.фичи + масштабирование ss + rate_log:True + tittle_words_count, text_words_count, text_category_int, sites_text_count, ru_words_text_count, en_words_text_count, punctuations_text_count, emotions_text_count</td>\n",
       "      <td>Ridge(alpha=1, copy_X=True, fit_intercept=True, max_iter=None,\\n   normalize=False, random_state=1, solver='auto', tol=0.001)</td>\n",
       "      <td>216.020295</td>\n",
       "      <td>7.122830e+02</td>\n",
       "      <td>14.697629</td>\n",
       "      <td>2.668863e+01</td>\n",
       "      <td>0.019840</td>\n",
       "      <td>-8.816272e-02</td>\n",
       "      <td>(15722, 8)</td>\n",
       "      <td>(3931, 8)</td>\n",
       "    </tr>\n",
       "    <tr>\n",
       "      <th>28</th>\n",
       "      <td>text + только доп.фичи + масштабирование ss + rate_log:True + tittle_words_count, text_words_count, text_category_int, sites_text_count, ru_words_text_count, en_words_text_count, punctuations_text_count, emotions_text_count</td>\n",
       "      <td>LinearRegression(copy_X=True, fit_intercept=True, n_jobs=None,\\n         normalize=False)</td>\n",
       "      <td>216.020078</td>\n",
       "      <td>7.122835e+02</td>\n",
       "      <td>14.697622</td>\n",
       "      <td>2.668864e+01</td>\n",
       "      <td>0.019841</td>\n",
       "      <td>-8.816348e-02</td>\n",
       "      <td>(15722, 8)</td>\n",
       "      <td>(3931, 8)</td>\n",
       "    </tr>\n",
       "    <tr>\n",
       "      <th>72</th>\n",
       "      <td>text+ ru_words + w2v + rate_log:True</td>\n",
       "      <td>LinearRegression(copy_X=True, fit_intercept=True, n_jobs=None,\\n         normalize=False)</td>\n",
       "      <td>209.124361</td>\n",
       "      <td>7.171987e+02</td>\n",
       "      <td>14.461133</td>\n",
       "      <td>2.678057e+01</td>\n",
       "      <td>0.051130</td>\n",
       "      <td>-9.567246e-02</td>\n",
       "      <td>(15722, 300)</td>\n",
       "      <td>(3931, 300)</td>\n",
       "    </tr>\n",
       "    <tr>\n",
       "      <th>55</th>\n",
       "      <td>text + Очистка + Нормализация + разбиение на 3 словаря tfidf + rate_log:False + доп.фичи + масштабирование ss + tittle_words_count, text_words_count, text_category_int, sites_text_count, ru_words_text_count, en_words_text_count, punctuations_text_count, emotions_text_count</td>\n",
       "      <td>Ridge(alpha=1, copy_X=True, fit_intercept=True, max_iter=None,\\n   normalize=False, random_state=1, solver='auto', tol=0.001)</td>\n",
       "      <td>88.107068</td>\n",
       "      <td>7.179333e+02</td>\n",
       "      <td>9.386537</td>\n",
       "      <td>2.679428e+01</td>\n",
       "      <td>0.149320</td>\n",
       "      <td>-9.679474e-02</td>\n",
       "      <td>(5000, 4422)</td>\n",
       "      <td>(3931, 4422)</td>\n",
       "    </tr>\n",
       "    <tr>\n",
       "      <th>63</th>\n",
       "      <td>text + Очистка + Нормализация + разбиение на 3 словаря cvect + rate_log:True + доп.фичи + масштабирование ss + tittle_words_count, text_words_count, text_category_int, sites_text_count, ru_words_text_count, en_words_text_count, punctuations_text_count, emotions_text_count</td>\n",
       "      <td>Ridge(alpha=1, copy_X=True, fit_intercept=True, max_iter=None,\\n   normalize=False, random_state=1, solver='auto', tol=0.001)</td>\n",
       "      <td>71.418622</td>\n",
       "      <td>7.185790e+02</td>\n",
       "      <td>8.450954</td>\n",
       "      <td>2.680632e+01</td>\n",
       "      <td>0.310448</td>\n",
       "      <td>-9.778124e-02</td>\n",
       "      <td>(5000, 4422)</td>\n",
       "      <td>(3931, 4422)</td>\n",
       "    </tr>\n",
       "    <tr>\n",
       "      <th>71</th>\n",
       "      <td>text+ ru_words + w2v + rate_log:False</td>\n",
       "      <td>Lasso(alpha=1, copy_X=True, fit_intercept=True, max_iter=1000,\\n   normalize=False, positive=False, precompute=False, random_state=1,\\n   selection='cyclic', tol=0.0001, warm_start=False)</td>\n",
       "      <td>220.392961</td>\n",
       "      <td>7.197478e+02</td>\n",
       "      <td>14.845638</td>\n",
       "      <td>2.682812e+01</td>\n",
       "      <td>0.000000</td>\n",
       "      <td>-9.956679e-02</td>\n",
       "      <td>(15722, 300)</td>\n",
       "      <td>(3931, 300)</td>\n",
       "    </tr>\n",
       "    <tr>\n",
       "      <th>56</th>\n",
       "      <td>text + Очистка + Нормализация + разбиение на 3 словаря hashvect + rate_log:False + доп.фичи + масштабирование ss + tittle_words_count, text_words_count, text_category_int, sites_text_count, ru_words_text_count, en_words_text_count, punctuations_text_count, emotions_text_count</td>\n",
       "      <td>Ridge(alpha=1, copy_X=True, fit_intercept=True, max_iter=None,\\n   normalize=False, random_state=1, solver='auto', tol=0.001)</td>\n",
       "      <td>87.143037</td>\n",
       "      <td>7.202901e+02</td>\n",
       "      <td>9.335043</td>\n",
       "      <td>2.683822e+01</td>\n",
       "      <td>0.158628</td>\n",
       "      <td>-1.003953e-01</td>\n",
       "      <td>(5000, 3008)</td>\n",
       "      <td>(3931, 3008)</td>\n",
       "    </tr>\n",
       "    <tr>\n",
       "      <th>73</th>\n",
       "      <td>text+ ru_words + w2v + rate_log:True</td>\n",
       "      <td>Ridge(alpha=1, copy_X=True, fit_intercept=True, max_iter=None,\\n   normalize=False, random_state=1, solver='auto', tol=0.001)</td>\n",
       "      <td>213.439450</td>\n",
       "      <td>7.204889e+02</td>\n",
       "      <td>14.609567</td>\n",
       "      <td>2.684192e+01</td>\n",
       "      <td>0.031551</td>\n",
       "      <td>-1.006989e-01</td>\n",
       "      <td>(15722, 300)</td>\n",
       "      <td>(3931, 300)</td>\n",
       "    </tr>\n",
       "    <tr>\n",
       "      <th>31</th>\n",
       "      <td>text + только доп.фичи + rate_log:True + tittle_words_count, text_words_count, text_category_int, sites_text_count, ru_words_text_count, en_words_text_count, punctuations_text_count, emotions_text_count</td>\n",
       "      <td>Lasso(alpha=1, copy_X=True, fit_intercept=True, max_iter=1000,\\n   normalize=False, positive=False, precompute=False, random_state=1,\\n   selection='cyclic', tol=0.0001, warm_start=False)</td>\n",
       "      <td>218.141171</td>\n",
       "      <td>7.211227e+02</td>\n",
       "      <td>14.769603</td>\n",
       "      <td>2.685373e+01</td>\n",
       "      <td>0.010217</td>\n",
       "      <td>-1.016673e-01</td>\n",
       "      <td>(15722, 8)</td>\n",
       "      <td>(3931, 8)</td>\n",
       "    </tr>\n",
       "    <tr>\n",
       "      <th>8</th>\n",
       "      <td>text + Очистка + Нормализация + только ru_words hashvect + rate_log:False</td>\n",
       "      <td>Ridge(alpha=1, copy_X=True, fit_intercept=True, max_iter=None,\\n   normalize=False, random_state=1, solver='auto', tol=0.001)</td>\n",
       "      <td>77.112996</td>\n",
       "      <td>7.292245e+02</td>\n",
       "      <td>8.781401</td>\n",
       "      <td>2.700416e+01</td>\n",
       "      <td>0.255468</td>\n",
       "      <td>-1.140444e-01</td>\n",
       "      <td>(5000, 1000)</td>\n",
       "      <td>(3931, 1000)</td>\n",
       "    </tr>\n",
       "    <tr>\n",
       "      <th>36</th>\n",
       "      <td>text + Очистка + Нормализация + разбиение на 3 словаря cvect + rate_log:False + доп.фичи + tittle_words_count, text_words_count, text_category_int, sites_text_count, ru_words_text_count, en_words_text_count, punctuations_text_count, emotions_text_count</td>\n",
       "      <td>Ridge(alpha=1, copy_X=True, fit_intercept=True, max_iter=None,\\n   normalize=False, random_state=1, solver='auto', tol=0.001)</td>\n",
       "      <td>97.498586</td>\n",
       "      <td>7.296251e+02</td>\n",
       "      <td>9.874137</td>\n",
       "      <td>2.701157e+01</td>\n",
       "      <td>0.058644</td>\n",
       "      <td>-1.146564e-01</td>\n",
       "      <td>(5000, 4422)</td>\n",
       "      <td>(3931, 4422)</td>\n",
       "    </tr>\n",
       "    <tr>\n",
       "      <th>64</th>\n",
       "      <td>text + Очистка + Нормализация + разбиение на 3 словаря tfidf + rate_log:True + доп.фичи + масштабирование ss + tittle_words_count, text_words_count, text_category_int, sites_text_count, ru_words_text_count, en_words_text_count, punctuations_text_count, emotions_text_count</td>\n",
       "      <td>Ridge(alpha=1, copy_X=True, fit_intercept=True, max_iter=None,\\n   normalize=False, random_state=1, solver='auto', tol=0.001)</td>\n",
       "      <td>88.215453</td>\n",
       "      <td>7.324692e+02</td>\n",
       "      <td>9.392308</td>\n",
       "      <td>2.706417e+01</td>\n",
       "      <td>0.148273</td>\n",
       "      <td>-1.190014e-01</td>\n",
       "      <td>(5000, 4422)</td>\n",
       "      <td>(3931, 4422)</td>\n",
       "    </tr>\n",
       "    <tr>\n",
       "      <th>37</th>\n",
       "      <td>text + Очистка + Нормализация + разбиение на 3 словаря tfidf + rate_log:False + доп.фичи + tittle_words_count, text_words_count, text_category_int, sites_text_count, ru_words_text_count, en_words_text_count, punctuations_text_count, emotions_text_count</td>\n",
       "      <td>Ridge(alpha=1, copy_X=True, fit_intercept=True, max_iter=None,\\n   normalize=False, random_state=1, solver='auto', tol=0.001)</td>\n",
       "      <td>98.858148</td>\n",
       "      <td>7.333011e+02</td>\n",
       "      <td>9.942743</td>\n",
       "      <td>2.707953e+01</td>\n",
       "      <td>0.045517</td>\n",
       "      <td>-1.202723e-01</td>\n",
       "      <td>(5000, 4422)</td>\n",
       "      <td>(3931, 4422)</td>\n",
       "    </tr>\n",
       "    <tr>\n",
       "      <th>38</th>\n",
       "      <td>text + Очистка + Нормализация + разбиение на 3 словаря hashvect + rate_log:False + доп.фичи + tittle_words_count, text_words_count, text_category_int, sites_text_count, ru_words_text_count, en_words_text_count, punctuations_text_count, emotions_text_count</td>\n",
       "      <td>Ridge(alpha=1, copy_X=True, fit_intercept=True, max_iter=None,\\n   normalize=False, random_state=1, solver='auto', tol=0.001)</td>\n",
       "      <td>98.857975</td>\n",
       "      <td>7.333043e+02</td>\n",
       "      <td>9.942735</td>\n",
       "      <td>2.707959e+01</td>\n",
       "      <td>0.045519</td>\n",
       "      <td>-1.202772e-01</td>\n",
       "      <td>(5000, 3008)</td>\n",
       "      <td>(3931, 3008)</td>\n",
       "    </tr>\n",
       "    <tr>\n",
       "      <th>65</th>\n",
       "      <td>text + Очистка + Нормализация + разбиение на 3 словаря hashvect + rate_log:True + доп.фичи + масштабирование ss + tittle_words_count, text_words_count, text_category_int, sites_text_count, ru_words_text_count, en_words_text_count, punctuations_text_count, emotions_text_count</td>\n",
       "      <td>Ridge(alpha=1, copy_X=True, fit_intercept=True, max_iter=None,\\n   normalize=False, random_state=1, solver='auto', tol=0.001)</td>\n",
       "      <td>87.314821</td>\n",
       "      <td>7.362380e+02</td>\n",
       "      <td>9.344240</td>\n",
       "      <td>2.713371e+01</td>\n",
       "      <td>0.156969</td>\n",
       "      <td>-1.247590e-01</td>\n",
       "      <td>(5000, 3008)</td>\n",
       "      <td>(3931, 3008)</td>\n",
       "    </tr>\n",
       "    <tr>\n",
       "      <th>11</th>\n",
       "      <td>text + Очистка + Нормализация + разбиение на 3 словаря hashvect + rate_log:False</td>\n",
       "      <td>Ridge(alpha=1, copy_X=True, fit_intercept=True, max_iter=None,\\n   normalize=False, random_state=1, solver='auto', tol=0.001)</td>\n",
       "      <td>52.791509</td>\n",
       "      <td>7.373269e+02</td>\n",
       "      <td>7.265777</td>\n",
       "      <td>2.715376e+01</td>\n",
       "      <td>0.490294</td>\n",
       "      <td>-1.264225e-01</td>\n",
       "      <td>(5000, 3000)</td>\n",
       "      <td>(3931, 3000)</td>\n",
       "    </tr>\n",
       "    <tr>\n",
       "      <th>2</th>\n",
       "      <td>text + Очистка + Нормализация + только ru_words hashvect + rate_log:False</td>\n",
       "      <td>LinearRegression(copy_X=True, fit_intercept=True, n_jobs=None,\\n         normalize=False)</td>\n",
       "      <td>74.908433</td>\n",
       "      <td>7.373341e+02</td>\n",
       "      <td>8.654966</td>\n",
       "      <td>2.715390e+01</td>\n",
       "      <td>0.276754</td>\n",
       "      <td>-1.264335e-01</td>\n",
       "      <td>(5000, 1000)</td>\n",
       "      <td>(3931, 1000)</td>\n",
       "    </tr>\n",
       "    <tr>\n",
       "      <th>...</th>\n",
       "      <td>...</td>\n",
       "      <td>...</td>\n",
       "      <td>...</td>\n",
       "      <td>...</td>\n",
       "      <td>...</td>\n",
       "      <td>...</td>\n",
       "      <td>...</td>\n",
       "      <td>...</td>\n",
       "      <td>...</td>\n",
       "      <td>...</td>\n",
       "    </tr>\n",
       "    <tr>\n",
       "      <th>49</th>\n",
       "      <td>text + Очистка + Нормализация + разбиение на 3 словаря tfidf + rate_log:True + доп.фичи + tittle_words_count, text_words_count, text_category_int, sites_text_count, ru_words_text_count, en_words_text_count, punctuations_text_count, emotions_text_count</td>\n",
       "      <td>Lasso(alpha=1, copy_X=True, fit_intercept=True, max_iter=1000,\\n   normalize=False, positive=False, precompute=False, random_state=1,\\n   selection='cyclic', tol=0.0001, warm_start=False)</td>\n",
       "      <td>100.597572</td>\n",
       "      <td>7.737260e+02</td>\n",
       "      <td>10.029834</td>\n",
       "      <td>2.781593e+01</td>\n",
       "      <td>0.028723</td>\n",
       "      <td>-1.820298e-01</td>\n",
       "      <td>(5000, 4422)</td>\n",
       "      <td>(3931, 4422)</td>\n",
       "    </tr>\n",
       "    <tr>\n",
       "      <th>50</th>\n",
       "      <td>text + Очистка + Нормализация + разбиение на 3 словаря hashvect + rate_log:True + доп.фичи + tittle_words_count, text_words_count, text_category_int, sites_text_count, ru_words_text_count, en_words_text_count, punctuations_text_count, emotions_text_count</td>\n",
       "      <td>Lasso(alpha=1, copy_X=True, fit_intercept=True, max_iter=1000,\\n   normalize=False, positive=False, precompute=False, random_state=1,\\n   selection='cyclic', tol=0.0001, warm_start=False)</td>\n",
       "      <td>100.597572</td>\n",
       "      <td>7.737260e+02</td>\n",
       "      <td>10.029834</td>\n",
       "      <td>2.781593e+01</td>\n",
       "      <td>0.028723</td>\n",
       "      <td>-1.820298e-01</td>\n",
       "      <td>(5000, 3008)</td>\n",
       "      <td>(3931, 3008)</td>\n",
       "    </tr>\n",
       "    <tr>\n",
       "      <th>16</th>\n",
       "      <td>text + Очистка + Нормализация + разбиение на 3 словаря tfidf + rate_log:False</td>\n",
       "      <td>Lasso(alpha=1, copy_X=True, fit_intercept=True, max_iter=1000,\\n   normalize=False, positive=False, precompute=False, random_state=1,\\n   selection='cyclic', tol=0.0001, warm_start=False)</td>\n",
       "      <td>103.572505</td>\n",
       "      <td>7.858728e+02</td>\n",
       "      <td>10.177058</td>\n",
       "      <td>2.803342e+01</td>\n",
       "      <td>0.000000</td>\n",
       "      <td>-2.005867e-01</td>\n",
       "      <td>(5000, 4414)</td>\n",
       "      <td>(3931, 4414)</td>\n",
       "    </tr>\n",
       "    <tr>\n",
       "      <th>14</th>\n",
       "      <td>text + Очистка + Нормализация + только ru_words hashvect + rate_log:False</td>\n",
       "      <td>Lasso(alpha=1, copy_X=True, fit_intercept=True, max_iter=1000,\\n   normalize=False, positive=False, precompute=False, random_state=1,\\n   selection='cyclic', tol=0.0001, warm_start=False)</td>\n",
       "      <td>103.572505</td>\n",
       "      <td>7.858728e+02</td>\n",
       "      <td>10.177058</td>\n",
       "      <td>2.803342e+01</td>\n",
       "      <td>0.000000</td>\n",
       "      <td>-2.005867e-01</td>\n",
       "      <td>(5000, 1000)</td>\n",
       "      <td>(3931, 1000)</td>\n",
       "    </tr>\n",
       "    <tr>\n",
       "      <th>17</th>\n",
       "      <td>text + Очистка + Нормализация + разбиение на 3 словаря hashvect + rate_log:False</td>\n",
       "      <td>Lasso(alpha=1, copy_X=True, fit_intercept=True, max_iter=1000,\\n   normalize=False, positive=False, precompute=False, random_state=1,\\n   selection='cyclic', tol=0.0001, warm_start=False)</td>\n",
       "      <td>103.572505</td>\n",
       "      <td>7.858728e+02</td>\n",
       "      <td>10.177058</td>\n",
       "      <td>2.803342e+01</td>\n",
       "      <td>0.000000</td>\n",
       "      <td>-2.005867e-01</td>\n",
       "      <td>(5000, 3000)</td>\n",
       "      <td>(3931, 3000)</td>\n",
       "    </tr>\n",
       "    <tr>\n",
       "      <th>13</th>\n",
       "      <td>text + Очистка + Нормализация + только ru_words tfidf + rate_log:False</td>\n",
       "      <td>Lasso(alpha=1, copy_X=True, fit_intercept=True, max_iter=1000,\\n   normalize=False, positive=False, precompute=False, random_state=1,\\n   selection='cyclic', tol=0.0001, warm_start=False)</td>\n",
       "      <td>103.572505</td>\n",
       "      <td>7.858728e+02</td>\n",
       "      <td>10.177058</td>\n",
       "      <td>2.803342e+01</td>\n",
       "      <td>0.000000</td>\n",
       "      <td>-2.005867e-01</td>\n",
       "      <td>(5000, 3060)</td>\n",
       "      <td>(3931, 3060)</td>\n",
       "    </tr>\n",
       "    <tr>\n",
       "      <th>67</th>\n",
       "      <td>text + Очистка + Нормализация + разбиение на 3 словаря tfidf + rate_log:True + доп.фичи + масштабирование ss + tittle_words_count, text_words_count, text_category_int, sites_text_count, ru_words_text_count, en_words_text_count, punctuations_text_count, emotions_text_count</td>\n",
       "      <td>Lasso(alpha=1, copy_X=True, fit_intercept=True, max_iter=1000,\\n   normalize=False, positive=False, precompute=False, random_state=1,\\n   selection='cyclic', tol=0.0001, warm_start=False)</td>\n",
       "      <td>103.963215</td>\n",
       "      <td>8.005883e+02</td>\n",
       "      <td>10.196235</td>\n",
       "      <td>2.829467e+01</td>\n",
       "      <td>-0.003772</td>\n",
       "      <td>-2.230677e-01</td>\n",
       "      <td>(5000, 4422)</td>\n",
       "      <td>(3931, 4422)</td>\n",
       "    </tr>\n",
       "    <tr>\n",
       "      <th>66</th>\n",
       "      <td>text + Очистка + Нормализация + разбиение на 3 словаря cvect + rate_log:True + доп.фичи + масштабирование ss + tittle_words_count, text_words_count, text_category_int, sites_text_count, ru_words_text_count, en_words_text_count, punctuations_text_count, emotions_text_count</td>\n",
       "      <td>Lasso(alpha=1, copy_X=True, fit_intercept=True, max_iter=1000,\\n   normalize=False, positive=False, precompute=False, random_state=1,\\n   selection='cyclic', tol=0.0001, warm_start=False)</td>\n",
       "      <td>103.963215</td>\n",
       "      <td>8.005883e+02</td>\n",
       "      <td>10.196235</td>\n",
       "      <td>2.829467e+01</td>\n",
       "      <td>-0.003772</td>\n",
       "      <td>-2.230677e-01</td>\n",
       "      <td>(5000, 4422)</td>\n",
       "      <td>(3931, 4422)</td>\n",
       "    </tr>\n",
       "    <tr>\n",
       "      <th>68</th>\n",
       "      <td>text + Очистка + Нормализация + разбиение на 3 словаря hashvect + rate_log:True + доп.фичи + масштабирование ss + tittle_words_count, text_words_count, text_category_int, sites_text_count, ru_words_text_count, en_words_text_count, punctuations_text_count, emotions_text_count</td>\n",
       "      <td>Lasso(alpha=1, copy_X=True, fit_intercept=True, max_iter=1000,\\n   normalize=False, positive=False, precompute=False, random_state=1,\\n   selection='cyclic', tol=0.0001, warm_start=False)</td>\n",
       "      <td>103.963215</td>\n",
       "      <td>8.005883e+02</td>\n",
       "      <td>10.196235</td>\n",
       "      <td>2.829467e+01</td>\n",
       "      <td>-0.003772</td>\n",
       "      <td>-2.230677e-01</td>\n",
       "      <td>(5000, 3008)</td>\n",
       "      <td>(3931, 3008)</td>\n",
       "    </tr>\n",
       "    <tr>\n",
       "      <th>19</th>\n",
       "      <td>text + Очистка + Нормализация + только ru_words tfidf + rate_log:True</td>\n",
       "      <td>LinearRegression(copy_X=True, fit_intercept=True, n_jobs=None,\\n         normalize=False)</td>\n",
       "      <td>30.535086</td>\n",
       "      <td>8.334708e+02</td>\n",
       "      <td>5.525856</td>\n",
       "      <td>2.886989e+01</td>\n",
       "      <td>0.705182</td>\n",
       "      <td>-2.733026e-01</td>\n",
       "      <td>(5000, 3060)</td>\n",
       "      <td>(3931, 3060)</td>\n",
       "    </tr>\n",
       "    <tr>\n",
       "      <th>1</th>\n",
       "      <td>text + Очистка + Нормализация + только ru_words tfidf + rate_log:False</td>\n",
       "      <td>LinearRegression(copy_X=True, fit_intercept=True, n_jobs=None,\\n         normalize=False)</td>\n",
       "      <td>33.428446</td>\n",
       "      <td>8.537702e+02</td>\n",
       "      <td>5.781734</td>\n",
       "      <td>2.921935e+01</td>\n",
       "      <td>0.677246</td>\n",
       "      <td>-3.043143e-01</td>\n",
       "      <td>(5000, 3060)</td>\n",
       "      <td>(3931, 3060)</td>\n",
       "    </tr>\n",
       "    <tr>\n",
       "      <th>52</th>\n",
       "      <td>text + Очистка + Нормализация + разбиение на 3 словаря tfidf + rate_log:False + доп.фичи + масштабирование ss + tittle_words_count, text_words_count, text_category_int, sites_text_count, ru_words_text_count, en_words_text_count, punctuations_text_count, emotions_text_count</td>\n",
       "      <td>LinearRegression(copy_X=True, fit_intercept=True, n_jobs=None,\\n         normalize=False)</td>\n",
       "      <td>20.152581</td>\n",
       "      <td>9.567478e+02</td>\n",
       "      <td>4.489163</td>\n",
       "      <td>3.093134e+01</td>\n",
       "      <td>0.805425</td>\n",
       "      <td>-4.616343e-01</td>\n",
       "      <td>(5000, 4422)</td>\n",
       "      <td>(3931, 4422)</td>\n",
       "    </tr>\n",
       "    <tr>\n",
       "      <th>34</th>\n",
       "      <td>text + Очистка + Нормализация + разбиение на 3 словаря tfidf + rate_log:False + доп.фичи + tittle_words_count, text_words_count, text_category_int, sites_text_count, ru_words_text_count, en_words_text_count, punctuations_text_count, emotions_text_count</td>\n",
       "      <td>LinearRegression(copy_X=True, fit_intercept=True, n_jobs=None,\\n         normalize=False)</td>\n",
       "      <td>20.341383</td>\n",
       "      <td>9.584025e+02</td>\n",
       "      <td>4.510142</td>\n",
       "      <td>3.095808e+01</td>\n",
       "      <td>0.803602</td>\n",
       "      <td>-4.641622e-01</td>\n",
       "      <td>(5000, 4422)</td>\n",
       "      <td>(3931, 4422)</td>\n",
       "    </tr>\n",
       "    <tr>\n",
       "      <th>61</th>\n",
       "      <td>text + Очистка + Нормализация + разбиение на 3 словаря tfidf + rate_log:True + доп.фичи + масштабирование ss + tittle_words_count, text_words_count, text_category_int, sites_text_count, ru_words_text_count, en_words_text_count, punctuations_text_count, emotions_text_count</td>\n",
       "      <td>LinearRegression(copy_X=True, fit_intercept=True, n_jobs=None,\\n         normalize=False)</td>\n",
       "      <td>18.140441</td>\n",
       "      <td>9.591133e+02</td>\n",
       "      <td>4.259160</td>\n",
       "      <td>3.096955e+01</td>\n",
       "      <td>0.824853</td>\n",
       "      <td>-4.652480e-01</td>\n",
       "      <td>(5000, 4422)</td>\n",
       "      <td>(3931, 4422)</td>\n",
       "    </tr>\n",
       "    <tr>\n",
       "      <th>43</th>\n",
       "      <td>text + Очистка + Нормализация + разбиение на 3 словаря tfidf + rate_log:True + доп.фичи + tittle_words_count, text_words_count, text_category_int, sites_text_count, ru_words_text_count, en_words_text_count, punctuations_text_count, emotions_text_count</td>\n",
       "      <td>LinearRegression(copy_X=True, fit_intercept=True, n_jobs=None,\\n         normalize=False)</td>\n",
       "      <td>18.320251</td>\n",
       "      <td>9.673821e+02</td>\n",
       "      <td>4.280216</td>\n",
       "      <td>3.110277e+01</td>\n",
       "      <td>0.823117</td>\n",
       "      <td>-4.778805e-01</td>\n",
       "      <td>(5000, 4422)</td>\n",
       "      <td>(3931, 4422)</td>\n",
       "    </tr>\n",
       "    <tr>\n",
       "      <th>6</th>\n",
       "      <td>text + Очистка + Нормализация + только ru_words cvect + rate_log:False</td>\n",
       "      <td>Ridge(alpha=1, copy_X=True, fit_intercept=True, max_iter=None,\\n   normalize=False, random_state=1, solver='auto', tol=0.001)</td>\n",
       "      <td>31.347378</td>\n",
       "      <td>1.026369e+03</td>\n",
       "      <td>5.598873</td>\n",
       "      <td>3.203699e+01</td>\n",
       "      <td>0.697339</td>\n",
       "      <td>-5.679949e-01</td>\n",
       "      <td>(5000, 3060)</td>\n",
       "      <td>(3931, 3060)</td>\n",
       "    </tr>\n",
       "    <tr>\n",
       "      <th>9</th>\n",
       "      <td>text + Очистка + Нормализация + разбиение на 3 словаря cvect + rate_log:False</td>\n",
       "      <td>Ridge(alpha=1, copy_X=True, fit_intercept=True, max_iter=None,\\n   normalize=False, random_state=1, solver='auto', tol=0.001)</td>\n",
       "      <td>24.778050</td>\n",
       "      <td>1.155867e+03</td>\n",
       "      <td>4.977755</td>\n",
       "      <td>3.399805e+01</td>\n",
       "      <td>0.760766</td>\n",
       "      <td>-7.658317e-01</td>\n",
       "      <td>(5000, 4414)</td>\n",
       "      <td>(3931, 4414)</td>\n",
       "    </tr>\n",
       "    <tr>\n",
       "      <th>0</th>\n",
       "      <td>text + Очистка + Нормализация + только ru_words cvect + rate_log:False</td>\n",
       "      <td>LinearRegression(copy_X=True, fit_intercept=True, n_jobs=None,\\n         normalize=False)</td>\n",
       "      <td>30.651439</td>\n",
       "      <td>1.269856e+03</td>\n",
       "      <td>5.536374</td>\n",
       "      <td>3.563504e+01</td>\n",
       "      <td>0.704058</td>\n",
       "      <td>-9.399733e-01</td>\n",
       "      <td>(5000, 3060)</td>\n",
       "      <td>(3931, 3060)</td>\n",
       "    </tr>\n",
       "    <tr>\n",
       "      <th>35</th>\n",
       "      <td>text + Очистка + Нормализация + разбиение на 3 словаря hashvect + rate_log:False + доп.фичи + tittle_words_count, text_words_count, text_category_int, sites_text_count, ru_words_text_count, en_words_text_count, punctuations_text_count, emotions_text_count</td>\n",
       "      <td>LinearRegression(copy_X=True, fit_intercept=True, n_jobs=None,\\n         normalize=False)</td>\n",
       "      <td>37.700180</td>\n",
       "      <td>1.320249e+03</td>\n",
       "      <td>6.140047</td>\n",
       "      <td>3.633523e+01</td>\n",
       "      <td>0.636002</td>\n",
       "      <td>-1.016959e+00</td>\n",
       "      <td>(5000, 3008)</td>\n",
       "      <td>(3931, 3008)</td>\n",
       "    </tr>\n",
       "    <tr>\n",
       "      <th>53</th>\n",
       "      <td>text + Очистка + Нормализация + разбиение на 3 словаря hashvect + rate_log:False + доп.фичи + масштабирование ss + tittle_words_count, text_words_count, text_category_int, sites_text_count, ru_words_text_count, en_words_text_count, punctuations_text_count, emotions_text_count</td>\n",
       "      <td>LinearRegression(copy_X=True, fit_intercept=True, n_jobs=None,\\n         normalize=False)</td>\n",
       "      <td>37.491918</td>\n",
       "      <td>1.784043e+03</td>\n",
       "      <td>6.123064</td>\n",
       "      <td>4.223794e+01</td>\n",
       "      <td>0.638013</td>\n",
       "      <td>-1.725503e+00</td>\n",
       "      <td>(5000, 3008)</td>\n",
       "      <td>(3931, 3008)</td>\n",
       "    </tr>\n",
       "    <tr>\n",
       "      <th>51</th>\n",
       "      <td>text + Очистка + Нормализация + разбиение на 3 словаря cvect + rate_log:False + доп.фичи + масштабирование ss + tittle_words_count, text_words_count, text_category_int, sites_text_count, ru_words_text_count, en_words_text_count, punctuations_text_count, emotions_text_count</td>\n",
       "      <td>LinearRegression(copy_X=True, fit_intercept=True, n_jobs=None,\\n         normalize=False)</td>\n",
       "      <td>20.000219</td>\n",
       "      <td>2.544658e+03</td>\n",
       "      <td>4.472160</td>\n",
       "      <td>5.044461e+01</td>\n",
       "      <td>0.806896</td>\n",
       "      <td>-2.887503e+00</td>\n",
       "      <td>(5000, 4422)</td>\n",
       "      <td>(3931, 4422)</td>\n",
       "    </tr>\n",
       "    <tr>\n",
       "      <th>33</th>\n",
       "      <td>text + Очистка + Нормализация + разбиение на 3 словаря cvect + rate_log:False + доп.фичи + tittle_words_count, text_words_count, text_category_int, sites_text_count, ru_words_text_count, en_words_text_count, punctuations_text_count, emotions_text_count</td>\n",
       "      <td>LinearRegression(copy_X=True, fit_intercept=True, n_jobs=None,\\n         normalize=False)</td>\n",
       "      <td>19.996543</td>\n",
       "      <td>2.586855e+03</td>\n",
       "      <td>4.471749</td>\n",
       "      <td>5.086113e+01</td>\n",
       "      <td>0.806932</td>\n",
       "      <td>-2.951967e+00</td>\n",
       "      <td>(5000, 4422)</td>\n",
       "      <td>(3931, 4422)</td>\n",
       "    </tr>\n",
       "    <tr>\n",
       "      <th>44</th>\n",
       "      <td>text + Очистка + Нормализация + разбиение на 3 словаря hashvect + rate_log:True + доп.фичи + tittle_words_count, text_words_count, text_category_int, sites_text_count, ru_words_text_count, en_words_text_count, punctuations_text_count, emotions_text_count</td>\n",
       "      <td>LinearRegression(copy_X=True, fit_intercept=True, n_jobs=None,\\n         normalize=False)</td>\n",
       "      <td>36.087438</td>\n",
       "      <td>5.382475e+03</td>\n",
       "      <td>6.007282</td>\n",
       "      <td>7.336535e+01</td>\n",
       "      <td>0.651573</td>\n",
       "      <td>-7.222868e+00</td>\n",
       "      <td>(5000, 3008)</td>\n",
       "      <td>(3931, 3008)</td>\n",
       "    </tr>\n",
       "    <tr>\n",
       "      <th>18</th>\n",
       "      <td>text + Очистка + Нормализация + только ru_words cvect + rate_log:True</td>\n",
       "      <td>LinearRegression(copy_X=True, fit_intercept=True, n_jobs=None,\\n         normalize=False)</td>\n",
       "      <td>29.413431</td>\n",
       "      <td>4.250810e+04</td>\n",
       "      <td>5.423415</td>\n",
       "      <td>2.061749e+02</td>\n",
       "      <td>0.716011</td>\n",
       "      <td>-6.394011e+01</td>\n",
       "      <td>(5000, 3060)</td>\n",
       "      <td>(3931, 3060)</td>\n",
       "    </tr>\n",
       "    <tr>\n",
       "      <th>62</th>\n",
       "      <td>text + Очистка + Нормализация + разбиение на 3 словаря hashvect + rate_log:True + доп.фичи + масштабирование ss + tittle_words_count, text_words_count, text_category_int, sites_text_count, ru_words_text_count, en_words_text_count, punctuations_text_count, emotions_text_count</td>\n",
       "      <td>LinearRegression(copy_X=True, fit_intercept=True, n_jobs=None,\\n         normalize=False)</td>\n",
       "      <td>35.915171</td>\n",
       "      <td>1.162118e+05</td>\n",
       "      <td>5.992927</td>\n",
       "      <td>3.408985e+02</td>\n",
       "      <td>0.653236</td>\n",
       "      <td>-1.765381e+02</td>\n",
       "      <td>(5000, 3008)</td>\n",
       "      <td>(3931, 3008)</td>\n",
       "    </tr>\n",
       "    <tr>\n",
       "      <th>42</th>\n",
       "      <td>text + Очистка + Нормализация + разбиение на 3 словаря cvect + rate_log:True + доп.фичи + tittle_words_count, text_words_count, text_category_int, sites_text_count, ru_words_text_count, en_words_text_count, punctuations_text_count, emotions_text_count</td>\n",
       "      <td>LinearRegression(copy_X=True, fit_intercept=True, n_jobs=None,\\n         normalize=False)</td>\n",
       "      <td>18.855373</td>\n",
       "      <td>1.103058e+08</td>\n",
       "      <td>4.342277</td>\n",
       "      <td>1.050266e+04</td>\n",
       "      <td>0.817950</td>\n",
       "      <td>-1.685144e+05</td>\n",
       "      <td>(5000, 4422)</td>\n",
       "      <td>(3931, 4422)</td>\n",
       "    </tr>\n",
       "    <tr>\n",
       "      <th>60</th>\n",
       "      <td>text + Очистка + Нормализация + разбиение на 3 словаря cvect + rate_log:True + доп.фичи + масштабирование ss + tittle_words_count, text_words_count, text_category_int, sites_text_count, ru_words_text_count, en_words_text_count, punctuations_text_count, emotions_text_count</td>\n",
       "      <td>LinearRegression(copy_X=True, fit_intercept=True, n_jobs=None,\\n         normalize=False)</td>\n",
       "      <td>18.884473</td>\n",
       "      <td>1.179138e+08</td>\n",
       "      <td>4.345627</td>\n",
       "      <td>1.085881e+04</td>\n",
       "      <td>0.817669</td>\n",
       "      <td>-1.801372e+05</td>\n",
       "      <td>(5000, 4422)</td>\n",
       "      <td>(3931, 4422)</td>\n",
       "    </tr>\n",
       "    <tr>\n",
       "      <th>3</th>\n",
       "      <td>text + Очистка + Нормализация + разбиение на 3 словаря cvect + rate_log:False</td>\n",
       "      <td>LinearRegression(copy_X=True, fit_intercept=True, n_jobs=None,\\n         normalize=False)</td>\n",
       "      <td>20.305879</td>\n",
       "      <td>2.552291e+18</td>\n",
       "      <td>4.506205</td>\n",
       "      <td>1.597589e+09</td>\n",
       "      <td>0.803945</td>\n",
       "      <td>-3.899164e+15</td>\n",
       "      <td>(5000, 4414)</td>\n",
       "      <td>(3931, 4414)</td>\n",
       "    </tr>\n",
       "    <tr>\n",
       "      <th>4</th>\n",
       "      <td>text + Очистка + Нормализация + разбиение на 3 словаря tfidf + rate_log:False</td>\n",
       "      <td>LinearRegression(copy_X=True, fit_intercept=True, n_jobs=None,\\n         normalize=False)</td>\n",
       "      <td>21.132636</td>\n",
       "      <td>1.216230e+26</td>\n",
       "      <td>4.597025</td>\n",
       "      <td>1.102828e+13</td>\n",
       "      <td>0.795963</td>\n",
       "      <td>-1.858049e+23</td>\n",
       "      <td>(5000, 4414)</td>\n",
       "      <td>(3931, 4414)</td>\n",
       "    </tr>\n",
       "    <tr>\n",
       "      <th>5</th>\n",
       "      <td>text + Очистка + Нормализация + разбиение на 3 словаря hashvect + rate_log:False</td>\n",
       "      <td>LinearRegression(copy_X=True, fit_intercept=True, n_jobs=None,\\n         normalize=False)</td>\n",
       "      <td>38.099322</td>\n",
       "      <td>2.363005e+27</td>\n",
       "      <td>6.172465</td>\n",
       "      <td>4.861075e+13</td>\n",
       "      <td>0.632148</td>\n",
       "      <td>-3.609989e+24</td>\n",
       "      <td>(5000, 3000)</td>\n",
       "      <td>(3931, 3000)</td>\n",
       "    </tr>\n",
       "  </tbody>\n",
       "</table>\n",
       "<p>75 rows × 10 columns</p>\n",
       "</div>"
      ],
      "text/plain": [
       "                                                                                                                                                                                                                                                                                 Comment  \\\n",
       "21  text + только доп.фичи + rate_log:False + tittle_words_count, text_words_count, text_category_int, sites_text_count, ru_words_text_count, en_words_text_count, punctuations_text_count, emotions_text_count                                                                            \n",
       "23  text + только доп.фичи + rate_log:False + tittle_words_count, text_words_count, text_category_int, sites_text_count, ru_words_text_count, en_words_text_count, punctuations_text_count, emotions_text_count                                                                            \n",
       "22  text + только доп.фичи + масштабирование ss + rate_log:False + tittle_words_count, text_words_count, text_category_int, sites_text_count, ru_words_text_count, en_words_text_count, punctuations_text_count, emotions_text_count                                                       \n",
       "24  text + только доп.фичи + масштабирование ss + rate_log:False + tittle_words_count, text_words_count, text_category_int, sites_text_count, ru_words_text_count, en_words_text_count, punctuations_text_count, emotions_text_count                                                       \n",
       "25  text + только доп.фичи + rate_log:False + tittle_words_count, text_words_count, text_category_int, sites_text_count, ru_words_text_count, en_words_text_count, punctuations_text_count, emotions_text_count                                                                            \n",
       "69  text+ ru_words + w2v + rate_log:False                                                                                                                                                                                                                                                  \n",
       "70  text+ ru_words + w2v + rate_log:False                                                                                                                                                                                                                                                  \n",
       "54  text + Очистка + Нормализация + разбиение на 3 словаря cvect + rate_log:False + доп.фичи + масштабирование ss + tittle_words_count, text_words_count, text_category_int, sites_text_count, ru_words_text_count, en_words_text_count, punctuations_text_count, emotions_text_count      \n",
       "26  text + только доп.фичи + масштабирование ss + rate_log:False + tittle_words_count, text_words_count, text_category_int, sites_text_count, ru_words_text_count, en_words_text_count, punctuations_text_count, emotions_text_count                                                       \n",
       "10  text + Очистка + Нормализация + разбиение на 3 словаря tfidf + rate_log:False                                                                                                                                                                                                          \n",
       "27  text + только доп.фичи + rate_log:True + tittle_words_count, text_words_count, text_category_int, sites_text_count, ru_words_text_count, en_words_text_count, punctuations_text_count, emotions_text_count                                                                             \n",
       "7   text + Очистка + Нормализация + только ru_words tfidf + rate_log:False                                                                                                                                                                                                                 \n",
       "29  text + только доп.фичи + rate_log:True + tittle_words_count, text_words_count, text_category_int, sites_text_count, ru_words_text_count, en_words_text_count, punctuations_text_count, emotions_text_count                                                                             \n",
       "30  text + только доп.фичи + масштабирование ss + rate_log:True + tittle_words_count, text_words_count, text_category_int, sites_text_count, ru_words_text_count, en_words_text_count, punctuations_text_count, emotions_text_count                                                        \n",
       "28  text + только доп.фичи + масштабирование ss + rate_log:True + tittle_words_count, text_words_count, text_category_int, sites_text_count, ru_words_text_count, en_words_text_count, punctuations_text_count, emotions_text_count                                                        \n",
       "72  text+ ru_words + w2v + rate_log:True                                                                                                                                                                                                                                                   \n",
       "55  text + Очистка + Нормализация + разбиение на 3 словаря tfidf + rate_log:False + доп.фичи + масштабирование ss + tittle_words_count, text_words_count, text_category_int, sites_text_count, ru_words_text_count, en_words_text_count, punctuations_text_count, emotions_text_count      \n",
       "63  text + Очистка + Нормализация + разбиение на 3 словаря cvect + rate_log:True + доп.фичи + масштабирование ss + tittle_words_count, text_words_count, text_category_int, sites_text_count, ru_words_text_count, en_words_text_count, punctuations_text_count, emotions_text_count       \n",
       "71  text+ ru_words + w2v + rate_log:False                                                                                                                                                                                                                                                  \n",
       "56  text + Очистка + Нормализация + разбиение на 3 словаря hashvect + rate_log:False + доп.фичи + масштабирование ss + tittle_words_count, text_words_count, text_category_int, sites_text_count, ru_words_text_count, en_words_text_count, punctuations_text_count, emotions_text_count   \n",
       "73  text+ ru_words + w2v + rate_log:True                                                                                                                                                                                                                                                   \n",
       "31  text + только доп.фичи + rate_log:True + tittle_words_count, text_words_count, text_category_int, sites_text_count, ru_words_text_count, en_words_text_count, punctuations_text_count, emotions_text_count                                                                             \n",
       "8   text + Очистка + Нормализация + только ru_words hashvect + rate_log:False                                                                                                                                                                                                              \n",
       "36  text + Очистка + Нормализация + разбиение на 3 словаря cvect + rate_log:False + доп.фичи + tittle_words_count, text_words_count, text_category_int, sites_text_count, ru_words_text_count, en_words_text_count, punctuations_text_count, emotions_text_count                           \n",
       "64  text + Очистка + Нормализация + разбиение на 3 словаря tfidf + rate_log:True + доп.фичи + масштабирование ss + tittle_words_count, text_words_count, text_category_int, sites_text_count, ru_words_text_count, en_words_text_count, punctuations_text_count, emotions_text_count       \n",
       "37  text + Очистка + Нормализация + разбиение на 3 словаря tfidf + rate_log:False + доп.фичи + tittle_words_count, text_words_count, text_category_int, sites_text_count, ru_words_text_count, en_words_text_count, punctuations_text_count, emotions_text_count                           \n",
       "38  text + Очистка + Нормализация + разбиение на 3 словаря hashvect + rate_log:False + доп.фичи + tittle_words_count, text_words_count, text_category_int, sites_text_count, ru_words_text_count, en_words_text_count, punctuations_text_count, emotions_text_count                        \n",
       "65  text + Очистка + Нормализация + разбиение на 3 словаря hashvect + rate_log:True + доп.фичи + масштабирование ss + tittle_words_count, text_words_count, text_category_int, sites_text_count, ru_words_text_count, en_words_text_count, punctuations_text_count, emotions_text_count    \n",
       "11  text + Очистка + Нормализация + разбиение на 3 словаря hashvect + rate_log:False                                                                                                                                                                                                       \n",
       "2   text + Очистка + Нормализация + только ru_words hashvect + rate_log:False                                                                                                                                                                                                              \n",
       "..                                                                        ...                                                                                                                                                                                                              \n",
       "49  text + Очистка + Нормализация + разбиение на 3 словаря tfidf + rate_log:True + доп.фичи + tittle_words_count, text_words_count, text_category_int, sites_text_count, ru_words_text_count, en_words_text_count, punctuations_text_count, emotions_text_count                            \n",
       "50  text + Очистка + Нормализация + разбиение на 3 словаря hashvect + rate_log:True + доп.фичи + tittle_words_count, text_words_count, text_category_int, sites_text_count, ru_words_text_count, en_words_text_count, punctuations_text_count, emotions_text_count                         \n",
       "16  text + Очистка + Нормализация + разбиение на 3 словаря tfidf + rate_log:False                                                                                                                                                                                                          \n",
       "14  text + Очистка + Нормализация + только ru_words hashvect + rate_log:False                                                                                                                                                                                                              \n",
       "17  text + Очистка + Нормализация + разбиение на 3 словаря hashvect + rate_log:False                                                                                                                                                                                                       \n",
       "13  text + Очистка + Нормализация + только ru_words tfidf + rate_log:False                                                                                                                                                                                                                 \n",
       "67  text + Очистка + Нормализация + разбиение на 3 словаря tfidf + rate_log:True + доп.фичи + масштабирование ss + tittle_words_count, text_words_count, text_category_int, sites_text_count, ru_words_text_count, en_words_text_count, punctuations_text_count, emotions_text_count       \n",
       "66  text + Очистка + Нормализация + разбиение на 3 словаря cvect + rate_log:True + доп.фичи + масштабирование ss + tittle_words_count, text_words_count, text_category_int, sites_text_count, ru_words_text_count, en_words_text_count, punctuations_text_count, emotions_text_count       \n",
       "68  text + Очистка + Нормализация + разбиение на 3 словаря hashvect + rate_log:True + доп.фичи + масштабирование ss + tittle_words_count, text_words_count, text_category_int, sites_text_count, ru_words_text_count, en_words_text_count, punctuations_text_count, emotions_text_count    \n",
       "19  text + Очистка + Нормализация + только ru_words tfidf + rate_log:True                                                                                                                                                                                                                  \n",
       "1   text + Очистка + Нормализация + только ru_words tfidf + rate_log:False                                                                                                                                                                                                                 \n",
       "52  text + Очистка + Нормализация + разбиение на 3 словаря tfidf + rate_log:False + доп.фичи + масштабирование ss + tittle_words_count, text_words_count, text_category_int, sites_text_count, ru_words_text_count, en_words_text_count, punctuations_text_count, emotions_text_count      \n",
       "34  text + Очистка + Нормализация + разбиение на 3 словаря tfidf + rate_log:False + доп.фичи + tittle_words_count, text_words_count, text_category_int, sites_text_count, ru_words_text_count, en_words_text_count, punctuations_text_count, emotions_text_count                           \n",
       "61  text + Очистка + Нормализация + разбиение на 3 словаря tfidf + rate_log:True + доп.фичи + масштабирование ss + tittle_words_count, text_words_count, text_category_int, sites_text_count, ru_words_text_count, en_words_text_count, punctuations_text_count, emotions_text_count       \n",
       "43  text + Очистка + Нормализация + разбиение на 3 словаря tfidf + rate_log:True + доп.фичи + tittle_words_count, text_words_count, text_category_int, sites_text_count, ru_words_text_count, en_words_text_count, punctuations_text_count, emotions_text_count                            \n",
       "6   text + Очистка + Нормализация + только ru_words cvect + rate_log:False                                                                                                                                                                                                                 \n",
       "9   text + Очистка + Нормализация + разбиение на 3 словаря cvect + rate_log:False                                                                                                                                                                                                          \n",
       "0   text + Очистка + Нормализация + только ru_words cvect + rate_log:False                                                                                                                                                                                                                 \n",
       "35  text + Очистка + Нормализация + разбиение на 3 словаря hashvect + rate_log:False + доп.фичи + tittle_words_count, text_words_count, text_category_int, sites_text_count, ru_words_text_count, en_words_text_count, punctuations_text_count, emotions_text_count                        \n",
       "53  text + Очистка + Нормализация + разбиение на 3 словаря hashvect + rate_log:False + доп.фичи + масштабирование ss + tittle_words_count, text_words_count, text_category_int, sites_text_count, ru_words_text_count, en_words_text_count, punctuations_text_count, emotions_text_count   \n",
       "51  text + Очистка + Нормализация + разбиение на 3 словаря cvect + rate_log:False + доп.фичи + масштабирование ss + tittle_words_count, text_words_count, text_category_int, sites_text_count, ru_words_text_count, en_words_text_count, punctuations_text_count, emotions_text_count      \n",
       "33  text + Очистка + Нормализация + разбиение на 3 словаря cvect + rate_log:False + доп.фичи + tittle_words_count, text_words_count, text_category_int, sites_text_count, ru_words_text_count, en_words_text_count, punctuations_text_count, emotions_text_count                           \n",
       "44  text + Очистка + Нормализация + разбиение на 3 словаря hashvect + rate_log:True + доп.фичи + tittle_words_count, text_words_count, text_category_int, sites_text_count, ru_words_text_count, en_words_text_count, punctuations_text_count, emotions_text_count                         \n",
       "18  text + Очистка + Нормализация + только ru_words cvect + rate_log:True                                                                                                                                                                                                                  \n",
       "62  text + Очистка + Нормализация + разбиение на 3 словаря hashvect + rate_log:True + доп.фичи + масштабирование ss + tittle_words_count, text_words_count, text_category_int, sites_text_count, ru_words_text_count, en_words_text_count, punctuations_text_count, emotions_text_count    \n",
       "42  text + Очистка + Нормализация + разбиение на 3 словаря cvect + rate_log:True + доп.фичи + tittle_words_count, text_words_count, text_category_int, sites_text_count, ru_words_text_count, en_words_text_count, punctuations_text_count, emotions_text_count                            \n",
       "60  text + Очистка + Нормализация + разбиение на 3 словаря cvect + rate_log:True + доп.фичи + масштабирование ss + tittle_words_count, text_words_count, text_category_int, sites_text_count, ru_words_text_count, en_words_text_count, punctuations_text_count, emotions_text_count       \n",
       "3   text + Очистка + Нормализация + разбиение на 3 словаря cvect + rate_log:False                                                                                                                                                                                                          \n",
       "4   text + Очистка + Нормализация + разбиение на 3 словаря tfidf + rate_log:False                                                                                                                                                                                                          \n",
       "5   text + Очистка + Нормализация + разбиение на 3 словаря hashvect + rate_log:False                                                                                                                                                                                                       \n",
       "\n",
       "                                                                                                                                                                                          Model  \\\n",
       "21  LinearRegression(copy_X=True, fit_intercept=True, n_jobs=None,\\n         normalize=False)                                                                                                     \n",
       "23  Ridge(alpha=1, copy_X=True, fit_intercept=True, max_iter=None,\\n   normalize=False, random_state=1, solver='auto', tol=0.001)                                                                 \n",
       "22  LinearRegression(copy_X=True, fit_intercept=True, n_jobs=None,\\n         normalize=False)                                                                                                     \n",
       "24  Ridge(alpha=1, copy_X=True, fit_intercept=True, max_iter=None,\\n   normalize=False, random_state=1, solver='auto', tol=0.001)                                                                 \n",
       "25  Lasso(alpha=1, copy_X=True, fit_intercept=True, max_iter=1000,\\n   normalize=False, positive=False, precompute=False, random_state=1,\\n   selection='cyclic', tol=0.0001, warm_start=False)   \n",
       "69  LinearRegression(copy_X=True, fit_intercept=True, n_jobs=None,\\n         normalize=False)                                                                                                     \n",
       "70  Ridge(alpha=1, copy_X=True, fit_intercept=True, max_iter=None,\\n   normalize=False, random_state=1, solver='auto', tol=0.001)                                                                 \n",
       "54  Ridge(alpha=1, copy_X=True, fit_intercept=True, max_iter=None,\\n   normalize=False, random_state=1, solver='auto', tol=0.001)                                                                 \n",
       "26  Lasso(alpha=1, copy_X=True, fit_intercept=True, max_iter=1000,\\n   normalize=False, positive=False, precompute=False, random_state=1,\\n   selection='cyclic', tol=0.0001, warm_start=False)   \n",
       "10  Ridge(alpha=1, copy_X=True, fit_intercept=True, max_iter=None,\\n   normalize=False, random_state=1, solver='auto', tol=0.001)                                                                 \n",
       "27  LinearRegression(copy_X=True, fit_intercept=True, n_jobs=None,\\n         normalize=False)                                                                                                     \n",
       "7   Ridge(alpha=1, copy_X=True, fit_intercept=True, max_iter=None,\\n   normalize=False, random_state=1, solver='auto', tol=0.001)                                                                 \n",
       "29  Ridge(alpha=1, copy_X=True, fit_intercept=True, max_iter=None,\\n   normalize=False, random_state=1, solver='auto', tol=0.001)                                                                 \n",
       "30  Ridge(alpha=1, copy_X=True, fit_intercept=True, max_iter=None,\\n   normalize=False, random_state=1, solver='auto', tol=0.001)                                                                 \n",
       "28  LinearRegression(copy_X=True, fit_intercept=True, n_jobs=None,\\n         normalize=False)                                                                                                     \n",
       "72  LinearRegression(copy_X=True, fit_intercept=True, n_jobs=None,\\n         normalize=False)                                                                                                     \n",
       "55  Ridge(alpha=1, copy_X=True, fit_intercept=True, max_iter=None,\\n   normalize=False, random_state=1, solver='auto', tol=0.001)                                                                 \n",
       "63  Ridge(alpha=1, copy_X=True, fit_intercept=True, max_iter=None,\\n   normalize=False, random_state=1, solver='auto', tol=0.001)                                                                 \n",
       "71  Lasso(alpha=1, copy_X=True, fit_intercept=True, max_iter=1000,\\n   normalize=False, positive=False, precompute=False, random_state=1,\\n   selection='cyclic', tol=0.0001, warm_start=False)   \n",
       "56  Ridge(alpha=1, copy_X=True, fit_intercept=True, max_iter=None,\\n   normalize=False, random_state=1, solver='auto', tol=0.001)                                                                 \n",
       "73  Ridge(alpha=1, copy_X=True, fit_intercept=True, max_iter=None,\\n   normalize=False, random_state=1, solver='auto', tol=0.001)                                                                 \n",
       "31  Lasso(alpha=1, copy_X=True, fit_intercept=True, max_iter=1000,\\n   normalize=False, positive=False, precompute=False, random_state=1,\\n   selection='cyclic', tol=0.0001, warm_start=False)   \n",
       "8   Ridge(alpha=1, copy_X=True, fit_intercept=True, max_iter=None,\\n   normalize=False, random_state=1, solver='auto', tol=0.001)                                                                 \n",
       "36  Ridge(alpha=1, copy_X=True, fit_intercept=True, max_iter=None,\\n   normalize=False, random_state=1, solver='auto', tol=0.001)                                                                 \n",
       "64  Ridge(alpha=1, copy_X=True, fit_intercept=True, max_iter=None,\\n   normalize=False, random_state=1, solver='auto', tol=0.001)                                                                 \n",
       "37  Ridge(alpha=1, copy_X=True, fit_intercept=True, max_iter=None,\\n   normalize=False, random_state=1, solver='auto', tol=0.001)                                                                 \n",
       "38  Ridge(alpha=1, copy_X=True, fit_intercept=True, max_iter=None,\\n   normalize=False, random_state=1, solver='auto', tol=0.001)                                                                 \n",
       "65  Ridge(alpha=1, copy_X=True, fit_intercept=True, max_iter=None,\\n   normalize=False, random_state=1, solver='auto', tol=0.001)                                                                 \n",
       "11  Ridge(alpha=1, copy_X=True, fit_intercept=True, max_iter=None,\\n   normalize=False, random_state=1, solver='auto', tol=0.001)                                                                 \n",
       "2   LinearRegression(copy_X=True, fit_intercept=True, n_jobs=None,\\n         normalize=False)                                                                                                     \n",
       "..                                                                                        ...                                                                                                     \n",
       "49  Lasso(alpha=1, copy_X=True, fit_intercept=True, max_iter=1000,\\n   normalize=False, positive=False, precompute=False, random_state=1,\\n   selection='cyclic', tol=0.0001, warm_start=False)   \n",
       "50  Lasso(alpha=1, copy_X=True, fit_intercept=True, max_iter=1000,\\n   normalize=False, positive=False, precompute=False, random_state=1,\\n   selection='cyclic', tol=0.0001, warm_start=False)   \n",
       "16  Lasso(alpha=1, copy_X=True, fit_intercept=True, max_iter=1000,\\n   normalize=False, positive=False, precompute=False, random_state=1,\\n   selection='cyclic', tol=0.0001, warm_start=False)   \n",
       "14  Lasso(alpha=1, copy_X=True, fit_intercept=True, max_iter=1000,\\n   normalize=False, positive=False, precompute=False, random_state=1,\\n   selection='cyclic', tol=0.0001, warm_start=False)   \n",
       "17  Lasso(alpha=1, copy_X=True, fit_intercept=True, max_iter=1000,\\n   normalize=False, positive=False, precompute=False, random_state=1,\\n   selection='cyclic', tol=0.0001, warm_start=False)   \n",
       "13  Lasso(alpha=1, copy_X=True, fit_intercept=True, max_iter=1000,\\n   normalize=False, positive=False, precompute=False, random_state=1,\\n   selection='cyclic', tol=0.0001, warm_start=False)   \n",
       "67  Lasso(alpha=1, copy_X=True, fit_intercept=True, max_iter=1000,\\n   normalize=False, positive=False, precompute=False, random_state=1,\\n   selection='cyclic', tol=0.0001, warm_start=False)   \n",
       "66  Lasso(alpha=1, copy_X=True, fit_intercept=True, max_iter=1000,\\n   normalize=False, positive=False, precompute=False, random_state=1,\\n   selection='cyclic', tol=0.0001, warm_start=False)   \n",
       "68  Lasso(alpha=1, copy_X=True, fit_intercept=True, max_iter=1000,\\n   normalize=False, positive=False, precompute=False, random_state=1,\\n   selection='cyclic', tol=0.0001, warm_start=False)   \n",
       "19  LinearRegression(copy_X=True, fit_intercept=True, n_jobs=None,\\n         normalize=False)                                                                                                     \n",
       "1   LinearRegression(copy_X=True, fit_intercept=True, n_jobs=None,\\n         normalize=False)                                                                                                     \n",
       "52  LinearRegression(copy_X=True, fit_intercept=True, n_jobs=None,\\n         normalize=False)                                                                                                     \n",
       "34  LinearRegression(copy_X=True, fit_intercept=True, n_jobs=None,\\n         normalize=False)                                                                                                     \n",
       "61  LinearRegression(copy_X=True, fit_intercept=True, n_jobs=None,\\n         normalize=False)                                                                                                     \n",
       "43  LinearRegression(copy_X=True, fit_intercept=True, n_jobs=None,\\n         normalize=False)                                                                                                     \n",
       "6   Ridge(alpha=1, copy_X=True, fit_intercept=True, max_iter=None,\\n   normalize=False, random_state=1, solver='auto', tol=0.001)                                                                 \n",
       "9   Ridge(alpha=1, copy_X=True, fit_intercept=True, max_iter=None,\\n   normalize=False, random_state=1, solver='auto', tol=0.001)                                                                 \n",
       "0   LinearRegression(copy_X=True, fit_intercept=True, n_jobs=None,\\n         normalize=False)                                                                                                     \n",
       "35  LinearRegression(copy_X=True, fit_intercept=True, n_jobs=None,\\n         normalize=False)                                                                                                     \n",
       "53  LinearRegression(copy_X=True, fit_intercept=True, n_jobs=None,\\n         normalize=False)                                                                                                     \n",
       "51  LinearRegression(copy_X=True, fit_intercept=True, n_jobs=None,\\n         normalize=False)                                                                                                     \n",
       "33  LinearRegression(copy_X=True, fit_intercept=True, n_jobs=None,\\n         normalize=False)                                                                                                     \n",
       "44  LinearRegression(copy_X=True, fit_intercept=True, n_jobs=None,\\n         normalize=False)                                                                                                     \n",
       "18  LinearRegression(copy_X=True, fit_intercept=True, n_jobs=None,\\n         normalize=False)                                                                                                     \n",
       "62  LinearRegression(copy_X=True, fit_intercept=True, n_jobs=None,\\n         normalize=False)                                                                                                     \n",
       "42  LinearRegression(copy_X=True, fit_intercept=True, n_jobs=None,\\n         normalize=False)                                                                                                     \n",
       "60  LinearRegression(copy_X=True, fit_intercept=True, n_jobs=None,\\n         normalize=False)                                                                                                     \n",
       "3   LinearRegression(copy_X=True, fit_intercept=True, n_jobs=None,\\n         normalize=False)                                                                                                     \n",
       "4   LinearRegression(copy_X=True, fit_intercept=True, n_jobs=None,\\n         normalize=False)                                                                                                     \n",
       "5   LinearRegression(copy_X=True, fit_intercept=True, n_jobs=None,\\n         normalize=False)                                                                                                     \n",
       "\n",
       "      MSETrain       MSETest  sMSETrain      sMSETest   R2Train        R2Test  \\\n",
       "21  215.098810  6.863324e+02  14.666247  2.619795e+01  0.024021 -4.851774e-02   \n",
       "23  215.375423  6.874739e+02  14.675675  2.621972e+01  0.022766 -5.026158e-02   \n",
       "22  214.421238  6.882526e+02  14.643129  2.623457e+01  0.027096 -5.145113e-02   \n",
       "24  214.421246  6.882601e+02  14.643130  2.623471e+01  0.027096 -5.146265e-02   \n",
       "25  215.183382  6.917683e+02  14.669130  2.630149e+01  0.023638 -5.682215e-02   \n",
       "69  207.260462  6.958500e+02  14.396543  2.637897e+01  0.059587 -6.305790e-02   \n",
       "70  211.517331  6.981084e+02  14.543635  2.642174e+01  0.040272 -6.650800e-02   \n",
       "54  69.127194   7.022477e+02  8.314277   2.649996e+01  0.332572 -7.283171e-02   \n",
       "26  216.609236  7.031047e+02  14.717650  2.651612e+01  0.017168 -7.414089e-02   \n",
       "10  45.682548   7.086883e+02  6.758887   2.662120e+01  0.558932 -8.267103e-02   \n",
       "27  216.041013  7.101691e+02  14.698334  2.664900e+01  0.019746 -8.493328e-02   \n",
       "7   54.837824   7.103997e+02  7.405257   2.665332e+01  0.470537 -8.528553e-02   \n",
       "29  216.449409  7.110940e+02  14.712220  2.666635e+01  0.017893 -8.634628e-02   \n",
       "30  216.020295  7.122830e+02  14.697629  2.668863e+01  0.019840 -8.816272e-02   \n",
       "28  216.020078  7.122835e+02  14.697622  2.668864e+01  0.019841 -8.816348e-02   \n",
       "72  209.124361  7.171987e+02  14.461133  2.678057e+01  0.051130 -9.567246e-02   \n",
       "55  88.107068   7.179333e+02  9.386537   2.679428e+01  0.149320 -9.679474e-02   \n",
       "63  71.418622   7.185790e+02  8.450954   2.680632e+01  0.310448 -9.778124e-02   \n",
       "71  220.392961  7.197478e+02  14.845638  2.682812e+01  0.000000 -9.956679e-02   \n",
       "56  87.143037   7.202901e+02  9.335043   2.683822e+01  0.158628 -1.003953e-01   \n",
       "73  213.439450  7.204889e+02  14.609567  2.684192e+01  0.031551 -1.006989e-01   \n",
       "31  218.141171  7.211227e+02  14.769603  2.685373e+01  0.010217 -1.016673e-01   \n",
       "8   77.112996   7.292245e+02  8.781401   2.700416e+01  0.255468 -1.140444e-01   \n",
       "36  97.498586   7.296251e+02  9.874137   2.701157e+01  0.058644 -1.146564e-01   \n",
       "64  88.215453   7.324692e+02  9.392308   2.706417e+01  0.148273 -1.190014e-01   \n",
       "37  98.858148   7.333011e+02  9.942743   2.707953e+01  0.045517 -1.202723e-01   \n",
       "38  98.857975   7.333043e+02  9.942735   2.707959e+01  0.045519 -1.202772e-01   \n",
       "65  87.314821   7.362380e+02  9.344240   2.713371e+01  0.156969 -1.247590e-01   \n",
       "11  52.791509   7.373269e+02  7.265777   2.715376e+01  0.490294 -1.264225e-01   \n",
       "2   74.908433   7.373341e+02  8.654966   2.715390e+01  0.276754 -1.264335e-01   \n",
       "..        ...            ...       ...            ...       ...           ...   \n",
       "49  100.597572  7.737260e+02  10.029834  2.781593e+01  0.028723 -1.820298e-01   \n",
       "50  100.597572  7.737260e+02  10.029834  2.781593e+01  0.028723 -1.820298e-01   \n",
       "16  103.572505  7.858728e+02  10.177058  2.803342e+01  0.000000 -2.005867e-01   \n",
       "14  103.572505  7.858728e+02  10.177058  2.803342e+01  0.000000 -2.005867e-01   \n",
       "17  103.572505  7.858728e+02  10.177058  2.803342e+01  0.000000 -2.005867e-01   \n",
       "13  103.572505  7.858728e+02  10.177058  2.803342e+01  0.000000 -2.005867e-01   \n",
       "67  103.963215  8.005883e+02  10.196235  2.829467e+01 -0.003772 -2.230677e-01   \n",
       "66  103.963215  8.005883e+02  10.196235  2.829467e+01 -0.003772 -2.230677e-01   \n",
       "68  103.963215  8.005883e+02  10.196235  2.829467e+01 -0.003772 -2.230677e-01   \n",
       "19  30.535086   8.334708e+02  5.525856   2.886989e+01  0.705182 -2.733026e-01   \n",
       "1   33.428446   8.537702e+02  5.781734   2.921935e+01  0.677246 -3.043143e-01   \n",
       "52  20.152581   9.567478e+02  4.489163   3.093134e+01  0.805425 -4.616343e-01   \n",
       "34  20.341383   9.584025e+02  4.510142   3.095808e+01  0.803602 -4.641622e-01   \n",
       "61  18.140441   9.591133e+02  4.259160   3.096955e+01  0.824853 -4.652480e-01   \n",
       "43  18.320251   9.673821e+02  4.280216   3.110277e+01  0.823117 -4.778805e-01   \n",
       "6   31.347378   1.026369e+03  5.598873   3.203699e+01  0.697339 -5.679949e-01   \n",
       "9   24.778050   1.155867e+03  4.977755   3.399805e+01  0.760766 -7.658317e-01   \n",
       "0   30.651439   1.269856e+03  5.536374   3.563504e+01  0.704058 -9.399733e-01   \n",
       "35  37.700180   1.320249e+03  6.140047   3.633523e+01  0.636002 -1.016959e+00   \n",
       "53  37.491918   1.784043e+03  6.123064   4.223794e+01  0.638013 -1.725503e+00   \n",
       "51  20.000219   2.544658e+03  4.472160   5.044461e+01  0.806896 -2.887503e+00   \n",
       "33  19.996543   2.586855e+03  4.471749   5.086113e+01  0.806932 -2.951967e+00   \n",
       "44  36.087438   5.382475e+03  6.007282   7.336535e+01  0.651573 -7.222868e+00   \n",
       "18  29.413431   4.250810e+04  5.423415   2.061749e+02  0.716011 -6.394011e+01   \n",
       "62  35.915171   1.162118e+05  5.992927   3.408985e+02  0.653236 -1.765381e+02   \n",
       "42  18.855373   1.103058e+08  4.342277   1.050266e+04  0.817950 -1.685144e+05   \n",
       "60  18.884473   1.179138e+08  4.345627   1.085881e+04  0.817669 -1.801372e+05   \n",
       "3   20.305879   2.552291e+18  4.506205   1.597589e+09  0.803945 -3.899164e+15   \n",
       "4   21.132636   1.216230e+26  4.597025   1.102828e+13  0.795963 -1.858049e+23   \n",
       "5   38.099322   2.363005e+27  6.172465   4.861075e+13  0.632148 -3.609989e+24   \n",
       "\n",
       "      TrainShape     TestShape  \n",
       "21  (15722, 8)    (3931, 8)     \n",
       "23  (15722, 8)    (3931, 8)     \n",
       "22  (15722, 8)    (3931, 8)     \n",
       "24  (15722, 8)    (3931, 8)     \n",
       "25  (15722, 8)    (3931, 8)     \n",
       "69  (15722, 300)  (3931, 300)   \n",
       "70  (15722, 300)  (3931, 300)   \n",
       "54  (5000, 4422)  (3931, 4422)  \n",
       "26  (15722, 8)    (3931, 8)     \n",
       "10  (5000, 4414)  (3931, 4414)  \n",
       "27  (15722, 8)    (3931, 8)     \n",
       "7   (5000, 3060)  (3931, 3060)  \n",
       "29  (15722, 8)    (3931, 8)     \n",
       "30  (15722, 8)    (3931, 8)     \n",
       "28  (15722, 8)    (3931, 8)     \n",
       "72  (15722, 300)  (3931, 300)   \n",
       "55  (5000, 4422)  (3931, 4422)  \n",
       "63  (5000, 4422)  (3931, 4422)  \n",
       "71  (15722, 300)  (3931, 300)   \n",
       "56  (5000, 3008)  (3931, 3008)  \n",
       "73  (15722, 300)  (3931, 300)   \n",
       "31  (15722, 8)    (3931, 8)     \n",
       "8   (5000, 1000)  (3931, 1000)  \n",
       "36  (5000, 4422)  (3931, 4422)  \n",
       "64  (5000, 4422)  (3931, 4422)  \n",
       "37  (5000, 4422)  (3931, 4422)  \n",
       "38  (5000, 3008)  (3931, 3008)  \n",
       "65  (5000, 3008)  (3931, 3008)  \n",
       "11  (5000, 3000)  (3931, 3000)  \n",
       "2   (5000, 1000)  (3931, 1000)  \n",
       "..           ...           ...  \n",
       "49  (5000, 4422)  (3931, 4422)  \n",
       "50  (5000, 3008)  (3931, 3008)  \n",
       "16  (5000, 4414)  (3931, 4414)  \n",
       "14  (5000, 1000)  (3931, 1000)  \n",
       "17  (5000, 3000)  (3931, 3000)  \n",
       "13  (5000, 3060)  (3931, 3060)  \n",
       "67  (5000, 4422)  (3931, 4422)  \n",
       "66  (5000, 4422)  (3931, 4422)  \n",
       "68  (5000, 3008)  (3931, 3008)  \n",
       "19  (5000, 3060)  (3931, 3060)  \n",
       "1   (5000, 3060)  (3931, 3060)  \n",
       "52  (5000, 4422)  (3931, 4422)  \n",
       "34  (5000, 4422)  (3931, 4422)  \n",
       "61  (5000, 4422)  (3931, 4422)  \n",
       "43  (5000, 4422)  (3931, 4422)  \n",
       "6   (5000, 3060)  (3931, 3060)  \n",
       "9   (5000, 4414)  (3931, 4414)  \n",
       "0   (5000, 3060)  (3931, 3060)  \n",
       "35  (5000, 3008)  (3931, 3008)  \n",
       "53  (5000, 3008)  (3931, 3008)  \n",
       "51  (5000, 4422)  (3931, 4422)  \n",
       "33  (5000, 4422)  (3931, 4422)  \n",
       "44  (5000, 3008)  (3931, 3008)  \n",
       "18  (5000, 3060)  (3931, 3060)  \n",
       "62  (5000, 3008)  (3931, 3008)  \n",
       "42  (5000, 4422)  (3931, 4422)  \n",
       "60  (5000, 4422)  (3931, 4422)  \n",
       "3   (5000, 4414)  (3931, 4414)  \n",
       "4   (5000, 4414)  (3931, 4414)  \n",
       "5   (5000, 3000)  (3931, 3000)  \n",
       "\n",
       "[75 rows x 10 columns]"
      ]
     },
     "execution_count": 700,
     "metadata": {},
     "output_type": "execute_result"
    }
   ],
   "source": [
    "modelResults_df.sort_values(by='sMSETest')"
   ]
  },
  {
   "cell_type": "code",
   "execution_count": 703,
   "metadata": {},
   "outputs": [],
   "source": [
    "modelResults_df.to_csv(fileNameFromExport, sep=';',index=False,encoding=\"windows-1251\")"
   ]
  },
  {
   "cell_type": "markdown",
   "metadata": {},
   "source": [
    "_________________________________________"
   ]
  },
  {
   "cell_type": "markdown",
   "metadata": {},
   "source": [
    "Что дальше?\n",
    "1. Понять почему низкая оценка на тесте и повысить качество предикшена\n",
    "2. Попробовать n-граммы\n",
    "3. Разобраться с Pipeline и GridSearchCV, переписать с помощью них обучение и проработать разные гиперпараметры моделей\n",
    "4. По словарям, попробовать разные словари на положительные и отрицательные статьи, попробовать их объеденить взяв определенные части, понять чем они отличаются, какие уникальные вещи.\n",
    "5. kNN для построения мета-признаков\n",
    "6. Попробовать отдельные словари например на слова относящиеся к \"apple\", \"it\", \"деньгам\" и др."
   ]
  }
 ],
 "metadata": {
  "kernelspec": {
   "display_name": "Python 3",
   "language": "python",
   "name": "python3"
  },
  "language_info": {
   "codemirror_mode": {
    "name": "ipython",
    "version": 3
   },
   "file_extension": ".py",
   "mimetype": "text/x-python",
   "name": "python",
   "nbconvert_exporter": "python",
   "pygments_lexer": "ipython3",
   "version": "3.7.4"
  }
 },
 "nbformat": 4,
 "nbformat_minor": 2
}
