{
 "cells": [
  {
   "cell_type": "code",
   "execution_count": 1,
   "metadata": {},
   "outputs": [],
   "source": [
    "import pandas as pd\n",
    "import numpy as np\n",
    "from matplotlib import pyplot as plt\n",
    "import seaborn as sns\n",
    "import re\n",
    "import csv\n",
    "import pymorphy2\n",
    "import datetime\n",
    "from sqlalchemy import create_engine\n",
    "from sqlalchemy.pool import NullPool\n",
    "import logging\n",
    "import sys\n",
    "from math import *"
   ]
  },
  {
   "cell_type": "code",
   "execution_count": 2,
   "metadata": {},
   "outputs": [],
   "source": [
    "csv.field_size_limit(int(sys.maxsize/10000000000));"
   ]
  },
  {
   "cell_type": "markdown",
   "metadata": {},
   "source": [
    "Т.к. датасет большой, то буду загружать данные порциями, очищать, нормализовать и генерировать новые фичи.\n",
    "Подготовленные данные запишу в базу данных и буду работать с ней."
   ]
  },
  {
   "cell_type": "markdown",
   "metadata": {},
   "source": [
    "Все необходимые функции:"
   ]
  },
  {
   "cell_type": "code",
   "execution_count": 3,
   "metadata": {},
   "outputs": [],
   "source": [
    "def CleanDataFirstSatge (df):\n",
    "    '''\n",
    "    Удалю статьи, состоящие только из одного слова/символа или цифр.\n",
    "    Так же статьи с пустым полем 'text'\n",
    "    '''\n",
    "    df_for_drop = df[((df['text'].apply(lambda t: len(t.strip().split()))<=1)\\\n",
    "      & (df['tittle'].apply(lambda t: len(t.strip().split()))<=1))\\\n",
    "      | (df['text'] == '   ')]\n",
    "    return df_for_drop.index"
   ]
  },
  {
   "cell_type": "code",
   "execution_count": 4,
   "metadata": {},
   "outputs": [],
   "source": [
    "def AddNewFeature_dates(df):\n",
    "    '''\n",
    "    Генерация фич на основе времени\n",
    "    '''\n",
    "    df['date'] = pd.to_datetime(df['date'])\n",
    "    df['month'] = df['date'].dt.month \n",
    "    df['day'] = df['date'].dt.day \n",
    "    df['hour'] = df['date'].dt.hour \n",
    "    df['weekday'] = df['date'].dt.dayofweek\n",
    "    #df.sort_values(by='date',ascending=True,inplace=True)\n",
    "    \n",
    "    return df['date'],df['month'],df['day'],df['hour'],df['weekday']"
   ]
  },
  {
   "cell_type": "code",
   "execution_count": 5,
   "metadata": {},
   "outputs": [],
   "source": [
    "def GetSites (txt):  \n",
    "    sites = re.findall(r'[\\w]+\\.{1,1}[^\\.\\d^\\s]\\w{1,3}\\b',str(txt)) #сайты\n",
    "    return (' '.join(sites)).replace('.','_'),len(sites)"
   ]
  },
  {
   "cell_type": "code",
   "execution_count": 6,
   "metadata": {},
   "outputs": [],
   "source": [
    "def GetEnWords (txt):  \n",
    "    en_words = re.findall(r'\\b[A-Za-z]{3,}\\b',re.sub(r'[A-Za-z]{2,}\\.+[A-Za-z]*\\b','',str(txt))) #слова на латинице от 3х букв    \n",
    "    return ' '.join(en_words),len(en_words)"
   ]
  },
  {
   "cell_type": "code",
   "execution_count": 7,
   "metadata": {},
   "outputs": [],
   "source": [
    "def GetRuWords (txt):  \n",
    "    ru_words = re.findall(r'\\b[А-Яа-я]{4,}\\b',re.sub(r'[А-Яа-я]{2,}\\.+[А-Яа-я]*\\b','',str(txt))) #слова на кириллице от 4х букв\n",
    "    return ' '.join(ru_words),len(ru_words)"
   ]
  },
  {
   "cell_type": "code",
   "execution_count": 8,
   "metadata": {},
   "outputs": [],
   "source": [
    "def GetPunctuationsCount (txt):  \n",
    "    punctuations  = re.findall(r'[^\\w\\s]',txt) #Знаки препинания\n",
    "    return len(punctuations)"
   ]
  },
  {
   "cell_type": "code",
   "execution_count": 9,
   "metadata": {},
   "outputs": [],
   "source": [
    "def GetEmotionsCount (txt):  \n",
    "    emotions  = re.findall(r'[\\?]{2,}|[\\!]{2,}',txt) #Знаки ??? , !!!\n",
    "    return len(emotions)"
   ]
  },
  {
   "cell_type": "code",
   "execution_count": 10,
   "metadata": {},
   "outputs": [],
   "source": [
    "def GetAllWordsCount (txt):  \n",
    "    words_count = len(txt.strip().split()) #Количество текстовых объектов\n",
    "    clwords  = re.findall(r'[А-ЯA-Z]{1,}[а-яa-z]{1,}\\b',txt) #Количество слов с заглавной буквы\n",
    "    return words_count,len(clwords)"
   ]
  },
  {
   "cell_type": "code",
   "execution_count": 11,
   "metadata": {},
   "outputs": [],
   "source": [
    "def AddNewFeatures_from_txt(columns):\n",
    "    for index, row in df.iterrows():\n",
    "        df.loc[index, 'sites_'+column],df.loc[index, 'sites_'+column+'_count'] = GetSites(row[column])\n",
    "        df.loc[index, 'ru_words_'+column],df.loc[index, 'ru_words_'+column+'_count'] = GetRuWords(row[column])\n",
    "        df.loc[index, 'en_words_'+column],df.loc[index, 'en_words_'+column+'_count'] = GetEnWords(row[column])\n",
    "        df.loc[index, 'punctuations_'+column+'_count'] = GetPunctuationsCount(row[column])\n",
    "        df.loc[index, 'emotions_'+column+'_count'] = GetEmotionsCount(row[column])\n",
    "        df.loc[index, column+'_words_count'],df.loc[index, column+'_clwords_count']"
   ]
  },
  {
   "cell_type": "code",
   "execution_count": 12,
   "metadata": {},
   "outputs": [],
   "source": [
    "def AddNewFeature_text_category(df):\n",
    "    '''\n",
    "    Создание фичи категория текста (размер)\n",
    "    '''\n",
    "    twc25 = df['text_words_count'].describe()['25%']\n",
    "    twc50 = df['text_words_count'].describe()['50%']\n",
    "    twc75 = df['text_words_count'].describe()['75%']\n",
    "    twcmax = df['text_words_count'].describe()['max']\n",
    "    \n",
    "    df['text_category'] = pd.cut(df.text_words_count\\\n",
    "                             ,bins=[-1,0,twc25,twc50,twc75,twcmax]\\\n",
    "                             ,labels=['0','1','2','3','4']) \n",
    "    return df['text_category']"
   ]
  },
  {
   "cell_type": "code",
   "execution_count": 13,
   "metadata": {},
   "outputs": [],
   "source": [
    "def AddNewFeature_rate_category (df):\n",
    "    #Разделю рейтинги на 3 категории (отрицательный, нейтральный и положительный)\n",
    "    df_rate_count = df['rate'].value_counts().rename('count').reset_index()\n",
    "    df_rate_count.rename({'index':'rate'}, axis='columns',inplace=True)\n",
    "    df['rate_category'] = pd.cut(df.rate,bins=[df_rate_count['rate'].min()-1,-1,0,\\\n",
    "                                           df_rate_count['rate'].max()+1],labels=[-1,0,1])\n",
    "    return df['rate_category']"
   ]
  },
  {
   "cell_type": "code",
   "execution_count": 14,
   "metadata": {},
   "outputs": [],
   "source": [
    "def StrLower (series):\n",
    "    #Перевод в нижний регистр\n",
    "    col = series.str.lower()\n",
    "    return col"
   ]
  },
  {
   "cell_type": "code",
   "execution_count": 15,
   "metadata": {},
   "outputs": [],
   "source": [
    "def f_tokenizer(s):\n",
    "    '''\n",
    "    Нормализация текста\n",
    "    '''\n",
    "    morph = pymorphy2.MorphAnalyzer()    \n",
    "    if type(s) == str:\n",
    "        t = s.split(' ')\n",
    "    else:\n",
    "        t = s\n",
    "    f = []\n",
    "    for j in t:\n",
    "        m = morph.parse(j.replace('.',''))\n",
    "        if len(m) != 0:\n",
    "            wrd = m[0]\n",
    "            if wrd.tag.POS not in ('NUMR','PREP','CONJ','PRCL','INTJ'):\n",
    "                f.append(wrd.normal_form)\n",
    "    return ' '.join(f)"
   ]
  },
  {
   "cell_type": "code",
   "execution_count": 16,
   "metadata": {},
   "outputs": [],
   "source": [
    "def AddNewFeature_norm(df):\n",
    "    df['ru_words_text']=df['ru_words_text'].apply(lambda t: f_tokenizer(t))\n",
    "    return df['ru_words_text']"
   ]
  },
  {
   "cell_type": "markdown",
   "metadata": {},
   "source": [
    "Конвеер обработки данных:"
   ]
  },
  {
   "cell_type": "code",
   "execution_count": 3,
   "metadata": {
    "scrolled": true
   },
   "outputs": [],
   "source": [
    "csv_db = create_engine('sqlite:///dataset/csv_db.db', poolclass=NullPool) #Соединение с БД"
   ]
  },
  {
   "cell_type": "markdown",
   "metadata": {
    "scrolled": true
   },
   "source": [
    "### !!! Работает долго, запускать только 1 раз для экспорта данных в БД"
   ]
  },
  {
   "cell_type": "code",
   "execution_count": 4,
   "metadata": {},
   "outputs": [],
   "source": [
    "text_column = 'text'\n",
    "tittle_column = 'tittle'\n",
    "parts_text_columns = ['sites_text', 'ru_words_text','en_words_text']"
   ]
  },
  {
   "cell_type": "code",
   "execution_count": 52,
   "metadata": {
    "scrolled": true
   },
   "outputs": [],
   "source": [
    "#Добавлю логирование\n",
    "LOG_FILENAME = 'export_to_db.log'\n",
    "logging.basicConfig(filename='dataset/'+LOG_FILENAME,\\\n",
    "                    level=logging.ERROR,\\\n",
    "                    format='%(asctime)s: %(message)s',\\\n",
    "                    datefmt='%Y-%m-%d %H-%M-%S')\n",
    "logger = logging.getLogger('db')\n",
    "logger.setLevel(logging.INFO)\n",
    "\n",
    "\n",
    "#Подготавливаем данные и пишем в БД\n",
    "start = 193001 #Если нужно начать/продолжить с определенной строки, например с 60001\n",
    "chunksize = 1000 #Сколько строк брать за раз\n",
    "\n",
    "iteration=1\n",
    "for df in pd.read_csv('dataset/clear_dataset.csv', chunksize=chunksize, iterator=True,sep=',',\\\n",
    "                        encoding='utf-8', engine=\"python\", error_bad_lines=False):\n",
    "    df.index +=1\n",
    "    \n",
    "    if df.index[-1] <start:\n",
    "         pass\n",
    "    else:\n",
    "        logger.info('Итерация [{}]'.format(iteration))\n",
    "        logger.info('   Очистка от пустых данных')\n",
    "        df.drop(CleanDataFirstSatge(df),inplace=True)  \n",
    "    \n",
    "        logger.info('   Геренерация фич на основе времени')\n",
    "        df['date'],df['month'],df['day'],df['hour'],df['weekday'] = AddNewFeature_dates(df)  \n",
    "    \n",
    "        logger.info('   Генерация числовых и категориальных фич на основе текста')\n",
    "        for index, row in df.iterrows():\n",
    "            df.loc[index, 'sites_'+text_column],df.loc[index, 'sites_'+text_column+'_count'] = GetSites(row[text_column])\n",
    "            df.loc[index, 'ru_words_'+text_column],df.loc[index, 'ru_words_'+text_column+'_count'] = GetRuWords(row[text_column])\n",
    "            df.loc[index, 'en_words_'+text_column],df.loc[index, 'en_words_'+text_column+'_count'] = GetEnWords(row[text_column])\n",
    "            df.loc[index, 'punctuations_'+text_column+'_count'] = GetPunctuationsCount(row[text_column])\n",
    "            df.loc[index, 'emotions_'+text_column+'_count'] = GetEmotionsCount(row[text_column])\n",
    "            df.loc[index, text_column+'_words_count'],df.loc[index, text_column+'_clwords_count'] = GetAllWordsCount(row[text_column])\n",
    "            df.loc[index, tittle_column+'_words_count'],df.loc[index, tittle_column+'_clwords_count'] = GetAllWordsCount(row[tittle_column])\n",
    "    \n",
    "        logger.info('   Удаление статей без текста')\n",
    "        df.drop(df[df['text_words_count']==0].index,inplace=True)\n",
    "    \n",
    "        logger.info('   Фича категория рейтинга')\n",
    "        df['rate_category'] = AddNewFeature_rate_category(df)\n",
    "        \n",
    "        logger.info('   Перевод текста в нижний регистр')\n",
    "        for col in parts_text_columns:\n",
    "            df[col] = StrLower(df[col])\n",
    "    \n",
    "        logger.info('   Нормализация текста')\n",
    "        df['ru_words_text'] = AddNewFeature_norm(df)    \n",
    "    \n",
    "        logger.info('   Запись в БД')\n",
    "        df.to_sql('habr', csv_db, if_exists='append')\n",
    "    \n",
    "        logger.info('   Всего обработано строк [{}]'.format(iteration*chunksize))\n",
    "    iteration+=1"
   ]
  },
  {
   "cell_type": "code",
   "execution_count": 53,
   "metadata": {},
   "outputs": [],
   "source": [
    "logging.shutdown() #Убираю логирование"
   ]
  },
  {
   "cell_type": "code",
   "execution_count": 78,
   "metadata": {},
   "outputs": [],
   "source": [
    "# Remove all handlers associated with the root logger object.\n",
    "#for handler in logging.root.handlers[:]:\n",
    "#    logging.root.removeHandler(handler)"
   ]
  },
  {
   "cell_type": "markdown",
   "metadata": {},
   "source": [
    "В итоге обработка заняла ~12.5 часов. В БД находятся все статьи, оригинальные столбцы + новые, сгенерированные фичи, так же нормализованный текст из столбца text.\n",
    "\n",
    "Описание столбцов:\n",
    "Оригинальные:\n",
    "1. date - дата и время публикации статьи\n",
    "2. tittle - заголовок статьи\n",
    "3. text - текст статьи\n",
    "4. rate - рейтинг статьи\n",
    "Сгенерированные фичи:\n",
    "1. month - месяц публикации статьи\n",
    "2. day - число публикации статьи\n",
    "3. hour - час публикации статьи\n",
    "4. weekday - день недели публикации статьи (0-п,6-вс)\n",
    "5. sites_text - сайты, извлеченные из столбца text в формате \"cnews_ru\"\n",
    "6. sites_text_count - количество сайтов в столбце text\n",
    "7. ru_words_text - нормализованные слова на кириллице, извлеченные из text\n",
    "8. ru_words_text_count - количество слов в text (до нормализации)\n",
    "9. en_words_text - слова на латинице, извлеченные из text\n",
    "10. en_words_text_count - количество слов на латинице\n",
    "11. punctuations_text_count - количество пунктуаций в text\n",
    "12. emotions_text_count - количество знаков эмоций в text(!!!,???)\n",
    "13. text_words_count - количество всех текстовых объектов из text разделенных пробелом\n",
    "14. text_clwords_count - количество всех слов с заглавной буквы в text\n",
    "15. tittle_words_count - количество всех текстовых объектов из tittle разделенных пробелом\n",
    "16. tittle_clwords_count - количество всех слов с заглавной буквы в tittle\n",
    "17. rate_category - категория рейтинга статьи (отриц., нейтральный, положительн.)"
   ]
  },
  {
   "cell_type": "markdown",
   "metadata": {},
   "source": [
    "Выгружу все числовые данные для анализа"
   ]
  },
  {
   "cell_type": "code",
   "execution_count": 5,
   "metadata": {},
   "outputs": [],
   "source": [
    "columns_num = str('tittle,date,rate,month,day,hour,weekday,\\\n",
    "sites_text_count,ru_words_text_count,en_words_text_count,\\\n",
    "punctuations_text_count,emotions_text_count,text_words_count,\\\n",
    "text_clwords_count,tittle_words_count,tittle_clwords_count,rate_category')"
   ]
  },
  {
   "cell_type": "code",
   "execution_count": 6,
   "metadata": {
    "scrolled": true
   },
   "outputs": [],
   "source": [
    "df = pd.read_sql_query(\"SELECT {} FROM habr\".format(columns_num), csv_db)"
   ]
  },
  {
   "cell_type": "code",
   "execution_count": 4,
   "metadata": {},
   "outputs": [],
   "source": [
    "#df = pd.read_sql_query(\"SELECT * FROM habr\", csv_db)"
   ]
  },
  {
   "cell_type": "code",
   "execution_count": 20,
   "metadata": {},
   "outputs": [],
   "source": [
    "#df.drop(['index'],axis=1,inplace=True)"
   ]
  },
  {
   "cell_type": "code",
   "execution_count": 6,
   "metadata": {
    "scrolled": true
   },
   "outputs": [
    {
     "data": {
      "text/plain": [
       "tittle                     0\n",
       "date                       0\n",
       "rate                       0\n",
       "month                      0\n",
       "day                        0\n",
       "hour                       0\n",
       "weekday                    0\n",
       "sites_text_count           0\n",
       "ru_words_text_count        0\n",
       "en_words_text_count        0\n",
       "punctuations_text_count    0\n",
       "emotions_text_count        0\n",
       "text_words_count           0\n",
       "text_clwords_count         0\n",
       "tittle_words_count         0\n",
       "tittle_clwords_count       0\n",
       "rate_category              0\n",
       "dtype: int64"
      ]
     },
     "execution_count": 6,
     "metadata": {},
     "output_type": "execute_result"
    }
   ],
   "source": [
    "df.isnull().sum()"
   ]
  },
  {
   "cell_type": "markdown",
   "metadata": {},
   "source": [
    "Создам новый столбец - категория текста, на основе квартилей"
   ]
  },
  {
   "cell_type": "markdown",
   "metadata": {},
   "source": [
    "<font color='green'>#new_feature</font>"
   ]
  },
  {
   "cell_type": "code",
   "execution_count": 7,
   "metadata": {
    "scrolled": true
   },
   "outputs": [],
   "source": [
    "df_tc = df[['text_words_count']].describe()\n",
    "df['text_category'] = pd.cut(df.text_words_count,bins=[-1,0,int(df_tc.loc['25%']),int(df_tc.loc['50%']),\\\n",
    "                                 int(df_tc.loc['75%']),int(df_tc.loc['max'])]\\\n",
    "                                                                 ,labels=['0','1','2','3','4']) "
   ]
  },
  {
   "cell_type": "markdown",
   "metadata": {},
   "source": [
    "Приведу данные в нужные типы"
   ]
  },
  {
   "cell_type": "code",
   "execution_count": 23,
   "metadata": {
    "scrolled": false
   },
   "outputs": [
    {
     "name": "stdout",
     "output_type": "stream",
     "text": [
      "<class 'pandas.core.frame.DataFrame'>\n",
      "RangeIndex: 209959 entries, 0 to 209958\n",
      "Data columns (total 22 columns):\n",
      "date                       209959 non-null object\n",
      "tittle                     209959 non-null object\n",
      "text                       209959 non-null object\n",
      "rate                       209959 non-null int64\n",
      "month                      209959 non-null int64\n",
      "day                        209959 non-null int64\n",
      "hour                       209959 non-null int64\n",
      "weekday                    209959 non-null int64\n",
      "sites_text                 209959 non-null object\n",
      "sites_text_count           209959 non-null float64\n",
      "ru_words_text              209959 non-null object\n",
      "ru_words_text_count        209959 non-null float64\n",
      "en_words_text              209959 non-null object\n",
      "en_words_text_count        209959 non-null float64\n",
      "punctuations_text_count    209959 non-null float64\n",
      "emotions_text_count        209959 non-null float64\n",
      "text_words_count           209959 non-null float64\n",
      "text_clwords_count         209959 non-null float64\n",
      "tittle_words_count         209959 non-null float64\n",
      "tittle_clwords_count       209959 non-null float64\n",
      "text_category              209959 non-null category\n",
      "rate_category              209959 non-null object\n",
      "dtypes: category(1), float64(9), int64(5), object(7)\n",
      "memory usage: 33.8+ MB\n"
     ]
    }
   ],
   "source": [
    "df.info()"
   ]
  },
  {
   "cell_type": "markdown",
   "metadata": {},
   "source": [
    "<font color='orange'>#change_data</font>"
   ]
  },
  {
   "cell_type": "code",
   "execution_count": 8,
   "metadata": {},
   "outputs": [],
   "source": [
    "df['date'] = pd.to_datetime(df['date'])"
   ]
  },
  {
   "cell_type": "code",
   "execution_count": 49,
   "metadata": {},
   "outputs": [],
   "source": [
    "df = df.astype({'rate':'int16', 'month':'uint8', 'day':'uint8',\\\n",
    "                'day':'uint8', 'hour':'uint8', 'weekday':'uint8', \\\n",
    "                'sites_text_count':'uint16',\\\n",
    "                'ru_words_text_count':'uint32',\\\n",
    "                'en_words_text_count':'uint16',\\\n",
    "                'punctuations_text_count':'uint32',\\\n",
    "                'emotions_text_count':'uint16',\\\n",
    "                'punctuations_text_count':'uint32',\\\n",
    "                'text_words_count':'uint32',\\\n",
    "                'text_clwords_count':'uint32',\\\n",
    "                'tittle_words_count':'uint8',\\\n",
    "                'tittle_clwords_count':'uint8',\\\n",
    "                'rate_category':'int8',\n",
    "                'text_category':'int8'})"
   ]
  },
  {
   "cell_type": "code",
   "execution_count": 50,
   "metadata": {},
   "outputs": [
    {
     "name": "stdout",
     "output_type": "stream",
     "text": [
      "<class 'pandas.core.frame.DataFrame'>\n",
      "Int64Index: 208754 entries, 0 to 209958\n",
      "Data columns (total 18 columns):\n",
      "tittle                     208754 non-null object\n",
      "date                       208754 non-null datetime64[ns]\n",
      "rate                       208754 non-null int16\n",
      "month                      208754 non-null uint8\n",
      "day                        208754 non-null uint8\n",
      "hour                       208754 non-null uint8\n",
      "weekday                    208754 non-null uint8\n",
      "sites_text_count           208754 non-null uint16\n",
      "ru_words_text_count        208754 non-null uint32\n",
      "en_words_text_count        208754 non-null uint16\n",
      "punctuations_text_count    208754 non-null uint32\n",
      "emotions_text_count        208754 non-null uint16\n",
      "text_words_count           208754 non-null uint32\n",
      "text_clwords_count         208754 non-null uint32\n",
      "tittle_words_count         208754 non-null uint8\n",
      "tittle_clwords_count       208754 non-null uint8\n",
      "rate_category              208754 non-null int8\n",
      "text_category              208754 non-null int8\n",
      "dtypes: datetime64[ns](1), int16(1), int8(2), object(1), uint16(3), uint32(4), uint8(6)\n",
      "memory usage: 11.1+ MB\n"
     ]
    }
   ],
   "source": [
    "df.info()"
   ]
  },
  {
   "cell_type": "markdown",
   "metadata": {},
   "source": [
    "Посмотрю на дубликаты. Искать буду по одинаковым заголовкам, где совпадает дата публикации и рейтинг."
   ]
  },
  {
   "cell_type": "code",
   "execution_count": 10,
   "metadata": {
    "scrolled": true
   },
   "outputs": [
    {
     "data": {
      "text/html": [
       "<div>\n",
       "<style scoped>\n",
       "    .dataframe tbody tr th:only-of-type {\n",
       "        vertical-align: middle;\n",
       "    }\n",
       "\n",
       "    .dataframe tbody tr th {\n",
       "        vertical-align: top;\n",
       "    }\n",
       "\n",
       "    .dataframe thead th {\n",
       "        text-align: right;\n",
       "    }\n",
       "</style>\n",
       "<table border=\"1\" class=\"dataframe\">\n",
       "  <thead>\n",
       "    <tr style=\"text-align: right;\">\n",
       "      <th></th>\n",
       "      <th>tittle</th>\n",
       "      <th>date</th>\n",
       "      <th>rate</th>\n",
       "      <th>month</th>\n",
       "      <th>day</th>\n",
       "      <th>hour</th>\n",
       "      <th>weekday</th>\n",
       "      <th>sites_text_count</th>\n",
       "      <th>ru_words_text_count</th>\n",
       "      <th>en_words_text_count</th>\n",
       "      <th>punctuations_text_count</th>\n",
       "      <th>emotions_text_count</th>\n",
       "      <th>text_words_count</th>\n",
       "      <th>text_clwords_count</th>\n",
       "      <th>tittle_words_count</th>\n",
       "      <th>tittle_clwords_count</th>\n",
       "      <th>rate_category</th>\n",
       "      <th>text_category</th>\n",
       "    </tr>\n",
       "  </thead>\n",
       "  <tbody>\n",
       "    <tr>\n",
       "      <td>98564</td>\n",
       "      <td>+1 чёрный список в России</td>\n",
       "      <td>2013-05-08 10:26:00</td>\n",
       "      <td>82</td>\n",
       "      <td>5</td>\n",
       "      <td>8</td>\n",
       "      <td>10</td>\n",
       "      <td>2</td>\n",
       "      <td>0</td>\n",
       "      <td>390</td>\n",
       "      <td>5</td>\n",
       "      <td>144</td>\n",
       "      <td>0</td>\n",
       "      <td>560</td>\n",
       "      <td>42</td>\n",
       "      <td>5</td>\n",
       "      <td>1</td>\n",
       "      <td>1</td>\n",
       "      <td>3</td>\n",
       "    </tr>\n",
       "    <tr>\n",
       "      <td>137560</td>\n",
       "      <td>+1 чёрный список в России</td>\n",
       "      <td>2013-05-08 10:26:00</td>\n",
       "      <td>82</td>\n",
       "      <td>5</td>\n",
       "      <td>8</td>\n",
       "      <td>10</td>\n",
       "      <td>2</td>\n",
       "      <td>0</td>\n",
       "      <td>390</td>\n",
       "      <td>5</td>\n",
       "      <td>144</td>\n",
       "      <td>0</td>\n",
       "      <td>560</td>\n",
       "      <td>42</td>\n",
       "      <td>5</td>\n",
       "      <td>1</td>\n",
       "      <td>1</td>\n",
       "      <td>3</td>\n",
       "    </tr>\n",
       "    <tr>\n",
       "      <td>924</td>\n",
       "      <td>-2147220992 (0×80040200)</td>\n",
       "      <td>2006-06-28 00:21:00</td>\n",
       "      <td>1</td>\n",
       "      <td>6</td>\n",
       "      <td>28</td>\n",
       "      <td>0</td>\n",
       "      <td>2</td>\n",
       "      <td>0</td>\n",
       "      <td>14</td>\n",
       "      <td>0</td>\n",
       "      <td>4</td>\n",
       "      <td>0</td>\n",
       "      <td>19</td>\n",
       "      <td>1</td>\n",
       "      <td>2</td>\n",
       "      <td>0</td>\n",
       "      <td>1</td>\n",
       "      <td>1</td>\n",
       "    </tr>\n",
       "    <tr>\n",
       "      <td>138751</td>\n",
       "      <td>-2147220992 (0×80040200)</td>\n",
       "      <td>2006-06-28 00:21:00</td>\n",
       "      <td>1</td>\n",
       "      <td>6</td>\n",
       "      <td>28</td>\n",
       "      <td>0</td>\n",
       "      <td>2</td>\n",
       "      <td>0</td>\n",
       "      <td>14</td>\n",
       "      <td>0</td>\n",
       "      <td>4</td>\n",
       "      <td>0</td>\n",
       "      <td>19</td>\n",
       "      <td>1</td>\n",
       "      <td>2</td>\n",
       "      <td>0</td>\n",
       "      <td>1</td>\n",
       "      <td>1</td>\n",
       "    </tr>\n",
       "    <tr>\n",
       "      <td>137571</td>\n",
       "      <td>1,7 миллиона долларов суд хочет взыскать с вла...</td>\n",
       "      <td>2013-05-23 16:42:00</td>\n",
       "      <td>149</td>\n",
       "      <td>5</td>\n",
       "      <td>23</td>\n",
       "      <td>16</td>\n",
       "      <td>3</td>\n",
       "      <td>0</td>\n",
       "      <td>122</td>\n",
       "      <td>5</td>\n",
       "      <td>33</td>\n",
       "      <td>0</td>\n",
       "      <td>174</td>\n",
       "      <td>21</td>\n",
       "      <td>12</td>\n",
       "      <td>0</td>\n",
       "      <td>1</td>\n",
       "      <td>1</td>\n",
       "    </tr>\n",
       "    <tr>\n",
       "      <td>...</td>\n",
       "      <td>...</td>\n",
       "      <td>...</td>\n",
       "      <td>...</td>\n",
       "      <td>...</td>\n",
       "      <td>...</td>\n",
       "      <td>...</td>\n",
       "      <td>...</td>\n",
       "      <td>...</td>\n",
       "      <td>...</td>\n",
       "      <td>...</td>\n",
       "      <td>...</td>\n",
       "      <td>...</td>\n",
       "      <td>...</td>\n",
       "      <td>...</td>\n",
       "      <td>...</td>\n",
       "      <td>...</td>\n",
       "      <td>...</td>\n",
       "      <td>...</td>\n",
       "    </tr>\n",
       "    <tr>\n",
       "      <td>138909</td>\n",
       "      <td>Ярушечка, жежешечка и лирушечка</td>\n",
       "      <td>2007-11-21 13:19:00</td>\n",
       "      <td>-1</td>\n",
       "      <td>11</td>\n",
       "      <td>21</td>\n",
       "      <td>13</td>\n",
       "      <td>2</td>\n",
       "      <td>6</td>\n",
       "      <td>295</td>\n",
       "      <td>3</td>\n",
       "      <td>122</td>\n",
       "      <td>0</td>\n",
       "      <td>411</td>\n",
       "      <td>27</td>\n",
       "      <td>4</td>\n",
       "      <td>1</td>\n",
       "      <td>-1</td>\n",
       "      <td>2</td>\n",
       "    </tr>\n",
       "    <tr>\n",
       "      <td>51334</td>\n",
       "      <td>одоп Элюстро</td>\n",
       "      <td>2010-05-07 15:22:00</td>\n",
       "      <td>130</td>\n",
       "      <td>5</td>\n",
       "      <td>7</td>\n",
       "      <td>15</td>\n",
       "      <td>4</td>\n",
       "      <td>0</td>\n",
       "      <td>3</td>\n",
       "      <td>0</td>\n",
       "      <td>2</td>\n",
       "      <td>0</td>\n",
       "      <td>3</td>\n",
       "      <td>1</td>\n",
       "      <td>2</td>\n",
       "      <td>1</td>\n",
       "      <td>1</td>\n",
       "      <td>1</td>\n",
       "    </tr>\n",
       "    <tr>\n",
       "      <td>137912</td>\n",
       "      <td>одоп Элюстро</td>\n",
       "      <td>2010-05-07 15:22:00</td>\n",
       "      <td>130</td>\n",
       "      <td>5</td>\n",
       "      <td>7</td>\n",
       "      <td>15</td>\n",
       "      <td>4</td>\n",
       "      <td>0</td>\n",
       "      <td>3</td>\n",
       "      <td>0</td>\n",
       "      <td>2</td>\n",
       "      <td>0</td>\n",
       "      <td>3</td>\n",
       "      <td>1</td>\n",
       "      <td>2</td>\n",
       "      <td>1</td>\n",
       "      <td>1</td>\n",
       "      <td>1</td>\n",
       "    </tr>\n",
       "    <tr>\n",
       "      <td>60900</td>\n",
       "      <td>﻿Всемирный день футбола — праздник, которого н...</td>\n",
       "      <td>2010-12-09 20:55:00</td>\n",
       "      <td>4</td>\n",
       "      <td>12</td>\n",
       "      <td>9</td>\n",
       "      <td>20</td>\n",
       "      <td>3</td>\n",
       "      <td>0</td>\n",
       "      <td>98</td>\n",
       "      <td>3</td>\n",
       "      <td>30</td>\n",
       "      <td>0</td>\n",
       "      <td>151</td>\n",
       "      <td>16</td>\n",
       "      <td>9</td>\n",
       "      <td>2</td>\n",
       "      <td>1</td>\n",
       "      <td>1</td>\n",
       "    </tr>\n",
       "    <tr>\n",
       "      <td>138233</td>\n",
       "      <td>﻿Всемирный день футбола — праздник, которого н...</td>\n",
       "      <td>2010-12-09 20:55:00</td>\n",
       "      <td>4</td>\n",
       "      <td>12</td>\n",
       "      <td>9</td>\n",
       "      <td>20</td>\n",
       "      <td>3</td>\n",
       "      <td>0</td>\n",
       "      <td>98</td>\n",
       "      <td>3</td>\n",
       "      <td>30</td>\n",
       "      <td>0</td>\n",
       "      <td>151</td>\n",
       "      <td>16</td>\n",
       "      <td>9</td>\n",
       "      <td>2</td>\n",
       "      <td>1</td>\n",
       "      <td>1</td>\n",
       "    </tr>\n",
       "  </tbody>\n",
       "</table>\n",
       "<p>2408 rows × 18 columns</p>\n",
       "</div>"
      ],
      "text/plain": [
       "                                                   tittle                date  \\\n",
       "98564                           +1 чёрный список в России 2013-05-08 10:26:00   \n",
       "137560                          +1 чёрный список в России 2013-05-08 10:26:00   \n",
       "924                              -2147220992 (0×80040200) 2006-06-28 00:21:00   \n",
       "138751                           -2147220992 (0×80040200) 2006-06-28 00:21:00   \n",
       "137571  1,7 миллиона долларов суд хочет взыскать с вла... 2013-05-23 16:42:00   \n",
       "...                                                   ...                 ...   \n",
       "138909                    Ярушечка, жежешечка и лирушечка 2007-11-21 13:19:00   \n",
       "51334                                        одоп Элюстро 2010-05-07 15:22:00   \n",
       "137912                                       одоп Элюстро 2010-05-07 15:22:00   \n",
       "60900   ﻿Всемирный день футбола — праздник, которого н... 2010-12-09 20:55:00   \n",
       "138233  ﻿Всемирный день футбола — праздник, которого н... 2010-12-09 20:55:00   \n",
       "\n",
       "        rate  month  day  hour  weekday  sites_text_count  \\\n",
       "98564     82      5    8    10        2                 0   \n",
       "137560    82      5    8    10        2                 0   \n",
       "924        1      6   28     0        2                 0   \n",
       "138751     1      6   28     0        2                 0   \n",
       "137571   149      5   23    16        3                 0   \n",
       "...      ...    ...  ...   ...      ...               ...   \n",
       "138909    -1     11   21    13        2                 6   \n",
       "51334    130      5    7    15        4                 0   \n",
       "137912   130      5    7    15        4                 0   \n",
       "60900      4     12    9    20        3                 0   \n",
       "138233     4     12    9    20        3                 0   \n",
       "\n",
       "        ru_words_text_count  en_words_text_count  punctuations_text_count  \\\n",
       "98564                   390                    5                      144   \n",
       "137560                  390                    5                      144   \n",
       "924                      14                    0                        4   \n",
       "138751                   14                    0                        4   \n",
       "137571                  122                    5                       33   \n",
       "...                     ...                  ...                      ...   \n",
       "138909                  295                    3                      122   \n",
       "51334                     3                    0                        2   \n",
       "137912                    3                    0                        2   \n",
       "60900                    98                    3                       30   \n",
       "138233                   98                    3                       30   \n",
       "\n",
       "        emotions_text_count  text_words_count  text_clwords_count  \\\n",
       "98564                     0               560                  42   \n",
       "137560                    0               560                  42   \n",
       "924                       0                19                   1   \n",
       "138751                    0                19                   1   \n",
       "137571                    0               174                  21   \n",
       "...                     ...               ...                 ...   \n",
       "138909                    0               411                  27   \n",
       "51334                     0                 3                   1   \n",
       "137912                    0                 3                   1   \n",
       "60900                     0               151                  16   \n",
       "138233                    0               151                  16   \n",
       "\n",
       "        tittle_words_count  tittle_clwords_count  rate_category text_category  \n",
       "98564                    5                     1              1             3  \n",
       "137560                   5                     1              1             3  \n",
       "924                      2                     0              1             1  \n",
       "138751                   2                     0              1             1  \n",
       "137571                  12                     0              1             1  \n",
       "...                    ...                   ...            ...           ...  \n",
       "138909                   4                     1             -1             2  \n",
       "51334                    2                     1              1             1  \n",
       "137912                   2                     1              1             1  \n",
       "60900                    9                     2              1             1  \n",
       "138233                   9                     2              1             1  \n",
       "\n",
       "[2408 rows x 18 columns]"
      ]
     },
     "execution_count": 10,
     "metadata": {},
     "output_type": "execute_result"
    }
   ],
   "source": [
    "df[df.duplicated(subset=['date','tittle','rate'],keep=False)].\\\n",
    "                                        sort_values(by='tittle')"
   ]
  },
  {
   "cell_type": "markdown",
   "metadata": {},
   "source": [
    "Такие статьи нужно оставить в 1 экземпляре, без дублирования"
   ]
  },
  {
   "cell_type": "code",
   "execution_count": 10,
   "metadata": {},
   "outputs": [],
   "source": [
    "df.drop_duplicates(subset=['date','tittle','rate'],keep='first',\\\n",
    "                                                       inplace=True)"
   ]
  },
  {
   "cell_type": "markdown",
   "metadata": {},
   "source": [
    "## Анализ данных"
   ]
  },
  {
   "cell_type": "markdown",
   "metadata": {},
   "source": [
    "Количество слов в заголовке и тексте статей."
   ]
  },
  {
   "cell_type": "code",
   "execution_count": 13,
   "metadata": {},
   "outputs": [
    {
     "data": {
      "image/png": "[encoded data removed]",
      "text/plain": [
       "<Figure size 864x432 with 1 Axes>"
      ]
     },
     "metadata": {
      "needs_background": "light"
     },
     "output_type": "display_data"
    }
   ],
   "source": [
    "fsize = (12, 6)\n",
    "fig, ax = plt.subplots(figsize=fsize)\n",
    "plt.title('Распределение статей по количеству слов в заголовке.')\n",
    "plt.xticks(range(0,32, 1))\n",
    "plt.grid(alpha=0.5)\n",
    "sns.boxplot(x=df['tittle_words_count']);"
   ]
  },
  {
   "cell_type": "code",
   "execution_count": 29,
   "metadata": {
    "scrolled": false
   },
   "outputs": [
    {
     "data": {
      "image/png": "[encoded data removed]",
      "text/plain": [
       "<Figure size 864x432 with 1 Axes>"
      ]
     },
     "metadata": {
      "needs_background": "light"
     },
     "output_type": "display_data"
    }
   ],
   "source": [
    "fsize = (12, 6)\n",
    "fig, ax = plt.subplots(figsize=fsize)\n",
    "plt.title('Количество статей от количества слов в заголовке.')\n",
    "plt.xlabel('Количество')\n",
    "plt.xticks(range(0,30000, 2000))\n",
    "plt.ylabel('Слов в заголовке')\n",
    "df['tittle_words_count'].value_counts().plot(kind='barh');\n",
    "plt.grid(alpha=0.5)"
   ]
  },
  {
   "cell_type": "markdown",
   "metadata": {},
   "source": [
    "Большинство заголовков статей не превышает 10 слов. Больше всего статей с 4-8 слов в заголовке."
   ]
  },
  {
   "cell_type": "markdown",
   "metadata": {},
   "source": [
    " "
   ]
  },
  {
   "cell_type": "markdown",
   "metadata": {},
   "source": [
    "Статьи в зависимости от количества слов в тексте."
   ]
  },
  {
   "cell_type": "code",
   "execution_count": 195,
   "metadata": {},
   "outputs": [
    {
     "data": {
      "image/png": "[encoded data removed]",
      "text/plain": [
       "<Figure size 1080x360 with 1 Axes>"
      ]
     },
     "metadata": {
      "needs_background": "light"
     },
     "output_type": "display_data"
    }
   ],
   "source": [
    "fsize = (15, 5)\n",
    "fig, ax = plt.subplots(figsize=fsize)\n",
    "plt.title('Количество статей от количества слов в тексте.')\n",
    "sns.boxplot(x=df['text_words_count'])\n",
    "ax.set_xlim(-100,3000);\n",
    "plt.xticks(range(-100, 3000, 100));"
   ]
  },
  {
   "cell_type": "markdown",
   "metadata": {},
   "source": [
    "~3/4 статей не превышает 1000 слов."
   ]
  },
  {
   "cell_type": "markdown",
   "metadata": {},
   "source": [
    " "
   ]
  },
  {
   "cell_type": "code",
   "execution_count": 25,
   "metadata": {},
   "outputs": [],
   "source": [
    "df_tc_legend = pd.DataFrame({'0':['0'],\n",
    "              '1':['<'+str(int(df_tc.loc['25%']))],\n",
    "              '2':['<'+str(int(df_tc.loc['50%']))],\n",
    "              '3':['<'+str(int(df_tc.loc['75%']))],\n",
    "              '4':['<'+str(int(df_tc.loc['max']))],\n",
    "             })\n"
   ]
  },
  {
   "cell_type": "code",
   "execution_count": 26,
   "metadata": {},
   "outputs": [
    {
     "name": "stdout",
     "output_type": "stream",
     "text": [
      "Таблица категорий рамера статьи:\n"
     ]
    },
    {
     "data": {
      "text/html": [
       "<div>\n",
       "<style scoped>\n",
       "    .dataframe tbody tr th:only-of-type {\n",
       "        vertical-align: middle;\n",
       "    }\n",
       "\n",
       "    .dataframe tbody tr th {\n",
       "        vertical-align: top;\n",
       "    }\n",
       "\n",
       "    .dataframe thead th {\n",
       "        text-align: right;\n",
       "    }\n",
       "</style>\n",
       "<table border=\"1\" class=\"dataframe\">\n",
       "  <thead>\n",
       "    <tr style=\"text-align: right;\">\n",
       "      <th></th>\n",
       "      <th>0</th>\n",
       "      <th>1</th>\n",
       "      <th>2</th>\n",
       "      <th>3</th>\n",
       "      <th>4</th>\n",
       "    </tr>\n",
       "  </thead>\n",
       "  <tbody>\n",
       "    <tr>\n",
       "      <td>0</td>\n",
       "      <td>0</td>\n",
       "      <td>&lt;208</td>\n",
       "      <td>&lt;511</td>\n",
       "      <td>&lt;1052</td>\n",
       "      <td>&lt;193861</td>\n",
       "    </tr>\n",
       "  </tbody>\n",
       "</table>\n",
       "</div>"
      ],
      "text/plain": [
       "   0     1     2      3        4\n",
       "0  0  <208  <511  <1052  <193861"
      ]
     },
     "execution_count": 26,
     "metadata": {},
     "output_type": "execute_result"
    }
   ],
   "source": [
    "print('Таблица категорий рамера статьи:')\n",
    "df_tc_legend"
   ]
  },
  {
   "cell_type": "code",
   "execution_count": 40,
   "metadata": {},
   "outputs": [],
   "source": [
    "dataTWCvsTC = df.groupby(['tittle_words_count'], observed=True)['text_category'].\\\n",
    "                 value_counts(normalize=True).rename('percent').reset_index().\\\n",
    "                                                     sort_values('text_category')"
   ]
  },
  {
   "cell_type": "code",
   "execution_count": 43,
   "metadata": {
    "scrolled": false
   },
   "outputs": [
    {
     "data": {
      "image/png": "[encoded data removed]",
      "text/plain": [
       "<Figure size 1152x432 with 1 Axes>"
      ]
     },
     "metadata": {
      "needs_background": "light"
     },
     "output_type": "display_data"
    }
   ],
   "source": [
    "fsize = (16, 6)\n",
    "fig, ax = plt.subplots(figsize=fsize)  \n",
    "plt.title('Количество слов в заголовке и размер статьи (%).')\n",
    "sns.barplot(x='tittle_words_count', y='percent', hue='text_category',data=dataTWCvsTC);"
   ]
  },
  {
   "cell_type": "code",
   "execution_count": 32,
   "metadata": {},
   "outputs": [
    {
     "data": {
      "image/png": "[encoded data removed]",
      "text/plain": [
       "<Figure size 1152x432 with 1 Axes>"
      ]
     },
     "metadata": {
      "needs_background": "light"
     },
     "output_type": "display_data"
    }
   ],
   "source": [
    "fsize = (16, 6)\n",
    "fig, ax = plt.subplots(figsize=fsize)    \n",
    "plt.title('Количество слов в заголовке и размер статьи.')\n",
    "sns.countplot(x='tittle_words_count',data=df,hue='text_category',estimator);"
   ]
  },
  {
   "cell_type": "markdown",
   "metadata": {},
   "source": [
    "Статьи с количеством слов в заголовке от 1-6 приемущественно 1 категории, т.е. не большие. Далее идет рост размера статьи и количества слов в заголовке."
   ]
  },
  {
   "cell_type": "code",
   "execution_count": 61,
   "metadata": {},
   "outputs": [
    {
     "data": {
      "text/html": [
       "<div>\n",
       "<style scoped>\n",
       "    .dataframe tbody tr th:only-of-type {\n",
       "        vertical-align: middle;\n",
       "    }\n",
       "\n",
       "    .dataframe tbody tr th {\n",
       "        vertical-align: top;\n",
       "    }\n",
       "\n",
       "    .dataframe thead th {\n",
       "        text-align: right;\n",
       "    }\n",
       "</style>\n",
       "<table border=\"1\" class=\"dataframe\">\n",
       "  <thead>\n",
       "    <tr style=\"text-align: right;\">\n",
       "      <th></th>\n",
       "      <th>tittle_words_count</th>\n",
       "      <th>text_words_count</th>\n",
       "    </tr>\n",
       "  </thead>\n",
       "  <tbody>\n",
       "    <tr>\n",
       "      <td>tittle_words_count</td>\n",
       "      <td>1.000000</td>\n",
       "      <td>0.241123</td>\n",
       "    </tr>\n",
       "    <tr>\n",
       "      <td>text_words_count</td>\n",
       "      <td>0.241123</td>\n",
       "      <td>1.000000</td>\n",
       "    </tr>\n",
       "  </tbody>\n",
       "</table>\n",
       "</div>"
      ],
      "text/plain": [
       "                    tittle_words_count  text_words_count\n",
       "tittle_words_count            1.000000          0.241123\n",
       "text_words_count              0.241123          1.000000"
      ]
     },
     "execution_count": 61,
     "metadata": {},
     "output_type": "execute_result"
    }
   ],
   "source": [
    "df[(df['text_category']==1)][['tittle_words_count','text_words_count']].corr()"
   ]
  },
  {
   "cell_type": "markdown",
   "metadata": {},
   "source": [
    "### Рейтинг"
   ]
  },
  {
   "cell_type": "code",
   "execution_count": 60,
   "metadata": {
    "scrolled": true
   },
   "outputs": [
    {
     "data": {
      "text/plain": [
       "count    208754.000000\n",
       "mean         24.369377\n",
       "std          34.955413\n",
       "min        -183.000000\n",
       "25%           6.000000\n",
       "50%          15.000000\n",
       "75%          31.000000\n",
       "max        1448.000000\n",
       "Name: rate, dtype: float64"
      ]
     },
     "execution_count": 60,
     "metadata": {},
     "output_type": "execute_result"
    }
   ],
   "source": [
    "df['rate'].describe()"
   ]
  },
  {
   "cell_type": "code",
   "execution_count": 202,
   "metadata": {
    "scrolled": true
   },
   "outputs": [
    {
     "data": {
      "image/png": "[encoded data removed]",
      "text/plain": [
       "<Figure size 720x360 with 1 Axes>"
      ]
     },
     "metadata": {
      "needs_background": "light"
     },
     "output_type": "display_data"
    }
   ],
   "source": [
    "fsize = (10, 5)\n",
    "fig, ax = plt.subplots(figsize=fsize)\n",
    "ax.set_xlim(-40,100)\n",
    "plt.xticks(range(-40, 100, 5))\n",
    "sns.violinplot(x=df['rate'], palette=\"Blues\")\n",
    "sns.boxplot(x=df['rate'])\n",
    "plt.title('Распределение рейтинга статей.');"
   ]
  },
  {
   "cell_type": "markdown",
   "metadata": {},
   "source": [
    " "
   ]
  },
  {
   "cell_type": "code",
   "execution_count": 13,
   "metadata": {},
   "outputs": [],
   "source": [
    "df_rate_count = df['rate'].value_counts().rename('count').reset_index()\n",
    "df_rate_count.rename({'index':'rate'}, axis='columns',inplace=True)"
   ]
  },
  {
   "cell_type": "code",
   "execution_count": 14,
   "metadata": {
    "scrolled": true
   },
   "outputs": [
    {
     "data": {
      "text/html": [
       "<div>\n",
       "<style scoped>\n",
       "    .dataframe tbody tr th:only-of-type {\n",
       "        vertical-align: middle;\n",
       "    }\n",
       "\n",
       "    .dataframe tbody tr th {\n",
       "        vertical-align: top;\n",
       "    }\n",
       "\n",
       "    .dataframe thead th {\n",
       "        text-align: right;\n",
       "    }\n",
       "</style>\n",
       "<table border=\"1\" class=\"dataframe\">\n",
       "  <thead>\n",
       "    <tr style=\"text-align: right;\">\n",
       "      <th></th>\n",
       "      <th>rate</th>\n",
       "      <th>count</th>\n",
       "    </tr>\n",
       "  </thead>\n",
       "  <tbody>\n",
       "    <tr>\n",
       "      <td>count</td>\n",
       "      <td>565.000000</td>\n",
       "      <td>565.000000</td>\n",
       "    </tr>\n",
       "    <tr>\n",
       "      <td>mean</td>\n",
       "      <td>191.624779</td>\n",
       "      <td>369.476106</td>\n",
       "    </tr>\n",
       "    <tr>\n",
       "      <td>std</td>\n",
       "      <td>201.960254</td>\n",
       "      <td>1128.634929</td>\n",
       "    </tr>\n",
       "    <tr>\n",
       "      <td>min</td>\n",
       "      <td>-183.000000</td>\n",
       "      <td>1.000000</td>\n",
       "    </tr>\n",
       "    <tr>\n",
       "      <td>25%</td>\n",
       "      <td>34.000000</td>\n",
       "      <td>2.000000</td>\n",
       "    </tr>\n",
       "    <tr>\n",
       "      <td>50%</td>\n",
       "      <td>175.000000</td>\n",
       "      <td>10.000000</td>\n",
       "    </tr>\n",
       "    <tr>\n",
       "      <td>75%</td>\n",
       "      <td>317.000000</td>\n",
       "      <td>92.000000</td>\n",
       "    </tr>\n",
       "    <tr>\n",
       "      <td>max</td>\n",
       "      <td>1448.000000</td>\n",
       "      <td>7883.000000</td>\n",
       "    </tr>\n",
       "  </tbody>\n",
       "</table>\n",
       "</div>"
      ],
      "text/plain": [
       "              rate        count\n",
       "count   565.000000   565.000000\n",
       "mean    191.624779   369.476106\n",
       "std     201.960254  1128.634929\n",
       "min    -183.000000     1.000000\n",
       "25%      34.000000     2.000000\n",
       "50%     175.000000    10.000000\n",
       "75%     317.000000    92.000000\n",
       "max    1448.000000  7883.000000"
      ]
     },
     "execution_count": 14,
     "metadata": {},
     "output_type": "execute_result"
    }
   ],
   "source": [
    "df_rate_count.describe()"
   ]
  },
  {
   "cell_type": "code",
   "execution_count": 18,
   "metadata": {},
   "outputs": [
    {
     "data": {
      "image/png": "[encoded data removed]",
      "text/plain": [
       "<Figure size 1296x720 with 1 Axes>"
      ]
     },
     "metadata": {
      "needs_background": "light"
     },
     "output_type": "display_data"
    }
   ],
   "source": [
    "fsize = (18, 10)\n",
    "fig, ax = plt.subplots(figsize=fsize)\n",
    "plt.title('Наиболее частый рейтинг статей.');\n",
    "sns.barplot(y='count',x='rate',data=df_rate_count[df_rate_count['count']>100])\n",
    "ax.set_xlim(-1,70);"
   ]
  },
  {
   "cell_type": "markdown",
   "metadata": {},
   "source": [
    "Топ популярных рейтингов лежит в диапазоне от 0-16. Самый часто используемый рейтинг - 6."
   ]
  },
  {
   "cell_type": "markdown",
   "metadata": {},
   "source": [
    " "
   ]
  },
  {
   "cell_type": "markdown",
   "metadata": {},
   "source": [
    "##### Посмотрим на рейтинг статей в зависимости от количества слов в заголовке"
   ]
  },
  {
   "cell_type": "code",
   "execution_count": 119,
   "metadata": {},
   "outputs": [
    {
     "data": {
      "image/png": "[encoded data removed]",
      "text/plain": [
       "<Figure size 1152x576 with 1 Axes>"
      ]
     },
     "metadata": {
      "needs_background": "light"
     },
     "output_type": "display_data"
    }
   ],
   "source": [
    "fsize = (16, 8)\n",
    "fig, ax = plt.subplots(figsize=fsize)\n",
    "plt.yticks(range(-50, 200, 10))\n",
    "ax.set_ylim(-50,200)\n",
    "plt.title('Распределение рейтинга от размера заголовка.')\n",
    "sns.boxplot(y='rate',x='tittle_words_count',data=df);"
   ]
  },
  {
   "cell_type": "code",
   "execution_count": 76,
   "metadata": {},
   "outputs": [
    {
     "data": {
      "image/png": "[encoded data removed]",
      "text/plain": [
       "<Figure size 864x360 with 1 Axes>"
      ]
     },
     "metadata": {
      "needs_background": "light"
     },
     "output_type": "display_data"
    }
   ],
   "source": [
    "fsize = (12, 5)\n",
    "fig, ax = plt.subplots(figsize=fsize)    \n",
    "plt.title('Средний рейтинг от количества слов в заголовке.')\n",
    "sns.barplot(x='tittle_words_count', y='rate_avg', \\\n",
    "            data=df.groupby('tittle_words_count')['rate'].mean().\\\n",
    "                                    rename('rate_avg').reset_index());"
   ]
  },
  {
   "cell_type": "markdown",
   "metadata": {},
   "source": [
    "Посмотрим отдельно на средние показатели и стандартное отклонение:"
   ]
  },
  {
   "cell_type": "code",
   "execution_count": 39,
   "metadata": {},
   "outputs": [
    {
     "data": {
      "image/png": "[encoded data removed]",
      "text/plain": [
       "<Figure size 1152x576 with 1 Axes>"
      ]
     },
     "metadata": {
      "needs_background": "light"
     },
     "output_type": "display_data"
    }
   ],
   "source": [
    "fsize = (16, 8)\n",
    "fig, ax = plt.subplots(figsize=fsize)\n",
    "plt.title('Рейтинг от размера заголовка: среднее, медиана, стандартное отклонение')\n",
    "plt.xticks(range(0,35,1))\n",
    "plt.yticks(range(0,130,5))\n",
    "plt.grid(alpha=0.35)\n",
    "df_rate_desc = df.groupby('tittle_words_count', observed=True)['rate'].describe()[['mean','50%','std']]\n",
    "sns.lineplot(data=df_rate_desc, palette=\"tab10\", linewidth=2.5);"
   ]
  },
  {
   "cell_type": "markdown",
   "metadata": {},
   "source": [
    "У статей с количеством слов в заголовке от 1-22 средний рейтинг выше 20. А статьи с количеством слов в заголовке 25 и 27 имеют самый низкий средний рейтинг. Максимальный средний рейтинг у статей с количеством слов в заголовке 26 и 30. \n",
    "\n",
    "На первый взгляд кажется, что есть корреляция между количеством слов в заголовке и рейтингом. Но выше мы видели, что статей с количеством слов в заголовке от 20 и выше очень мало."
   ]
  },
  {
   "cell_type": "markdown",
   "metadata": {},
   "source": [
    "У статьей с количеством слов в заголовке до 20 данные скомпанованы, средние показатели и дисперсия +/- на одном уровне Начиная с 22 идут скачки."
   ]
  },
  {
   "cell_type": "markdown",
   "metadata": {},
   "source": [
    "Пики роста показателей, у статей с количеством слов в заголовке 22, 26 и 30. Рост стандартного отклонения говорит о разбросе данных, рос дисперсии, выбросы. При этом медиана у 22 пошла вниз, это говорит о том, что 50% данных скомпановано \"внизу\". У статей с tittle_words_count 25 и 27 наоборот все 3 показателя упали, это говорит о том, что данные находятся в рядом, в \"куче\". Посмотрим на эти стать подробнее.\n"
   ]
  },
  {
   "cell_type": "code",
   "execution_count": 114,
   "metadata": {
    "scrolled": false
   },
   "outputs": [
    {
     "data": {
      "image/png": "[encoded data removed]",
      "text/plain": [
       "<Figure size 864x576 with 1 Axes>"
      ]
     },
     "metadata": {
      "needs_background": "light"
     },
     "output_type": "display_data"
    }
   ],
   "source": [
    "rc_colors = {-1:'red',0:'orange',1:'green'}\n",
    "fsize = (12, 8)\n",
    "fig, ax = plt.subplots(figsize=fsize)\n",
    "plt.title('')\n",
    "plt.yticks(range(-10,350,10))\n",
    "plt.grid(alpha=0.5)\n",
    "plt.scatter(twc_21_df['tittle_words_count'],twc_21_df['rate'],color=twc_21_df['rate_category'].map(rc_colors));"
   ]
  },
  {
   "cell_type": "code",
   "execution_count": 93,
   "metadata": {},
   "outputs": [],
   "source": [
    "twc_21_df=df[df['tittle_words_count']>21]\n",
    "twc_21_count = twc_21_df['tittle_words_count'].value_counts().count()\n",
    "nrows = 3\n",
    "twc_21_list = list(twc_21_df['tittle_words_count'].value_counts().index)"
   ]
  },
  {
   "cell_type": "code",
   "execution_count": 116,
   "metadata": {
    "scrolled": false
   },
   "outputs": [
    {
     "data": {
      "image/png": "[encoded data removed]",
      "text/plain": [
       "<Figure size 1152x864 with 9 Axes>"
      ]
     },
     "metadata": {
      "needs_background": "light"
     },
     "output_type": "display_data"
    }
   ],
   "source": [
    "fig, ax = plt.subplots(nrows=nrows, ncols=ceil(twc_21_count/nrows), figsize=(16, 12))\n",
    "i=0\n",
    "for row, row_axes in enumerate(ax):\n",
    "    for column, ax in enumerate(row_axes):\n",
    "        ax.grid(alpha=0.35)\n",
    "        twc_21_df_data=twc_21_df[twc_21_df['tittle_words_count']==twc_21_list[i]]\n",
    "        ax.scatter(x='text_words_count',y='rate',data=twc_21_df_data,color=twc_21_df_data['rate_category'].map(rc_colors))\n",
    "        ax.set_title('Количество слов в заголовке {}'.format(twc_21_list[i]))\n",
    "        if i==twc_21_count-1:\n",
    "            break\n",
    "        i+=1"
   ]
  },
  {
   "cell_type": "code",
   "execution_count": 117,
   "metadata": {},
   "outputs": [
    {
     "data": {
      "text/plain": [
       "22    39\n",
       "24    18\n",
       "23    16\n",
       "27    10\n",
       "26     6\n",
       "25     6\n",
       "30     3\n",
       "Name: tittle_words_count, dtype: int64"
      ]
     },
     "execution_count": 117,
     "metadata": {},
     "output_type": "execute_result"
    }
   ],
   "source": [
    "df[df['tittle_words_count']>21]['tittle_words_count'].value_counts()"
   ]
  },
  {
   "cell_type": "markdown",
   "metadata": {},
   "source": [
    "Статей, со словами в заголовке от 22 очень мало, по сравнению с общим количеством."
   ]
  },
  {
   "cell_type": "markdown",
   "metadata": {},
   "source": [
    "Пострим в целом на количество статей в зависимости от количества слов в заголовке"
   ]
  },
  {
   "cell_type": "code",
   "execution_count": 103,
   "metadata": {
    "scrolled": false
   },
   "outputs": [
    {
     "data": {
      "image/png": "[encoded data removed]",
      "text/plain": [
       "<Figure size 864x432 with 1 Axes>"
      ]
     },
     "metadata": {
      "needs_background": "light"
     },
     "output_type": "display_data"
    }
   ],
   "source": [
    "df_twc=df['tittle_words_count'].value_counts(normalize=False).rename('count').reset_index()\n",
    "df_twc.rename({'index':'tittle_words_count'}, axis='columns',inplace=True)\n",
    "\n",
    "fsize = (12, 6)\n",
    "fig, ax = plt.subplots(figsize=fsize)    \n",
    "plt.title('Количество статей от количества слов в заголовке')\n",
    "sns.barplot(x='tittle_words_count', y='count', data=df_twc);"
   ]
  },
  {
   "cell_type": "code",
   "execution_count": 217,
   "metadata": {
    "scrolled": true
   },
   "outputs": [
    {
     "data": {
      "image/png": "[encoded data removed]",
      "text/plain": [
       "<Figure size 432x288 with 1 Axes>"
      ]
     },
     "metadata": {
      "needs_background": "light"
     },
     "output_type": "display_data"
    }
   ],
   "source": [
    "df_twc=df['tittle_words_count'].value_counts(normalize=True).rename('percent').reset_index()\n",
    "df_twc.rename({'index':'tittle_words_count'}, axis='columns',inplace=True)\n",
    "\n",
    "plt.title('Менее 1% от общего количества статей')\n",
    "sns.barplot(x='tittle_words_count', y='percent',data=df_twc[df_twc['percent']<0.01]);\n"
   ]
  },
  {
   "cell_type": "markdown",
   "metadata": {},
   "source": [
    "Возможно их следует вообще исключить из общей выборки для обучения или попробовать проанализировать глубже и возможно выдернуть уникальные признаки."
   ]
  },
  {
   "cell_type": "markdown",
   "metadata": {},
   "source": [
    "В целом, корреляция рейтинга с количеством слов в заголовке статьи низкая:"
   ]
  },
  {
   "cell_type": "code",
   "execution_count": 137,
   "metadata": {},
   "outputs": [
    {
     "data": {
      "text/html": [
       "<div>\n",
       "<style scoped>\n",
       "    .dataframe tbody tr th:only-of-type {\n",
       "        vertical-align: middle;\n",
       "    }\n",
       "\n",
       "    .dataframe tbody tr th {\n",
       "        vertical-align: top;\n",
       "    }\n",
       "\n",
       "    .dataframe thead th {\n",
       "        text-align: right;\n",
       "    }\n",
       "</style>\n",
       "<table border=\"1\" class=\"dataframe\">\n",
       "  <thead>\n",
       "    <tr style=\"text-align: right;\">\n",
       "      <th></th>\n",
       "      <th>rate</th>\n",
       "      <th>tittle_words_count</th>\n",
       "    </tr>\n",
       "  </thead>\n",
       "  <tbody>\n",
       "    <tr>\n",
       "      <td>rate</td>\n",
       "      <td>1.000000</td>\n",
       "      <td>-0.036737</td>\n",
       "    </tr>\n",
       "    <tr>\n",
       "      <td>tittle_words_count</td>\n",
       "      <td>-0.036737</td>\n",
       "      <td>1.000000</td>\n",
       "    </tr>\n",
       "  </tbody>\n",
       "</table>\n",
       "</div>"
      ],
      "text/plain": [
       "                        rate  tittle_words_count\n",
       "rate                1.000000           -0.036737\n",
       "tittle_words_count -0.036737            1.000000"
      ]
     },
     "execution_count": 137,
     "metadata": {},
     "output_type": "execute_result"
    }
   ],
   "source": [
    "df[['rate', 'tittle_words_count']].corr()"
   ]
  },
  {
   "cell_type": "markdown",
   "metadata": {},
   "source": [
    "Если убрать статьи, которых по количеству слов в заголовке, менее 1% от общего числа статей, то корреляция возрастет не значительно:"
   ]
  },
  {
   "cell_type": "code",
   "execution_count": 133,
   "metadata": {},
   "outputs": [
    {
     "data": {
      "text/html": [
       "<div>\n",
       "<style scoped>\n",
       "    .dataframe tbody tr th:only-of-type {\n",
       "        vertical-align: middle;\n",
       "    }\n",
       "\n",
       "    .dataframe tbody tr th {\n",
       "        vertical-align: top;\n",
       "    }\n",
       "\n",
       "    .dataframe thead th {\n",
       "        text-align: right;\n",
       "    }\n",
       "</style>\n",
       "<table border=\"1\" class=\"dataframe\">\n",
       "  <thead>\n",
       "    <tr style=\"text-align: right;\">\n",
       "      <th></th>\n",
       "      <th>rate</th>\n",
       "      <th>tittle_words_count</th>\n",
       "    </tr>\n",
       "  </thead>\n",
       "  <tbody>\n",
       "    <tr>\n",
       "      <td>rate</td>\n",
       "      <td>1.000000</td>\n",
       "      <td>-0.041582</td>\n",
       "    </tr>\n",
       "    <tr>\n",
       "      <td>tittle_words_count</td>\n",
       "      <td>-0.041582</td>\n",
       "      <td>1.000000</td>\n",
       "    </tr>\n",
       "  </tbody>\n",
       "</table>\n",
       "</div>"
      ],
      "text/plain": [
       "                        rate  tittle_words_count\n",
       "rate                1.000000           -0.041582\n",
       "tittle_words_count -0.041582            1.000000"
      ]
     },
     "execution_count": 133,
     "metadata": {},
     "output_type": "execute_result"
    }
   ],
   "source": [
    "df[~df['rate'].isin(df_twc[df_twc['percent']<0.01]['tittle_words_count'])][['rate', 'tittle_words_count']].corr()"
   ]
  },
  {
   "cell_type": "markdown",
   "metadata": {},
   "source": [
    "Не линейнай корреляция будет рассмотрена ниже."
   ]
  },
  {
   "cell_type": "markdown",
   "metadata": {},
   "source": [
    " "
   ]
  },
  {
   "cell_type": "markdown",
   "metadata": {},
   "source": [
    "##### Посмотрим на рейтинг статей в зависимости от размера статьи"
   ]
  },
  {
   "cell_type": "code",
   "execution_count": 337,
   "metadata": {},
   "outputs": [
    {
     "name": "stdout",
     "output_type": "stream",
     "text": [
      "Таблица категорий рамера статьи:\n"
     ]
    },
    {
     "data": {
      "text/html": [
       "<div>\n",
       "<style scoped>\n",
       "    .dataframe tbody tr th:only-of-type {\n",
       "        vertical-align: middle;\n",
       "    }\n",
       "\n",
       "    .dataframe tbody tr th {\n",
       "        vertical-align: top;\n",
       "    }\n",
       "\n",
       "    .dataframe thead th {\n",
       "        text-align: right;\n",
       "    }\n",
       "</style>\n",
       "<table border=\"1\" class=\"dataframe\">\n",
       "  <thead>\n",
       "    <tr style=\"text-align: right;\">\n",
       "      <th></th>\n",
       "      <th>0</th>\n",
       "      <th>1</th>\n",
       "      <th>2</th>\n",
       "      <th>3</th>\n",
       "      <th>4</th>\n",
       "    </tr>\n",
       "  </thead>\n",
       "  <tbody>\n",
       "    <tr>\n",
       "      <td>0</td>\n",
       "      <td>0</td>\n",
       "      <td>&lt;209</td>\n",
       "      <td>&lt;513</td>\n",
       "      <td>&lt;1053</td>\n",
       "      <td>&lt;193861</td>\n",
       "    </tr>\n",
       "  </tbody>\n",
       "</table>\n",
       "</div>"
      ],
      "text/plain": [
       "   0     1     2      3        4\n",
       "0  0  <209  <513  <1053  <193861"
      ]
     },
     "execution_count": 337,
     "metadata": {},
     "output_type": "execute_result"
    }
   ],
   "source": [
    "print('Таблица категорий рамера статьи:')\n",
    "df_tc_legend"
   ]
  },
  {
   "cell_type": "code",
   "execution_count": 125,
   "metadata": {
    "scrolled": false
   },
   "outputs": [
    {
     "data": {
      "image/png": "[encoded data removed]",
      "text/plain": [
       "<Figure size 1152x576 with 1 Axes>"
      ]
     },
     "metadata": {
      "needs_background": "light"
     },
     "output_type": "display_data"
    }
   ],
   "source": [
    "colors = {'0':'blue','1':'orange','2':'green','3':'red','4':'violet'}\n",
    "fsize = (16, 8)\n",
    "fig, ax = plt.subplots(figsize=fsize)\n",
    "plt.title('')\n",
    "ax.set_xlim(0,20000)\n",
    "plt.scatter(df['text_words_count'],df['rate'],\\\n",
    "           color=df['text_category'].map(colors));"
   ]
  },
  {
   "cell_type": "code",
   "execution_count": 129,
   "metadata": {},
   "outputs": [
    {
     "data": {
      "image/png": "[encoded data removed]",
      "text/plain": [
       "<Figure size 1152x576 with 4 Axes>"
      ]
     },
     "metadata": {
      "needs_background": "light"
     },
     "output_type": "display_data"
    }
   ],
   "source": [
    "fig, ax = plt.subplots(nrows=2, ncols=2, figsize=(16, 8))\n",
    "cat=1\n",
    "for row, row_axes in enumerate(ax):\n",
    "    for column, ax in enumerate(row_axes):\n",
    "        ax.grid(alpha=0.35)\n",
    "        if cat==4:\n",
    "            ax.set_xlim(0,20000)\n",
    "        ax.scatter(x='text_words_count',y='rate',data=df[df['text_category']==str(cat)],color=colors[str(cat)]);\n",
    "        ax.set_title('Рейтинг от категории {}'.format(cat))\n",
    "        cat+=1"
   ]
  },
  {
   "cell_type": "markdown",
   "metadata": {},
   "source": [
    "Рейтинг самых больших статей (категория 4) снижается в зависимости от количества слов, в отличии от других категорий, где рейтинг распределен более равномерно по всему диапозону. Так же диапазон количества слов в 4 категории значительно более растянут и диапозон рейтинга более широкий. "
   ]
  },
  {
   "cell_type": "code",
   "execution_count": 429,
   "metadata": {
    "scrolled": true
   },
   "outputs": [
    {
     "data": {
      "image/png": "[encoded data removed]",
      "text/plain": [
       "<Figure size 1080x360 with 1 Axes>"
      ]
     },
     "metadata": {
      "needs_background": "light"
     },
     "output_type": "display_data"
    }
   ],
   "source": [
    "fsize = (15, 5)\n",
    "fig, ax = plt.subplots(figsize=fsize)\n",
    "ax.set_ylim(-40,100)\n",
    "plt.yticks(range(-40, 100, 10))\n",
    "plt.title('Распределение рейтинга от размера статьи (без выбросов).')\n",
    "sns.boxplot(y='rate',x='text_category',data=df);"
   ]
  },
  {
   "cell_type": "code",
   "execution_count": 224,
   "metadata": {},
   "outputs": [
    {
     "data": {
      "image/png": "[encoded data removed]",
      "text/plain": [
       "<Figure size 432x288 with 1 Axes>"
      ]
     },
     "metadata": {
      "needs_background": "light"
     },
     "output_type": "display_data"
    }
   ],
   "source": [
    "plt.title('Средний рейтинг от количества слов в статье.')\n",
    "sns.barplot(x='text_category', y='rate_avg', \\\n",
    "            data=df.groupby('text_category')['rate'].mean().\\\n",
    "                                            rename('rate_avg').reset_index());"
   ]
  },
  {
   "cell_type": "code",
   "execution_count": 22,
   "metadata": {},
   "outputs": [
    {
     "data": {
      "text/html": [
       "<div>\n",
       "<style scoped>\n",
       "    .dataframe tbody tr th:only-of-type {\n",
       "        vertical-align: middle;\n",
       "    }\n",
       "\n",
       "    .dataframe tbody tr th {\n",
       "        vertical-align: top;\n",
       "    }\n",
       "\n",
       "    .dataframe thead th {\n",
       "        text-align: right;\n",
       "    }\n",
       "</style>\n",
       "<table border=\"1\" class=\"dataframe\">\n",
       "  <thead>\n",
       "    <tr style=\"text-align: right;\">\n",
       "      <th></th>\n",
       "      <th>count</th>\n",
       "      <th>mean</th>\n",
       "      <th>std</th>\n",
       "      <th>min</th>\n",
       "      <th>25%</th>\n",
       "      <th>50%</th>\n",
       "      <th>75%</th>\n",
       "      <th>max</th>\n",
       "    </tr>\n",
       "    <tr>\n",
       "      <th>text_category</th>\n",
       "      <th></th>\n",
       "      <th></th>\n",
       "      <th></th>\n",
       "      <th></th>\n",
       "      <th></th>\n",
       "      <th></th>\n",
       "      <th></th>\n",
       "      <th></th>\n",
       "    </tr>\n",
       "  </thead>\n",
       "  <tbody>\n",
       "    <tr>\n",
       "      <td>1</td>\n",
       "      <td>52139.0</td>\n",
       "      <td>19.234431</td>\n",
       "      <td>31.267523</td>\n",
       "      <td>-183.0</td>\n",
       "      <td>2.0</td>\n",
       "      <td>10.0</td>\n",
       "      <td>27.0</td>\n",
       "      <td>685.0</td>\n",
       "    </tr>\n",
       "    <tr>\n",
       "      <td>2</td>\n",
       "      <td>52113.0</td>\n",
       "      <td>22.384165</td>\n",
       "      <td>32.224955</td>\n",
       "      <td>-143.0</td>\n",
       "      <td>5.0</td>\n",
       "      <td>13.0</td>\n",
       "      <td>29.0</td>\n",
       "      <td>1448.0</td>\n",
       "    </tr>\n",
       "    <tr>\n",
       "      <td>3</td>\n",
       "      <td>52284.0</td>\n",
       "      <td>24.338306</td>\n",
       "      <td>32.997321</td>\n",
       "      <td>-147.0</td>\n",
       "      <td>7.0</td>\n",
       "      <td>15.0</td>\n",
       "      <td>30.0</td>\n",
       "      <td>611.0</td>\n",
       "    </tr>\n",
       "    <tr>\n",
       "      <td>4</td>\n",
       "      <td>52218.0</td>\n",
       "      <td>31.508886</td>\n",
       "      <td>41.241470</td>\n",
       "      <td>-182.0</td>\n",
       "      <td>10.0</td>\n",
       "      <td>19.0</td>\n",
       "      <td>38.0</td>\n",
       "      <td>1154.0</td>\n",
       "    </tr>\n",
       "  </tbody>\n",
       "</table>\n",
       "</div>"
      ],
      "text/plain": [
       "                 count       mean        std    min   25%   50%   75%     max\n",
       "text_category                                                                \n",
       "1              52139.0  19.234431  31.267523 -183.0   2.0  10.0  27.0   685.0\n",
       "2              52113.0  22.384165  32.224955 -143.0   5.0  13.0  29.0  1448.0\n",
       "3              52284.0  24.338306  32.997321 -147.0   7.0  15.0  30.0   611.0\n",
       "4              52218.0  31.508886  41.241470 -182.0  10.0  19.0  38.0  1154.0"
      ]
     },
     "execution_count": 22,
     "metadata": {},
     "output_type": "execute_result"
    }
   ],
   "source": [
    "df.groupby('text_category', observed=True)['rate'].describe()"
   ]
  },
  {
   "cell_type": "code",
   "execution_count": 85,
   "metadata": {},
   "outputs": [
    {
     "data": {
      "image/png": "[encoded data removed]",
      "text/plain": [
       "<Figure size 720x360 with 1 Axes>"
      ]
     },
     "metadata": {
      "needs_background": "light"
     },
     "output_type": "display_data"
    }
   ],
   "source": [
    "fsize = (10, 5)\n",
    "fig, ax = plt.subplots(figsize=fsize)\n",
    "plt.title('Рейтинг от размера статьи: среднее, медиана, стандартное отклонение')\n",
    "#plt.xticks(range(0,35,1))\n",
    "#plt.yticks(range(0,130,5))\n",
    "plt.grid(alpha=0.35)\n",
    "df_rate_desc = df.groupby('text_category', observed=True)['rate'].describe()[['mean','50%','std']]\n",
    "sns.lineplot(data=df_rate_desc, palette=\"tab10\", linewidth=2.5);"
   ]
  },
  {
   "cell_type": "markdown",
   "metadata": {},
   "source": [
    "Чем больше по размеру статья, тем выше средний рейтинг. \n",
    "Максимальный рейтинг 2 и 4 категории практически в 2 раза выше чем в 1 и 3."
   ]
  },
  {
   "cell_type": "markdown",
   "metadata": {},
   "source": [
    "Корреляция размера статьи с рейтингом выше в 3 раза, чем корреляции размера заголовка с рейтингов, но все равно она низкая."
   ]
  },
  {
   "cell_type": "code",
   "execution_count": 95,
   "metadata": {},
   "outputs": [
    {
     "data": {
      "text/html": [
       "<div>\n",
       "<style scoped>\n",
       "    .dataframe tbody tr th:only-of-type {\n",
       "        vertical-align: middle;\n",
       "    }\n",
       "\n",
       "    .dataframe tbody tr th {\n",
       "        vertical-align: top;\n",
       "    }\n",
       "\n",
       "    .dataframe thead th {\n",
       "        text-align: right;\n",
       "    }\n",
       "</style>\n",
       "<table border=\"1\" class=\"dataframe\">\n",
       "  <thead>\n",
       "    <tr style=\"text-align: right;\">\n",
       "      <th></th>\n",
       "      <th>rate</th>\n",
       "      <th>text_words_count</th>\n",
       "    </tr>\n",
       "  </thead>\n",
       "  <tbody>\n",
       "    <tr>\n",
       "      <td>rate</td>\n",
       "      <td>1.000000</td>\n",
       "      <td>0.120368</td>\n",
       "    </tr>\n",
       "    <tr>\n",
       "      <td>text_words_count</td>\n",
       "      <td>0.120368</td>\n",
       "      <td>1.000000</td>\n",
       "    </tr>\n",
       "  </tbody>\n",
       "</table>\n",
       "</div>"
      ],
      "text/plain": [
       "                      rate  text_words_count\n",
       "rate              1.000000          0.120368\n",
       "text_words_count  0.120368          1.000000"
      ]
     },
     "execution_count": 95,
     "metadata": {},
     "output_type": "execute_result"
    }
   ],
   "source": [
    "df[['rate', 'text_words_count']].corr()"
   ]
  },
  {
   "cell_type": "markdown",
   "metadata": {},
   "source": [
    "Если взять данные по рейтингу без выбросов, то корреляция немного выше."
   ]
  },
  {
   "cell_type": "code",
   "execution_count": 128,
   "metadata": {},
   "outputs": [
    {
     "ename": "SyntaxError",
     "evalue": "invalid syntax (<ipython-input-128-8fdaecea6724>, line 1)",
     "output_type": "error",
     "traceback": [
      "\u001b[1;36m  File \u001b[1;32m\"<ipython-input-128-8fdaecea6724>\"\u001b[1;36m, line \u001b[1;32m1\u001b[0m\n\u001b[1;33m    Нужно взять рейтинг с учетом интерквартального расстояния\u001b[0m\n\u001b[1;37m              ^\u001b[0m\n\u001b[1;31mSyntaxError\u001b[0m\u001b[1;31m:\u001b[0m invalid syntax\n"
     ]
    }
   ],
   "source": [
    "Нужно взять рейтинг с учетом интерквартального расстояния"
   ]
  },
  {
   "cell_type": "code",
   "execution_count": 126,
   "metadata": {},
   "outputs": [
    {
     "data": {
      "text/plain": [
       "count    208754.000000\n",
       "mean         24.369377\n",
       "std          34.955413\n",
       "min        -183.000000\n",
       "25%           6.000000\n",
       "50%          15.000000\n",
       "75%          31.000000\n",
       "max        1448.000000\n",
       "Name: rate, dtype: float64"
      ]
     },
     "execution_count": 126,
     "metadata": {},
     "output_type": "execute_result"
    }
   ],
   "source": [
    "df['rate'].describe()"
   ]
  },
  {
   "cell_type": "code",
   "execution_count": 127,
   "metadata": {
    "scrolled": true
   },
   "outputs": [
    {
     "data": {
      "text/html": [
       "<div>\n",
       "<style scoped>\n",
       "    .dataframe tbody tr th:only-of-type {\n",
       "        vertical-align: middle;\n",
       "    }\n",
       "\n",
       "    .dataframe tbody tr th {\n",
       "        vertical-align: top;\n",
       "    }\n",
       "\n",
       "    .dataframe thead th {\n",
       "        text-align: right;\n",
       "    }\n",
       "</style>\n",
       "<table border=\"1\" class=\"dataframe\">\n",
       "  <thead>\n",
       "    <tr style=\"text-align: right;\">\n",
       "      <th></th>\n",
       "      <th>rate</th>\n",
       "      <th>text_words_count</th>\n",
       "    </tr>\n",
       "  </thead>\n",
       "  <tbody>\n",
       "    <tr>\n",
       "      <td>rate</td>\n",
       "      <td>1.00000</td>\n",
       "      <td>0.04603</td>\n",
       "    </tr>\n",
       "    <tr>\n",
       "      <td>text_words_count</td>\n",
       "      <td>0.04603</td>\n",
       "      <td>1.00000</td>\n",
       "    </tr>\n",
       "  </tbody>\n",
       "</table>\n",
       "</div>"
      ],
      "text/plain": [
       "                     rate  text_words_count\n",
       "rate              1.00000           0.04603\n",
       "text_words_count  0.04603           1.00000"
      ]
     },
     "execution_count": 127,
     "metadata": {},
     "output_type": "execute_result"
    }
   ],
   "source": [
    "df[(df['rate']>df['rate'].describe()['25%'])& (df['rate']<df['rate'].describe()['75%'])][['rate', 'text_words_count']].corr()"
   ]
  },
  {
   "cell_type": "markdown",
   "metadata": {},
   "source": [
    "Распределение по категориям рейтинга количества статей в зависимости от категории текста:"
   ]
  },
  {
   "cell_type": "code",
   "execution_count": 96,
   "metadata": {
    "scrolled": true
   },
   "outputs": [],
   "source": [
    "dataTC = df.groupby(['text_category'], observed=True)['rate_category'].\\\n",
    "                 value_counts(normalize=True).rename('percent').reset_index().\\\n",
    "                                                     sort_values('text_category')"
   ]
  },
  {
   "cell_type": "code",
   "execution_count": 97,
   "metadata": {},
   "outputs": [
    {
     "data": {
      "image/png": "[encoded data removed]",
      "text/plain": [
       "<Figure size 864x432 with 1 Axes>"
      ]
     },
     "metadata": {
      "needs_background": "light"
     },
     "output_type": "display_data"
    }
   ],
   "source": [
    "fsize = (12, 6)\n",
    "fig, ax = plt.subplots(figsize=fsize)  \n",
    "plt.title('Категории рейтинга в зависимости от размера статьи (%).')\n",
    "sns.barplot(x='text_category', y='percent', hue='rate_category',data=dataTC);"
   ]
  },
  {
   "cell_type": "markdown",
   "metadata": {},
   "source": [
    "Чем больше статья, тем меньше отрицательных и больше положительных оценок. Отрицательных статей всегда больше нейтральных."
   ]
  },
  {
   "cell_type": "code",
   "execution_count": 344,
   "metadata": {
    "scrolled": true
   },
   "outputs": [
    {
     "data": {
      "image/png": "[encoded data removed]",
      "text/plain": [
       "<Figure size 432x288 with 1 Axes>"
      ]
     },
     "metadata": {
      "needs_background": "light"
     },
     "output_type": "display_data"
    }
   ],
   "source": [
    "plt.title('Статьи с отрицательным, нейтральным и положительным рейтином.')\n",
    "sns.countplot(df['rate_category'].map({-1:'-',0:'0',1:'+'}));"
   ]
  },
  {
   "cell_type": "markdown",
   "metadata": {},
   "source": [
    "Статей с положительным рейтингом значительно больше, чем остальных.\n",
    "\n",
    "Средний рейтинг категории:"
   ]
  },
  {
   "cell_type": "code",
   "execution_count": 346,
   "metadata": {},
   "outputs": [
    {
     "data": {
      "text/html": [
       "<div>\n",
       "<style scoped>\n",
       "    .dataframe tbody tr th:only-of-type {\n",
       "        vertical-align: middle;\n",
       "    }\n",
       "\n",
       "    .dataframe tbody tr th {\n",
       "        vertical-align: top;\n",
       "    }\n",
       "\n",
       "    .dataframe thead th {\n",
       "        text-align: right;\n",
       "    }\n",
       "</style>\n",
       "<table border=\"1\" class=\"dataframe\">\n",
       "  <thead>\n",
       "    <tr style=\"text-align: right;\">\n",
       "      <th></th>\n",
       "      <th>rate_category</th>\n",
       "      <th>rate_avg</th>\n",
       "    </tr>\n",
       "  </thead>\n",
       "  <tbody>\n",
       "    <tr>\n",
       "      <td>0</td>\n",
       "      <td>-1</td>\n",
       "      <td>-8.295055</td>\n",
       "    </tr>\n",
       "    <tr>\n",
       "      <td>1</td>\n",
       "      <td>0</td>\n",
       "      <td>0.000000</td>\n",
       "    </tr>\n",
       "    <tr>\n",
       "      <td>2</td>\n",
       "      <td>1</td>\n",
       "      <td>27.494478</td>\n",
       "    </tr>\n",
       "  </tbody>\n",
       "</table>\n",
       "</div>"
      ],
      "text/plain": [
       "   rate_category   rate_avg\n",
       "0             -1  -8.295055\n",
       "1              0   0.000000\n",
       "2              1  27.494478"
      ]
     },
     "execution_count": 346,
     "metadata": {},
     "output_type": "execute_result"
    }
   ],
   "source": [
    "df.groupby('rate_category')['rate'].mean().rename('rate_avg').reset_index()"
   ]
  },
  {
   "cell_type": "markdown",
   "metadata": {},
   "source": [
    " "
   ]
  },
  {
   "cell_type": "code",
   "execution_count": 392,
   "metadata": {},
   "outputs": [],
   "source": [
    "def dataTWC(normalize,title='',twc_treshhold=0):\n",
    "    dataTWC= df[df['tittle_words_count']>=twc_treshhold].groupby(['tittle_words_count'])['rate_category'].\\\n",
    "                                                value_counts(normalize=normalize).rename('count').reset_index()\n",
    "    fsize = (12, 5)\n",
    "    fig, ax = plt.subplots(figsize=fsize)\n",
    "    if twc_treshhold>0:\n",
    "        title = title + ' >'+str(twc_treshhold-1)\n",
    "    if normalize:\n",
    "        title = title + ' (%)'\n",
    "    plt.title(title)\n",
    "    sns.barplot(x='tittle_words_count', y='count', hue='rate_category',data=dataTWC);"
   ]
  },
  {
   "cell_type": "code",
   "execution_count": 378,
   "metadata": {},
   "outputs": [
    {
     "data": {
      "image/png": "[encoded data removed]",
      "text/plain": [
       "<Figure size 864x360 with 1 Axes>"
      ]
     },
     "metadata": {
      "needs_background": "light"
     },
     "output_type": "display_data"
    }
   ],
   "source": [
    "dataTWC(False,'Категории рейтинга от количества слов в заголовке')"
   ]
  },
  {
   "cell_type": "code",
   "execution_count": 379,
   "metadata": {
    "scrolled": true
   },
   "outputs": [
    {
     "data": {
      "image/png": "[encoded data removed]",
      "text/plain": [
       "<Figure size 864x360 with 1 Axes>"
      ]
     },
     "metadata": {
      "needs_background": "light"
     },
     "output_type": "display_data"
    }
   ],
   "source": [
    "dataTWC(True,'Категории рейтинга от количества слов в заголовке')"
   ]
  },
  {
   "cell_type": "code",
   "execution_count": 393,
   "metadata": {
    "scrolled": true
   },
   "outputs": [
    {
     "data": {
      "image/png": "[encoded data removed]",
      "text/plain": [
       "<Figure size 864x360 with 1 Axes>"
      ]
     },
     "metadata": {
      "needs_background": "light"
     },
     "output_type": "display_data"
    }
   ],
   "source": [
    "dataTWC(True,'Категории рейтинга от количества слов в заголовке',23)"
   ]
  },
  {
   "cell_type": "markdown",
   "metadata": {},
   "source": [
    "Для статьей с количеством слов от 23 такое поведение объяснятся малым количеством статей."
   ]
  },
  {
   "cell_type": "markdown",
   "metadata": {},
   "source": [
    " "
   ]
  },
  {
   "cell_type": "code",
   "execution_count": null,
   "metadata": {},
   "outputs": [],
   "source": [
    "fsize = (12, 6)\n",
    "fig, ax = plt.subplots(figsize=fsize)   \n",
    "plt.scatter(df['tittle_words_count'],df['rate'],\\\n",
    "           color=df['text_category'].map({'0':'blue','1':'orange',\\\n",
    "                                          '2':'green','3':'red','4':'violet'}));"
   ]
  },
  {
   "cell_type": "code",
   "execution_count": 396,
   "metadata": {},
   "outputs": [],
   "source": [
    "plt.scatter?"
   ]
  },
  {
   "cell_type": "code",
   "execution_count": 213,
   "metadata": {},
   "outputs": [
    {
     "data": {
      "image/png": "[encoded data removed]",
      "text/plain": [
       "<Figure size 360x360 with 1 Axes>"
      ]
     },
     "metadata": {
      "needs_background": "light"
     },
     "output_type": "display_data"
    }
   ],
   "source": [
    "sns.lmplot(x='text_words_count', y='tittle_words_count', data=df);"
   ]
  },
  {
   "cell_type": "code",
   "execution_count": 214,
   "metadata": {},
   "outputs": [
    {
     "data": {
      "text/html": [
       "<div>\n",
       "<style scoped>\n",
       "    .dataframe tbody tr th:only-of-type {\n",
       "        vertical-align: middle;\n",
       "    }\n",
       "\n",
       "    .dataframe tbody tr th {\n",
       "        vertical-align: top;\n",
       "    }\n",
       "\n",
       "    .dataframe thead th {\n",
       "        text-align: right;\n",
       "    }\n",
       "</style>\n",
       "<table border=\"1\" class=\"dataframe\">\n",
       "  <thead>\n",
       "    <tr style=\"text-align: right;\">\n",
       "      <th></th>\n",
       "      <th>rate</th>\n",
       "      <th>text_words_count</th>\n",
       "      <th>tittle_words_count</th>\n",
       "    </tr>\n",
       "  </thead>\n",
       "  <tbody>\n",
       "    <tr>\n",
       "      <td>rate</td>\n",
       "      <td>1.000000</td>\n",
       "      <td>0.120368</td>\n",
       "      <td>-0.036737</td>\n",
       "    </tr>\n",
       "    <tr>\n",
       "      <td>text_words_count</td>\n",
       "      <td>0.120368</td>\n",
       "      <td>1.000000</td>\n",
       "      <td>0.111935</td>\n",
       "    </tr>\n",
       "    <tr>\n",
       "      <td>tittle_words_count</td>\n",
       "      <td>-0.036737</td>\n",
       "      <td>0.111935</td>\n",
       "      <td>1.000000</td>\n",
       "    </tr>\n",
       "  </tbody>\n",
       "</table>\n",
       "</div>"
      ],
      "text/plain": [
       "                        rate  text_words_count  tittle_words_count\n",
       "rate                1.000000          0.120368           -0.036737\n",
       "text_words_count    0.120368          1.000000            0.111935\n",
       "tittle_words_count -0.036737          0.111935            1.000000"
      ]
     },
     "execution_count": 214,
     "metadata": {},
     "output_type": "execute_result"
    }
   ],
   "source": [
    "df[['rate','text_words_count','tittle_words_count']].corr(method='pearson')"
   ]
  },
  {
   "cell_type": "code",
   "execution_count": 215,
   "metadata": {
    "scrolled": true
   },
   "outputs": [
    {
     "data": {
      "image/png": "[encoded data removed]",
      "text/plain": [
       "<Figure size 432x288 with 2 Axes>"
      ]
     },
     "metadata": {
      "needs_background": "light"
     },
     "output_type": "display_data"
    }
   ],
   "source": [
    "sns.heatmap(df[['rate','text_words_count','tittle_words_count']].corr(method='pearson'));"
   ]
  },
  {
   "cell_type": "markdown",
   "metadata": {},
   "source": [
    "Какой то явной корреляции не видно. Есть небольшая зависимость длины слов в статье с рейтингом."
   ]
  },
  {
   "cell_type": "markdown",
   "metadata": {},
   "source": [
    "Графики распределения всех фич"
   ]
  },
  {
   "cell_type": "code",
   "execution_count": 21,
   "metadata": {
    "scrolled": true
   },
   "outputs": [
    {
     "ename": "TypeError",
     "evalue": "cannot astype a datetimelike from [datetime64[ns]] to [float64]",
     "output_type": "error",
     "traceback": [
      "\u001b[1;31m---------------------------------------------------------------------------\u001b[0m",
      "\u001b[1;31mTypeError\u001b[0m                                 Traceback (most recent call last)",
      "\u001b[1;32m<ipython-input-21-f009183c9b48>\u001b[0m in \u001b[0;36m<module>\u001b[1;34m\u001b[0m\n\u001b[1;32m----> 1\u001b[1;33m \u001b[0msnsplot\u001b[0m \u001b[1;33m=\u001b[0m \u001b[0msns\u001b[0m\u001b[1;33m.\u001b[0m\u001b[0mkdeplot\u001b[0m\u001b[1;33m(\u001b[0m\u001b[0mdf\u001b[0m\u001b[1;33m,\u001b[0m \u001b[0mshade\u001b[0m\u001b[1;33m=\u001b[0m\u001b[1;32mTrue\u001b[0m\u001b[1;33m)\u001b[0m\u001b[1;33m\u001b[0m\u001b[1;33m\u001b[0m\u001b[0m\n\u001b[0m",
      "\u001b[1;32m~\\Anaconda3\\lib\\site-packages\\seaborn\\distributions.py\u001b[0m in \u001b[0;36mkdeplot\u001b[1;34m(data, data2, shade, vertical, kernel, bw, gridsize, cut, clip, legend, cumulative, shade_lowest, cbar, cbar_ax, cbar_kws, ax, **kwargs)\u001b[0m\n\u001b[0;32m    651\u001b[0m         \u001b[1;32mreturn\u001b[0m \u001b[0max\u001b[0m\u001b[1;33m\u001b[0m\u001b[1;33m\u001b[0m\u001b[0m\n\u001b[0;32m    652\u001b[0m \u001b[1;33m\u001b[0m\u001b[0m\n\u001b[1;32m--> 653\u001b[1;33m     \u001b[0mdata\u001b[0m \u001b[1;33m=\u001b[0m \u001b[0mdata\u001b[0m\u001b[1;33m.\u001b[0m\u001b[0mastype\u001b[0m\u001b[1;33m(\u001b[0m\u001b[0mnp\u001b[0m\u001b[1;33m.\u001b[0m\u001b[0mfloat64\u001b[0m\u001b[1;33m)\u001b[0m\u001b[1;33m\u001b[0m\u001b[1;33m\u001b[0m\u001b[0m\n\u001b[0m\u001b[0;32m    654\u001b[0m     \u001b[1;32mif\u001b[0m \u001b[0mdata2\u001b[0m \u001b[1;32mis\u001b[0m \u001b[1;32mnot\u001b[0m \u001b[1;32mNone\u001b[0m\u001b[1;33m:\u001b[0m\u001b[1;33m\u001b[0m\u001b[1;33m\u001b[0m\u001b[0m\n\u001b[0;32m    655\u001b[0m         \u001b[1;32mif\u001b[0m \u001b[0misinstance\u001b[0m\u001b[1;33m(\u001b[0m\u001b[0mdata2\u001b[0m\u001b[1;33m,\u001b[0m \u001b[0mlist\u001b[0m\u001b[1;33m)\u001b[0m\u001b[1;33m:\u001b[0m\u001b[1;33m\u001b[0m\u001b[1;33m\u001b[0m\u001b[0m\n",
      "\u001b[1;32m~\\Anaconda3\\lib\\site-packages\\pandas\\core\\generic.py\u001b[0m in \u001b[0;36mastype\u001b[1;34m(self, dtype, copy, errors, **kwargs)\u001b[0m\n\u001b[0;32m   5880\u001b[0m             \u001b[1;31m# else, only a single dtype is given\u001b[0m\u001b[1;33m\u001b[0m\u001b[1;33m\u001b[0m\u001b[1;33m\u001b[0m\u001b[0m\n\u001b[0;32m   5881\u001b[0m             new_data = self._data.astype(\n\u001b[1;32m-> 5882\u001b[1;33m                 \u001b[0mdtype\u001b[0m\u001b[1;33m=\u001b[0m\u001b[0mdtype\u001b[0m\u001b[1;33m,\u001b[0m \u001b[0mcopy\u001b[0m\u001b[1;33m=\u001b[0m\u001b[0mcopy\u001b[0m\u001b[1;33m,\u001b[0m \u001b[0merrors\u001b[0m\u001b[1;33m=\u001b[0m\u001b[0merrors\u001b[0m\u001b[1;33m,\u001b[0m \u001b[1;33m**\u001b[0m\u001b[0mkwargs\u001b[0m\u001b[1;33m\u001b[0m\u001b[1;33m\u001b[0m\u001b[0m\n\u001b[0m\u001b[0;32m   5883\u001b[0m             )\n\u001b[0;32m   5884\u001b[0m             \u001b[1;32mreturn\u001b[0m \u001b[0mself\u001b[0m\u001b[1;33m.\u001b[0m\u001b[0m_constructor\u001b[0m\u001b[1;33m(\u001b[0m\u001b[0mnew_data\u001b[0m\u001b[1;33m)\u001b[0m\u001b[1;33m.\u001b[0m\u001b[0m__finalize__\u001b[0m\u001b[1;33m(\u001b[0m\u001b[0mself\u001b[0m\u001b[1;33m)\u001b[0m\u001b[1;33m\u001b[0m\u001b[1;33m\u001b[0m\u001b[0m\n",
      "\u001b[1;32m~\\Anaconda3\\lib\\site-packages\\pandas\\core\\internals\\managers.py\u001b[0m in \u001b[0;36mastype\u001b[1;34m(self, dtype, **kwargs)\u001b[0m\n\u001b[0;32m    579\u001b[0m \u001b[1;33m\u001b[0m\u001b[0m\n\u001b[0;32m    580\u001b[0m     \u001b[1;32mdef\u001b[0m \u001b[0mastype\u001b[0m\u001b[1;33m(\u001b[0m\u001b[0mself\u001b[0m\u001b[1;33m,\u001b[0m \u001b[0mdtype\u001b[0m\u001b[1;33m,\u001b[0m \u001b[1;33m**\u001b[0m\u001b[0mkwargs\u001b[0m\u001b[1;33m)\u001b[0m\u001b[1;33m:\u001b[0m\u001b[1;33m\u001b[0m\u001b[1;33m\u001b[0m\u001b[0m\n\u001b[1;32m--> 581\u001b[1;33m         \u001b[1;32mreturn\u001b[0m \u001b[0mself\u001b[0m\u001b[1;33m.\u001b[0m\u001b[0mapply\u001b[0m\u001b[1;33m(\u001b[0m\u001b[1;34m\"astype\"\u001b[0m\u001b[1;33m,\u001b[0m \u001b[0mdtype\u001b[0m\u001b[1;33m=\u001b[0m\u001b[0mdtype\u001b[0m\u001b[1;33m,\u001b[0m \u001b[1;33m**\u001b[0m\u001b[0mkwargs\u001b[0m\u001b[1;33m)\u001b[0m\u001b[1;33m\u001b[0m\u001b[1;33m\u001b[0m\u001b[0m\n\u001b[0m\u001b[0;32m    582\u001b[0m \u001b[1;33m\u001b[0m\u001b[0m\n\u001b[0;32m    583\u001b[0m     \u001b[1;32mdef\u001b[0m \u001b[0mconvert\u001b[0m\u001b[1;33m(\u001b[0m\u001b[0mself\u001b[0m\u001b[1;33m,\u001b[0m \u001b[1;33m**\u001b[0m\u001b[0mkwargs\u001b[0m\u001b[1;33m)\u001b[0m\u001b[1;33m:\u001b[0m\u001b[1;33m\u001b[0m\u001b[1;33m\u001b[0m\u001b[0m\n",
      "\u001b[1;32m~\\Anaconda3\\lib\\site-packages\\pandas\\core\\internals\\managers.py\u001b[0m in \u001b[0;36mapply\u001b[1;34m(self, f, axes, filter, do_integrity_check, consolidate, **kwargs)\u001b[0m\n\u001b[0;32m    436\u001b[0m                     \u001b[0mkwargs\u001b[0m\u001b[1;33m[\u001b[0m\u001b[0mk\u001b[0m\u001b[1;33m]\u001b[0m \u001b[1;33m=\u001b[0m \u001b[0mobj\u001b[0m\u001b[1;33m.\u001b[0m\u001b[0mreindex\u001b[0m\u001b[1;33m(\u001b[0m\u001b[0mb_items\u001b[0m\u001b[1;33m,\u001b[0m \u001b[0maxis\u001b[0m\u001b[1;33m=\u001b[0m\u001b[0maxis\u001b[0m\u001b[1;33m,\u001b[0m \u001b[0mcopy\u001b[0m\u001b[1;33m=\u001b[0m\u001b[0malign_copy\u001b[0m\u001b[1;33m)\u001b[0m\u001b[1;33m\u001b[0m\u001b[1;33m\u001b[0m\u001b[0m\n\u001b[0;32m    437\u001b[0m \u001b[1;33m\u001b[0m\u001b[0m\n\u001b[1;32m--> 438\u001b[1;33m             \u001b[0mapplied\u001b[0m \u001b[1;33m=\u001b[0m \u001b[0mgetattr\u001b[0m\u001b[1;33m(\u001b[0m\u001b[0mb\u001b[0m\u001b[1;33m,\u001b[0m \u001b[0mf\u001b[0m\u001b[1;33m)\u001b[0m\u001b[1;33m(\u001b[0m\u001b[1;33m**\u001b[0m\u001b[0mkwargs\u001b[0m\u001b[1;33m)\u001b[0m\u001b[1;33m\u001b[0m\u001b[1;33m\u001b[0m\u001b[0m\n\u001b[0m\u001b[0;32m    439\u001b[0m             \u001b[0mresult_blocks\u001b[0m \u001b[1;33m=\u001b[0m \u001b[0m_extend_blocks\u001b[0m\u001b[1;33m(\u001b[0m\u001b[0mapplied\u001b[0m\u001b[1;33m,\u001b[0m \u001b[0mresult_blocks\u001b[0m\u001b[1;33m)\u001b[0m\u001b[1;33m\u001b[0m\u001b[1;33m\u001b[0m\u001b[0m\n\u001b[0;32m    440\u001b[0m \u001b[1;33m\u001b[0m\u001b[0m\n",
      "\u001b[1;32m~\\Anaconda3\\lib\\site-packages\\pandas\\core\\internals\\blocks.py\u001b[0m in \u001b[0;36mastype\u001b[1;34m(self, dtype, copy, errors, values, **kwargs)\u001b[0m\n\u001b[0;32m    557\u001b[0m \u001b[1;33m\u001b[0m\u001b[0m\n\u001b[0;32m    558\u001b[0m     \u001b[1;32mdef\u001b[0m \u001b[0mastype\u001b[0m\u001b[1;33m(\u001b[0m\u001b[0mself\u001b[0m\u001b[1;33m,\u001b[0m \u001b[0mdtype\u001b[0m\u001b[1;33m,\u001b[0m \u001b[0mcopy\u001b[0m\u001b[1;33m=\u001b[0m\u001b[1;32mFalse\u001b[0m\u001b[1;33m,\u001b[0m \u001b[0merrors\u001b[0m\u001b[1;33m=\u001b[0m\u001b[1;34m\"raise\"\u001b[0m\u001b[1;33m,\u001b[0m \u001b[0mvalues\u001b[0m\u001b[1;33m=\u001b[0m\u001b[1;32mNone\u001b[0m\u001b[1;33m,\u001b[0m \u001b[1;33m**\u001b[0m\u001b[0mkwargs\u001b[0m\u001b[1;33m)\u001b[0m\u001b[1;33m:\u001b[0m\u001b[1;33m\u001b[0m\u001b[1;33m\u001b[0m\u001b[0m\n\u001b[1;32m--> 559\u001b[1;33m         \u001b[1;32mreturn\u001b[0m \u001b[0mself\u001b[0m\u001b[1;33m.\u001b[0m\u001b[0m_astype\u001b[0m\u001b[1;33m(\u001b[0m\u001b[0mdtype\u001b[0m\u001b[1;33m,\u001b[0m \u001b[0mcopy\u001b[0m\u001b[1;33m=\u001b[0m\u001b[0mcopy\u001b[0m\u001b[1;33m,\u001b[0m \u001b[0merrors\u001b[0m\u001b[1;33m=\u001b[0m\u001b[0merrors\u001b[0m\u001b[1;33m,\u001b[0m \u001b[0mvalues\u001b[0m\u001b[1;33m=\u001b[0m\u001b[0mvalues\u001b[0m\u001b[1;33m,\u001b[0m \u001b[1;33m**\u001b[0m\u001b[0mkwargs\u001b[0m\u001b[1;33m)\u001b[0m\u001b[1;33m\u001b[0m\u001b[1;33m\u001b[0m\u001b[0m\n\u001b[0m\u001b[0;32m    560\u001b[0m \u001b[1;33m\u001b[0m\u001b[0m\n\u001b[0;32m    561\u001b[0m     \u001b[1;32mdef\u001b[0m \u001b[0m_astype\u001b[0m\u001b[1;33m(\u001b[0m\u001b[0mself\u001b[0m\u001b[1;33m,\u001b[0m \u001b[0mdtype\u001b[0m\u001b[1;33m,\u001b[0m \u001b[0mcopy\u001b[0m\u001b[1;33m=\u001b[0m\u001b[1;32mFalse\u001b[0m\u001b[1;33m,\u001b[0m \u001b[0merrors\u001b[0m\u001b[1;33m=\u001b[0m\u001b[1;34m\"raise\"\u001b[0m\u001b[1;33m,\u001b[0m \u001b[0mvalues\u001b[0m\u001b[1;33m=\u001b[0m\u001b[1;32mNone\u001b[0m\u001b[1;33m,\u001b[0m \u001b[1;33m**\u001b[0m\u001b[0mkwargs\u001b[0m\u001b[1;33m)\u001b[0m\u001b[1;33m:\u001b[0m\u001b[1;33m\u001b[0m\u001b[1;33m\u001b[0m\u001b[0m\n",
      "\u001b[1;32m~\\Anaconda3\\lib\\site-packages\\pandas\\core\\internals\\blocks.py\u001b[0m in \u001b[0;36m_astype\u001b[1;34m(self, dtype, **kwargs)\u001b[0m\n\u001b[0;32m   2248\u001b[0m \u001b[1;33m\u001b[0m\u001b[0m\n\u001b[0;32m   2249\u001b[0m         \u001b[1;31m# delegate\u001b[0m\u001b[1;33m\u001b[0m\u001b[1;33m\u001b[0m\u001b[1;33m\u001b[0m\u001b[0m\n\u001b[1;32m-> 2250\u001b[1;33m         \u001b[1;32mreturn\u001b[0m \u001b[0msuper\u001b[0m\u001b[1;33m(\u001b[0m\u001b[1;33m)\u001b[0m\u001b[1;33m.\u001b[0m\u001b[0m_astype\u001b[0m\u001b[1;33m(\u001b[0m\u001b[0mdtype\u001b[0m\u001b[1;33m=\u001b[0m\u001b[0mdtype\u001b[0m\u001b[1;33m,\u001b[0m \u001b[1;33m**\u001b[0m\u001b[0mkwargs\u001b[0m\u001b[1;33m)\u001b[0m\u001b[1;33m\u001b[0m\u001b[1;33m\u001b[0m\u001b[0m\n\u001b[0m\u001b[0;32m   2251\u001b[0m \u001b[1;33m\u001b[0m\u001b[0m\n\u001b[0;32m   2252\u001b[0m     \u001b[1;32mdef\u001b[0m \u001b[0m_can_hold_element\u001b[0m\u001b[1;33m(\u001b[0m\u001b[0mself\u001b[0m\u001b[1;33m,\u001b[0m \u001b[0melement\u001b[0m\u001b[1;33m)\u001b[0m\u001b[1;33m:\u001b[0m\u001b[1;33m\u001b[0m\u001b[1;33m\u001b[0m\u001b[0m\n",
      "\u001b[1;32m~\\Anaconda3\\lib\\site-packages\\pandas\\core\\internals\\blocks.py\u001b[0m in \u001b[0;36m_astype\u001b[1;34m(self, dtype, copy, errors, values, **kwargs)\u001b[0m\n\u001b[0;32m    641\u001b[0m                     \u001b[1;31m# _astype_nansafe works fine with 1-d only\u001b[0m\u001b[1;33m\u001b[0m\u001b[1;33m\u001b[0m\u001b[1;33m\u001b[0m\u001b[0m\n\u001b[0;32m    642\u001b[0m                     \u001b[0mvals1d\u001b[0m \u001b[1;33m=\u001b[0m \u001b[0mvalues\u001b[0m\u001b[1;33m.\u001b[0m\u001b[0mravel\u001b[0m\u001b[1;33m(\u001b[0m\u001b[1;33m)\u001b[0m\u001b[1;33m\u001b[0m\u001b[1;33m\u001b[0m\u001b[0m\n\u001b[1;32m--> 643\u001b[1;33m                     \u001b[0mvalues\u001b[0m \u001b[1;33m=\u001b[0m \u001b[0mastype_nansafe\u001b[0m\u001b[1;33m(\u001b[0m\u001b[0mvals1d\u001b[0m\u001b[1;33m,\u001b[0m \u001b[0mdtype\u001b[0m\u001b[1;33m,\u001b[0m \u001b[0mcopy\u001b[0m\u001b[1;33m=\u001b[0m\u001b[1;32mTrue\u001b[0m\u001b[1;33m,\u001b[0m \u001b[1;33m**\u001b[0m\u001b[0mkwargs\u001b[0m\u001b[1;33m)\u001b[0m\u001b[1;33m\u001b[0m\u001b[1;33m\u001b[0m\u001b[0m\n\u001b[0m\u001b[0;32m    644\u001b[0m \u001b[1;33m\u001b[0m\u001b[0m\n\u001b[0;32m    645\u001b[0m                 \u001b[1;31m# TODO(extension)\u001b[0m\u001b[1;33m\u001b[0m\u001b[1;33m\u001b[0m\u001b[1;33m\u001b[0m\u001b[0m\n",
      "\u001b[1;32m~\\Anaconda3\\lib\\site-packages\\pandas\\core\\dtypes\\cast.py\u001b[0m in \u001b[0;36mastype_nansafe\u001b[1;34m(arr, dtype, copy, skipna)\u001b[0m\n\u001b[0;32m    668\u001b[0m         raise TypeError(\n\u001b[0;32m    669\u001b[0m             \u001b[1;34m\"cannot astype a datetimelike from [{from_dtype}] \"\u001b[0m\u001b[1;33m\u001b[0m\u001b[1;33m\u001b[0m\u001b[0m\n\u001b[1;32m--> 670\u001b[1;33m             \u001b[1;34m\"to [{to_dtype}]\"\u001b[0m\u001b[1;33m.\u001b[0m\u001b[0mformat\u001b[0m\u001b[1;33m(\u001b[0m\u001b[0mfrom_dtype\u001b[0m\u001b[1;33m=\u001b[0m\u001b[0marr\u001b[0m\u001b[1;33m.\u001b[0m\u001b[0mdtype\u001b[0m\u001b[1;33m,\u001b[0m \u001b[0mto_dtype\u001b[0m\u001b[1;33m=\u001b[0m\u001b[0mdtype\u001b[0m\u001b[1;33m)\u001b[0m\u001b[1;33m\u001b[0m\u001b[1;33m\u001b[0m\u001b[0m\n\u001b[0m\u001b[0;32m    671\u001b[0m         )\n\u001b[0;32m    672\u001b[0m \u001b[1;33m\u001b[0m\u001b[0m\n",
      "\u001b[1;31mTypeError\u001b[0m: cannot astype a datetimelike from [datetime64[ns]] to [float64]"
     ]
    },
    {
     "data": {
      "image/png": "[encoded data removed]",
      "text/plain": [
       "<Figure size 432x288 with 1 Axes>"
      ]
     },
     "metadata": {
      "needs_background": "light"
     },
     "output_type": "display_data"
    }
   ],
   "source": [
    "sns.kdeplot(df, shade=True)"
   ]
  },
  {
   "cell_type": "markdown",
   "metadata": {},
   "source": [
    "### Дата и время"
   ]
  },
  {
   "cell_type": "markdown",
   "metadata": {},
   "source": [
    "Создам новые признаки, для этого приведем 'date' к формату даты."
   ]
  },
  {
   "cell_type": "markdown",
   "metadata": {},
   "source": [
    "<font color='green'>#new_feature</font>"
   ]
  },
  {
   "cell_type": "code",
   "execution_count": null,
   "metadata": {},
   "outputs": [],
   "source": [
    "def AddNewFeature_dates():\n",
    "    df['date'] = pd.to_datetime(df['date'])\n",
    "    df['month'] = df['date'].dt.month \n",
    "    df['day'] = df['date'].dt.day \n",
    "    df['hour'] = df['date'].dt.hour \n",
    "    df['weekday'] = df['date'].dt.dayofweek"
   ]
  },
  {
   "cell_type": "code",
   "execution_count": null,
   "metadata": {},
   "outputs": [],
   "source": [
    "AddNewFeature_dates()"
   ]
  },
  {
   "cell_type": "code",
   "execution_count": null,
   "metadata": {},
   "outputs": [],
   "source": [
    "df.info()"
   ]
  },
  {
   "cell_type": "code",
   "execution_count": null,
   "metadata": {},
   "outputs": [],
   "source": [
    "def BarGroupByTwo (col1,col2,normalize:bool):    \n",
    "    data = df.groupby([col1])[col2].value_counts(normalize=normalize).rename('count').reset_index().sort_values(col1)\n",
    "    \n",
    "    a4_dims = (11.7, 8.27)\n",
    "    fig, ax = plt.subplots(figsize=a4_dims)    \n",
    "    sns.barplot(x=col1, y='count', hue=col2, data=data)\n",
    "    \n",
    "    normalize_label=''\n",
    "    if normalize:\n",
    "        normalize_label=' (%)'\n",
    "    plt.title('{} vs {}{}'.format(col2, col1,normalize_label))\n",
    "    \n",
    "    labels=[\"Отрицательный\",\"Нейтральный\", \"Положительный\"]\n",
    "    h, l = ax.get_legend_handles_labels()\n",
    "    ax.legend(h, labels)"
   ]
  },
  {
   "cell_type": "markdown",
   "metadata": {},
   "source": [
    "Посмотрим на зависимость рейтинга от времЕнных параметров"
   ]
  },
  {
   "cell_type": "code",
   "execution_count": null,
   "metadata": {},
   "outputs": [],
   "source": [
    "BarGroupByTwo('month','rate_category',False)"
   ]
  },
  {
   "cell_type": "code",
   "execution_count": null,
   "metadata": {
    "scrolled": false
   },
   "outputs": [],
   "source": [
    "BarGroupByTwo('month','rate_category',True)"
   ]
  },
  {
   "cell_type": "markdown",
   "metadata": {},
   "source": [
    "Июль, август, сентябрь и октябрь, месяца, когда меньше всего выходят статьи. В эти месяца количество отрицательных отзывов больше чем в остальные, в процентном соотношении так примерно в 2 раза."
   ]
  },
  {
   "cell_type": "markdown",
   "metadata": {},
   "source": [
    " "
   ]
  },
  {
   "cell_type": "code",
   "execution_count": null,
   "metadata": {},
   "outputs": [],
   "source": [
    "BarGroupByTwo('weekday','rate_category',False)"
   ]
  },
  {
   "cell_type": "code",
   "execution_count": null,
   "metadata": {
    "scrolled": false
   },
   "outputs": [],
   "source": [
    "BarGroupByTwo('weekday','rate_category',True)"
   ]
  },
  {
   "cell_type": "markdown",
   "metadata": {},
   "source": [
    "В субботу и воскресенье (5 и 6) выходит меньше всего статей. При этом, если смотреть в процентном соотношении, то в эти дни больше отрицательных оценок."
   ]
  },
  {
   "cell_type": "code",
   "execution_count": null,
   "metadata": {},
   "outputs": [],
   "source": [
    "BarGroupByTwo('day','rate_category',False)"
   ]
  },
  {
   "cell_type": "code",
   "execution_count": null,
   "metadata": {},
   "outputs": [],
   "source": [
    "BarGroupByTwo('day','rate_category',True)"
   ]
  },
  {
   "cell_type": "markdown",
   "metadata": {},
   "source": [
    "Количество статей публикуется волнообразно, видимо это связано с началом и концом недели. Так же в последнии дни месяца заметно снижение в количестве публикаций."
   ]
  },
  {
   "cell_type": "code",
   "execution_count": null,
   "metadata": {},
   "outputs": [],
   "source": [
    "BarGroupByTwo('hour','rate_category',False)"
   ]
  },
  {
   "cell_type": "code",
   "execution_count": null,
   "metadata": {},
   "outputs": [],
   "source": [
    "BarGroupByTwo('hour','rate_category',True)"
   ]
  },
  {
   "cell_type": "markdown",
   "metadata": {},
   "source": [
    "Пик публикаций утро и день. С 12-14 часов заметно больше ставят отрицательных оценок."
   ]
  },
  {
   "cell_type": "code",
   "execution_count": null,
   "metadata": {},
   "outputs": [],
   "source": [
    "df.columns"
   ]
  },
  {
   "cell_type": "code",
   "execution_count": null,
   "metadata": {},
   "outputs": [],
   "source": [
    "sns.heatmap(df[['rate', 'month', 'day', 'hour', 'weekday']].corr(method='pearson'));"
   ]
  },
  {
   "cell_type": "markdown",
   "metadata": {},
   "source": [
    "Сильной корреляции нет. Небольшая корреляция с рейтингом у дней недели, чисел и часов."
   ]
  },
  {
   "cell_type": "markdown",
   "metadata": {},
   "source": [
    "## Подготовка моделей"
   ]
  },
  {
   "cell_type": "markdown",
   "metadata": {},
   "source": [
    "### LinearRegression, Lasso, Ridge, LassoCV, RidgeCV"
   ]
  },
  {
   "cell_type": "code",
   "execution_count": null,
   "metadata": {},
   "outputs": [],
   "source": [
    "from sklearn.linear_model import LinearRegression\n",
    "from sklearn.linear_model import Lasso, Ridge, LassoCV, RidgeCV\n",
    "from sklearn.metrics import mean_squared_error, r2_score"
   ]
  },
  {
   "cell_type": "code",
   "execution_count": null,
   "metadata": {},
   "outputs": [],
   "source": [
    "linear_regression = LinearRegression()\n",
    "lasso = Lasso(random_state=1,alpha=1)\n",
    "ridge = Ridge(random_state=1, alpha=1)\n",
    "lasso_cv = LassoCV(random_state=1)\n",
    "ridge_cv = RidgeCV()"
   ]
  },
  {
   "cell_type": "code",
   "execution_count": null,
   "metadata": {},
   "outputs": [],
   "source": [
    "#models = [linear_regression,ridge,ridge_cv,lasso,lasso_cv]\n",
    "models = [linear_regression,ridge,lasso]"
   ]
  },
  {
   "cell_type": "code",
   "execution_count": null,
   "metadata": {},
   "outputs": [],
   "source": [
    "def metricsModel (y_train,y_train_pred,y_test,y_test_pred):\n",
    "    '''\n",
    "    расчет метрик\n",
    "    '''    \n",
    "    metrics = []\n",
    "    MSETrain = mean_squared_error(y_train, y_train_pred)\n",
    "    MSETest = mean_squared_error(y_test, y_test_pred)\n",
    "    metrics.append(MSETrain)\n",
    "    metrics.append(MSETest)\n",
    "    metrics.append(np.sqrt(MSETrain))\n",
    "    metrics.append(np.sqrt(MSETest))\n",
    "    metrics.append(r2_score(y_train, y_train_pred))\n",
    "    metrics.append(r2_score(y_test, y_test_pred))\n",
    "    return metrics"
   ]
  },
  {
   "cell_type": "code",
   "execution_count": null,
   "metadata": {},
   "outputs": [],
   "source": [
    "def predGroundTruth (predicted_train,predicted_test,y_train,y_test,row=20):\n",
    "    '''\n",
    "    сравнение предсказаных рейтингов с реальными на трейне и тесте\n",
    "    '''  \n",
    "    predictions_ground_truth_df = pd.DataFrame(list(zip(predicted_train,\\\n",
    "                                                        y_train,predicted_test, y_test)))\n",
    "    predictions_ground_truth_df.columns = ['PredictionRateTrain', 'RrealRateTrain',\\\n",
    "                                           'PredictionRateTest', 'RrealRateTest']\n",
    "    print(predictions_ground_truth_df.head(row))"
   ]
  },
  {
   "cell_type": "code",
   "execution_count": null,
   "metadata": {},
   "outputs": [],
   "source": [
    "def CreateTableInfoResult ():\n",
    "    '''\n",
    "    сюда буду сохранять результаты обучения моделей для анализа\n",
    "    '''\n",
    "    \n",
    "    modelResults_df=pd.DataFrame(columns=['Comment','Model','MSETrain','MSETest',\\\n",
    "          'sMSETrain','sMSETest','R2Train','R2Test','TrainShape','TestShape'])\n",
    "    return modelResults_df"
   ]
  },
  {
   "cell_type": "code",
   "execution_count": null,
   "metadata": {},
   "outputs": [],
   "source": [
    "modelResults_df = CreateTableInfoResult()"
   ]
  },
  {
   "cell_type": "code",
   "execution_count": null,
   "metadata": {},
   "outputs": [],
   "source": [
    "import math"
   ]
  },
  {
   "cell_type": "code",
   "execution_count": null,
   "metadata": {},
   "outputs": [],
   "source": [
    "rate_min = df['rate'].min()+1e-8\n",
    "def LogConvert(rlog,rmin):\n",
    "    '''\n",
    "    конвертация рейтинга обратно из нартурального логарифма\n",
    "    '''\n",
    "    try:\n",
    "        rate = math.exp(rlog) + rmin\n",
    "    except OverflowError:\n",
    "        rate = float('inf')    \n",
    "    return rate"
   ]
  },
  {
   "cell_type": "code",
   "execution_count": null,
   "metadata": {},
   "outputs": [],
   "source": [
    "def LogNdArrayConvert(ndarray):\n",
    "    ndarray_c = np.array([LogConvert(r,rate_min) for r in ndarray])\n",
    "    return ndarray_c"
   ]
  },
  {
   "cell_type": "code",
   "execution_count": null,
   "metadata": {},
   "outputs": [],
   "source": [
    "def ModelFitPredictAndMettrics(mr_df,comment,model,X_train,y_train,X_test,y_test\\\n",
    "                              ,groundtruth=False,metrics=True,logconvert=False,row=20):\n",
    "    '''\n",
    "    обучение модели\n",
    "    '''\n",
    "    print(model)    \n",
    "    model.fit(X_train, y_train)\n",
    "    predicted_train = model.predict(X_train)\n",
    "    predicted_test = model.predict(X_test)\n",
    "    mtxt = ''\n",
    "    \n",
    "    if (logconvert):\n",
    "        predicted_train = LogNdArrayConvert(predicted_train)\n",
    "        predicted_test = LogNdArrayConvert(predicted_test)\n",
    "        y_train = LogNdArrayConvert(y_train)\n",
    "        y_test = LogNdArrayConvert(y_test)\n",
    "    \n",
    "    if(groundtruth):\n",
    "         predGroundTruth(predicted_train,predicted_test,y_train,y_test,row)\n",
    "    \n",
    "    mm = metricsModel(y_train,predicted_train,y_test,predicted_test)\n",
    "    if(metrics):       \n",
    "           print('\\nMSE train:{:.3f}, test: {:.3f}'.format(mm[0],mm[1]))  \n",
    "           print('sqrt MSE train:{:.3f}, test: {:.3f}'.format(mm[2],mm[3]))\n",
    "           print('R^2 train: {:.3f}, test: {:.3f}'.format(mm[4],mm[5]))\n",
    "        \n",
    "    mr_df = mr_df.append({'Comment':comment,'Model':model,'MSETrain':mm[0],\\\n",
    "                         'MSETest':mm[1],'sMSETrain':mm[2],'sMSETest':mm[3],\\\n",
    "                         'R2Train':mm[4],'R2Test':mm[5],\\\n",
    "                         'TrainShape':X_train.shape,'TestShape':X_test.shape},\\\n",
    "                         ignore_index=True)\n",
    "    return mr_df"
   ]
  },
  {
   "cell_type": "markdown",
   "metadata": {},
   "source": [
    "### Векторизация текста"
   ]
  },
  {
   "cell_type": "markdown",
   "metadata": {},
   "source": [
    "Разбираюсь, что это такое и как работает на основе столбца tittle. \n",
    "Посмотрю на модели в лоб, данные как есть, а потом буду улучшать их и добавлять фичи."
   ]
  },
  {
   "cell_type": "code",
   "execution_count": null,
   "metadata": {},
   "outputs": [],
   "source": [
    "df.isnull().sum()"
   ]
  },
  {
   "cell_type": "markdown",
   "metadata": {},
   "source": [
    "Т.к. у нас есть временной параметр, и мы хотим прогнозировать будущее, то нужно разбирть выборку на части отсортированную по времени. Учимся на прошлом, прогнозируем будущее."
   ]
  },
  {
   "cell_type": "code",
   "execution_count": null,
   "metadata": {},
   "outputs": [],
   "source": [
    "def TrainTestSplitByDateTime (coef,df=df,y_col='rate'):\n",
    "    df.sort_values(by='date',ascending=True,inplace=True)\n",
    "    df.reset_index(drop=True,inplace=True);\n",
    "    \n",
    "    rate_cols = [col for col in df.columns if 'rate' in col]\n",
    "    X=df.drop(rate_cols,axis=1)\n",
    "    y=df[y_col]\n",
    "    train_part_size = int(coef * X.shape[0])\n",
    "    \n",
    "    X_train, X_test = X.iloc[:train_part_size, :],X.iloc[train_part_size:, :]\n",
    "    y_train, y_test = y.iloc[:train_part_size],y.iloc[train_part_size:]\n",
    "    \n",
    "    return X_train, X_test, y_train, y_test"
   ]
  },
  {
   "cell_type": "code",
   "execution_count": null,
   "metadata": {
    "scrolled": true
   },
   "outputs": [],
   "source": [
    "X_train, X_test, y_train, y_test = TrainTestSplitByDateTime (.8,df,'rate')"
   ]
  },
  {
   "cell_type": "code",
   "execution_count": null,
   "metadata": {},
   "outputs": [],
   "source": [
    "print('Shape train:{},test:{}'.format(X_train.shape,X_test.shape))"
   ]
  },
  {
   "cell_type": "markdown",
   "metadata": {},
   "source": [
    "### CountVectorizer"
   ]
  },
  {
   "cell_type": "markdown",
   "metadata": {},
   "source": [
    "Токенизация и векторизация текста"
   ]
  },
  {
   "cell_type": "code",
   "execution_count": null,
   "metadata": {},
   "outputs": [],
   "source": [
    "from sklearn.feature_extraction.text import CountVectorizer"
   ]
  },
  {
   "cell_type": "code",
   "execution_count": null,
   "metadata": {},
   "outputs": [],
   "source": [
    "columnOne = 'text'"
   ]
  },
  {
   "cell_type": "code",
   "execution_count": null,
   "metadata": {},
   "outputs": [],
   "source": [
    "X_train_curr = X_train[columnOne]\n",
    "X_test_curr = X_test[columnOne]"
   ]
  },
  {
   "cell_type": "code",
   "execution_count": null,
   "metadata": {},
   "outputs": [],
   "source": [
    "count_vect = CountVectorizer(max_df=1.0, min_df=1,ngram_range=(1, 1)) #токенезированный мешок слов"
   ]
  },
  {
   "cell_type": "code",
   "execution_count": null,
   "metadata": {},
   "outputs": [],
   "source": [
    "X_cvect_train = count_vect.fit_transform(X_train_curr) \n",
    "X_cvect_test = count_vect.transform(X_test_curr)"
   ]
  },
  {
   "cell_type": "code",
   "execution_count": null,
   "metadata": {},
   "outputs": [],
   "source": [
    "#обучаемся на мешке слов и кодируем текст в вектора\n",
    "X_cvect_train.shape"
   ]
  },
  {
   "cell_type": "code",
   "execution_count": null,
   "metadata": {},
   "outputs": [],
   "source": [
    "X_cvect_test.shape"
   ]
  },
  {
   "cell_type": "markdown",
   "metadata": {},
   "source": [
    "Очень длинный вектор, много слов! Нужно чистить."
   ]
  },
  {
   "cell_type": "code",
   "execution_count": null,
   "metadata": {
    "scrolled": true
   },
   "outputs": [],
   "source": [
    "print(count_vect.get_feature_names()) #Мешок слов"
   ]
  },
  {
   "cell_type": "code",
   "execution_count": null,
   "metadata": {},
   "outputs": [],
   "source": [
    "# словарь с идентификаторами расположения слов в словаре\n",
    "print(count_vect.vocabulary_)"
   ]
  },
  {
   "cell_type": "code",
   "execution_count": null,
   "metadata": {},
   "outputs": [],
   "source": [
    "#закодированный (векторизированный) текст (матрица). Количество вхождений слова в словарь\n",
    "#X_cvect_train.toarray() "
   ]
  },
  {
   "cell_type": "code",
   "execution_count": null,
   "metadata": {},
   "outputs": [],
   "source": [
    "# количественное вхождение каждого слова:\n",
    "matrix_freq = np.asarray(X_cvect_train.sum(axis=0)).ravel()\n",
    "final_matrix = np.array([np.array(count_vect.get_feature_names()), matrix_freq])"
   ]
  },
  {
   "cell_type": "code",
   "execution_count": null,
   "metadata": {},
   "outputs": [],
   "source": [
    "final_matrix"
   ]
  },
  {
   "cell_type": "markdown",
   "metadata": {},
   "source": [
    "Цифры и китайские символы, нужно избавляться от них."
   ]
  },
  {
   "cell_type": "markdown",
   "metadata": {},
   "source": [
    "### TfidfTransformer"
   ]
  },
  {
   "cell_type": "markdown",
   "metadata": {},
   "source": [
    "Векторизация с вычисление частот слов (Term Frequency - Inverse Document Frequency)"
   ]
  },
  {
   "cell_type": "code",
   "execution_count": null,
   "metadata": {},
   "outputs": [],
   "source": [
    "from sklearn.feature_extraction.text import TfidfTransformer"
   ]
  },
  {
   "cell_type": "code",
   "execution_count": null,
   "metadata": {},
   "outputs": [],
   "source": [
    "tfidf_transformer = TfidfTransformer()"
   ]
  },
  {
   "cell_type": "code",
   "execution_count": null,
   "metadata": {},
   "outputs": [],
   "source": [
    "X_tfidf_train = tfidf_transformer.fit_transform(X_cvect_train)\n",
    "X_tfidf_test = tfidf_transformer.fit_transform(X_cvect_test)"
   ]
  },
  {
   "cell_type": "code",
   "execution_count": null,
   "metadata": {},
   "outputs": [],
   "source": [
    "X_tfidf_train.shape"
   ]
  },
  {
   "cell_type": "code",
   "execution_count": null,
   "metadata": {},
   "outputs": [],
   "source": [
    "X_tfidf_test.shape"
   ]
  },
  {
   "cell_type": "code",
   "execution_count": null,
   "metadata": {
    "scrolled": true
   },
   "outputs": [],
   "source": [
    "#Tfidf матрица векторов с весами\n",
    "#X_tfidf_train.toarray()"
   ]
  },
  {
   "cell_type": "code",
   "execution_count": null,
   "metadata": {},
   "outputs": [],
   "source": [
    "tfidf_transformer.idf_"
   ]
  },
  {
   "cell_type": "code",
   "execution_count": null,
   "metadata": {},
   "outputs": [],
   "source": [
    "#топ весов слов\n",
    "rr = dict(zip(count_vect.get_feature_names(), tfidf_transformer.idf_))"
   ]
  },
  {
   "cell_type": "code",
   "execution_count": null,
   "metadata": {
    "scrolled": false
   },
   "outputs": [],
   "source": [
    "token_weight = pd.DataFrame.from_dict(rr, orient='index').reset_index()\n",
    "token_weight.columns=('token','weight')\n",
    "token_weight = token_weight.sort_values(by='weight', ascending=False)\n",
    "token_weight.head(10)"
   ]
  },
  {
   "cell_type": "code",
   "execution_count": null,
   "metadata": {},
   "outputs": [],
   "source": [
    "token_weight.tail(10)"
   ]
  },
  {
   "cell_type": "markdown",
   "metadata": {},
   "source": [
    "Низкий вес у часто встречающихся слов, как раз тут видно, что это предлоги и частицы, от них тоже нужно избавиться в словаре."
   ]
  },
  {
   "cell_type": "code",
   "execution_count": null,
   "metadata": {},
   "outputs": [],
   "source": [
    "#np.isnan(X_tfidf_train.toarray().any())"
   ]
  },
  {
   "cell_type": "markdown",
   "metadata": {},
   "source": [
    "### HashingVectorizer"
   ]
  },
  {
   "cell_type": "markdown",
   "metadata": {},
   "source": [
    "Односторонний хэш слов для преобразования их в целые числа"
   ]
  },
  {
   "cell_type": "code",
   "execution_count": null,
   "metadata": {},
   "outputs": [],
   "source": [
    "from sklearn.feature_extraction.text import HashingVectorizer"
   ]
  },
  {
   "cell_type": "code",
   "execution_count": null,
   "metadata": {},
   "outputs": [],
   "source": [
    "hash_vect = HashingVectorizer(n_features=1000)"
   ]
  },
  {
   "cell_type": "code",
   "execution_count": null,
   "metadata": {},
   "outputs": [],
   "source": [
    "X_hashvect_train = hash_vect.fit_transform(X_train_curr)\n",
    "X_hashvect_test = hash_vect.transform(X_test_curr)"
   ]
  },
  {
   "cell_type": "code",
   "execution_count": null,
   "metadata": {
    "scrolled": true
   },
   "outputs": [],
   "source": [
    "# summarize encoded vector\n",
    "print(X_hashvect_train.shape)\n",
    "print(X_hashvect_train.toarray())"
   ]
  },
  {
   "cell_type": "code",
   "execution_count": null,
   "metadata": {
    "scrolled": false
   },
   "outputs": [],
   "source": [
    "print(X_hashvect_test.shape)\n",
    "print(X_hashvect_test.toarray())"
   ]
  },
  {
   "cell_type": "markdown",
   "metadata": {},
   "source": [
    "---------------------------------------"
   ]
  },
  {
   "cell_type": "markdown",
   "metadata": {},
   "source": [
    "При большом количестве данных словарь получается очень большой, очень много мусорных слов. При больших выборках (>40000) результирующая матрица на столько большая, что не хватает памяти. Необходимо обработать текст."
   ]
  },
  {
   "cell_type": "markdown",
   "metadata": {},
   "source": [
    "Выполню простую нормализация текста"
   ]
  },
  {
   "cell_type": "code",
   "execution_count": null,
   "metadata": {},
   "outputs": [],
   "source": [
    "import pymorphy2"
   ]
  },
  {
   "cell_type": "code",
   "execution_count": null,
   "metadata": {},
   "outputs": [],
   "source": [
    "def f_tokenizer(s):\n",
    "    morph = pymorphy2.MorphAnalyzer()    \n",
    "    if type(s) == str:\n",
    "        t = s.split(' ')\n",
    "    else:\n",
    "        t = s\n",
    "    f = []\n",
    "    for j in t:\n",
    "        m = morph.parse(j.replace('.',''))\n",
    "        if len(m) != 0:\n",
    "            wrd = m[0]\n",
    "            if wrd.tag.POS not in ('NUMR','PREP','CONJ','PRCL','INTJ'):\n",
    "                f.append(wrd.normal_form)\n",
    "    return ' '.join(f)"
   ]
  },
  {
   "cell_type": "markdown",
   "metadata": {},
   "source": [
    "<font color='green'>#new_feature</font>"
   ]
  },
  {
   "cell_type": "code",
   "execution_count": null,
   "metadata": {},
   "outputs": [],
   "source": [
    "def AddNewFeature_norm():\n",
    "    df[columnOne+'_norm']=df[columnOne].apply(lambda t: f_tokenizer(t))"
   ]
  },
  {
   "cell_type": "code",
   "execution_count": null,
   "metadata": {
    "scrolled": true
   },
   "outputs": [],
   "source": [
    "AddNewFeature_norm()"
   ]
  },
  {
   "cell_type": "code",
   "execution_count": null,
   "metadata": {
    "scrolled": true
   },
   "outputs": [],
   "source": [
    "df[[columnOne,columnOne+'_norm']].head(2)"
   ]
  },
  {
   "cell_type": "markdown",
   "metadata": {},
   "source": [
    "Выделю слова на кирилице и латинице а так же сайты в отдельные словари"
   ]
  },
  {
   "cell_type": "markdown",
   "metadata": {},
   "source": [
    "Создам еще несколько фичей на основе текста"
   ]
  },
  {
   "cell_type": "markdown",
   "metadata": {},
   "source": [
    "<font color='green'>#new_feature</font>"
   ]
  },
  {
   "cell_type": "code",
   "execution_count": null,
   "metadata": {},
   "outputs": [],
   "source": [
    "def GetSites (txt):  \n",
    "    sites = re.findall(r'[\\w]+\\.{1,1}[^\\.\\d^\\s]\\w{1,3}\\b',str(txt)) #сайты\n",
    "    return (' '.join(sites)).replace('.','_'),len(sites)"
   ]
  },
  {
   "cell_type": "code",
   "execution_count": null,
   "metadata": {},
   "outputs": [],
   "source": [
    "def GetEnWords (txt):  \n",
    "    en_words = re.findall(r'\\b[a-z]{3,}\\b',re.sub(r'[a-z]{2,}\\.+[a-z]*\\b','',str(txt))) #слова на латинице от 3х букв    \n",
    "    return ' '.join(en_words),len(en_words)"
   ]
  },
  {
   "cell_type": "code",
   "execution_count": null,
   "metadata": {},
   "outputs": [],
   "source": [
    "def GetRuWords (txt):  \n",
    "    ru_words = re.findall(r'\\b[а-я]{4,}\\b',re.sub(r'[а-я]{2,}\\.+[а-я]*\\b','',str(txt))) #слова на кириллице от 4х букв\n",
    "    return ' '.join(ru_words),len(ru_words)"
   ]
  },
  {
   "cell_type": "code",
   "execution_count": null,
   "metadata": {},
   "outputs": [],
   "source": [
    "def GetPunctuationsCount (txt):  \n",
    "    punctuations  = re.findall(r'[^\\w\\s]',txt) #Знаки препинания\n",
    "    return len(punctuations)"
   ]
  },
  {
   "cell_type": "code",
   "execution_count": null,
   "metadata": {},
   "outputs": [],
   "source": [
    "def GetEmotionsCount (txt):  \n",
    "    emotions  = re.findall(r'[\\?]{2,}|[\\!]{2,}',txt) #Знаки ??? , !!!\n",
    "    return len(emotions)"
   ]
  },
  {
   "cell_type": "code",
   "execution_count": null,
   "metadata": {},
   "outputs": [],
   "source": [
    "def AddNewFeature_split_txt(column):\n",
    "    for index, row in df.iterrows():\n",
    "        df.loc[index, 'sites_'+column],df.loc[index, 'sites_'+column+'_count'] = GetSites(row[column])\n",
    "        df.loc[index, 'ru_words_'+column],df.loc[index, 'ru_words_'+column+'_count'] = GetRuWords(row[column+'_norm'])\n",
    "        df.loc[index, 'en_words_'+column],df.loc[index, 'en_words_'+column+'_count'] = GetEnWords(row[column])\n",
    "        df.loc[index, 'punctuations_'+column+'_count'] = GetPunctuationsCount(row[column])\n",
    "        df.loc[index, 'emotions_'+column+'_count'] = GetEmotionsCount(row[column])"
   ]
  },
  {
   "cell_type": "code",
   "execution_count": null,
   "metadata": {
    "scrolled": true
   },
   "outputs": [],
   "source": [
    "AddNewFeature_split_txt(columnOne)"
   ]
  },
  {
   "cell_type": "markdown",
   "metadata": {},
   "source": [
    "<font color='green'>#new_feature</font>"
   ]
  },
  {
   "cell_type": "markdown",
   "metadata": {},
   "source": [
    "Заменю буквенные категории на числовые"
   ]
  },
  {
   "cell_type": "code",
   "execution_count": null,
   "metadata": {},
   "outputs": [],
   "source": [
    "def AddNewFeature_text_category_int():\n",
    "    df['text_category_int'] = df['text_category'].map({'z':0,'s':1,'m':2,'l':3,'xl':4})"
   ]
  },
  {
   "cell_type": "code",
   "execution_count": null,
   "metadata": {
    "scrolled": true
   },
   "outputs": [],
   "source": [
    "AddNewFeature_text_category_int()"
   ]
  },
  {
   "cell_type": "markdown",
   "metadata": {},
   "source": [
    "Посмотрим на графики:"
   ]
  },
  {
   "cell_type": "code",
   "execution_count": null,
   "metadata": {
    "scrolled": false
   },
   "outputs": [],
   "source": [
    "sns.heatmap(df[['rate', 'sites_text_count', 'ru_words_text_count', 'en_words_text_count',\\\n",
    "                'punctuations_text_count','emotions_text_count','text_category_int',\\\n",
    "               'tittle_words_count','text_words_count']].corr(method='pearson'));"
   ]
  },
  {
   "cell_type": "markdown",
   "metadata": {},
   "source": [
    "Какой то сильной корреляции фич с рейтингом нет. Некоторые фичи хорошо коррелируют между собой, это и понятно."
   ]
  },
  {
   "cell_type": "markdown",
   "metadata": {},
   "source": [
    "Возьму натуральные логарифмы от всех числовых признаков, кроме категориальных:"
   ]
  },
  {
   "cell_type": "code",
   "execution_count": null,
   "metadata": {},
   "outputs": [],
   "source": [
    "df['rate_log'] = np.log(df['rate'] - df['rate'].min()+1e-8)"
   ]
  },
  {
   "cell_type": "code",
   "execution_count": null,
   "metadata": {},
   "outputs": [],
   "source": [
    "df['rate_cube_r'] = df['rate'].apply(lambda r: int(r)**(1/3))"
   ]
  },
  {
   "cell_type": "code",
   "execution_count": null,
   "metadata": {},
   "outputs": [],
   "source": [
    "df['text_words_count_log'] = np.log(df['text_words_count'])\n",
    "df['tittle_words_count_log'] = np.log(df['tittle_words_count'])"
   ]
  },
  {
   "cell_type": "code",
   "execution_count": null,
   "metadata": {},
   "outputs": [],
   "source": [
    "df['sites_text_count_log'] = np.log(df['sites_text_count'])\n",
    "df['ru_words_text_count_log'] = np.log(df['ru_words_text_count'])\n",
    "df['en_words_text_count_log'] = np.log(df['en_words_text_count'])\n",
    "df['punctuations_text_count_log'] = np.log(df['punctuations_text_count'])\n",
    "df['emotions_text_count_log'] = np.log(df['emotions_text_count'])"
   ]
  },
  {
   "cell_type": "markdown",
   "metadata": {},
   "source": [
    "#### Сформирую новые словари и новые матрицы векторов"
   ]
  },
  {
   "cell_type": "markdown",
   "metadata": {},
   "source": [
    "Формирую 3 словаря - ru,eng,sites, так же в этом случае уйдут все цифры, даты и прочие малоинформативные артифакты"
   ]
  },
  {
   "cell_type": "markdown",
   "metadata": {},
   "source": [
    "Так же уберу слова, которые очень редко и очень часто встречаются"
   ]
  },
  {
   "cell_type": "code",
   "execution_count": null,
   "metadata": {},
   "outputs": [],
   "source": [
    "n_features=1000 #n_features для HashingVectorizer\n",
    "cv_max_df=0.99 #Параметры для CountVectorizer default 1.0\n",
    "cv_min_df=0.005 #Параметры для CountVectorizer default 1\n",
    "cv_ngram_range=(1, 1) #Параметры для CountVectorizer"
   ]
  },
  {
   "cell_type": "code",
   "execution_count": null,
   "metadata": {},
   "outputs": [],
   "source": [
    "import datetime"
   ]
  },
  {
   "cell_type": "markdown",
   "metadata": {},
   "source": [
    "Имя файла для сохранения таблицы с метриками в csv:"
   ]
  },
  {
   "cell_type": "code",
   "execution_count": null,
   "metadata": {},
   "outputs": [],
   "source": [
    "fileNameFromExport = 'ex_habr_'+str(rowCountFromCSV)+'_'+str(n_features)+'_'+\\\n",
    "                      str(cv_max_df)+'_'+str(cv_min_df)+'_'+\\\n",
    "                      str(cv_ngram_range)+'_'+f\"{datetime.datetime.now():%Y-%m-%d %H-%M-%S}\"+'.csv'"
   ]
  },
  {
   "cell_type": "code",
   "execution_count": null,
   "metadata": {},
   "outputs": [],
   "source": [
    "count_vect = CountVectorizer(max_df=cv_max_df, min_df=cv_min_df,\\\n",
    "                             ngram_range=cv_ngram_range)\n",
    "tfidf_transformer = TfidfTransformer()\n",
    "hash_vect = HashingVectorizer(n_features=n_features)"
   ]
  },
  {
   "cell_type": "code",
   "execution_count": null,
   "metadata": {},
   "outputs": [],
   "source": [
    "X_train, X_test, y_train, y_test = TrainTestSplitByDateTime (.8,df,'rate')\n",
    "X_train, X_test, y_train_l, y_test_l = TrainTestSplitByDateTime (.8,df,'rate_log')"
   ]
  },
  {
   "cell_type": "code",
   "execution_count": null,
   "metadata": {},
   "outputs": [],
   "source": [
    "ys = [[y_train,y_test,False],[y_train_l,y_test_l,True]]"
   ]
  },
  {
   "cell_type": "code",
   "execution_count": null,
   "metadata": {},
   "outputs": [],
   "source": [
    "print('Shape train:{},test:{}'.format(X_train.shape,X_test.shape))"
   ]
  },
  {
   "cell_type": "code",
   "execution_count": null,
   "metadata": {
    "scrolled": false
   },
   "outputs": [],
   "source": [
    "X_train_curr = X_train['ru_words_'+columnOne]\n",
    "X_test_curr = X_test['ru_words_'+columnOne]"
   ]
  },
  {
   "cell_type": "code",
   "execution_count": null,
   "metadata": {},
   "outputs": [],
   "source": [
    "X_cvect_ru_words_train = count_vect.fit_transform(X_train_curr) \n",
    "X_tfidf_ru_words_train = tfidf_transformer.fit_transform(X_cvect_ru_words_train)\n",
    "X_cvect_ru_words_test = count_vect.transform(X_test_curr) \n",
    "X_tfidf_ru_words_test = tfidf_transformer.transform(X_cvect_ru_words_test)\n",
    "X_hashvect_ru_words_train = hash_vect.fit_transform(X_train_curr)\n",
    "X_hashvect_ru_words_test = hash_vect.transform(X_test_curr)\n",
    "\n",
    "rr_ru = dict(zip(count_vect.get_feature_names(), tfidf_transformer.idf_))"
   ]
  },
  {
   "cell_type": "code",
   "execution_count": null,
   "metadata": {},
   "outputs": [],
   "source": [
    "print(X_cvect_ru_words_train.shape,X_tfidf_ru_words_train.shape,X_hashvect_ru_words_train.shape)"
   ]
  },
  {
   "cell_type": "code",
   "execution_count": null,
   "metadata": {},
   "outputs": [],
   "source": [
    "X_train_curr = X_train['en_words_'+columnOne]\n",
    "X_test_curr = X_test['en_words_'+columnOne]"
   ]
  },
  {
   "cell_type": "code",
   "execution_count": null,
   "metadata": {},
   "outputs": [],
   "source": [
    "X_cvect_en_words_train = count_vect.fit_transform(X_train_curr) \n",
    "X_tfidf_en_words_train = tfidf_transformer.fit_transform(X_cvect_en_words_train)\n",
    "X_cvect_en_words_test = count_vect.transform(X_test_curr) \n",
    "X_tfidf_en_words_test = tfidf_transformer.transform(X_cvect_en_words_test)\n",
    "X_hashvect_en_words_train = hash_vect.fit_transform(X_train_curr)\n",
    "X_hashvect_en_words_test = hash_vect.transform(X_test_curr)\n",
    "\n",
    "rr_en = dict(zip(count_vect.get_feature_names(), tfidf_transformer.idf_))"
   ]
  },
  {
   "cell_type": "code",
   "execution_count": null,
   "metadata": {},
   "outputs": [],
   "source": [
    "#Посмотрим на топ веса 2х словарей\n",
    "def token_weight_df (dic, prefix):    \n",
    "    token_weight = pd.DataFrame.from_dict(dic, orient='index').reset_index()\n",
    "    token_weight.columns=(prefix,'weight_'+prefix)\n",
    "    token_weight = token_weight.sort_values(by='weight_'+prefix, ascending=False)\n",
    "    return token_weight\n",
    "\n",
    "rr_2_voc = pd.concat([token_weight_df(rr_ru,'ru').reset_index(drop=True),\\\n",
    "                      token_weight_df(rr_en,'en').reset_index(drop=True),\\\n",
    "                     ],axis=1)"
   ]
  },
  {
   "cell_type": "code",
   "execution_count": null,
   "metadata": {},
   "outputs": [],
   "source": [
    "rr_2_voc.head(10)"
   ]
  },
  {
   "cell_type": "code",
   "execution_count": null,
   "metadata": {
    "scrolled": true
   },
   "outputs": [],
   "source": [
    "rr_2_voc.tail(10)"
   ]
  },
  {
   "cell_type": "markdown",
   "metadata": {},
   "source": [
    "Сайты возьму с другими параметрами"
   ]
  },
  {
   "cell_type": "code",
   "execution_count": null,
   "metadata": {},
   "outputs": [],
   "source": [
    "cv_max_df=1.0 #Параметры для CountVectorizer default 1.0\n",
    "cv_min_df=2 #Параметры для CountVectorizer default 1\n",
    "cv_ngram_range=(1, 1) #Параметры для CountVectorizer"
   ]
  },
  {
   "cell_type": "code",
   "execution_count": null,
   "metadata": {},
   "outputs": [],
   "source": [
    "count_vect = CountVectorizer(max_df=cv_max_df, min_df=cv_min_df,\\\n",
    "                             ngram_range=cv_ngram_range)"
   ]
  },
  {
   "cell_type": "code",
   "execution_count": null,
   "metadata": {},
   "outputs": [],
   "source": [
    "X_train_curr = X_train['sites_'+columnOne]\n",
    "X_test_curr = X_test['sites_'+columnOne]"
   ]
  },
  {
   "cell_type": "code",
   "execution_count": null,
   "metadata": {},
   "outputs": [],
   "source": [
    "X_cvect_sites_train = count_vect.fit_transform(X_train_curr) \n",
    "X_tfidf_sites_train = tfidf_transformer.fit_transform(X_cvect_sites_train)\n",
    "X_cvect_sites_test = count_vect.transform(X_test_curr) \n",
    "X_tfidf_sites_test = tfidf_transformer.transform(X_cvect_sites_test)\n",
    "X_hashvect_sites_train = hash_vect.fit_transform(X_train_curr)\n",
    "X_hashvect_sites_test = hash_vect.transform(X_test_curr)\n",
    "\n",
    "rr_sites = dict(zip(count_vect.get_feature_names(), tfidf_transformer.idf_))"
   ]
  },
  {
   "cell_type": "code",
   "execution_count": null,
   "metadata": {},
   "outputs": [],
   "source": [
    "print(X_cvect_sites_train.shape,X_tfidf_sites_train.shape,X_hashvect_sites_train.shape)"
   ]
  },
  {
   "cell_type": "code",
   "execution_count": null,
   "metadata": {
    "scrolled": true
   },
   "outputs": [],
   "source": [
    "#Посмотрим на топ веса\n",
    "rr_1_voc = token_weight_df(rr_sites,'sites').reset_index(drop=True)"
   ]
  },
  {
   "cell_type": "code",
   "execution_count": null,
   "metadata": {},
   "outputs": [],
   "source": [
    "rr_1_voc.head(10)"
   ]
  },
  {
   "cell_type": "code",
   "execution_count": null,
   "metadata": {},
   "outputs": [],
   "source": [
    "rr_1_voc.tail(10)"
   ]
  },
  {
   "cell_type": "markdown",
   "metadata": {},
   "source": [
    "Сформирую общую матрицу по 3м словарям"
   ]
  },
  {
   "cell_type": "code",
   "execution_count": null,
   "metadata": {},
   "outputs": [],
   "source": [
    "from scipy.sparse import hstack"
   ]
  },
  {
   "cell_type": "code",
   "execution_count": null,
   "metadata": {
    "scrolled": true
   },
   "outputs": [],
   "source": [
    "X_cvect_3voc_train = hstack((X_cvect_sites_train, X_cvect_ru_words_train,\\\n",
    "                              X_cvect_en_words_train))"
   ]
  },
  {
   "cell_type": "code",
   "execution_count": null,
   "metadata": {},
   "outputs": [],
   "source": [
    "X_cvect_3voc_test = hstack((X_cvect_sites_test, X_cvect_ru_words_test,\\\n",
    "                              X_cvect_en_words_test))"
   ]
  },
  {
   "cell_type": "code",
   "execution_count": null,
   "metadata": {},
   "outputs": [],
   "source": [
    "X_tfidf_3voc_train = hstack((X_tfidf_sites_train, X_tfidf_ru_words_train,\\\n",
    "                              X_tfidf_en_words_train))"
   ]
  },
  {
   "cell_type": "code",
   "execution_count": null,
   "metadata": {},
   "outputs": [],
   "source": [
    "X_tfidf_3voc_test = hstack((X_tfidf_sites_test, X_tfidf_ru_words_test,\\\n",
    "                              X_tfidf_en_words_test))"
   ]
  },
  {
   "cell_type": "code",
   "execution_count": null,
   "metadata": {},
   "outputs": [],
   "source": [
    "X_hashvect_3voc_train = hstack((X_hashvect_sites_train, X_hashvect_ru_words_train,\\\n",
    "                              X_hashvect_en_words_train))"
   ]
  },
  {
   "cell_type": "code",
   "execution_count": null,
   "metadata": {},
   "outputs": [],
   "source": [
    "X_hashvect_3voc_test = hstack((X_hashvect_sites_test, X_hashvect_ru_words_test,\\\n",
    "                              X_hashvect_en_words_test))"
   ]
  },
  {
   "cell_type": "code",
   "execution_count": null,
   "metadata": {},
   "outputs": [],
   "source": [
    "print(X_cvect_3voc_train.shape)\n",
    "print(X_cvect_3voc_test.shape)\n",
    "print(X_tfidf_3voc_train.shape)\n",
    "print(X_tfidf_3voc_test.shape)\n",
    "print(X_hashvect_3voc_train.shape)\n",
    "print(X_hashvect_3voc_test.shape)"
   ]
  },
  {
   "cell_type": "markdown",
   "metadata": {},
   "source": [
    "Возьму для обучения 5000 строк"
   ]
  },
  {
   "cell_type": "code",
   "execution_count": null,
   "metadata": {},
   "outputs": [],
   "source": [
    "c_row = 5000\n",
    "X_cvect_3voc_train = X_cvect_3voc_train.tocsr()[:c_row].todense()\n",
    "X_tfidf_3voc_train = X_tfidf_3voc_train.tocsr()[:c_row].todense()\n",
    "X_hashvect_3voc_train = X_hashvect_3voc_train.tocsr()[:c_row].todense()"
   ]
  },
  {
   "cell_type": "code",
   "execution_count": null,
   "metadata": {
    "scrolled": true
   },
   "outputs": [],
   "source": [
    "X_cvect_ru_words_train = X_cvect_ru_words_train.tocsr()[:c_row].todense()\n",
    "X_tfidf_ru_words_train = X_tfidf_ru_words_train.tocsr()[:c_row].todense()\n",
    "X_hashvect_ru_words_train = X_hashvect_ru_words_train.tocsr()[:c_row].todense()"
   ]
  },
  {
   "cell_type": "code",
   "execution_count": null,
   "metadata": {},
   "outputs": [],
   "source": [
    "y_train = y_train[0:c_row]\n",
    "y_train_l = y_train_l[0:c_row]\n",
    "ys = [[y_train,y_test,False],[y_train_l,y_test_l,True]]"
   ]
  },
  {
   "cell_type": "markdown",
   "metadata": {},
   "source": [
    "Обучение только на основе столбца 'text'"
   ]
  },
  {
   "cell_type": "code",
   "execution_count": null,
   "metadata": {},
   "outputs": [],
   "source": [
    "def ModelFit_cvect_ru_words_n(m,modelResults_df,X_cvect_ru_words_train,y_train,X_cvect_ru_words_test,y_test,ratelog=False):\n",
    "    comment=columnOne+ ' + Очистка + Нормализация + только ru_words cvect + rate_log:'+str(ratelog)\n",
    "    modelResults_df = ModelFitPredictAndMettrics(modelResults_df,comment,m,\\\n",
    "                      X_cvect_ru_words_train,y_train,X_cvect_ru_words_test,y_test,False,False,ratelog)\n",
    "    return modelResults_df"
   ]
  },
  {
   "cell_type": "code",
   "execution_count": null,
   "metadata": {},
   "outputs": [],
   "source": [
    "def ModelFit_tfidf_ru_words_n(m,modelResults_df,X_tfidf_ru_words_train,y_train,X_tfidf_ru_words_test,y_test,ratelog=False):\n",
    "    comment=columnOne+ ' + Очистка + Нормализация + только ru_words tfidf + rate_log:'+str(ratelog)\n",
    "    modelResults_df = ModelFitPredictAndMettrics(modelResults_df,comment,m,\\\n",
    "                      X_tfidf_ru_words_train,y_train,X_tfidf_ru_words_test,y_test,False,False,ratelog)\n",
    "    return modelResults_df"
   ]
  },
  {
   "cell_type": "code",
   "execution_count": null,
   "metadata": {},
   "outputs": [],
   "source": [
    "def ModelFit_hashvect_ru_words_n(m,modelResults_df,X_hashvect_ru_words_train,y_train,X_hashvect_ru_words_test,y_test,ratelog=False):\n",
    "    comment=columnOne+ ' + Очистка + Нормализация + только ru_words hashvect + rate_log:'+str(ratelog)\n",
    "    modelResults_df = ModelFitPredictAndMettrics(modelResults_df,comment,m,\\\n",
    "                      X_hashvect_ru_words_train,y_train,X_hashvect_ru_words_test,y_test,False,False,ratelog)\n",
    "    return modelResults_df"
   ]
  },
  {
   "cell_type": "code",
   "execution_count": null,
   "metadata": {},
   "outputs": [],
   "source": [
    "def ModelFit_cvect_3voc(m,modelResults_df,X_cvect_3voc_train,y_train,X_cvect_3voc_test,y_test,ratelog=False):\n",
    "    comment=columnOne+ ' + Очистка + Нормализация + разбиение на 3 словаря cvect + rate_log:'+str(ratelog)\n",
    "    modelResults_df = ModelFitPredictAndMettrics(modelResults_df,comment,m,\\\n",
    "                      X_cvect_3voc_train,y_train,X_cvect_3voc_test,y_test,False,False,ratelog)\n",
    "    return modelResults_df"
   ]
  },
  {
   "cell_type": "code",
   "execution_count": null,
   "metadata": {},
   "outputs": [],
   "source": [
    "def ModelFit_tfidf_3voc(m,modelResults_df,X_tfidf_3voc_train,y_train,X_tfidf_3voc_test,y_test,ratelog=False):\n",
    "    comment=columnOne+ ' + Очистка + Нормализация + разбиение на 3 словаря tfidf + rate_log:'+str(ratelog)\n",
    "    modelResults_df = ModelFitPredictAndMettrics(modelResults_df,comment,m,\\\n",
    "                      X_tfidf_3voc_train,y_train,X_tfidf_3voc_test,y_test,False,False,ratelog)\n",
    "    return modelResults_df"
   ]
  },
  {
   "cell_type": "code",
   "execution_count": null,
   "metadata": {},
   "outputs": [],
   "source": [
    "def ModelFit_hashvect_3voc(m,modelResults_df,X_hashvect_3voc_train,y_train,X_hashvecte_3voc_test,y_test,ratelog=False):\n",
    "    comment=columnOne+ ' + Очистка + Нормализация + разбиение на 3 словаря hashvect + rate_log:'+str(ratelog)\n",
    "    modelResults_df = ModelFitPredictAndMettrics(modelResults_df,comment,m,\\\n",
    "                      X_hashvect_3voc_train,y_train,X_hashvect_3voc_test,y_test,False,False,ratelog)\n",
    "    return modelResults_df"
   ]
  },
  {
   "cell_type": "code",
   "execution_count": null,
   "metadata": {},
   "outputs": [],
   "source": [
    "for y  in ys:\n",
    "    y_train=y[0]\n",
    "    y_test=y[1]\n",
    "    ratelogFlag=y[2]\n",
    "    for m in models:\n",
    "        modelResults_df = ModelFit_cvect_ru_words_n(m,modelResults_df,X_cvect_ru_words_train,y_train,X_cvect_ru_words_test,y_test,ratelogFlag)\n",
    "        modelResults_df = ModelFit_tfidf_ru_words_n(m,modelResults_df,X_tfidf_ru_words_train,y_train,X_tfidf_ru_words_test,y_test,ratelogFlag)\n",
    "        modelResults_df = ModelFit_hashvect_ru_words_n(m,modelResults_df,X_hashvect_ru_words_train,y_train,X_hashvect_ru_words_test,y_test,ratelogFlag)\n",
    "        modelResults_df = ModelFit_cvect_3voc(m,modelResults_df,X_cvect_3voc_train,y_train,X_cvect_3voc_test,y_test,ratelogFlag)\n",
    "        modelResults_df = ModelFit_tfidf_3voc(m,modelResults_df,X_tfidf_3voc_train,y_train,X_tfidf_3voc_test,y_test,ratelogFlag)\n",
    "        modelResults_df = ModelFit_hashvect_3voc(m,modelResults_df,X_hashvect_3voc_train,y_train,X_hashvect_3voc_test,y_test,ratelogFlag)"
   ]
  },
  {
   "cell_type": "markdown",
   "metadata": {},
   "source": [
    "Обучение только на основе доп. фич"
   ]
  },
  {
   "cell_type": "code",
   "execution_count": null,
   "metadata": {},
   "outputs": [],
   "source": [
    "X_train, X_test, y_train, y_test = TrainTestSplitByDateTime (.8,df,'rate')\n",
    "X_train, X_test, y_train_l, y_test_l = TrainTestSplitByDateTime (.8,df,'rate_log')"
   ]
  },
  {
   "cell_type": "code",
   "execution_count": null,
   "metadata": {},
   "outputs": [],
   "source": [
    "ys = [[y_train,y_test,False],[y_train_l,y_test_l,True]]"
   ]
  },
  {
   "cell_type": "code",
   "execution_count": null,
   "metadata": {},
   "outputs": [],
   "source": [
    "columnsAddFeatures = ['tittle_words_count', 'text_words_count',\\\n",
    "                    'text_category_int','sites_'+columnOne+'_count', \\\n",
    "            'ru_words_'+columnOne+'_count', 'en_words_'+columnOne+'_count',\\\n",
    "            'punctuations_'+columnOne+'_count','emotions_'+columnOne+'_count']"
   ]
  },
  {
   "cell_type": "code",
   "execution_count": null,
   "metadata": {},
   "outputs": [],
   "source": [
    "X_train_choice_col = X_train[columnsAddFeatures]"
   ]
  },
  {
   "cell_type": "code",
   "execution_count": null,
   "metadata": {},
   "outputs": [],
   "source": [
    "X_test_choice_col = X_test[columnsAddFeatures]"
   ]
  },
  {
   "cell_type": "code",
   "execution_count": null,
   "metadata": {},
   "outputs": [],
   "source": [
    "from scipy import sparse"
   ]
  },
  {
   "cell_type": "code",
   "execution_count": null,
   "metadata": {},
   "outputs": [],
   "source": [
    "X_train_choice_col_m = sparse.csr_matrix(X_train_choice_col)\n",
    "X_test_choice_col_m = sparse.csr_matrix(X_test_choice_col)"
   ]
  },
  {
   "cell_type": "code",
   "execution_count": null,
   "metadata": {},
   "outputs": [],
   "source": [
    "def ModelFit_only_choice_col(m,modelResults_df,X_train_choice_col_m,y_train,X_test_choice_col_m,y_test,ratelog=False):\n",
    "    comment=columnOne + ' + только доп.фичи + rate_log:'+str(ratelog)+' + '+', '.join(columnsAddFeatures)\n",
    "    modelResults_df = ModelFitPredictAndMettrics(modelResults_df,comment,m,\\\n",
    "                      X_train_choice_col_m,y_train,X_test_choice_col_m,y_test,False,False,ratelog)\n",
    "    return modelResults_df"
   ]
  },
  {
   "cell_type": "markdown",
   "metadata": {},
   "source": [
    "Так же выполню шкалирование и посмотрю на результат"
   ]
  },
  {
   "cell_type": "code",
   "execution_count": null,
   "metadata": {},
   "outputs": [],
   "source": [
    "from sklearn.preprocessing import StandardScaler"
   ]
  },
  {
   "cell_type": "code",
   "execution_count": null,
   "metadata": {},
   "outputs": [],
   "source": [
    "scaler = StandardScaler()"
   ]
  },
  {
   "cell_type": "code",
   "execution_count": null,
   "metadata": {},
   "outputs": [],
   "source": [
    "# масштабируем данные\n",
    "X_train_choice_col_m_scaled = scaler.fit_transform(X_train_choice_col)"
   ]
  },
  {
   "cell_type": "code",
   "execution_count": null,
   "metadata": {},
   "outputs": [],
   "source": [
    "X_test_choice_col_m_scaled = scaler.transform(X_test_choice_col)"
   ]
  },
  {
   "cell_type": "code",
   "execution_count": null,
   "metadata": {},
   "outputs": [],
   "source": [
    "def ModelFit_only_choice_col_scaled(m,modelResults_df,X_train_choice_col_m_scaled,y_train,X_test_choice_col_m_scaled,y_test,ratelog=False):\n",
    "    comment=columnOne + ' + только доп.фичи + масштабирование ss + rate_log:'+str(ratelog)+' + ' +', '.join(columnsAddFeatures)\n",
    "    modelResults_df = ModelFitPredictAndMettrics(modelResults_df,comment,m,\\\n",
    "                      X_train_choice_col_m_scaled,y_train,X_test_choice_col_m_scaled,y_test,False,False,ratelog)\n",
    "    return modelResults_df"
   ]
  },
  {
   "cell_type": "code",
   "execution_count": null,
   "metadata": {
    "scrolled": true
   },
   "outputs": [],
   "source": [
    "for y  in ys:\n",
    "    y_train=y[0]\n",
    "    y_test=y[1]\n",
    "    ratelogFlag=y[2]\n",
    "    for m in models:\n",
    "        modelResults_df = ModelFit_only_choice_col(m,modelResults_df,\\\n",
    "                                                      X_train_choice_col_m,y_train,X_test_choice_col_m,y_test,ratelogFlag)\n",
    "        modelResults_df = ModelFit_only_choice_col_scaled(m,modelResults_df,\\\n",
    "                                        X_train_choice_col_m_scaled,y_train,X_test_choice_col_m_scaled,y_test,ratelogFlag)"
   ]
  },
  {
   "cell_type": "markdown",
   "metadata": {},
   "source": [
    " "
   ]
  },
  {
   "cell_type": "markdown",
   "metadata": {},
   "source": [
    "Объединю доп. фичи и векторайзеры"
   ]
  },
  {
   "cell_type": "code",
   "execution_count": null,
   "metadata": {},
   "outputs": [],
   "source": [
    "def Create_exp_m (X,vectorizer,dropindex=True):\n",
    "    if (dropindex):\n",
    "        exp = pd.concat([X.reset_index(drop=True),\\\n",
    "                           pd.DataFrame(vectorizer.toarray()).reset_index(drop=True)],axis=1)\n",
    "        exp[columnsAddFeatures] = exp[columnsAddFeatures].astype('float64')\n",
    "    else:\n",
    "        exp = pd.concat([X,\\\n",
    "                           pd.DataFrame(vectorizer.toarray()).reset_index(drop=True)],axis=1)   \n",
    "    exp.columns = range(exp.shape[1])\n",
    "    exp_m = sparse.csr_matrix(exp)\n",
    "    return exp_m "
   ]
  },
  {
   "cell_type": "code",
   "execution_count": null,
   "metadata": {},
   "outputs": [],
   "source": [
    "from scipy.sparse import csr_matrix"
   ]
  },
  {
   "cell_type": "code",
   "execution_count": null,
   "metadata": {},
   "outputs": [],
   "source": [
    "X_train_choice_col = X_train_choice_col[:c_row]"
   ]
  },
  {
   "cell_type": "code",
   "execution_count": null,
   "metadata": {},
   "outputs": [],
   "source": [
    "y_train = y_train[0:c_row]\n",
    "y_train_l = y_train_l[0:c_row]\n",
    "ys = [[y_train,y_test,False],[y_train_l,y_test_l,True]]"
   ]
  },
  {
   "cell_type": "code",
   "execution_count": null,
   "metadata": {
    "scrolled": true
   },
   "outputs": [],
   "source": [
    "X_cvect_exp_m_train = Create_exp_m (X_train_choice_col,csr_matrix(X_cvect_3voc_train))"
   ]
  },
  {
   "cell_type": "code",
   "execution_count": null,
   "metadata": {},
   "outputs": [],
   "source": [
    "X_cvect_exp_m_test = Create_exp_m (X_test_choice_col,X_cvect_3voc_test)"
   ]
  },
  {
   "cell_type": "code",
   "execution_count": null,
   "metadata": {},
   "outputs": [],
   "source": [
    "X_tfidf_exp_m_train = Create_exp_m (X_train_choice_col,csr_matrix(X_tfidf_3voc_train))"
   ]
  },
  {
   "cell_type": "code",
   "execution_count": null,
   "metadata": {},
   "outputs": [],
   "source": [
    "X_tfidf_exp_m_test = Create_exp_m (X_test_choice_col,X_tfidf_3voc_test)"
   ]
  },
  {
   "cell_type": "code",
   "execution_count": null,
   "metadata": {
    "scrolled": true
   },
   "outputs": [],
   "source": [
    "X_hashvect_exp_m_train = Create_exp_m (X_train_choice_col,csr_matrix(X_hashvect_3voc_train))"
   ]
  },
  {
   "cell_type": "code",
   "execution_count": null,
   "metadata": {},
   "outputs": [],
   "source": [
    "X_hashvect_exp_m_test = Create_exp_m (X_test_choice_col,X_hashvect_3voc_test)"
   ]
  },
  {
   "cell_type": "code",
   "execution_count": null,
   "metadata": {},
   "outputs": [],
   "source": [
    "print(X_cvect_exp_m_train.shape)\n",
    "print(X_tfidf_exp_m_train.shape)\n",
    "print(X_hashvect_exp_m_train.shape)"
   ]
  },
  {
   "cell_type": "code",
   "execution_count": null,
   "metadata": {},
   "outputs": [],
   "source": [
    "def ModelFit_cvect_exp_m(m,modelResults_df,X_cvect_exp_m_train,y_train,X_cvect_exp_m_test,y_test,ratelog=False):\n",
    "    comment=columnOne+ ' + Очистка + Нормализация + разбиение на 3 словаря cvect + rate_log:'+str(ratelog)+' + доп.фичи + '+ ', '.join(columnsAddFeatures)\n",
    "    modelResults_df = ModelFitPredictAndMettrics(modelResults_df,comment,m,\\\n",
    "                      X_cvect_exp_m_train,y_train,X_cvect_exp_m_test,y_test,False,False,ratelog)\n",
    "    return modelResults_df"
   ]
  },
  {
   "cell_type": "code",
   "execution_count": null,
   "metadata": {},
   "outputs": [],
   "source": [
    "def ModelFit_tfidf_exp_m(m,modelResults_df,X_tfidf_exp_m_train,y_train,X_tfidf_exp_m_test,y_test,ratelog=False):\n",
    "    comment=columnOne+ ' + Очистка + Нормализация + разбиение на 3 словаря tfidf + rate_log:'+str(ratelog)+' + доп.фичи + '+ ', '.join(columnsAddFeatures)\n",
    "    modelResults_df = ModelFitPredictAndMettrics(modelResults_df,comment,m,\\\n",
    "                      X_tfidf_exp_m_train,y_train,X_tfidf_exp_m_test,y_test,False,False,ratelog)\n",
    "    return modelResults_df"
   ]
  },
  {
   "cell_type": "code",
   "execution_count": null,
   "metadata": {},
   "outputs": [],
   "source": [
    "def ModelFit_hashvect_exp_m(m,modelResults_df,X_hashvect_exp_m_train,y_train,X_hashvect_exp_m_test,y_test,ratelog=False):\n",
    "    comment=columnOne+ ' + Очистка + Нормализация + разбиение на 3 словаря hashvect + rate_log:'+str(ratelog)+' + доп.фичи + '+ ', '.join(columnsAddFeatures)\n",
    "    modelResults_df = ModelFitPredictAndMettrics(modelResults_df,comment,m,\\\n",
    "                      X_hashvect_exp_m_train,y_train,X_hashvect_exp_m_test,y_test,False,False,ratelog)\n",
    "    return modelResults_df"
   ]
  },
  {
   "cell_type": "code",
   "execution_count": null,
   "metadata": {},
   "outputs": [],
   "source": [
    "for y  in ys:\n",
    "    y_train=y[0]\n",
    "    y_test=y[1]\n",
    "    ratelogFlag=y[2]\n",
    "    for m in models:\n",
    "        modelResults_df = ModelFit_cvect_exp_m(m,modelResults_df,X_cvect_exp_m_train,y_train,X_cvect_exp_m_test,y_test,ratelogFlag)\n",
    "        modelResults_df = ModelFit_tfidf_exp_m(m,modelResults_df,X_tfidf_exp_m_train,y_train,X_tfidf_exp_m_test,y_test,ratelogFlag)\n",
    "        modelResults_df = ModelFit_hashvect_exp_m(m,modelResults_df,X_hashvect_exp_m_train,y_train,X_hashvect_exp_m_test,y_test,ratelogFlag)    "
   ]
  },
  {
   "cell_type": "markdown",
   "metadata": {},
   "source": [
    "Тоже самое, но с масштабированными данными"
   ]
  },
  {
   "cell_type": "code",
   "execution_count": null,
   "metadata": {},
   "outputs": [],
   "source": [
    "X_train_choice_col_m_scaled = X_train_choice_col_m_scaled[:c_row]"
   ]
  },
  {
   "cell_type": "code",
   "execution_count": null,
   "metadata": {
    "scrolled": true
   },
   "outputs": [],
   "source": [
    "X_cvect_exp_m_scaled_train = Create_exp_m (pd.DataFrame(X_train_choice_col_m_scaled),csr_matrix(X_cvect_3voc_train),False)\n",
    "X_cvect_exp_m_scaled_test = Create_exp_m (pd.DataFrame(X_test_choice_col_m_scaled),csr_matrix(X_cvect_3voc_test),False)\n",
    "X_tfidf_exp_m_scaled_train = Create_exp_m (pd.DataFrame(X_train_choice_col_m_scaled),csr_matrix(X_tfidf_3voc_train),False)\n",
    "X_tfidf_exp_m_scaled_test = Create_exp_m (pd.DataFrame(X_test_choice_col_m_scaled),csr_matrix(X_tfidf_3voc_test),False)\n",
    "X_hashvect_exp_m_scaled_train = Create_exp_m (pd.DataFrame(X_train_choice_col_m_scaled),csr_matrix(X_hashvect_3voc_train),False)\n",
    "X_hashvect_exp_m_scaled_test = Create_exp_m (pd.DataFrame(X_test_choice_col_m_scaled),csr_matrix(X_hashvect_3voc_test),False)"
   ]
  },
  {
   "cell_type": "code",
   "execution_count": null,
   "metadata": {},
   "outputs": [],
   "source": [
    "def ModelFit_cvect_exp_m_scaled(m,modelResults_df,X_cvect_exp_m_scaled_train,y_train,X_cvect_exp_m_scaled_test,y_test,ratelog=False):\n",
    "    comment=columnOne+ ' + Очистка + Нормализация + разбиение на 3 словаря cvect + rate_log:'+str(ratelog)+' + доп.фичи + масштабирование ss + '+ ', '.join(columnsAddFeatures)\n",
    "    modelResults_df = ModelFitPredictAndMettrics(modelResults_df,comment,m,\\\n",
    "                      X_cvect_exp_m_scaled_train,y_train,X_cvect_exp_m_scaled_test,y_test,False,False,ratelog)\n",
    "    return modelResults_df"
   ]
  },
  {
   "cell_type": "code",
   "execution_count": null,
   "metadata": {},
   "outputs": [],
   "source": [
    "def ModelFit_tfidf_exp_m_scaled(m,modelResults_df,X_tfidf_exp_m_scaled_train,y_train,X_tfidf_exp_m_scaled_test,y_test,ratelog=False):\n",
    "    comment=columnOne+ ' + Очистка + Нормализация + разбиение на 3 словаря tfidf + rate_log:'+str(ratelog)+' + доп.фичи + масштабирование ss + '+ ', '.join(columnsAddFeatures)\n",
    "    modelResults_df = ModelFitPredictAndMettrics(modelResults_df,comment,m,\\\n",
    "                      X_tfidf_exp_m_scaled_train,y_train,X_tfidf_exp_m_scaled_test,y_test,False,False,ratelog)\n",
    "    return modelResults_df"
   ]
  },
  {
   "cell_type": "code",
   "execution_count": null,
   "metadata": {},
   "outputs": [],
   "source": [
    "def ModelFit_hashvect_exp_m_scaled(m,modelResults_df,X_hashvect_exp_m_scaled_train,y_train,X_hashvect_exp_m_scaled_test,y_test,ratelog=False):\n",
    "    comment=columnOne+ ' + Очистка + Нормализация + разбиение на 3 словаря hashvect + rate_log:'+str(ratelog)+' + доп.фичи + масштабирование ss + '+ ', '.join(columnsAddFeatures)\n",
    "    modelResults_df = ModelFitPredictAndMettrics(modelResults_df,comment,m,\\\n",
    "                      X_hashvect_exp_m_scaled_train,y_train,X_hashvect_exp_m_scaled_test,y_test,False,False,ratelog)\n",
    "    return modelResults_df"
   ]
  },
  {
   "cell_type": "code",
   "execution_count": null,
   "metadata": {},
   "outputs": [],
   "source": [
    "for y  in ys:\n",
    "    y_train=y[0]\n",
    "    y_test=y[1]\n",
    "    ratelogFlag=y[2]\n",
    "    for m in models:\n",
    "        modelResults_df = ModelFit_cvect_exp_m_scaled(m,modelResults_df,X_cvect_exp_m_scaled_train,y_train,X_cvect_exp_m_scaled_test,y_test,ratelogFlag)\n",
    "        modelResults_df = ModelFit_tfidf_exp_m_scaled(m,modelResults_df,X_tfidf_exp_m_scaled_train,y_train,X_tfidf_exp_m_scaled_test,y_test,ratelogFlag)\n",
    "        modelResults_df = ModelFit_hashvect_exp_m_scaled(m,modelResults_df,X_hashvect_exp_m_scaled_train,y_train,X_hashvect_exp_m_scaled_test,y_test,ratelogFlag)"
   ]
  },
  {
   "cell_type": "markdown",
   "metadata": {},
   "source": [
    "Чем отличаются словари теста и трейна? Почему на тесте такая низкая точность?"
   ]
  },
  {
   "cell_type": "markdown",
   "metadata": {},
   "source": [
    "Сформирую словарь для теста"
   ]
  },
  {
   "cell_type": "code",
   "execution_count": null,
   "metadata": {},
   "outputs": [],
   "source": [
    "count_vect_test = CountVectorizer(max_df=cv_max_df, min_df=cv_min_df,\\\n",
    "                             ngram_range=cv_ngram_range)\n",
    "tfidf_transformer_test = TfidfTransformer()"
   ]
  },
  {
   "cell_type": "code",
   "execution_count": null,
   "metadata": {},
   "outputs": [],
   "source": [
    "X_test_curr = X_test['ru_words_'+columnOne]"
   ]
  },
  {
   "cell_type": "code",
   "execution_count": null,
   "metadata": {},
   "outputs": [],
   "source": [
    "X_cvect_ru_words_test2 =count_vect_test.fit_transform(X_test_curr) \n",
    "X_tfidf_ru_words_test2 =tfidf_transformer_test.fit_transform\\\n",
    "                        (X_cvect_ru_words_test2)"
   ]
  },
  {
   "cell_type": "code",
   "execution_count": null,
   "metadata": {
    "scrolled": true
   },
   "outputs": [],
   "source": [
    "rr_ru_test = dict(zip(count_vect_test.get_feature_names(),\\\n",
    "                      tfidf_transformer_test.idf_))"
   ]
  },
  {
   "cell_type": "code",
   "execution_count": null,
   "metadata": {},
   "outputs": [],
   "source": [
    "rr_ru_test_df = token_weight_df(rr_ru_test,'ru')\n",
    "rr_ru_train_df = token_weight_df(rr_ru,'ru')"
   ]
  },
  {
   "cell_type": "code",
   "execution_count": null,
   "metadata": {},
   "outputs": [],
   "source": [
    "rr_ru_test_df.head(10)"
   ]
  },
  {
   "cell_type": "code",
   "execution_count": null,
   "metadata": {},
   "outputs": [],
   "source": [
    "rr_ru_train_df.head(10)"
   ]
  },
  {
   "cell_type": "markdown",
   "metadata": {},
   "source": [
    "Посмотрим вообще сколько слов есть в словаре трейна из тестовой выборки и какие у них веса"
   ]
  },
  {
   "cell_type": "code",
   "execution_count": null,
   "metadata": {},
   "outputs": [],
   "source": [
    "len(set(rr_ru_train_df['ru']))"
   ]
  },
  {
   "cell_type": "code",
   "execution_count": null,
   "metadata": {},
   "outputs": [],
   "source": [
    "len(set(rr_ru_test_df['ru']))"
   ]
  },
  {
   "cell_type": "code",
   "execution_count": null,
   "metadata": {},
   "outputs": [],
   "source": [
    "rr_ru_testIntrain = list(set(rr_ru_train_df['ru']) - set(rr_ru_test_df['ru']))"
   ]
  },
  {
   "cell_type": "code",
   "execution_count": null,
   "metadata": {},
   "outputs": [],
   "source": [
    "len(rr_ru_testIntrain)"
   ]
  },
  {
   "cell_type": "markdown",
   "metadata": {},
   "source": [
    "Практически все слова теста содержатся в словаре трейна. Значит модель плохо обучилась. Нет взаимосвязи между словами и рейтингом."
   ]
  },
  {
   "cell_type": "markdown",
   "metadata": {},
   "source": [
    "Попробую сделать отдельные словари для отрицательных, нулевых и положительных статей"
   ]
  },
  {
   "cell_type": "code",
   "execution_count": null,
   "metadata": {},
   "outputs": [],
   "source": [
    "count_vect_rate = CountVectorizer(max_df=cv_max_df, min_df=cv_min_df,\\\n",
    "                             ngram_range=cv_ngram_range)\n",
    "tfidf_transformer_rate = TfidfTransformer()"
   ]
  },
  {
   "cell_type": "code",
   "execution_count": null,
   "metadata": {},
   "outputs": [],
   "source": [
    "df.columns"
   ]
  },
  {
   "cell_type": "code",
   "execution_count": null,
   "metadata": {
    "scrolled": true
   },
   "outputs": [],
   "source": [
    "X_test_curr_0 = df[df['rate_category'] == 0]['ru_words_'+columnOne]"
   ]
  },
  {
   "cell_type": "code",
   "execution_count": null,
   "metadata": {},
   "outputs": [],
   "source": [
    "X_test_curr_gt0 = df[df['rate_category'] > 0]['ru_words_'+columnOne]"
   ]
  },
  {
   "cell_type": "code",
   "execution_count": null,
   "metadata": {},
   "outputs": [],
   "source": [
    "X_test_curr_lt0 = df[df['rate_category'] < 0]['ru_words_'+columnOne]"
   ]
  },
  {
   "cell_type": "code",
   "execution_count": null,
   "metadata": {},
   "outputs": [],
   "source": [
    "def voc_for_rate (words):    \n",
    "    X_cvect_ru_words_rate =count_vect_rate.fit_transform(words) \n",
    "    X_tfidf_ru_words_rate =tfidf_transformer_rate.fit_transform(X_cvect_ru_words_rate)\n",
    "    rr_ru_rate = dict(zip(count_vect_rate.get_feature_names(),tfidf_transformer_rate.idf_))\n",
    "    return token_weight_df(rr_ru_rate,'ru')"
   ]
  },
  {
   "cell_type": "code",
   "execution_count": null,
   "metadata": {},
   "outputs": [],
   "source": [
    "rr_ru_rate_0 =  voc_for_rate(X_test_curr_0)\n",
    "rr_ru_rate_gt0 =  voc_for_rate(X_test_curr_gt0)\n",
    "rr_ru_rate_lt0 =  voc_for_rate(X_test_curr_lt0)"
   ]
  },
  {
   "cell_type": "code",
   "execution_count": null,
   "metadata": {},
   "outputs": [],
   "source": [
    "print('len_0={0}; len_gt0={1}; len_lt0={2}'.format(len(rr_ru_rate_0['ru']),len(rr_ru_rate_gt0['ru']),len(rr_ru_rate_lt0['ru'])))"
   ]
  },
  {
   "cell_type": "markdown",
   "metadata": {},
   "source": [
    "Сколько слов из статей с отрицательным рейтингом содержется в статьях с положительным:"
   ]
  },
  {
   "cell_type": "code",
   "execution_count": null,
   "metadata": {},
   "outputs": [],
   "source": [
    "len(rr_ru_rate_gt0['ru']) - len(list(set(rr_ru_rate_gt0['ru']) - set(rr_ru_rate_lt0['ru'])))"
   ]
  },
  {
   "cell_type": "code",
   "execution_count": null,
   "metadata": {},
   "outputs": [],
   "source": [
    "rr_ru_rate_gt0.head()"
   ]
  },
  {
   "cell_type": "code",
   "execution_count": null,
   "metadata": {},
   "outputs": [],
   "source": [
    "rr_ru_rate_lt0.head()"
   ]
  },
  {
   "cell_type": "markdown",
   "metadata": {},
   "source": [
    "Практически все слова из статей с отрицательным рейтингом содержатся в статьях с положительным.\n",
    "Нужно проанализировать тексты этих статей и подмумать над передачей модели смысловых нагрузок."
   ]
  },
  {
   "cell_type": "markdown",
   "metadata": {},
   "source": [
    "### word2vec"
   ]
  },
  {
   "cell_type": "code",
   "execution_count": null,
   "metadata": {},
   "outputs": [],
   "source": [
    "from gensim.models import word2vec"
   ]
  },
  {
   "cell_type": "code",
   "execution_count": null,
   "metadata": {
    "scrolled": true
   },
   "outputs": [],
   "source": [
    "df['ru_words_text_w2v'] = df['ru_words_text'].\\\n",
    "                                apply(lambda t: t.split(' '))"
   ]
  },
  {
   "cell_type": "code",
   "execution_count": null,
   "metadata": {},
   "outputs": [],
   "source": [
    "w2v = word2vec.Word2Vec(df['ru_words_text_w2v'], size=300, window=5, workers=2)\n",
    "w2v_dict = dict(zip(w2v.wv.index2word, w2v.wv.syn0))"
   ]
  },
  {
   "cell_type": "code",
   "execution_count": null,
   "metadata": {
    "scrolled": true
   },
   "outputs": [],
   "source": [
    "w2v.wv.most_similar(positive=['гугл'])"
   ]
  },
  {
   "cell_type": "code",
   "execution_count": null,
   "metadata": {},
   "outputs": [],
   "source": [
    "class mean_vectorizer(object):\n",
    "    def __init__(self, word2vec):\n",
    "        self.word2vec = word2vec\n",
    "        self.dim = len(next(iter(w2v_dict.values())))\n",
    "\n",
    "    def fit(self, X):\n",
    "        return self \n",
    "\n",
    "    def transform(self, X):\n",
    "        return np.array([\n",
    "            np.mean([self.word2vec[w] for w in words if w in self.word2vec] \n",
    "                    or [np.zeros(self.dim)], axis=0)\n",
    "            for words in X\n",
    "        ])"
   ]
  },
  {
   "cell_type": "code",
   "execution_count": null,
   "metadata": {},
   "outputs": [],
   "source": [
    "data_mean = mean_vectorizer(w2v).fit(df['ru_words_text_w2v']).\\\n",
    "                                    transform(df['ru_words_text_w2v'])\n",
    "data_mean.shape"
   ]
  },
  {
   "cell_type": "code",
   "execution_count": null,
   "metadata": {},
   "outputs": [],
   "source": [
    "def TrainTestSplitForW2V (coef,X,y):\n",
    "    \n",
    "    train_part_size = int(coef * X.shape[0])\n",
    "    \n",
    "    X_train, X_test = X[:train_part_size, :],X[train_part_size:, :]\n",
    "    y_train, y_test = y[:train_part_size],   y[train_part_size:]\n",
    "    \n",
    "    return X_train, X_test, y_train, y_test"
   ]
  },
  {
   "cell_type": "code",
   "execution_count": null,
   "metadata": {
    "scrolled": true
   },
   "outputs": [],
   "source": [
    "X_train, X_test, y_train, y_test = TrainTestSplitForW2V(.8,data_mean,df['rate'])\n",
    "X_train, X_test, y_train_l, y_test_l = TrainTestSplitForW2V(.8,data_mean,df['rate_log'])"
   ]
  },
  {
   "cell_type": "code",
   "execution_count": null,
   "metadata": {},
   "outputs": [],
   "source": [
    "ys = [[y_train,y_test,False],[y_train_l,y_test_l,True]]"
   ]
  },
  {
   "cell_type": "code",
   "execution_count": null,
   "metadata": {
    "scrolled": true
   },
   "outputs": [],
   "source": [
    "df['ru_words_text_w2v'].shape"
   ]
  },
  {
   "cell_type": "code",
   "execution_count": null,
   "metadata": {},
   "outputs": [],
   "source": [
    "def ModelFit_ru_words_w2v(m,modelResults_df,X_train,y_train,X_test,y_test,ratelog=False):\n",
    "    comment=columnOne+ '+ ru_words + w2v + rate_log:'+str(ratelog)\n",
    "    modelResults_df = ModelFitPredictAndMettrics(modelResults_df,comment,m,\\\n",
    "                      X_train,y_train,X_test,y_test,False,False,ratelog)\n",
    "    return modelResults_df"
   ]
  },
  {
   "cell_type": "code",
   "execution_count": null,
   "metadata": {},
   "outputs": [],
   "source": [
    "for y  in ys:\n",
    "    y_train=y[0]\n",
    "    y_test=y[1]\n",
    "    ratelogFlag=y[2]\n",
    "    for m in models:\n",
    "        modelResults_df = ModelFit_ru_words_w2v(m,modelResults_df,X_train,y_train,X_test,y_test,ratelogFlag) "
   ]
  },
  {
   "cell_type": "code",
   "execution_count": null,
   "metadata": {},
   "outputs": [],
   "source": [
    "pd.set_option('display.max_colwidth', -1)"
   ]
  },
  {
   "cell_type": "code",
   "execution_count": null,
   "metadata": {
    "scrolled": true
   },
   "outputs": [],
   "source": [
    "modelResults_df.sort_values(by='sMSETest')"
   ]
  },
  {
   "cell_type": "code",
   "execution_count": null,
   "metadata": {},
   "outputs": [],
   "source": [
    "modelResults_df.to_csv(fileNameFromExport, sep=';',index=False,encoding=\"windows-1251\")"
   ]
  },
  {
   "cell_type": "markdown",
   "metadata": {},
   "source": [
    "_________________________________________"
   ]
  },
  {
   "cell_type": "markdown",
   "metadata": {},
   "source": [
    "Что дальше?\n",
    "1. Понять почему низкая оценка на тесте и повысить качество предикшена\n",
    "2. Попробовать n-граммы\n",
    "3. Разобраться с Pipeline и GridSearchCV, переписать с помощью них обучение и проработать разные гиперпараметры моделей\n",
    "4. По словарям, попробовать разные словари на положительные и отрицательные статьи, попробовать их объеденить взяв определенные части, понять чем они отличаются, какие уникальные вещи.\n",
    "5. kNN для построения мета-признаков\n",
    "6. Попробовать отдельные словари например на слова относящиеся к \"apple\", \"it\", \"деньгам\" и др."
   ]
  }
 ],
 "metadata": {
  "kernelspec": {
   "display_name": "Python 3",
   "language": "python",
   "name": "python3"
  },
  "language_info": {
   "codemirror_mode": {
    "name": "ipython",
    "version": 3
   },
   "file_extension": ".py",
   "mimetype": "text/x-python",
   "name": "python",
   "nbconvert_exporter": "python",
   "pygments_lexer": "ipython3",
   "version": "3.7.4"
  }
 },
 "nbformat": 4,
 "nbformat_minor": 2
}
